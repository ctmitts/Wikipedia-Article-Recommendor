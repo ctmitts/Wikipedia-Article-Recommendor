{
 "cells": [
  {
   "cell_type": "code",
   "execution_count": 3,
   "metadata": {
    "collapsed": true
   },
   "outputs": [],
   "source": [
    "import download as d\n",
    "import database as db\n",
    "import re\n",
    "\n",
    "import matplotlib.pyplot as plt\n",
    "import numpy as np\n",
    "import pandas as pd\n",
    "import seaborn as sns\n",
    "\n",
    "%matplotlib inline"
   ]
  },
  {
   "cell_type": "code",
   "execution_count": 96,
   "metadata": {},
   "outputs": [
    {
     "data": {
      "text/plain": [
       "\"SELECT stuff.category, stuff.subcategory, pc.pageid FROM (SELECT category, subcategory, subcategory_id FROM subcategories sc JOIN categories c ON sc.category_id = c.category_id WHERE category IN ('machine learning', 'business software') ) as stuff JOIN page_category pc ON stuff.subcategory_id = pc.subcategory_id\""
      ]
     },
     "execution_count": 96,
     "metadata": {},
     "output_type": "execute_result"
    }
   ],
   "source": [
    "inner = db.category_query( ('machine learning', 'business software') )\n",
    "inner"
   ]
  },
  {
   "cell_type": "code",
   "execution_count": 3,
   "metadata": {},
   "outputs": [
    {
     "data": {
      "text/plain": [
       "\"SELECT category, COUNT( DISTINCT subcategory) AS n_categories, COUNT( DISTINCT p.title) AS n_articles FROM (SELECT stuff.category, stuff.subcategory, pc.pageid FROM (SELECT category, subcategory, subcategory_id FROM subcategories sc JOIN categories c ON sc.category_id = c.category_id WHERE category IN ('machine learning', 'business software') ) as stuff JOIN page_category pc ON stuff.subcategory_id = pc.subcategory_id) as crap JOIN pages p ON crap.pageid = p.pageid GROUP BY category;\""
      ]
     },
     "execution_count": 3,
     "metadata": {},
     "output_type": "execute_result"
    }
   ],
   "source": [
    "\n",
    "\n",
    "query = \"\"\"SELECT category, COUNT( DISTINCT subcategory) AS n_categories, COUNT( DISTINCT p.title) AS n_articles\n",
    "           FROM ({}) as crap \n",
    "           JOIN pages p \n",
    "           ON crap.pageid = p.pageid\n",
    "           GROUP BY category;\"\"\".format(inner)\n",
    "query = re.sub(\"\\s+\", \" \", query)\n",
    "query"
   ]
  },
  {
   "cell_type": "code",
   "execution_count": 4,
   "metadata": {},
   "outputs": [
    {
     "data": {
      "text/html": [
       "<div>\n",
       "<table border=\"1\" class=\"dataframe\">\n",
       "  <thead>\n",
       "    <tr style=\"text-align: right;\">\n",
       "      <th></th>\n",
       "      <th>category</th>\n",
       "      <th>n_categories</th>\n",
       "      <th>n_articles</th>\n",
       "    </tr>\n",
       "  </thead>\n",
       "  <tbody>\n",
       "    <tr>\n",
       "      <th>0</th>\n",
       "      <td>business software</td>\n",
       "      <td>129</td>\n",
       "      <td>3274</td>\n",
       "    </tr>\n",
       "    <tr>\n",
       "      <th>1</th>\n",
       "      <td>machine learning</td>\n",
       "      <td>48</td>\n",
       "      <td>1091</td>\n",
       "    </tr>\n",
       "  </tbody>\n",
       "</table>\n",
       "</div>"
      ],
      "text/plain": [
       "            category  n_categories  n_articles\n",
       "0  business software           129        3274\n",
       "1   machine learning            48        1091"
      ]
     },
     "execution_count": 4,
     "metadata": {},
     "output_type": "execute_result"
    }
   ],
   "source": [
    "db.query_to_dataframe(query)[['category','n_categories','n_articles']]"
   ]
  },
  {
   "cell_type": "code",
   "execution_count": 98,
   "metadata": {},
   "outputs": [
    {
     "data": {
      "text/html": [
       "<div>\n",
       "<table border=\"1\" class=\"dataframe\">\n",
       "  <thead>\n",
       "    <tr style=\"text-align: right;\">\n",
       "      <th></th>\n",
       "      <th>n_articles</th>\n",
       "      <th>subcategory</th>\n",
       "    </tr>\n",
       "  </thead>\n",
       "  <tbody>\n",
       "    <tr>\n",
       "      <th>0</th>\n",
       "      <td>34</td>\n",
       "      <td>Applied machine learning</td>\n",
       "    </tr>\n",
       "    <tr>\n",
       "      <th>1</th>\n",
       "      <td>4</td>\n",
       "      <td>Artificial immune systems</td>\n",
       "    </tr>\n",
       "    <tr>\n",
       "      <th>2</th>\n",
       "      <td>14</td>\n",
       "      <td>Artificial intelligence conferences</td>\n",
       "    </tr>\n",
       "    <tr>\n",
       "      <th>3</th>\n",
       "      <td>128</td>\n",
       "      <td>Artificial neural networks</td>\n",
       "    </tr>\n",
       "    <tr>\n",
       "      <th>4</th>\n",
       "      <td>12</td>\n",
       "      <td>Bayesian networks</td>\n",
       "    </tr>\n",
       "    <tr>\n",
       "      <th>5</th>\n",
       "      <td>24</td>\n",
       "      <td>Causal inference</td>\n",
       "    </tr>\n",
       "    <tr>\n",
       "      <th>6</th>\n",
       "      <td>81</td>\n",
       "      <td>Classification algorithms</td>\n",
       "    </tr>\n",
       "    <tr>\n",
       "      <th>7</th>\n",
       "      <td>18</td>\n",
       "      <td>Cluster analysis</td>\n",
       "    </tr>\n",
       "    <tr>\n",
       "      <th>8</th>\n",
       "      <td>38</td>\n",
       "      <td>Cluster analysis algorithms</td>\n",
       "    </tr>\n",
       "    <tr>\n",
       "      <th>9</th>\n",
       "      <td>16</td>\n",
       "      <td>Clustering criteria</td>\n",
       "    </tr>\n",
       "    <tr>\n",
       "      <th>10</th>\n",
       "      <td>21</td>\n",
       "      <td>Computational learning theory</td>\n",
       "    </tr>\n",
       "    <tr>\n",
       "      <th>11</th>\n",
       "      <td>86</td>\n",
       "      <td>Data mining and machine learning software</td>\n",
       "    </tr>\n",
       "    <tr>\n",
       "      <th>12</th>\n",
       "      <td>10</td>\n",
       "      <td>Datasets in computer vision</td>\n",
       "    </tr>\n",
       "    <tr>\n",
       "      <th>13</th>\n",
       "      <td>6</td>\n",
       "      <td>Datasets in machine learning</td>\n",
       "    </tr>\n",
       "    <tr>\n",
       "      <th>14</th>\n",
       "      <td>17</td>\n",
       "      <td>Decision trees</td>\n",
       "    </tr>\n",
       "    <tr>\n",
       "      <th>15</th>\n",
       "      <td>19</td>\n",
       "      <td>Deep learning</td>\n",
       "    </tr>\n",
       "    <tr>\n",
       "      <th>16</th>\n",
       "      <td>39</td>\n",
       "      <td>Dimension reduction</td>\n",
       "    </tr>\n",
       "    <tr>\n",
       "      <th>17</th>\n",
       "      <td>14</td>\n",
       "      <td>Ensemble learning</td>\n",
       "    </tr>\n",
       "    <tr>\n",
       "      <th>18</th>\n",
       "      <td>40</td>\n",
       "      <td>Evolutionary algorithms</td>\n",
       "    </tr>\n",
       "    <tr>\n",
       "      <th>19</th>\n",
       "      <td>19</td>\n",
       "      <td>Factor analysis</td>\n",
       "    </tr>\n",
       "    <tr>\n",
       "      <th>20</th>\n",
       "      <td>1</td>\n",
       "      <td>Gene expression programming</td>\n",
       "    </tr>\n",
       "    <tr>\n",
       "      <th>21</th>\n",
       "      <td>41</td>\n",
       "      <td>Genetic algorithms</td>\n",
       "    </tr>\n",
       "    <tr>\n",
       "      <th>22</th>\n",
       "      <td>12</td>\n",
       "      <td>Genetic programming</td>\n",
       "    </tr>\n",
       "    <tr>\n",
       "      <th>23</th>\n",
       "      <td>20</td>\n",
       "      <td>Graphical models</td>\n",
       "    </tr>\n",
       "    <tr>\n",
       "      <th>24</th>\n",
       "      <td>8</td>\n",
       "      <td>Hidden Markov models</td>\n",
       "    </tr>\n",
       "    <tr>\n",
       "      <th>25</th>\n",
       "      <td>5</td>\n",
       "      <td>Inductive logic programming</td>\n",
       "    </tr>\n",
       "    <tr>\n",
       "      <th>26</th>\n",
       "      <td>15</td>\n",
       "      <td>Kernel methods for machine learning</td>\n",
       "    </tr>\n",
       "    <tr>\n",
       "      <th>27</th>\n",
       "      <td>11</td>\n",
       "      <td>Language modeling</td>\n",
       "    </tr>\n",
       "    <tr>\n",
       "      <th>28</th>\n",
       "      <td>25</td>\n",
       "      <td>Latent variable models</td>\n",
       "    </tr>\n",
       "    <tr>\n",
       "      <th>29</th>\n",
       "      <td>4</td>\n",
       "      <td>Learning in computer vision</td>\n",
       "    </tr>\n",
       "    <tr>\n",
       "      <th>30</th>\n",
       "      <td>2</td>\n",
       "      <td>Log-linear models</td>\n",
       "    </tr>\n",
       "    <tr>\n",
       "      <th>31</th>\n",
       "      <td>8</td>\n",
       "      <td>Loss functions</td>\n",
       "    </tr>\n",
       "    <tr>\n",
       "      <th>32</th>\n",
       "      <td>194</td>\n",
       "      <td>machine learning</td>\n",
       "    </tr>\n",
       "    <tr>\n",
       "      <th>33</th>\n",
       "      <td>57</td>\n",
       "      <td>Machine learning algorithms</td>\n",
       "    </tr>\n",
       "    <tr>\n",
       "      <th>34</th>\n",
       "      <td>81</td>\n",
       "      <td>Machine learning researchers</td>\n",
       "    </tr>\n",
       "    <tr>\n",
       "      <th>35</th>\n",
       "      <td>5</td>\n",
       "      <td>Machine learning task</td>\n",
       "    </tr>\n",
       "    <tr>\n",
       "      <th>36</th>\n",
       "      <td>52</td>\n",
       "      <td>Markov models</td>\n",
       "    </tr>\n",
       "    <tr>\n",
       "      <th>37</th>\n",
       "      <td>7</td>\n",
       "      <td>Markov networks</td>\n",
       "    </tr>\n",
       "    <tr>\n",
       "      <th>38</th>\n",
       "      <td>18</td>\n",
       "      <td>Nature-inspired metaheuristics</td>\n",
       "    </tr>\n",
       "    <tr>\n",
       "      <th>39</th>\n",
       "      <td>22</td>\n",
       "      <td>Neural network software</td>\n",
       "    </tr>\n",
       "    <tr>\n",
       "      <th>40</th>\n",
       "      <td>1</td>\n",
       "      <td>Semisupervised learning</td>\n",
       "    </tr>\n",
       "    <tr>\n",
       "      <th>41</th>\n",
       "      <td>6</td>\n",
       "      <td>Social network analysis software</td>\n",
       "    </tr>\n",
       "    <tr>\n",
       "      <th>42</th>\n",
       "      <td>35</td>\n",
       "      <td>Statistical natural language processing</td>\n",
       "    </tr>\n",
       "    <tr>\n",
       "      <th>43</th>\n",
       "      <td>9</td>\n",
       "      <td>Structural equation models</td>\n",
       "    </tr>\n",
       "    <tr>\n",
       "      <th>44</th>\n",
       "      <td>4</td>\n",
       "      <td>Structured prediction</td>\n",
       "    </tr>\n",
       "    <tr>\n",
       "      <th>45</th>\n",
       "      <td>1</td>\n",
       "      <td>Supervised learning</td>\n",
       "    </tr>\n",
       "    <tr>\n",
       "      <th>46</th>\n",
       "      <td>8</td>\n",
       "      <td>Support vector machines</td>\n",
       "    </tr>\n",
       "    <tr>\n",
       "      <th>47</th>\n",
       "      <td>11</td>\n",
       "      <td>Unsupervised learning</td>\n",
       "    </tr>\n",
       "  </tbody>\n",
       "</table>\n",
       "</div>"
      ],
      "text/plain": [
       "    n_articles                                subcategory\n",
       "0           34                   Applied machine learning\n",
       "1            4                  Artificial immune systems\n",
       "2           14        Artificial intelligence conferences\n",
       "3          128                 Artificial neural networks\n",
       "4           12                          Bayesian networks\n",
       "5           24                           Causal inference\n",
       "6           81                  Classification algorithms\n",
       "7           18                           Cluster analysis\n",
       "8           38                Cluster analysis algorithms\n",
       "9           16                        Clustering criteria\n",
       "10          21              Computational learning theory\n",
       "11          86  Data mining and machine learning software\n",
       "12          10                Datasets in computer vision\n",
       "13           6               Datasets in machine learning\n",
       "14          17                             Decision trees\n",
       "15          19                              Deep learning\n",
       "16          39                        Dimension reduction\n",
       "17          14                          Ensemble learning\n",
       "18          40                    Evolutionary algorithms\n",
       "19          19                            Factor analysis\n",
       "20           1                Gene expression programming\n",
       "21          41                         Genetic algorithms\n",
       "22          12                        Genetic programming\n",
       "23          20                           Graphical models\n",
       "24           8                       Hidden Markov models\n",
       "25           5                Inductive logic programming\n",
       "26          15        Kernel methods for machine learning\n",
       "27          11                          Language modeling\n",
       "28          25                     Latent variable models\n",
       "29           4                Learning in computer vision\n",
       "30           2                          Log-linear models\n",
       "31           8                             Loss functions\n",
       "32         194                           machine learning\n",
       "33          57                Machine learning algorithms\n",
       "34          81               Machine learning researchers\n",
       "35           5                      Machine learning task\n",
       "36          52                              Markov models\n",
       "37           7                            Markov networks\n",
       "38          18             Nature-inspired metaheuristics\n",
       "39          22                    Neural network software\n",
       "40           1                    Semisupervised learning\n",
       "41           6           Social network analysis software\n",
       "42          35    Statistical natural language processing\n",
       "43           9                 Structural equation models\n",
       "44           4                      Structured prediction\n",
       "45           1                        Supervised learning\n",
       "46           8                    Support vector machines\n",
       "47          11                      Unsupervised learning"
      ]
     },
     "execution_count": 98,
     "metadata": {},
     "output_type": "execute_result"
    }
   ],
   "source": [
    "## Query for total number of articles in each subcategory\n",
    "\n",
    "\n",
    "query = \"\"\"SELECT subcategory, COUNT( DISTINCT p.title) as n_articles\n",
    "           FROM ({}) as crap\n",
    "           JOIN pages p\n",
    "           ON crap.pageid = p.pageid\n",
    "           WHERE category = 'machine learning'\n",
    "           GROUP BY subcategory;\"\"\".format( inner)\n",
    "query = re.sub(\"\\s+\", \" \", query)\n",
    "\n",
    "db.query_to_dataframe( query)\n"
   ]
  },
  {
   "cell_type": "code",
   "execution_count": 5,
   "metadata": {},
   "outputs": [
    {
     "data": {
      "text/plain": [
       "\"SELECT COUNT( DISTINCT p.title) AS n_articles FROM (SELECT stuff.category, stuff.subcategory, pc.pageid FROM (SELECT category, subcategory, subcategory_id FROM subcategories sc JOIN categories c ON sc.category_id = c.category_id WHERE category IN ('machine learning', 'business software') ) as stuff JOIN page_category pc ON stuff.subcategory_id = pc.subcategory_id) as crap JOIN pages p ON crap.pageid = p.pageid;\""
      ]
     },
     "execution_count": 5,
     "metadata": {},
     "output_type": "execute_result"
    }
   ],
   "source": [
    "## QUery for total number of articles\n",
    "\n",
    "query = \"\"\"SELECT COUNT( DISTINCT p.title) AS n_articles\n",
    "           FROM ({}) as crap \n",
    "           JOIN pages p \n",
    "           ON crap.pageid = p.pageid;\"\"\".format(inner)\n",
    "query = re.sub(\"\\s+\", \" \", query)\n",
    "query"
   ]
  },
  {
   "cell_type": "code",
   "execution_count": 6,
   "metadata": {},
   "outputs": [
    {
     "data": {
      "text/html": [
       "<div>\n",
       "<table border=\"1\" class=\"dataframe\">\n",
       "  <thead>\n",
       "    <tr style=\"text-align: right;\">\n",
       "      <th></th>\n",
       "      <th>n_articles</th>\n",
       "    </tr>\n",
       "  </thead>\n",
       "  <tbody>\n",
       "    <tr>\n",
       "      <th>0</th>\n",
       "      <td>4359</td>\n",
       "    </tr>\n",
       "  </tbody>\n",
       "</table>\n",
       "</div>"
      ],
      "text/plain": [
       "   n_articles\n",
       "0        4359"
      ]
     },
     "execution_count": 6,
     "metadata": {},
     "output_type": "execute_result"
    }
   ],
   "source": [
    "db.query_to_dataframe(query)[['n_articles']]"
   ]
  },
  {
   "cell_type": "code",
   "execution_count": null,
   "metadata": {
    "collapsed": true
   },
   "outputs": [],
   "source": [
    "### 3274 + 1091"
   ]
  },
  {
   "cell_type": "code",
   "execution_count": 21,
   "metadata": {},
   "outputs": [
    {
     "data": {
      "text/plain": [
       "\"SELECT DISTINCT category, subcategory, p.title, p.article\\n              FROM (SELECT stuff.category, stuff.subcategory, pc.pageid FROM (SELECT category, subcategory, subcategory_id FROM subcategories sc JOIN categories c ON sc.category_id = c.category_id WHERE category IN ('machine learning', 'business software') ) as stuff JOIN page_category pc ON stuff.subcategory_id = pc.subcategory_id) as crap\\n              JOIN pages p\\n              ON crap.pageid = p.pageid;\""
      ]
     },
     "execution_count": 21,
     "metadata": {},
     "output_type": "execute_result"
    }
   ],
   "source": [
    "allquery = \"\"\"SELECT p.title, p.article\n",
    "              FROM ({}) as crap\n",
    "              JOIN pages p\n",
    "              ON crap.pageid = p.pageid;\"\"\".format( inner)\n",
    "allquery"
   ]
  },
  {
   "cell_type": "code",
   "execution_count": 22,
   "metadata": {},
   "outputs": [
    {
     "data": {
      "text/html": [
       "<div>\n",
       "<table border=\"1\" class=\"dataframe\">\n",
       "  <thead>\n",
       "    <tr style=\"text-align: right;\">\n",
       "      <th></th>\n",
       "      <th>article</th>\n",
       "      <th>category</th>\n",
       "      <th>subcategory</th>\n",
       "      <th>title</th>\n",
       "    </tr>\n",
       "  </thead>\n",
       "  <tbody>\n",
       "    <tr>\n",
       "      <th>0</th>\n",
       "      <td>abstract management is the process of acceptin...</td>\n",
       "      <td>business software</td>\n",
       "      <td>Abstract management software</td>\n",
       "      <td>abstract management</td>\n",
       "    </tr>\n",
       "    <tr>\n",
       "      <th>1</th>\n",
       "      <td>easychair is a free web based conference manag...</td>\n",
       "      <td>business software</td>\n",
       "      <td>Abstract management software</td>\n",
       "      <td>easychair</td>\n",
       "    </tr>\n",
       "    <tr>\n",
       "      <th>2</th>\n",
       "      <td>ex ordo is an abstract and paper management sy...</td>\n",
       "      <td>business software</td>\n",
       "      <td>Abstract management software</td>\n",
       "      <td>exordo</td>\n",
       "    </tr>\n",
       "    <tr>\n",
       "      <th>3</th>\n",
       "      <td>openconf is an abstract management and peer re...</td>\n",
       "      <td>business software</td>\n",
       "      <td>Abstract management software</td>\n",
       "      <td>openconf</td>\n",
       "    </tr>\n",
       "    <tr>\n",
       "      <th>4</th>\n",
       "      <td></td>\n",
       "      <td>business software</td>\n",
       "      <td>Abstract management software</td>\n",
       "      <td>open conference systems</td>\n",
       "    </tr>\n",
       "  </tbody>\n",
       "</table>\n",
       "</div>"
      ],
      "text/plain": [
       "                                             article           category  \\\n",
       "0  abstract management is the process of acceptin...  business software   \n",
       "1  easychair is a free web based conference manag...  business software   \n",
       "2  ex ordo is an abstract and paper management sy...  business software   \n",
       "3  openconf is an abstract management and peer re...  business software   \n",
       "4                                                     business software   \n",
       "\n",
       "                    subcategory                    title  \n",
       "0  Abstract management software      abstract management  \n",
       "1  Abstract management software                easychair  \n",
       "2  Abstract management software                   exordo  \n",
       "3  Abstract management software                 openconf  \n",
       "4  Abstract management software  open conference systems  "
      ]
     },
     "execution_count": 22,
     "metadata": {},
     "output_type": "execute_result"
    }
   ],
   "source": [
    "cat_pages_df = db.query_to_dataframe( allquery)\n",
    "cat_pages_df.head()"
   ]
  },
  {
   "cell_type": "code",
   "execution_count": 24,
   "metadata": {},
   "outputs": [
    {
     "data": {
      "text/html": [
       "<div>\n",
       "<table border=\"1\" class=\"dataframe\">\n",
       "  <thead>\n",
       "    <tr style=\"text-align: right;\">\n",
       "      <th></th>\n",
       "      <th>category</th>\n",
       "      <th>subcategory</th>\n",
       "      <th>title</th>\n",
       "      <th>article</th>\n",
       "    </tr>\n",
       "  </thead>\n",
       "  <tbody>\n",
       "    <tr>\n",
       "      <th>0</th>\n",
       "      <td>business software</td>\n",
       "      <td>Abstract management software</td>\n",
       "      <td>abstract management</td>\n",
       "      <td>abstract management is the process of acceptin...</td>\n",
       "    </tr>\n",
       "    <tr>\n",
       "      <th>1</th>\n",
       "      <td>business software</td>\n",
       "      <td>Abstract management software</td>\n",
       "      <td>easychair</td>\n",
       "      <td>easychair is a free web based conference manag...</td>\n",
       "    </tr>\n",
       "    <tr>\n",
       "      <th>2</th>\n",
       "      <td>business software</td>\n",
       "      <td>Abstract management software</td>\n",
       "      <td>exordo</td>\n",
       "      <td>ex ordo is an abstract and paper management sy...</td>\n",
       "    </tr>\n",
       "    <tr>\n",
       "      <th>3</th>\n",
       "      <td>business software</td>\n",
       "      <td>Abstract management software</td>\n",
       "      <td>openconf</td>\n",
       "      <td>openconf is an abstract management and peer re...</td>\n",
       "    </tr>\n",
       "    <tr>\n",
       "      <th>5</th>\n",
       "      <td>business software</td>\n",
       "      <td>Account aggregation providers</td>\n",
       "      <td>account aggregation</td>\n",
       "      <td>account aggregation is a method that involves ...</td>\n",
       "    </tr>\n",
       "  </tbody>\n",
       "</table>\n",
       "</div>"
      ],
      "text/plain": [
       "            category                    subcategory                title  \\\n",
       "0  business software   Abstract management software  abstract management   \n",
       "1  business software   Abstract management software            easychair   \n",
       "2  business software   Abstract management software               exordo   \n",
       "3  business software   Abstract management software             openconf   \n",
       "5  business software  Account aggregation providers  account aggregation   \n",
       "\n",
       "                                             article  \n",
       "0  abstract management is the process of acceptin...  \n",
       "1  easychair is a free web based conference manag...  \n",
       "2  ex ordo is an abstract and paper management sy...  \n",
       "3  openconf is an abstract management and peer re...  \n",
       "5  account aggregation is a method that involves ...  "
      ]
     },
     "execution_count": 24,
     "metadata": {},
     "output_type": "execute_result"
    }
   ],
   "source": [
    "## Use mask to subset cat_pages_df to only non-empty articles\n",
    "category_pages_df = cat_pages_df[~empty_mask][['category','subcategory','title','article']].copy()\n",
    "\n",
    "category_pages_df.head()"
   ]
  },
  {
   "cell_type": "code",
   "execution_count": 34,
   "metadata": {
    "collapsed": true
   },
   "outputs": [],
   "source": [
    "duplicates_query = \"\"\"SELECT title, pageid, COUNT( pageid)\n",
    "                        FROM pages\n",
    "                        GROUP BY title, pageid\n",
    "                        HAVING COUNT( pageid) > 1;\n",
    "                        \"\"\""
   ]
  },
  {
   "cell_type": "code",
   "execution_count": 35,
   "metadata": {
    "collapsed": true
   },
   "outputs": [
    {
     "data": {
      "text/html": [
       "<div>\n",
       "<table border=\"1\" class=\"dataframe\">\n",
       "  <thead>\n",
       "    <tr style=\"text-align: right;\">\n",
       "      <th></th>\n",
       "      <th>title</th>\n",
       "      <th>pageid</th>\n",
       "      <th>count</th>\n",
       "    </tr>\n",
       "  </thead>\n",
       "  <tbody>\n",
       "    <tr>\n",
       "      <th>0</th>\n",
       "      <td>appleworks</td>\n",
       "      <td>294416</td>\n",
       "      <td>2</td>\n",
       "    </tr>\n",
       "    <tr>\n",
       "      <th>1</th>\n",
       "      <td>sap se</td>\n",
       "      <td>276773</td>\n",
       "      <td>2</td>\n",
       "    </tr>\n",
       "    <tr>\n",
       "      <th>2</th>\n",
       "      <td>decision tree learning</td>\n",
       "      <td>577003</td>\n",
       "      <td>2</td>\n",
       "    </tr>\n",
       "    <tr>\n",
       "      <th>3</th>\n",
       "      <td>teaspiller</td>\n",
       "      <td>30752618</td>\n",
       "      <td>2</td>\n",
       "    </tr>\n",
       "    <tr>\n",
       "      <th>4</th>\n",
       "      <td>cboss corporation</td>\n",
       "      <td>4138713</td>\n",
       "      <td>2</td>\n",
       "    </tr>\n",
       "    <tr>\n",
       "      <th>5</th>\n",
       "      <td>forward backward algorithm</td>\n",
       "      <td>9292749</td>\n",
       "      <td>2</td>\n",
       "    </tr>\n",
       "    <tr>\n",
       "      <th>6</th>\n",
       "      <td>laserfiche</td>\n",
       "      <td>4996092</td>\n",
       "      <td>3</td>\n",
       "    </tr>\n",
       "    <tr>\n",
       "      <th>7</th>\n",
       "      <td>lotus symphony ms dos</td>\n",
       "      <td>84553</td>\n",
       "      <td>2</td>\n",
       "    </tr>\n",
       "    <tr>\n",
       "      <th>8</th>\n",
       "      <td>variable data publishing</td>\n",
       "      <td>23718280</td>\n",
       "      <td>2</td>\n",
       "    </tr>\n",
       "    <tr>\n",
       "      <th>9</th>\n",
       "      <td>chamilo</td>\n",
       "      <td>27860109</td>\n",
       "      <td>2</td>\n",
       "    </tr>\n",
       "    <tr>\n",
       "      <th>10</th>\n",
       "      <td>magnolia cms</td>\n",
       "      <td>48757084</td>\n",
       "      <td>2</td>\n",
       "    </tr>\n",
       "    <tr>\n",
       "      <th>11</th>\n",
       "      <td>projectplace software</td>\n",
       "      <td>3890083</td>\n",
       "      <td>2</td>\n",
       "    </tr>\n",
       "    <tr>\n",
       "      <th>12</th>\n",
       "      <td>early stopping</td>\n",
       "      <td>213214</td>\n",
       "      <td>2</td>\n",
       "    </tr>\n",
       "    <tr>\n",
       "      <th>13</th>\n",
       "      <td>citadel ux</td>\n",
       "      <td>3428968</td>\n",
       "      <td>3</td>\n",
       "    </tr>\n",
       "    <tr>\n",
       "      <th>14</th>\n",
       "      <td>sparse pca</td>\n",
       "      <td>18566488</td>\n",
       "      <td>2</td>\n",
       "    </tr>\n",
       "    <tr>\n",
       "      <th>15</th>\n",
       "      <td>microsoft dynamics erp</td>\n",
       "      <td>25822348</td>\n",
       "      <td>3</td>\n",
       "    </tr>\n",
       "    <tr>\n",
       "      <th>16</th>\n",
       "      <td>nav x</td>\n",
       "      <td>36265908</td>\n",
       "      <td>3</td>\n",
       "    </tr>\n",
       "    <tr>\n",
       "      <th>17</th>\n",
       "      <td>office automation</td>\n",
       "      <td>5649998</td>\n",
       "      <td>2</td>\n",
       "    </tr>\n",
       "    <tr>\n",
       "      <th>18</th>\n",
       "      <td>phoca gallery</td>\n",
       "      <td>33140688</td>\n",
       "      <td>2</td>\n",
       "    </tr>\n",
       "    <tr>\n",
       "      <th>19</th>\n",
       "      <td>deeplearning4j</td>\n",
       "      <td>43169442</td>\n",
       "      <td>5</td>\n",
       "    </tr>\n",
       "    <tr>\n",
       "      <th>20</th>\n",
       "      <td>list of office suites</td>\n",
       "      <td>1779325</td>\n",
       "      <td>2</td>\n",
       "    </tr>\n",
       "    <tr>\n",
       "      <th>21</th>\n",
       "      <td>nd4j software</td>\n",
       "      <td>49594059</td>\n",
       "      <td>2</td>\n",
       "    </tr>\n",
       "    <tr>\n",
       "      <th>22</th>\n",
       "      <td>caffe software</td>\n",
       "      <td>53631046</td>\n",
       "      <td>5</td>\n",
       "    </tr>\n",
       "    <tr>\n",
       "      <th>23</th>\n",
       "      <td>issue tracking system</td>\n",
       "      <td>2029470</td>\n",
       "      <td>2</td>\n",
       "    </tr>\n",
       "    <tr>\n",
       "      <th>24</th>\n",
       "      <td>java caps</td>\n",
       "      <td>21006877</td>\n",
       "      <td>2</td>\n",
       "    </tr>\n",
       "    <tr>\n",
       "      <th>25</th>\n",
       "      <td>collaborative decision making software</td>\n",
       "      <td>32421587</td>\n",
       "      <td>2</td>\n",
       "    </tr>\n",
       "    <tr>\n",
       "      <th>26</th>\n",
       "      <td>mysteryvibe</td>\n",
       "      <td>48976249</td>\n",
       "      <td>2</td>\n",
       "    </tr>\n",
       "    <tr>\n",
       "      <th>27</th>\n",
       "      <td>xaitporter</td>\n",
       "      <td>39214950</td>\n",
       "      <td>5</td>\n",
       "    </tr>\n",
       "    <tr>\n",
       "      <th>28</th>\n",
       "      <td>epicor</td>\n",
       "      <td>10652579</td>\n",
       "      <td>3</td>\n",
       "    </tr>\n",
       "    <tr>\n",
       "      <th>29</th>\n",
       "      <td>solveit software</td>\n",
       "      <td>36089423</td>\n",
       "      <td>3</td>\n",
       "    </tr>\n",
       "    <tr>\n",
       "      <th>...</th>\n",
       "      <td>...</td>\n",
       "      <td>...</td>\n",
       "      <td>...</td>\n",
       "    </tr>\n",
       "    <tr>\n",
       "      <th>803</th>\n",
       "      <td>syncron international ab</td>\n",
       "      <td>23443243</td>\n",
       "      <td>3</td>\n",
       "    </tr>\n",
       "    <tr>\n",
       "      <th>804</th>\n",
       "      <td>websphere optimized local adapters</td>\n",
       "      <td>26949079</td>\n",
       "      <td>2</td>\n",
       "    </tr>\n",
       "    <tr>\n",
       "      <th>805</th>\n",
       "      <td>oracle policy automation</td>\n",
       "      <td>26703974</td>\n",
       "      <td>2</td>\n",
       "    </tr>\n",
       "    <tr>\n",
       "      <th>806</th>\n",
       "      <td>xwiki</td>\n",
       "      <td>2112462</td>\n",
       "      <td>2</td>\n",
       "    </tr>\n",
       "    <tr>\n",
       "      <th>807</th>\n",
       "      <td>collaber</td>\n",
       "      <td>8382411</td>\n",
       "      <td>3</td>\n",
       "    </tr>\n",
       "    <tr>\n",
       "      <th>808</th>\n",
       "      <td>list of roller coaster related video games</td>\n",
       "      <td>13474868</td>\n",
       "      <td>2</td>\n",
       "    </tr>\n",
       "    <tr>\n",
       "      <th>809</th>\n",
       "      <td>deepmind</td>\n",
       "      <td>41755648</td>\n",
       "      <td>2</td>\n",
       "    </tr>\n",
       "    <tr>\n",
       "      <th>810</th>\n",
       "      <td>feature selection toolbox</td>\n",
       "      <td>29550075</td>\n",
       "      <td>2</td>\n",
       "    </tr>\n",
       "    <tr>\n",
       "      <th>811</th>\n",
       "      <td>phreedom</td>\n",
       "      <td>34954822</td>\n",
       "      <td>5</td>\n",
       "    </tr>\n",
       "    <tr>\n",
       "      <th>812</th>\n",
       "      <td>information gain in decision trees</td>\n",
       "      <td>2507412</td>\n",
       "      <td>2</td>\n",
       "    </tr>\n",
       "    <tr>\n",
       "      <th>813</th>\n",
       "      <td>intraboom</td>\n",
       "      <td>50313336</td>\n",
       "      <td>3</td>\n",
       "    </tr>\n",
       "    <tr>\n",
       "      <th>814</th>\n",
       "      <td>apache kafka</td>\n",
       "      <td>41321945</td>\n",
       "      <td>2</td>\n",
       "    </tr>\n",
       "    <tr>\n",
       "      <th>815</th>\n",
       "      <td>pimcore</td>\n",
       "      <td>29621371</td>\n",
       "      <td>4</td>\n",
       "    </tr>\n",
       "    <tr>\n",
       "      <th>816</th>\n",
       "      <td>logicaldoc</td>\n",
       "      <td>31663087</td>\n",
       "      <td>2</td>\n",
       "    </tr>\n",
       "    <tr>\n",
       "      <th>817</th>\n",
       "      <td>zipbooks</td>\n",
       "      <td>49539110</td>\n",
       "      <td>3</td>\n",
       "    </tr>\n",
       "    <tr>\n",
       "      <th>818</th>\n",
       "      <td>intrexx</td>\n",
       "      <td>33790148</td>\n",
       "      <td>3</td>\n",
       "    </tr>\n",
       "    <tr>\n",
       "      <th>819</th>\n",
       "      <td>zafin</td>\n",
       "      <td>32326974</td>\n",
       "      <td>2</td>\n",
       "    </tr>\n",
       "    <tr>\n",
       "      <th>820</th>\n",
       "      <td>fixatdl</td>\n",
       "      <td>26550202</td>\n",
       "      <td>2</td>\n",
       "    </tr>\n",
       "    <tr>\n",
       "      <th>821</th>\n",
       "      <td>taskwarrior</td>\n",
       "      <td>28472181</td>\n",
       "      <td>3</td>\n",
       "    </tr>\n",
       "    <tr>\n",
       "      <th>822</th>\n",
       "      <td>mifos x</td>\n",
       "      <td>39829408</td>\n",
       "      <td>2</td>\n",
       "    </tr>\n",
       "    <tr>\n",
       "      <th>823</th>\n",
       "      <td>apache openoffice</td>\n",
       "      <td>34040115</td>\n",
       "      <td>3</td>\n",
       "    </tr>\n",
       "    <tr>\n",
       "      <th>824</th>\n",
       "      <td>bayesian network</td>\n",
       "      <td>203996</td>\n",
       "      <td>2</td>\n",
       "    </tr>\n",
       "    <tr>\n",
       "      <th>825</th>\n",
       "      <td>vendor management system</td>\n",
       "      <td>11154407</td>\n",
       "      <td>2</td>\n",
       "    </tr>\n",
       "    <tr>\n",
       "      <th>826</th>\n",
       "      <td>filemaker</td>\n",
       "      <td>266699</td>\n",
       "      <td>2</td>\n",
       "    </tr>\n",
       "    <tr>\n",
       "      <th>827</th>\n",
       "      <td>information gain ratio</td>\n",
       "      <td>20251284</td>\n",
       "      <td>2</td>\n",
       "    </tr>\n",
       "    <tr>\n",
       "      <th>828</th>\n",
       "      <td>occam learning</td>\n",
       "      <td>44577560</td>\n",
       "      <td>2</td>\n",
       "    </tr>\n",
       "    <tr>\n",
       "      <th>829</th>\n",
       "      <td>calligra suite</td>\n",
       "      <td>17399</td>\n",
       "      <td>4</td>\n",
       "    </tr>\n",
       "    <tr>\n",
       "      <th>830</th>\n",
       "      <td>accessaphone</td>\n",
       "      <td>21987776</td>\n",
       "      <td>2</td>\n",
       "    </tr>\n",
       "    <tr>\n",
       "      <th>831</th>\n",
       "      <td>myfaces trinidad</td>\n",
       "      <td>23229103</td>\n",
       "      <td>2</td>\n",
       "    </tr>\n",
       "    <tr>\n",
       "      <th>832</th>\n",
       "      <td>tine 2 0</td>\n",
       "      <td>22518832</td>\n",
       "      <td>2</td>\n",
       "    </tr>\n",
       "  </tbody>\n",
       "</table>\n",
       "<p>833 rows × 3 columns</p>\n",
       "</div>"
      ],
      "text/plain": [
       "                                          title    pageid  count\n",
       "0                                    appleworks    294416      2\n",
       "1                                        sap se    276773      2\n",
       "2                        decision tree learning    577003      2\n",
       "3                                    teaspiller  30752618      2\n",
       "4                             cboss corporation   4138713      2\n",
       "5                    forward backward algorithm   9292749      2\n",
       "6                                    laserfiche   4996092      3\n",
       "7                        lotus symphony ms dos      84553      2\n",
       "8                      variable data publishing  23718280      2\n",
       "9                                       chamilo  27860109      2\n",
       "10                                magnolia cms   48757084      2\n",
       "11                       projectplace software    3890083      2\n",
       "12                               early stopping    213214      2\n",
       "13                                   citadel ux   3428968      3\n",
       "14                                   sparse pca  18566488      2\n",
       "15                       microsoft dynamics erp  25822348      3\n",
       "16                                        nav x  36265908      3\n",
       "17                            office automation   5649998      2\n",
       "18                                phoca gallery  33140688      2\n",
       "19                               deeplearning4j  43169442      5\n",
       "20                        list of office suites   1779325      2\n",
       "21                               nd4j software   49594059      2\n",
       "22                              caffe software   53631046      5\n",
       "23                        issue tracking system   2029470      2\n",
       "24                                    java caps  21006877      2\n",
       "25       collaborative decision making software  32421587      2\n",
       "26                                  mysteryvibe  48976249      2\n",
       "27                                   xaitporter  39214950      5\n",
       "28                                       epicor  10652579      3\n",
       "29                             solveit software  36089423      3\n",
       "..                                          ...       ...    ...\n",
       "803                    syncron international ab  23443243      3\n",
       "804          websphere optimized local adapters  26949079      2\n",
       "805                    oracle policy automation  26703974      2\n",
       "806                                       xwiki   2112462      2\n",
       "807                                    collaber   8382411      3\n",
       "808  list of roller coaster related video games  13474868      2\n",
       "809                                    deepmind  41755648      2\n",
       "810                   feature selection toolbox  29550075      2\n",
       "811                                    phreedom  34954822      5\n",
       "812          information gain in decision trees   2507412      2\n",
       "813                                   intraboom  50313336      3\n",
       "814                                apache kafka  41321945      2\n",
       "815                                     pimcore  29621371      4\n",
       "816                                  logicaldoc  31663087      2\n",
       "817                                    zipbooks  49539110      3\n",
       "818                                     intrexx  33790148      3\n",
       "819                                       zafin  32326974      2\n",
       "820                                     fixatdl  26550202      2\n",
       "821                                 taskwarrior  28472181      3\n",
       "822                                     mifos x  39829408      2\n",
       "823                           apache openoffice  34040115      3\n",
       "824                            bayesian network    203996      2\n",
       "825                    vendor management system  11154407      2\n",
       "826                                   filemaker    266699      2\n",
       "827                      information gain ratio  20251284      2\n",
       "828                              occam learning  44577560      2\n",
       "829                              calligra suite     17399      4\n",
       "830                                accessaphone  21987776      2\n",
       "831                            myfaces trinidad  23229103      2\n",
       "832                                    tine 2 0  22518832      2\n",
       "\n",
       "[833 rows x 3 columns]"
      ]
     },
     "execution_count": 35,
     "metadata": {},
     "output_type": "execute_result"
    }
   ],
   "source": [
    "db.query_to_dataframe( duplicates_query)[['title', 'pageid','count']]"
   ]
  },
  {
   "cell_type": "code",
   "execution_count": 68,
   "metadata": {},
   "outputs": [
    {
     "data": {
      "text/plain": [
       "\"SELECT stuff.category, stuff.subcategory, pc.pageid FROM (SELECT category, subcategory, subcategory_id FROM subcategories sc JOIN categories c ON sc.category_id = c.category_id WHERE category IN 'machine learning' ) as stuff JOIN page_category pc ON stuff.subcategory_id = pc.subcategory_id\""
      ]
     },
     "execution_count": 68,
     "metadata": {},
     "output_type": "execute_result"
    }
   ],
   "source": [
    "inner_ml = db.category_query( ('\\'machine learning\\'') )\n",
    "inner_ml"
   ]
  },
  {
   "cell_type": "code",
   "execution_count": 78,
   "metadata": {},
   "outputs": [
    {
     "data": {
      "text/plain": [
       "\"SELECT DISTINCT p.title, p.pageid FROM (SELECT stuff.category, stuff.subcategory, pc.pageid FROM (SELECT category, subcategory, subcategory_id FROM subcategories sc JOIN categories c ON sc.category_id = c.category_id WHERE category ='machine learning' ) as stuff JOIN page_category pc ON stuff.subcategory_id = pc.subcategory_id) as crap_ml JOIN pages p ON crap_ml.pageid = p.pageid\""
      ]
     },
     "execution_count": 78,
     "metadata": {},
     "output_type": "execute_result"
    }
   ],
   "source": [
    "#inner_ml = db.category_query( ('\\'machine learning\\''))\n",
    "\n",
    "inner_ml = \"SELECT stuff.category, stuff.subcategory, pc.pageid FROM (SELECT category, subcategory, subcategory_id FROM subcategories sc JOIN categories c ON sc.category_id = c.category_id WHERE category ='machine learning' ) as stuff JOIN page_category pc ON stuff.subcategory_id = pc.subcategory_id\"\n",
    "\n",
    "ml_pages_query = \"\"\"SELECT DISTINCT p.title, p.pageid\n",
    "                    FROM ({}) as crap_ml\n",
    "                    JOIN pages p\n",
    "                    ON crap_ml.pageid = p.pageid\"\"\".format( inner_ml)\n",
    "ml_pages_query = re.sub( \"\\s+\",\" \", ml_pages_query)\n",
    "ml_pages_query\n"
   ]
  },
  {
   "cell_type": "code",
   "execution_count": 79,
   "metadata": {},
   "outputs": [
    {
     "data": {
      "text/plain": [
       "\"SELECT DISTINCT p.title, p.pageid FROM (SELECT stuff.category, stuff.subcategory, pc.pageid FROM (SELECT category, subcategory, subcategory_id FROM subcategories sc JOIN categories c ON sc.category_id = c.category_id WHERE category ='business software' ) as stuff JOIN page_category pc ON stuff.subcategory_id = pc.subcategory_id) as crap_bs JOIN pages p ON crap_bs.pageid = p.pageid\""
      ]
     },
     "execution_count": 79,
     "metadata": {},
     "output_type": "execute_result"
    }
   ],
   "source": [
    "#inner_bs = db.category_query( ('\\'business software\\''))\n",
    "inner_bs = \"SELECT stuff.category, stuff.subcategory, pc.pageid FROM (SELECT category, subcategory, subcategory_id FROM subcategories sc JOIN categories c ON sc.category_id = c.category_id WHERE category ='business software' ) as stuff JOIN page_category pc ON stuff.subcategory_id = pc.subcategory_id\"\n",
    "\n",
    "bs_pages_query = \"\"\"SELECT DISTINCT p.title, p.pageid\n",
    "                    FROM ({}) as crap_bs\n",
    "                    JOIN pages p\n",
    "                    ON crap_bs.pageid = p.pageid\"\"\".format(inner_bs)\n",
    "bs_pages_query = re.sub( \"\\s+\",\" \", bs_pages_query)\n",
    "bs_pages_query"
   ]
  },
  {
   "cell_type": "code",
   "execution_count": 80,
   "metadata": {},
   "outputs": [
    {
     "data": {
      "text/plain": [
       "\"SELECT ml_query.title, ml_query.pageid FROM (SELECT DISTINCT p.title, p.pageid FROM (SELECT stuff.category, stuff.subcategory, pc.pageid FROM (SELECT category, subcategory, subcategory_id FROM subcategories sc JOIN categories c ON sc.category_id = c.category_id WHERE category ='machine learning' ) as stuff JOIN page_category pc ON stuff.subcategory_id = pc.subcategory_id) as crap_ml JOIN pages p ON crap_ml.pageid = p.pageid) ml_query INNER JOIN (SELECT DISTINCT p.title, p.pageid FROM (SELECT stuff.category, stuff.subcategory, pc.pageid FROM (SELECT category, subcategory, subcategory_id FROM subcategories sc JOIN categories c ON sc.category_id = c.category_id WHERE category ='business software' ) as stuff JOIN page_category pc ON stuff.subcategory_id = pc.subcategory_id) as crap_bs JOIN pages p ON crap_bs.pageid = p.pageid) bs_query ON ml_query.pageid = bs_query.pageid;\""
      ]
     },
     "execution_count": 80,
     "metadata": {},
     "output_type": "execute_result"
    }
   ],
   "source": [
    "category_duplicates_query = \"\"\"SELECT ml_query.title, ml_query.pageid\n",
    "                               FROM ({}) ml_query\n",
    "                               INNER JOIN ({}) bs_query\n",
    "                               ON ml_query.pageid = bs_query.pageid;\"\"\".format( ml_pages_query, bs_pages_query)\n",
    "category_duplicates_query = re.sub( \"\\s+\",\" \", category_duplicates_query)\n",
    "category_duplicates_query"
   ]
  },
  {
   "cell_type": "code",
   "execution_count": 81,
   "metadata": {},
   "outputs": [
    {
     "data": {
      "text/html": [
       "<div>\n",
       "<table border=\"1\" class=\"dataframe\">\n",
       "  <thead>\n",
       "    <tr style=\"text-align: right;\">\n",
       "      <th></th>\n",
       "      <th>pageid</th>\n",
       "      <th>title</th>\n",
       "    </tr>\n",
       "  </thead>\n",
       "  <tbody>\n",
       "    <tr>\n",
       "      <th>0</th>\n",
       "      <td>462546</td>\n",
       "      <td>fico</td>\n",
       "    </tr>\n",
       "    <tr>\n",
       "      <th>1</th>\n",
       "      <td>12185719</td>\n",
       "      <td>kxen inc</td>\n",
       "    </tr>\n",
       "    <tr>\n",
       "      <th>2</th>\n",
       "      <td>38327135</td>\n",
       "      <td>pipeline pilot</td>\n",
       "    </tr>\n",
       "    <tr>\n",
       "      <th>3</th>\n",
       "      <td>41732818</td>\n",
       "      <td>qloo</td>\n",
       "    </tr>\n",
       "    <tr>\n",
       "      <th>4</th>\n",
       "      <td>995455</td>\n",
       "      <td>savi technology</td>\n",
       "    </tr>\n",
       "    <tr>\n",
       "      <th>5</th>\n",
       "      <td>36089423</td>\n",
       "      <td>solveit software</td>\n",
       "    </tr>\n",
       "  </tbody>\n",
       "</table>\n",
       "</div>"
      ],
      "text/plain": [
       "     pageid             title\n",
       "0    462546              fico\n",
       "1  12185719         kxen inc \n",
       "2  38327135    pipeline pilot\n",
       "3  41732818              qloo\n",
       "4    995455   savi technology\n",
       "5  36089423  solveit software"
      ]
     },
     "execution_count": 81,
     "metadata": {},
     "output_type": "execute_result"
    }
   ],
   "source": [
    "db.query_to_dataframe( category_duplicates_query)"
   ]
  },
  {
   "cell_type": "code",
   "execution_count": null,
   "metadata": {
    "collapsed": true
   },
   "outputs": [],
   "source": [
    "## cat_pages_query = \"\"\"SELECT category, COUNT( DISTINCT title)\"\"\""
   ]
  },
  {
   "cell_type": "markdown",
   "metadata": {},
   "source": [
    "## Articles (Non Duplicate)"
   ]
  },
  {
   "cell_type": "code",
   "execution_count": 30,
   "metadata": {},
   "outputs": [
    {
     "data": {
      "text/plain": [
       "\"SELECT DISTINCT p.title, p.pageid, p.article FROM (SELECT stuff.category, stuff.subcategory, pc.pageid FROM (SELECT category, subcategory, subcategory_id FROM subcategories sc JOIN categories c ON sc.category_id = c.category_id WHERE category ='machine learning' ) as stuff JOIN page_category pc ON stuff.subcategory_id = pc.subcategory_id) as crap_ml JOIN pages p ON crap_ml.pageid = p.pageid LIMIT 1000\""
      ]
     },
     "execution_count": 30,
     "metadata": {},
     "output_type": "execute_result"
    }
   ],
   "source": [
    "#inner_ml = db.category_query( ('\\'machine learning\\''))\n",
    "\n",
    "inner_ml = \"SELECT stuff.category, stuff.subcategory, pc.pageid FROM (SELECT category, subcategory, subcategory_id FROM subcategories sc JOIN categories c ON sc.category_id = c.category_id WHERE category ='machine learning' ) as stuff JOIN page_category pc ON stuff.subcategory_id = pc.subcategory_id\"\n",
    "\n",
    "ml_pages_query = \"\"\"SELECT DISTINCT p.title, p.pageid, p.article\n",
    "                    FROM ({}) as crap_ml\n",
    "                    JOIN pages p\n",
    "                    ON crap_ml.pageid = p.pageid\n",
    "                    LIMIT 1000\"\"\".format( inner_ml)\n",
    "ml_pages_query = re.sub( \"\\s+\",\" \", ml_pages_query)\n",
    "ml_pages_query\n"
   ]
  },
  {
   "cell_type": "code",
   "execution_count": 31,
   "metadata": {},
   "outputs": [
    {
     "data": {
      "text/plain": [
       "\"SELECT DISTINCT p.title, p.pageid, p.article FROM (SELECT stuff.category, stuff.subcategory, pc.pageid FROM (SELECT category, subcategory, subcategory_id FROM subcategories sc JOIN categories c ON sc.category_id = c.category_id WHERE category ='business software' ) as stuff JOIN page_category pc ON stuff.subcategory_id = pc.subcategory_id) as crap_bs JOIN pages p ON crap_bs.pageid = p.pageid LIMIT 1000\""
      ]
     },
     "execution_count": 31,
     "metadata": {},
     "output_type": "execute_result"
    }
   ],
   "source": [
    "#inner_bs = db.category_query( ('\\'business software\\''))\n",
    "inner_bs = \"SELECT stuff.category, stuff.subcategory, pc.pageid FROM (SELECT category, subcategory, subcategory_id FROM subcategories sc JOIN categories c ON sc.category_id = c.category_id WHERE category ='business software' ) as stuff JOIN page_category pc ON stuff.subcategory_id = pc.subcategory_id\"\n",
    "\n",
    "bs_pages_query = \"\"\"SELECT DISTINCT p.title, p.pageid, p.article\n",
    "                    FROM ({}) as crap_bs\n",
    "                    JOIN pages p\n",
    "                    ON crap_bs.pageid = p.pageid\n",
    "                    LIMIT 1000\"\"\".format(inner_bs)\n",
    "bs_pages_query = re.sub( \"\\s+\",\" \", bs_pages_query)\n",
    "bs_pages_query"
   ]
  },
  {
   "cell_type": "code",
   "execution_count": 74,
   "metadata": {
    "collapsed": true
   },
   "outputs": [],
   "source": [
    "pages_query = \"\"\"SELECT b.title, b.pageid, b.article\n",
    "                 FROM (({}) UNION ({}) ) as b;\"\"\".format( ml_pages_query, bs_pages_query)"
   ]
  },
  {
   "cell_type": "code",
   "execution_count": 75,
   "metadata": {},
   "outputs": [
    {
     "data": {
      "text/plain": [
       "(2000, 3)"
      ]
     },
     "execution_count": 75,
     "metadata": {},
     "output_type": "execute_result"
    }
   ],
   "source": [
    "pages_df = db.query_to_dataframe( pages_query)\n",
    "pages_df.shape"
   ]
  },
  {
   "cell_type": "code",
   "execution_count": 34,
   "metadata": {},
   "outputs": [
    {
     "name": "stdout",
     "output_type": "stream",
     "text": [
      "9\n"
     ]
    },
    {
     "data": {
      "text/plain": [
       "(1991, 3)"
      ]
     },
     "execution_count": 34,
     "metadata": {},
     "output_type": "execute_result"
    }
   ],
   "source": [
    "## Create mask for empty articles\n",
    "empty_mask =  pages_df.article == ''\n",
    "print( sum(empty_mask))\n",
    "\n",
    "nonempty_pages_df = pages_df[~empty_mask].copy()\n",
    "nonempty_pages_df.shape"
   ]
  },
  {
   "cell_type": "code",
   "execution_count": 79,
   "metadata": {},
   "outputs": [],
   "source": [
    "nonempty_pages_df.loc[:,'article'] = nonempty_pages_df.article.apply( lambda x: re.sub(\"NUMBER\", \"\", x))"
   ]
  },
  {
   "cell_type": "code",
   "execution_count": 78,
   "metadata": {},
   "outputs": [
    {
     "data": {
      "text/plain": [
       "1792"
      ]
     },
     "execution_count": 78,
     "metadata": {},
     "output_type": "execute_result"
    }
   ],
   "source": [
    "sum(nonempty_pages_df.article.str.contains(\"NUMBER\"))"
   ]
  },
  {
   "cell_type": "code",
   "execution_count": 80,
   "metadata": {
    "collapsed": true
   },
   "outputs": [],
   "source": [
    "from sklearn.preprocessing import LabelEncoder\n",
    "from sklearn.feature_extraction.text import TfidfVectorizer\n"
   ]
  },
  {
   "cell_type": "code",
   "execution_count": null,
   "metadata": {
    "collapsed": true
   },
   "outputs": [],
   "source": []
  },
  {
   "cell_type": "code",
   "execution_count": null,
   "metadata": {
    "collapsed": true
   },
   "outputs": [],
   "source": [
    "le = LabelEncoder()\n",
    "pages_df['cat_numerical'] = le.fit_transform(pages_df['category'])"
   ]
  },
  {
   "cell_type": "code",
   "execution_count": 81,
   "metadata": {
    "collapsed": true
   },
   "outputs": [],
   "source": [
    "tfidf_er = TfidfVectorizer( ngram_range = (1,2), min_df = 3, stop_words = 'english') ##  "
   ]
  },
  {
   "cell_type": "code",
   "execution_count": 82,
   "metadata": {},
   "outputs": [],
   "source": [
    "dtf_sparse = tfidf_er.fit_transform( nonempty_pages_df.article )"
   ]
  },
  {
   "cell_type": "code",
   "execution_count": 83,
   "metadata": {},
   "outputs": [
    {
     "data": {
      "text/plain": [
       "(1991, 45646)"
      ]
     },
     "execution_count": 83,
     "metadata": {},
     "output_type": "execute_result"
    }
   ],
   "source": [
    "dtf_sparse.shape"
   ]
  },
  {
   "cell_type": "code",
   "execution_count": 84,
   "metadata": {
    "collapsed": true
   },
   "outputs": [],
   "source": [
    "from sklearn.decomposition import TruncatedSVD"
   ]
  },
  {
   "cell_type": "code",
   "execution_count": 85,
   "metadata": {
    "collapsed": true
   },
   "outputs": [],
   "source": [
    "n_components = 100\n",
    "SVD = TruncatedSVD(n_components)\n",
    "component_names = [\"component_\"+str(i+1) for i in range(n_components)]"
   ]
  },
  {
   "cell_type": "code",
   "execution_count": 86,
   "metadata": {
    "collapsed": true
   },
   "outputs": [],
   "source": [
    "svd_matrix = SVD.fit_transform( dtf_sparse)"
   ]
  },
  {
   "cell_type": "code",
   "execution_count": 87,
   "metadata": {},
   "outputs": [
    {
     "data": {
      "text/plain": [
       "(1991, 100)"
      ]
     },
     "execution_count": 87,
     "metadata": {},
     "output_type": "execute_result"
    }
   ],
   "source": [
    "svd_matrix.shape"
   ]
  },
  {
   "cell_type": "code",
   "execution_count": 88,
   "metadata": {},
   "outputs": [
    {
     "data": {
      "text/plain": [
       "array([ 0.00983212,  0.01390024,  0.00889783,  0.00859967,  0.00555912,\n",
       "        0.0053222 ,  0.00484163,  0.00458633,  0.00421756,  0.00402763,\n",
       "        0.00391888,  0.00363405,  0.00361812,  0.00346969,  0.00322359,\n",
       "        0.00314619,  0.00290258,  0.00286573,  0.00270597,  0.00263258,\n",
       "        0.00254432,  0.00245708,  0.00235799,  0.00232353,  0.00227267,\n",
       "        0.002272  ,  0.00222775,  0.00216887,  0.00214331,  0.00209046,\n",
       "        0.00200739,  0.00198168,  0.00196073,  0.00194955,  0.00192495,\n",
       "        0.00189852,  0.00188298,  0.00184727,  0.00183904,  0.00180627,\n",
       "        0.00177537,  0.00176371,  0.00174057,  0.00173697,  0.00171303,\n",
       "        0.00169726,  0.0016924 ,  0.00166124,  0.00165235,  0.00162026,\n",
       "        0.00161577,  0.00160688,  0.00159648,  0.00157266,  0.00155603,\n",
       "        0.00153953,  0.00152646,  0.00152517,  0.00151272,  0.00150434,\n",
       "        0.00148993,  0.00147707,  0.00146215,  0.00146004,  0.00144567,\n",
       "        0.00143808,  0.00142003,  0.00141127,  0.00138749,  0.00138635,\n",
       "        0.00137704,  0.00136612,  0.00134984,  0.00133367,  0.00133164,\n",
       "        0.00131549,  0.00130743,  0.0012909 ,  0.00127928,  0.00127569,\n",
       "        0.00126925,  0.00125105,  0.00124918,  0.00124104,  0.00123452,\n",
       "        0.00122312,  0.00121867,  0.00120838,  0.00119153,  0.0011835 ,\n",
       "        0.00117478,  0.00116862,  0.00115961,  0.00115277,  0.00114105,\n",
       "        0.00112664,  0.00111512,  0.00111071,  0.00110766,  0.00109678])"
      ]
     },
     "execution_count": 88,
     "metadata": {},
     "output_type": "execute_result"
    }
   ],
   "source": [
    "SVD.explained_variance_ratio_"
   ]
  },
  {
   "cell_type": "code",
   "execution_count": 89,
   "metadata": {},
   "outputs": [
    {
     "data": {
      "text/plain": [
       "<matplotlib.legend.Legend at 0x7f8abf05af98>"
      ]
     },
     "execution_count": 89,
     "metadata": {},
     "output_type": "execute_result"
    },
    {
     "data": {
      "image/png": "[encoded data removed]",
      "text/plain": [
       "<matplotlib.figure.Figure at 0x7f8abf05acf8>"
      ]
     },
     "metadata": {},
     "output_type": "display_data"
    }
   ],
   "source": [
    "plt.plot(range(100), np.cumsum(SVD.explained_variance_ratio_), label='cumulative explained variance')\n",
    "plt.legend()"
   ]
  },
  {
   "cell_type": "code",
   "execution_count": null,
   "metadata": {},
   "outputs": [],
   "source": [
    "tfidf_er.get_feature_names()"
   ]
  },
  {
   "cell_type": "code",
   "execution_count": 90,
   "metadata": {},
   "outputs": [],
   "source": [
    "latent_semantic_analysis = pd.DataFrame(svd_matrix,\n",
    "                                        index=nonempty_pages_df.pageid,\n",
    "                                        columns=component_names)\n",
    "latent_semantic_analysis['article'] = nonempty_pages_df.article\n",
    "latent_semantic_analysis['title'] = nonempty_pages_df.title"
   ]
  },
  {
   "cell_type": "code",
   "execution_count": 91,
   "metadata": {},
   "outputs": [],
   "source": [
    "vocabulary_expression = pd.DataFrame(SVD.components_,\n",
    "                                     index=component_names,\n",
    "                                     columns=tfidf_er.get_feature_names()).T"
   ]
  },
  {
   "cell_type": "code",
   "execution_count": 92,
   "metadata": {
    "collapsed": true
   },
   "outputs": [],
   "source": [
    "for i in range(1,11):\n",
    "    vocabulary_expression['abs_component_{}'.format(i)] = np.abs(vocabulary_expression['component_{}'.format(i)])"
   ]
  },
  {
   "cell_type": "code",
   "execution_count": 93,
   "metadata": {},
   "outputs": [
    {
     "data": {
      "text/plain": [
       "displaystyle    0.598012\n",
       "data            0.150104\n",
       "learning        0.149219\n",
       "mathbf          0.117098\n",
       "algorithm       0.110826\n",
       "model           0.093511\n",
       "function        0.088508\n",
       "Name: abs_component_1, dtype: float64"
      ]
     },
     "execution_count": 93,
     "metadata": {},
     "output_type": "execute_result"
    }
   ],
   "source": [
    "vocabulary_expression['abs_component_1'].sort_values(ascending=False).head(7)"
   ]
  },
  {
   "cell_type": "code",
   "execution_count": null,
   "metadata": {
    "collapsed": true
   },
   "outputs": [],
   "source": []
  },
  {
   "cell_type": "code",
   "execution_count": null,
   "metadata": {
    "collapsed": true
   },
   "outputs": [],
   "source": []
  },
  {
   "cell_type": "code",
   "execution_count": null,
   "metadata": {
    "collapsed": true
   },
   "outputs": [],
   "source": [
    "document_term_matrix_sps = tfidf_vectorizer.fit_transform(corpus_df.sentence)"
   ]
  },
  {
   "cell_type": "code",
   "execution_count": 50,
   "metadata": {},
   "outputs": [
    {
     "ename": "MemoryError",
     "evalue": "",
     "output_type": "error",
     "traceback": [
      "\u001b[0;31m---------------------------------------------------------------------------\u001b[0m",
      "\u001b[0;31mMemoryError\u001b[0m                               Traceback (most recent call last)",
      "\u001b[0;32m<ipython-input-50-b4b939babbe5>\u001b[0m in \u001b[0;36m<module>\u001b[0;34m()\u001b[0m\n\u001b[0;32m----> 1\u001b[0;31m document_term_matrix_df = pd.DataFrame(dtf_sparse.toarray(),\n\u001b[0m\u001b[1;32m      2\u001b[0m                                        \u001b[0mindex\u001b[0m\u001b[0;34m=\u001b[0m\u001b[0mnonempty_pages_df\u001b[0m\u001b[0;34m.\u001b[0m\u001b[0mpageid\u001b[0m\u001b[0;34m,\u001b[0m\u001b[0;34m\u001b[0m\u001b[0m\n\u001b[1;32m      3\u001b[0m                                        columns=tfidf_er.get_feature_names())\n",
      "\u001b[0;32m/opt/conda/lib/python3.6/site-packages/scipy/sparse/compressed.py\u001b[0m in \u001b[0;36mtoarray\u001b[0;34m(self, order, out)\u001b[0m\n\u001b[1;32m    962\u001b[0m     \u001b[0;32mdef\u001b[0m \u001b[0mtoarray\u001b[0m\u001b[0;34m(\u001b[0m\u001b[0mself\u001b[0m\u001b[0;34m,\u001b[0m \u001b[0morder\u001b[0m\u001b[0;34m=\u001b[0m\u001b[0;32mNone\u001b[0m\u001b[0;34m,\u001b[0m \u001b[0mout\u001b[0m\u001b[0;34m=\u001b[0m\u001b[0;32mNone\u001b[0m\u001b[0;34m)\u001b[0m\u001b[0;34m:\u001b[0m\u001b[0;34m\u001b[0m\u001b[0m\n\u001b[1;32m    963\u001b[0m         \u001b[0;34m\"\"\"See the docstring for `spmatrix.toarray`.\"\"\"\u001b[0m\u001b[0;34m\u001b[0m\u001b[0m\n\u001b[0;32m--> 964\u001b[0;31m         \u001b[0;32mreturn\u001b[0m \u001b[0mself\u001b[0m\u001b[0;34m.\u001b[0m\u001b[0mtocoo\u001b[0m\u001b[0;34m(\u001b[0m\u001b[0mcopy\u001b[0m\u001b[0;34m=\u001b[0m\u001b[0;32mFalse\u001b[0m\u001b[0;34m)\u001b[0m\u001b[0;34m.\u001b[0m\u001b[0mtoarray\u001b[0m\u001b[0;34m(\u001b[0m\u001b[0morder\u001b[0m\u001b[0;34m=\u001b[0m\u001b[0morder\u001b[0m\u001b[0;34m,\u001b[0m \u001b[0mout\u001b[0m\u001b[0;34m=\u001b[0m\u001b[0mout\u001b[0m\u001b[0;34m)\u001b[0m\u001b[0;34m\u001b[0m\u001b[0m\n\u001b[0m\u001b[1;32m    965\u001b[0m \u001b[0;34m\u001b[0m\u001b[0m\n\u001b[1;32m    966\u001b[0m     \u001b[0;31m##############################################################\u001b[0m\u001b[0;34m\u001b[0m\u001b[0;34m\u001b[0m\u001b[0m\n",
      "\u001b[0;32m/opt/conda/lib/python3.6/site-packages/scipy/sparse/coo.py\u001b[0m in \u001b[0;36mtoarray\u001b[0;34m(self, order, out)\u001b[0m\n\u001b[1;32m    250\u001b[0m     \u001b[0;32mdef\u001b[0m \u001b[0mtoarray\u001b[0m\u001b[0;34m(\u001b[0m\u001b[0mself\u001b[0m\u001b[0;34m,\u001b[0m \u001b[0morder\u001b[0m\u001b[0;34m=\u001b[0m\u001b[0;32mNone\u001b[0m\u001b[0;34m,\u001b[0m \u001b[0mout\u001b[0m\u001b[0;34m=\u001b[0m\u001b[0;32mNone\u001b[0m\u001b[0;34m)\u001b[0m\u001b[0;34m:\u001b[0m\u001b[0;34m\u001b[0m\u001b[0m\n\u001b[1;32m    251\u001b[0m         \u001b[0;34m\"\"\"See the docstring for `spmatrix.toarray`.\"\"\"\u001b[0m\u001b[0;34m\u001b[0m\u001b[0m\n\u001b[0;32m--> 252\u001b[0;31m         \u001b[0mB\u001b[0m \u001b[0;34m=\u001b[0m \u001b[0mself\u001b[0m\u001b[0;34m.\u001b[0m\u001b[0m_process_toarray_args\u001b[0m\u001b[0;34m(\u001b[0m\u001b[0morder\u001b[0m\u001b[0;34m,\u001b[0m \u001b[0mout\u001b[0m\u001b[0;34m)\u001b[0m\u001b[0;34m\u001b[0m\u001b[0m\n\u001b[0m\u001b[1;32m    253\u001b[0m         \u001b[0mfortran\u001b[0m \u001b[0;34m=\u001b[0m \u001b[0mint\u001b[0m\u001b[0;34m(\u001b[0m\u001b[0mB\u001b[0m\u001b[0;34m.\u001b[0m\u001b[0mflags\u001b[0m\u001b[0;34m.\u001b[0m\u001b[0mf_contiguous\u001b[0m\u001b[0;34m)\u001b[0m\u001b[0;34m\u001b[0m\u001b[0m\n\u001b[1;32m    254\u001b[0m         \u001b[0;32mif\u001b[0m \u001b[0;32mnot\u001b[0m \u001b[0mfortran\u001b[0m \u001b[0;32mand\u001b[0m \u001b[0;32mnot\u001b[0m \u001b[0mB\u001b[0m\u001b[0;34m.\u001b[0m\u001b[0mflags\u001b[0m\u001b[0;34m.\u001b[0m\u001b[0mc_contiguous\u001b[0m\u001b[0;34m:\u001b[0m\u001b[0;34m\u001b[0m\u001b[0m\n",
      "\u001b[0;32m/opt/conda/lib/python3.6/site-packages/scipy/sparse/base.py\u001b[0m in \u001b[0;36m_process_toarray_args\u001b[0;34m(self, order, out)\u001b[0m\n\u001b[1;32m   1037\u001b[0m             \u001b[0;32mreturn\u001b[0m \u001b[0mout\u001b[0m\u001b[0;34m\u001b[0m\u001b[0m\n\u001b[1;32m   1038\u001b[0m         \u001b[0;32melse\u001b[0m\u001b[0;34m:\u001b[0m\u001b[0;34m\u001b[0m\u001b[0m\n\u001b[0;32m-> 1039\u001b[0;31m             \u001b[0;32mreturn\u001b[0m \u001b[0mnp\u001b[0m\u001b[0;34m.\u001b[0m\u001b[0mzeros\u001b[0m\u001b[0;34m(\u001b[0m\u001b[0mself\u001b[0m\u001b[0;34m.\u001b[0m\u001b[0mshape\u001b[0m\u001b[0;34m,\u001b[0m \u001b[0mdtype\u001b[0m\u001b[0;34m=\u001b[0m\u001b[0mself\u001b[0m\u001b[0;34m.\u001b[0m\u001b[0mdtype\u001b[0m\u001b[0;34m,\u001b[0m \u001b[0morder\u001b[0m\u001b[0;34m=\u001b[0m\u001b[0morder\u001b[0m\u001b[0;34m)\u001b[0m\u001b[0;34m\u001b[0m\u001b[0m\n\u001b[0m\u001b[1;32m   1040\u001b[0m \u001b[0;34m\u001b[0m\u001b[0m\n\u001b[1;32m   1041\u001b[0m     \u001b[0;32mdef\u001b[0m \u001b[0m__numpy_ufunc__\u001b[0m\u001b[0;34m(\u001b[0m\u001b[0mself\u001b[0m\u001b[0;34m,\u001b[0m \u001b[0mfunc\u001b[0m\u001b[0;34m,\u001b[0m \u001b[0mmethod\u001b[0m\u001b[0;34m,\u001b[0m \u001b[0mpos\u001b[0m\u001b[0;34m,\u001b[0m \u001b[0minputs\u001b[0m\u001b[0;34m,\u001b[0m \u001b[0;34m**\u001b[0m\u001b[0mkwargs\u001b[0m\u001b[0;34m)\u001b[0m\u001b[0;34m:\u001b[0m\u001b[0;34m\u001b[0m\u001b[0m\n",
      "\u001b[0;31mMemoryError\u001b[0m: "
     ]
    }
   ],
   "source": [
    "document_term_matrix_df = pd.DataFrame(dtf_sparse.toarray(),\n",
    "                                       index=nonempty_pages_df.pageid,\n",
    "                                       columns=tfidf_er.get_feature_names())"
   ]
  },
  {
   "cell_type": "code",
   "execution_count": null,
   "metadata": {
    "collapsed": true
   },
   "outputs": [],
   "source": [
    "pd.concat([corpus_df.sentence, document_term_matrix_df], axis=1).sample(4)"
   ]
  },
  {
   "cell_type": "code",
   "execution_count": null,
   "metadata": {
    "collapsed": true
   },
   "outputs": [],
   "source": []
  },
  {
   "cell_type": "code",
   "execution_count": null,
   "metadata": {
    "collapsed": true
   },
   "outputs": [],
   "source": [
    "## Look at adding stemmer, or lemanizer\n",
    "\n",
    "## Beautiful soup\n",
    "\n",
    "## Change to request and process raw html ( just do it!!)\n",
    "\n",
    "\n",
    "## Need to reduce dimensionality "
   ]
  }
 ],
 "metadata": {
  "kernelspec": {
   "display_name": "Python 3",
   "language": "python",
   "name": "python3"
  },
  "language_info": {
   "codemirror_mode": {
    "name": "ipython",
    "version": 3
   },
   "file_extension": ".py",
   "mimetype": "text/x-python",
   "name": "python",
   "nbconvert_exporter": "python",
   "pygments_lexer": "ipython3",
   "version": "3.6.2"
  }
 },
 "nbformat": 4,
 "nbformat_minor": 2
}
