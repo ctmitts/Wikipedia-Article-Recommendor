{
 "cells": [
  {
   "cell_type": "code",
   "execution_count": 2,
   "metadata": {
    "collapsed": true
   },
   "outputs": [],
   "source": [
    "import request_category as rc\n",
    "import database as db\n",
    "from download import download\n",
    "\n",
    "import pickle\n",
    "from pathlib import Path\n",
    "import re\n",
    "\n",
    "import pandas as pd\n",
    "import numpy as np\n",
    "from datetime import datetime\n",
    "import matplotlib.pyplot as plt\n",
    "%matplotlib inline\n",
    "\n",
    "import search\n",
    "\n",
    "\n",
    "from sklearn.model_selection import train_test_split\n",
    "\n",
    "from sklearn.preprocessing import LabelBinarizer, LabelEncoder\n",
    "\n",
    "from sklearn.feature_extraction.text import CountVectorizer, TfidfVectorizer\n",
    "\n",
    "from sklearn.decomposition import TruncatedSVD\n",
    "from sklearn.pipeline import Pipeline\n",
    "from sklearn.model_selection import GridSearchCV, StratifiedShuffleSplit\n",
    "from sklearn.linear_model import LogisticRegression\n",
    "import sklearn.externals.joblib"
   ]
  },
  {
   "cell_type": "markdown",
   "metadata": {},
   "source": [
    "## Test out multinomial for all subcategories"
   ]
  },
  {
   "cell_type": "code",
   "execution_count": 3,
   "metadata": {},
   "outputs": [
    {
     "data": {
      "text/plain": [
       "(2756, 4)"
      ]
     },
     "execution_count": 3,
     "metadata": {},
     "output_type": "execute_result"
    }
   ],
   "source": [
    "pages_df = search.get_data( 'machine learning', 'business software')\n",
    "\n",
    "pages_df.shape"
   ]
  },
  {
   "cell_type": "code",
   "execution_count": 4,
   "metadata": {},
   "outputs": [
    {
     "data": {
      "text/html": [
       "<div>\n",
       "<table border=\"1\" class=\"dataframe\">\n",
       "  <thead>\n",
       "    <tr style=\"text-align: right;\">\n",
       "      <th></th>\n",
       "      <th>article</th>\n",
       "      <th>category</th>\n",
       "      <th>subcategory</th>\n",
       "      <th>title</th>\n",
       "    </tr>\n",
       "    <tr>\n",
       "      <th>pageid</th>\n",
       "      <th></th>\n",
       "      <th></th>\n",
       "      <th></th>\n",
       "      <th></th>\n",
       "    </tr>\n",
       "  </thead>\n",
       "  <tbody>\n",
       "    <tr>\n",
       "      <th>49076372</th>\n",
       "      <td>concerto project management web based project ...</td>\n",
       "      <td>business software</td>\n",
       "      <td>Project management software</td>\n",
       "      <td>concerto project management</td>\n",
       "    </tr>\n",
       "    <tr>\n",
       "      <th>44738576</th>\n",
       "      <td>machine learning hyper basis function network ...</td>\n",
       "      <td>machine learning</td>\n",
       "      <td>Classification algorithms</td>\n",
       "      <td>hyper basis function network</td>\n",
       "    </tr>\n",
       "    <tr>\n",
       "      <th>41200806</th>\n",
       "      <td>proximal gradient forward backward splitting m...</td>\n",
       "      <td>machine learning</td>\n",
       "      <td>machine learning</td>\n",
       "      <td>proximal gradient methods for learning</td>\n",
       "    </tr>\n",
       "    <tr>\n",
       "      <th>1863114</th>\n",
       "      <td>sap netweaver primary technology computing pla...</td>\n",
       "      <td>business software</td>\n",
       "      <td>Service-oriented architecture-related products</td>\n",
       "      <td>sap netweaver</td>\n",
       "    </tr>\n",
       "    <tr>\n",
       "      <th>41667831</th>\n",
       "      <td>financial software financial system software s...</td>\n",
       "      <td>business software</td>\n",
       "      <td>Financial software</td>\n",
       "      <td>financial software</td>\n",
       "    </tr>\n",
       "  </tbody>\n",
       "</table>\n",
       "</div>"
      ],
      "text/plain": [
       "                                                    article  \\\n",
       "pageid                                                        \n",
       "49076372  concerto project management web based project ...   \n",
       "44738576  machine learning hyper basis function network ...   \n",
       "41200806  proximal gradient forward backward splitting m...   \n",
       "1863114   sap netweaver primary technology computing pla...   \n",
       "41667831  financial software financial system software s...   \n",
       "\n",
       "                   category                                     subcategory  \\\n",
       "pageid                                                                        \n",
       "49076372  business software                     Project management software   \n",
       "44738576   machine learning                       Classification algorithms   \n",
       "41200806   machine learning                                machine learning   \n",
       "1863114   business software  Service-oriented architecture-related products   \n",
       "41667831  business software                              Financial software   \n",
       "\n",
       "                                           title  \n",
       "pageid                                            \n",
       "49076372             concerto project management  \n",
       "44738576            hyper basis function network  \n",
       "41200806  proximal gradient methods for learning  \n",
       "1863114                            sap netweaver  \n",
       "41667831                      financial software  "
      ]
     },
     "execution_count": 4,
     "metadata": {},
     "output_type": "execute_result"
    }
   ],
   "source": [
    "pages_df.head()"
   ]
  },
  {
   "cell_type": "code",
   "execution_count": null,
   "metadata": {
    "collapsed": true
   },
   "outputs": [],
   "source": []
  },
  {
   "cell_type": "code",
   "execution_count": 5,
   "metadata": {
    "collapsed": true
   },
   "outputs": [],
   "source": [
    "X = pages_df['article'].copy()\n",
    "\n",
    "encoder = LabelEncoder()\n",
    "y = encoder.fit_transform( pages_df['subcategory'] )\n",
    "\n",
    "X_train, X_test, y_train, y_test = train_test_split( X, y, random_state = 42)"
   ]
  },
  {
   "cell_type": "code",
   "execution_count": null,
   "metadata": {
    "collapsed": true
   },
   "outputs": [],
   "source": []
  },
  {
   "cell_type": "code",
   "execution_count": null,
   "metadata": {
    "collapsed": true
   },
   "outputs": [],
   "source": []
  },
  {
   "cell_type": "code",
   "execution_count": 6,
   "metadata": {
    "collapsed": true
   },
   "outputs": [],
   "source": []
  },
  {
   "cell_type": "code",
   "execution_count": null,
   "metadata": {},
   "outputs": [
    {
     "name": "stderr",
     "output_type": "stream",
     "text": [
      "/opt/conda/lib/python3.6/site-packages/sklearn/model_selection/_split.py:581: Warning: The least populated class in y has only 1 members, which is too few. The minimum number of groups for any class cannot be less than n_splits=5.\n",
      "  % (min_groups, self.n_splits)), Warning)\n"
     ]
    }
   ],
   "source": [
    "lr_pipe = Pipeline([\n",
    "    ('encoder', TfidfVectorizer(ngram_range = (1,2),\n",
    "                             min_df = 3, max_df = .9, \n",
    "                             stop_words = 'english')),\n",
    "    ('truncator',TruncatedSVD(n_components=700) ),\n",
    "    ('model', LogisticRegression())\n",
    "])\n",
    "\n",
    "lr_params = {\n",
    "    'model__C':np.logspace(-3,3,7)\n",
    "}\n",
    "\n",
    "gs_lr_pipe = GridSearchCV(lr_pipe, param_grid=lr_params, cv=5) # StratifiedShuffleSplit(n_splits=5)\n",
    "\n",
    "gs_lr_pipe.fit(X_train,y_train)\n",
    "\n",
    "gs_lr_pipe.best_score_"
   ]
  },
  {
   "cell_type": "code",
   "execution_count": 8,
   "metadata": {},
   "outputs": [
    {
     "data": {
      "text/plain": [
       "['./LogitModel1.p']"
      ]
     },
     "execution_count": 8,
     "metadata": {},
     "output_type": "execute_result"
    }
   ],
   "source": [
    "sklearn.externals.joblib.dump(gs_lr_pipe, './LogitModel1.p')"
   ]
  },
  {
   "cell_type": "code",
   "execution_count": 114,
   "metadata": {},
   "outputs": [
    {
     "data": {
      "text/plain": [
       "'saffron technology technology company headquartered cary north carolina develops cognitive computing systems use incremental learning understand unify entity person place thing connections entity thin'"
      ]
     },
     "execution_count": 114,
     "metadata": {},
     "output_type": "execute_result"
    }
   ],
   "source": [
    "search_doc, pageid = rc.get_article('Saffron Technology')  # Slack (software) Saffron Technology  Brain Statistics  TensorFlow Tableau Software\n",
    "search_doc = rc.cleaner( search_doc)  # Tableau Software\n",
    "##print( pageid )\n",
    "search_doc[0:200]"
   ]
  },
  {
   "cell_type": "code",
   "execution_count": 115,
   "metadata": {},
   "outputs": [],
   "source": [
    "predicted_probs = gs_lr_pipe.predict_proba([search_doc])  ## 'Brain'\n",
    "#predicted_probs.shape\n",
    "test = predicted_probs.reshape(-1,1)#.shape#.shape  test = "
   ]
  },
  {
   "cell_type": "code",
   "execution_count": 116,
   "metadata": {},
   "outputs": [
    {
     "data": {
      "text/html": [
       "<div>\n",
       "<table border=\"1\" class=\"dataframe\">\n",
       "  <thead>\n",
       "    <tr style=\"text-align: right;\">\n",
       "      <th></th>\n",
       "      <th>P</th>\n",
       "    </tr>\n",
       "  </thead>\n",
       "  <tbody>\n",
       "    <tr>\n",
       "      <th>business software</th>\n",
       "      <td>0.679407</td>\n",
       "    </tr>\n",
       "    <tr>\n",
       "      <th>Data mining and machine learning software</th>\n",
       "      <td>0.080706</td>\n",
       "    </tr>\n",
       "    <tr>\n",
       "      <th>Artificial neural networks</th>\n",
       "      <td>0.029073</td>\n",
       "    </tr>\n",
       "    <tr>\n",
       "      <th>Business software companies</th>\n",
       "      <td>0.025276</td>\n",
       "    </tr>\n",
       "    <tr>\n",
       "      <th>machine learning</th>\n",
       "      <td>0.017790</td>\n",
       "    </tr>\n",
       "    <tr>\n",
       "      <th>Collaborative software</th>\n",
       "      <td>0.013535</td>\n",
       "    </tr>\n",
       "    <tr>\n",
       "      <th>Machine learning researchers</th>\n",
       "      <td>0.011528</td>\n",
       "    </tr>\n",
       "    <tr>\n",
       "      <th>Human resource management software</th>\n",
       "      <td>0.010159</td>\n",
       "    </tr>\n",
       "    <tr>\n",
       "      <th>Applied machine learning</th>\n",
       "      <td>0.008394</td>\n",
       "    </tr>\n",
       "    <tr>\n",
       "      <th>Portal software</th>\n",
       "      <td>0.007276</td>\n",
       "    </tr>\n",
       "    <tr>\n",
       "      <th>MES software</th>\n",
       "      <td>0.007085</td>\n",
       "    </tr>\n",
       "    <tr>\n",
       "      <th>ERP software</th>\n",
       "      <td>0.006370</td>\n",
       "    </tr>\n",
       "    <tr>\n",
       "      <th>Health software</th>\n",
       "      <td>0.005215</td>\n",
       "    </tr>\n",
       "    <tr>\n",
       "      <th>Enterprise software</th>\n",
       "      <td>0.004930</td>\n",
       "    </tr>\n",
       "    <tr>\n",
       "      <th>Industry-specific XML-based standards</th>\n",
       "      <td>0.004627</td>\n",
       "    </tr>\n",
       "    <tr>\n",
       "      <th>Risk management software</th>\n",
       "      <td>0.003889</td>\n",
       "    </tr>\n",
       "    <tr>\n",
       "      <th>Statistical natural language processing</th>\n",
       "      <td>0.003847</td>\n",
       "    </tr>\n",
       "    <tr>\n",
       "      <th>Workflow technology</th>\n",
       "      <td>0.003766</td>\n",
       "    </tr>\n",
       "    <tr>\n",
       "      <th>Reporting software</th>\n",
       "      <td>0.003726</td>\n",
       "    </tr>\n",
       "    <tr>\n",
       "      <th>Business software stubs</th>\n",
       "      <td>0.003639</td>\n",
       "    </tr>\n",
       "    <tr>\n",
       "      <th>Business software for Windows</th>\n",
       "      <td>0.003452</td>\n",
       "    </tr>\n",
       "    <tr>\n",
       "      <th>Machine learning algorithms</th>\n",
       "      <td>0.003444</td>\n",
       "    </tr>\n",
       "    <tr>\n",
       "      <th>Java enterprise platform</th>\n",
       "      <td>0.003037</td>\n",
       "    </tr>\n",
       "    <tr>\n",
       "      <th>Cluster analysis</th>\n",
       "      <td>0.002774</td>\n",
       "    </tr>\n",
       "    <tr>\n",
       "      <th>Unsupervised learning</th>\n",
       "      <td>0.002717</td>\n",
       "    </tr>\n",
       "    <tr>\n",
       "      <th>Business simulation games</th>\n",
       "      <td>0.002659</td>\n",
       "    </tr>\n",
       "    <tr>\n",
       "      <th>Dimension reduction</th>\n",
       "      <td>0.002438</td>\n",
       "    </tr>\n",
       "    <tr>\n",
       "      <th>Mobile business software</th>\n",
       "      <td>0.002320</td>\n",
       "    </tr>\n",
       "    <tr>\n",
       "      <th>Project management software</th>\n",
       "      <td>0.002263</td>\n",
       "    </tr>\n",
       "    <tr>\n",
       "      <th>Publishing software</th>\n",
       "      <td>0.002233</td>\n",
       "    </tr>\n",
       "    <tr>\n",
       "      <th>...</th>\n",
       "      <td>...</td>\n",
       "    </tr>\n",
       "    <tr>\n",
       "      <th>Manufacturing software</th>\n",
       "      <td>0.001902</td>\n",
       "    </tr>\n",
       "    <tr>\n",
       "      <th>Datasets in machine learning</th>\n",
       "      <td>0.001870</td>\n",
       "    </tr>\n",
       "    <tr>\n",
       "      <th>Support vector machines</th>\n",
       "      <td>0.001810</td>\n",
       "    </tr>\n",
       "    <tr>\n",
       "      <th>Machine learning task</th>\n",
       "      <td>0.001800</td>\n",
       "    </tr>\n",
       "    <tr>\n",
       "      <th>Service-oriented architecture-related products</th>\n",
       "      <td>0.001727</td>\n",
       "    </tr>\n",
       "    <tr>\n",
       "      <th>Tax software</th>\n",
       "      <td>0.001630</td>\n",
       "    </tr>\n",
       "    <tr>\n",
       "      <th>Loss functions</th>\n",
       "      <td>0.001534</td>\n",
       "    </tr>\n",
       "    <tr>\n",
       "      <th>Marketing software</th>\n",
       "      <td>0.001516</td>\n",
       "    </tr>\n",
       "    <tr>\n",
       "      <th>Office software</th>\n",
       "      <td>0.001476</td>\n",
       "    </tr>\n",
       "    <tr>\n",
       "      <th>Free business software</th>\n",
       "      <td>0.001471</td>\n",
       "    </tr>\n",
       "    <tr>\n",
       "      <th>Classification algorithms</th>\n",
       "      <td>0.001417</td>\n",
       "    </tr>\n",
       "    <tr>\n",
       "      <th>Business software for MacOS</th>\n",
       "      <td>0.001350</td>\n",
       "    </tr>\n",
       "    <tr>\n",
       "      <th>Latent variable models</th>\n",
       "      <td>0.001318</td>\n",
       "    </tr>\n",
       "    <tr>\n",
       "      <th>Genetic programming</th>\n",
       "      <td>0.001305</td>\n",
       "    </tr>\n",
       "    <tr>\n",
       "      <th>Markov models</th>\n",
       "      <td>0.001256</td>\n",
       "    </tr>\n",
       "    <tr>\n",
       "      <th>Financial software</th>\n",
       "      <td>0.001110</td>\n",
       "    </tr>\n",
       "    <tr>\n",
       "      <th>Telecommunications Billing Systems</th>\n",
       "      <td>0.001056</td>\n",
       "    </tr>\n",
       "    <tr>\n",
       "      <th>Bayesian networks</th>\n",
       "      <td>0.001006</td>\n",
       "    </tr>\n",
       "    <tr>\n",
       "      <th>Kernel methods for machine learning</th>\n",
       "      <td>0.001002</td>\n",
       "    </tr>\n",
       "    <tr>\n",
       "      <th>Computational learning theory</th>\n",
       "      <td>0.000998</td>\n",
       "    </tr>\n",
       "    <tr>\n",
       "      <th>Inductive logic programming</th>\n",
       "      <td>0.000959</td>\n",
       "    </tr>\n",
       "    <tr>\n",
       "      <th>Dental practice management software</th>\n",
       "      <td>0.000889</td>\n",
       "    </tr>\n",
       "    <tr>\n",
       "      <th>Evolutionary algorithms</th>\n",
       "      <td>0.000853</td>\n",
       "    </tr>\n",
       "    <tr>\n",
       "      <th>Semisupervised learning</th>\n",
       "      <td>0.000847</td>\n",
       "    </tr>\n",
       "    <tr>\n",
       "      <th>Structured prediction</th>\n",
       "      <td>0.000783</td>\n",
       "    </tr>\n",
       "    <tr>\n",
       "      <th>Business software for Linux</th>\n",
       "      <td>0.000779</td>\n",
       "    </tr>\n",
       "    <tr>\n",
       "      <th>Learning in computer vision</th>\n",
       "      <td>0.000753</td>\n",
       "    </tr>\n",
       "    <tr>\n",
       "      <th>Log-linear models</th>\n",
       "      <td>0.000708</td>\n",
       "    </tr>\n",
       "    <tr>\n",
       "      <th>Ensemble learning</th>\n",
       "      <td>0.000654</td>\n",
       "    </tr>\n",
       "    <tr>\n",
       "      <th>Supervised learning</th>\n",
       "      <td>0.000441</td>\n",
       "    </tr>\n",
       "  </tbody>\n",
       "</table>\n",
       "<p>63 rows × 1 columns</p>\n",
       "</div>"
      ],
      "text/plain": [
       "                                                       P\n",
       "business software                               0.679407\n",
       "Data mining and machine learning software       0.080706\n",
       "Artificial neural networks                      0.029073\n",
       "Business software companies                     0.025276\n",
       "machine learning                                0.017790\n",
       "Collaborative software                          0.013535\n",
       "Machine learning researchers                    0.011528\n",
       "Human resource management software              0.010159\n",
       "Applied machine learning                        0.008394\n",
       "Portal software                                 0.007276\n",
       "MES software                                    0.007085\n",
       "ERP software                                    0.006370\n",
       "Health software                                 0.005215\n",
       "Enterprise software                             0.004930\n",
       "Industry-specific XML-based standards           0.004627\n",
       "Risk management software                        0.003889\n",
       "Statistical natural language processing         0.003847\n",
       "Workflow technology                             0.003766\n",
       "Reporting software                              0.003726\n",
       "Business software stubs                         0.003639\n",
       "Business software for Windows                   0.003452\n",
       "Machine learning algorithms                     0.003444\n",
       "Java enterprise platform                        0.003037\n",
       "Cluster analysis                                0.002774\n",
       "Unsupervised learning                           0.002717\n",
       "Business simulation games                       0.002659\n",
       "Dimension reduction                             0.002438\n",
       "Mobile business software                        0.002320\n",
       "Project management software                     0.002263\n",
       "Publishing software                             0.002233\n",
       "...                                                  ...\n",
       "Manufacturing software                          0.001902\n",
       "Datasets in machine learning                    0.001870\n",
       "Support vector machines                         0.001810\n",
       "Machine learning task                           0.001800\n",
       "Service-oriented architecture-related products  0.001727\n",
       "Tax software                                    0.001630\n",
       "Loss functions                                  0.001534\n",
       "Marketing software                              0.001516\n",
       "Office software                                 0.001476\n",
       "Free business software                          0.001471\n",
       "Classification algorithms                       0.001417\n",
       "Business software for MacOS                     0.001350\n",
       "Latent variable models                          0.001318\n",
       "Genetic programming                             0.001305\n",
       "Markov models                                   0.001256\n",
       "Financial software                              0.001110\n",
       "Telecommunications Billing Systems              0.001056\n",
       "Bayesian networks                               0.001006\n",
       "Kernel methods for machine learning             0.001002\n",
       "Computational learning theory                   0.000998\n",
       "Inductive logic programming                     0.000959\n",
       "Dental practice management software             0.000889\n",
       "Evolutionary algorithms                         0.000853\n",
       "Semisupervised learning                         0.000847\n",
       "Structured prediction                           0.000783\n",
       "Business software for Linux                     0.000779\n",
       "Learning in computer vision                     0.000753\n",
       "Log-linear models                               0.000708\n",
       "Ensemble learning                               0.000654\n",
       "Supervised learning                             0.000441\n",
       "\n",
       "[63 rows x 1 columns]"
      ]
     },
     "execution_count": 116,
     "metadata": {},
     "output_type": "execute_result"
    }
   ],
   "source": [
    "cats = encoder.inverse_transform(  range(0,63))\n",
    "\n",
    "probs_df = pd.DataFrame( test , columns= ['P'], index = cats)\n",
    "\n",
    "probs_df.sort_values(by = ['P'],ascending=False)"
   ]
  },
  {
   "cell_type": "code",
   "execution_count": 108,
   "metadata": {},
   "outputs": [
    {
     "data": {
      "text/plain": [
       "62"
      ]
     },
     "execution_count": 108,
     "metadata": {},
     "output_type": "execute_result"
    }
   ],
   "source": [
    "max( y)"
   ]
  },
  {
   "cell_type": "code",
   "execution_count": 60,
   "metadata": {},
   "outputs": [
    {
     "data": {
      "text/plain": [
       "(1, 63)"
      ]
     },
     "execution_count": 60,
     "metadata": {},
     "output_type": "execute_result"
    }
   ],
   "source": [
    "test.shape"
   ]
  },
  {
   "cell_type": "code",
   "execution_count": 33,
   "metadata": {},
   "outputs": [
    {
     "data": {
      "text/plain": [
       "array(['machine learning'], dtype=object)"
      ]
     },
     "execution_count": 33,
     "metadata": {},
     "output_type": "execute_result"
    }
   ],
   "source": [
    "encoder.inverse_transform( gs_lr_pipe.predict([search_doc]))"
   ]
  },
  {
   "cell_type": "code",
   "execution_count": 32,
   "metadata": {},
   "outputs": [
    {
     "data": {
      "text/plain": [
       "array([62])"
      ]
     },
     "execution_count": 32,
     "metadata": {},
     "output_type": "execute_result"
    }
   ],
   "source": [
    "gs_lr_pipe.predict([search_doc])"
   ]
  },
  {
   "cell_type": "code",
   "execution_count": 63,
   "metadata": {},
   "outputs": [
    {
     "data": {
      "text/plain": [
       "array(['Administrative software', 'Applied machine learning',\n",
       "       'Artificial intelligence conferences', 'Artificial neural networks',\n",
       "       'Bayesian networks', 'Business simulation games',\n",
       "       'Business software companies', 'Business software for Linux',\n",
       "       'Business software for MacOS', 'Business software for Windows',\n",
       "       'Business software stubs', 'Classification algorithms',\n",
       "       'Cluster analysis', 'Collaborative software',\n",
       "       'Computational learning theory',\n",
       "       'Data mining and machine learning software',\n",
       "       'Datasets in machine learning',\n",
       "       'Dental practice management software', 'Dimension reduction',\n",
       "       'ERP software', 'Ensemble learning', 'Enterprise software',\n",
       "       'Evolutionary algorithms', 'Financial software',\n",
       "       'Free business software', 'Genetic programming', 'Health software',\n",
       "       'Healthcare software', 'Human resource management software',\n",
       "       'Inductive logic programming',\n",
       "       'Industry-specific XML-based standards', 'Java enterprise platform',\n",
       "       'Kernel methods for machine learning', 'Latent variable models',\n",
       "       'Learning in computer vision', 'Log-linear models',\n",
       "       'Loss functions', 'MES software', 'Machine learning algorithms',\n",
       "       'Machine learning researchers', 'Machine learning task',\n",
       "       'Manufacturing software', 'Marketing software', 'Markov models',\n",
       "       'Mobile business software', 'Office software', 'Portal software',\n",
       "       'Project management software', 'Publishing software',\n",
       "       'Reporting software', 'Risk management software',\n",
       "       'Semisupervised learning',\n",
       "       'Service-oriented architecture-related products',\n",
       "       'Statistical natural language processing', 'Structured prediction',\n",
       "       'Supervised learning', 'Support vector machines', 'Tax software',\n",
       "       'Telecommunications Billing Systems', 'Unsupervised learning',\n",
       "       'Workflow technology', 'business software', 'machine learning'], dtype=object)"
      ]
     },
     "execution_count": 63,
     "metadata": {},
     "output_type": "execute_result"
    }
   ],
   "source": [
    "\n",
    "\n"
   ]
  },
  {
   "cell_type": "code",
   "execution_count": null,
   "metadata": {
    "collapsed": true
   },
   "outputs": [],
   "source": []
  }
 ],
 "metadata": {
  "kernelspec": {
   "display_name": "Python 3",
   "language": "python",
   "name": "python3"
  },
  "language_info": {
   "codemirror_mode": {
    "name": "ipython",
    "version": 3
   },
   "file_extension": ".py",
   "mimetype": "text/x-python",
   "name": "python",
   "nbconvert_exporter": "python",
   "pygments_lexer": "ipython3",
   "version": "3.6.2"
  }
 },
 "nbformat": 4,
 "nbformat_minor": 2
}
