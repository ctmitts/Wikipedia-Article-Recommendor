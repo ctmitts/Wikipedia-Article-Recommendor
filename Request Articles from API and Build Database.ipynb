{
 "cells": [
  {
   "cell_type": "code",
   "execution_count": 2,
   "metadata": {
    "collapsed": true
   },
   "outputs": [
    {
     "name": "stdout",
     "output_type": "stream",
     "text": [
      "Collecting psycopg2\n",
      "  Downloading psycopg2-2.7.3.1-cp36-cp36m-manylinux1_x86_64.whl (2.6MB)\n",
      "\u001b[K    100% |████████████████████████████████| 2.6MB 259kB/s eta 0:00:01\n",
      "\u001b[?25hInstalling collected packages: psycopg2\n",
      "Successfully installed psycopg2-2.7.3.1\n"
     ]
    }
   ],
   "source": [
    "!pip install psycopg2\n",
    "\n",
    "!pip install wikipedia\n",
    "\n",
    "!pip install spacy"
   ]
  },
  {
   "cell_type": "code",
   "execution_count": 7,
   "metadata": {
    "collapsed": true
   },
   "outputs": [],
   "source": [
    "import request_category as rc\n",
    "import database as db\n",
    "from download import download\n",
    "import search\n",
    "import classify\n",
    "\n",
    "#import pickle\n",
    "from pathlib import Path\n",
    "import re\n",
    "\n",
    "import pandas as pd\n",
    "import numpy as np\n",
    "from datetime import datetime\n",
    "import matplotlib.pyplot as plt\n",
    "%matplotlib inline"
   ]
  },
  {
   "cell_type": "code",
   "execution_count": 8,
   "metadata": {
    "collapsed": true
   },
   "outputs": [],
   "source": [
    "from sklearn.model_selection import train_test_split\n",
    "\n",
    "from sklearn.preprocessing import LabelBinarizer, LabelEncoder\n",
    "\n",
    "from sklearn.feature_extraction.text import CountVectorizer, TfidfVectorizer\n",
    "\n",
    "from sklearn.decomposition import TruncatedSVD\n",
    "from sklearn.pipeline import Pipeline\n",
    "from sklearn.model_selection import GridSearchCV, StratifiedShuffleSplit\n",
    "from sklearn.linear_model import LogisticRegression\n",
    "import sklearn.externals.joblib"
   ]
  },
  {
   "cell_type": "code",
   "execution_count": null,
   "metadata": {},
   "outputs": [
    {
     "name": "stdout",
     "output_type": "stream",
     "text": [
      "No pickle yet\n",
      "Gathering page information from Category: machine learning, pages from nested sub-categories (+1 levels) will be \n",
      "included as a union for each category.\n",
      "\tTotal categories after recursive search: 45\n",
      "\tRequesting 1064 unique articles - ETA: 11.73 minutes\n",
      "Category DataFrames are pickled at the following location: ./pickles/machine_learning_dfs1.p. Raw text is available in\n",
      " category_pages_df in the pickle file\n",
      "\t\tPage collection  took a total of 13.67 minutes\n",
      "\t\t\tUpdating pages table\n",
      "\t\t\tUpdating categories table\n",
      "\t\t\tUpdating subcategories table\n",
      "\t\t\tUpdating page-category (link) table\n",
      "\t\t\tDownloading Article colletion, update of database tables took a total of 13.95 minutes.\n",
      "___________________________________________________________________________\n",
      "No pickle yet\n",
      "Gathering page information from Category: business software, pages from nested sub-categories (+1 levels) will be \n",
      "included as a union for each category.\n",
      "\tTotal categories after recursive search: 79\n",
      "\tRequesting 2752 unique articles - ETA: 30.33 minutes\n"
     ]
    }
   ],
   "source": [
    "download( ['machine learning','business software'], depth = 1) #pckle = False"
   ]
  },
  {
   "cell_type": "code",
   "execution_count": 16,
   "metadata": {},
   "outputs": [
    {
     "data": {
      "text/html": [
       "<div>\n",
       "<table border=\"1\" class=\"dataframe\">\n",
       "  <thead>\n",
       "    <tr style=\"text-align: right;\">\n",
       "      <th></th>\n",
       "      <th>count</th>\n",
       "    </tr>\n",
       "  </thead>\n",
       "  <tbody>\n",
       "    <tr>\n",
       "      <th>0</th>\n",
       "      <td>3816</td>\n",
       "    </tr>\n",
       "  </tbody>\n",
       "</table>\n",
       "</div>"
      ],
      "text/plain": [
       "   count\n",
       "0   3816"
      ]
     },
     "execution_count": 16,
     "metadata": {},
     "output_type": "execute_result"
    }
   ],
   "source": [
    "db.query_to_dataframe(\"SELECT COUNT(*) FROM pages;\")  #  LIMIT 1"
   ]
  },
  {
   "cell_type": "code",
   "execution_count": 17,
   "metadata": {},
   "outputs": [
    {
     "data": {
      "text/html": [
       "<div>\n",
       "<table border=\"1\" class=\"dataframe\">\n",
       "  <thead>\n",
       "    <tr style=\"text-align: right;\">\n",
       "      <th></th>\n",
       "      <th>count</th>\n",
       "    </tr>\n",
       "  </thead>\n",
       "  <tbody>\n",
       "    <tr>\n",
       "      <th>0</th>\n",
       "      <td>123</td>\n",
       "    </tr>\n",
       "  </tbody>\n",
       "</table>\n",
       "</div>"
      ],
      "text/plain": [
       "   count\n",
       "0    123"
      ]
     },
     "execution_count": 17,
     "metadata": {},
     "output_type": "execute_result"
    }
   ],
   "source": [
    "db.query_to_dataframe(\"SELECT COUNT(*) FROM categories;\") # LIMIT 1"
   ]
  },
  {
   "cell_type": "code",
   "execution_count": 18,
   "metadata": {},
   "outputs": [
    {
     "data": {
      "text/html": [
       "<div>\n",
       "<table border=\"1\" class=\"dataframe\">\n",
       "  <thead>\n",
       "    <tr style=\"text-align: right;\">\n",
       "      <th></th>\n",
       "      <th>count</th>\n",
       "    </tr>\n",
       "  </thead>\n",
       "  <tbody>\n",
       "    <tr>\n",
       "      <th>0</th>\n",
       "      <td>321</td>\n",
       "    </tr>\n",
       "  </tbody>\n",
       "</table>\n",
       "</div>"
      ],
      "text/plain": [
       "   count\n",
       "0    321"
      ]
     },
     "execution_count": 18,
     "metadata": {},
     "output_type": "execute_result"
    }
   ],
   "source": [
    "db.query_to_dataframe(\"SELECT COUNT(*) FROM subcategories;\") #  LIMIT 1"
   ]
  },
  {
   "cell_type": "code",
   "execution_count": 19,
   "metadata": {},
   "outputs": [
    {
     "data": {
      "text/html": [
       "<div>\n",
       "<table border=\"1\" class=\"dataframe\">\n",
       "  <thead>\n",
       "    <tr style=\"text-align: right;\">\n",
       "      <th></th>\n",
       "      <th>count</th>\n",
       "    </tr>\n",
       "  </thead>\n",
       "  <tbody>\n",
       "    <tr>\n",
       "      <th>0</th>\n",
       "      <td>11100</td>\n",
       "    </tr>\n",
       "  </tbody>\n",
       "</table>\n",
       "</div>"
      ],
      "text/plain": [
       "   count\n",
       "0  11100"
      ]
     },
     "execution_count": 19,
     "metadata": {},
     "output_type": "execute_result"
    }
   ],
   "source": [
    "db.query_to_dataframe(\"SELECT COUNT(*) FROM page_category;\") # LIMIT 1"
   ]
  },
  {
   "cell_type": "code",
   "execution_count": 20,
   "metadata": {},
   "outputs": [
    {
     "data": {
      "text/plain": [
       "(11121, 5)"
      ]
     },
     "execution_count": 20,
     "metadata": {},
     "output_type": "execute_result"
    }
   ],
   "source": [
    "query_all = \"\"\"SELECT crap.category, crap.subcategory, crap.pageid, p.title, p.article\n",
    "            FROM (SELECT stuff.category, stuff.subcategory, pc.pageid \n",
    "                    FROM ( SELECT category, subcategory, subcategory_id \n",
    "                            FROM subcategories sc \n",
    "                            JOIN categories c \n",
    "                            ON sc.category_id = c.category_id ) as stuff \n",
    "                    JOIN page_category pc ON stuff.subcategory_id = pc.subcategory_id) as crap \n",
    "            INNER JOIN pages p \n",
    "            ON crap.pageid = p.pageid;\"\"\"\n",
    "\n",
    "query_all = re.sub('\\s+', ' ', query_all)\n",
    "all_df = db.query_to_dataframe( query_all)\n",
    "all_df.shape"
   ]
  },
  {
   "cell_type": "code",
   "execution_count": null,
   "metadata": {
    "collapsed": true
   },
   "outputs": [],
   "source": [
    "inner_query = \"\"\"SELECT scc.category, scc.subcategory, scc.subcategory_id, pc.pageid  \n",
    "    FROM page_category pc\n",
    "    LEFT JOIN ( SELECT category, sc.subcategory, sc.subcategory_id \n",
    "                FROM subcategories sc\n",
    "                LEFT JOIN categories c\n",
    "                ON sc.category_id = c.category_id\n",
    "                WHERE category = 'machine learning') scc\n",
    "    ON pc.subcategory_id = scc.subcategory_id\"\"\"\n",
    "\n",
    "query = \"\"\"SELECT i.category, i.subcategory, COUNT( i.pageid) \n",
    "    FROM ({}) as i\n",
    "    INNER JOIN pages p\n",
    "    ON i.pageid = p.pageid\n",
    "    GROUP BY i.category, i.subcategory\"\"\".format(inner_query)  #COUNT(*)\n",
    "\n",
    "query = re.sub('\\s+', ' ', query)\n",
    "\n",
    "ml_df = db.query_to_dataframe( query)\n",
    "ml_df.head(50)  ## Currently database includes articles at level 0 (machine learning),  pages from subcategories"
   ]
  }
 ],
 "metadata": {
  "kernelspec": {
   "display_name": "Python 3",
   "language": "python",
   "name": "python3"
  },
  "language_info": {
   "codemirror_mode": {
    "name": "ipython",
    "version": 3
   },
   "file_extension": ".py",
   "mimetype": "text/x-python",
   "name": "python",
   "nbconvert_exporter": "python",
   "pygments_lexer": "ipython3",
   "version": "3.6.2"
  }
 },
 "nbformat": 4,
 "nbformat_minor": 2
}
