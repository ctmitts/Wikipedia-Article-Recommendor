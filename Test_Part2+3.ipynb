{
 "cells": [
  {
   "cell_type": "code",
   "execution_count": 8,
   "metadata": {
    "collapsed": true
   },
   "outputs": [],
   "source": [
    "import request_category as rc\n",
    "import database as db\n",
    "from download import download\n",
    "\n",
    "import pickle\n",
    "from pathlib import Path\n",
    "import re\n",
    "\n",
    "import pandas as pd\n",
    "import numpy as np\n",
    "from datetime import datetime\n",
    "import matplotlib.pyplot as plt\n",
    "\n",
    "from sklearn.feature_extraction.text import CountVectorizer, TfidfVectorizer\n",
    "from sklearn.decomposition import TruncatedSVD, NMF\n",
    "\n",
    "from sklearn.pipeline import Pipeline\n",
    "from sklearn.model_selection import GridSearchCV, StratifiedShuffleSplit\n",
    "from sklearn.linear_model import LogisticRegression\n",
    "from sklearn.metrics.pairwise import cosine_similarity\n",
    "\n",
    "import search\n",
    "import classify\n",
    "\n"
   ]
  },
  {
   "cell_type": "code",
   "execution_count": 9,
   "metadata": {},
   "outputs": [
    {
     "data": {
      "text/html": [
       "<div>\n",
       "<table border=\"1\" class=\"dataframe\">\n",
       "  <thead>\n",
       "    <tr style=\"text-align: right;\">\n",
       "      <th></th>\n",
       "      <th>category</th>\n",
       "      <th>subcategory</th>\n",
       "      <th>cosine</th>\n",
       "    </tr>\n",
       "    <tr>\n",
       "      <th>title</th>\n",
       "      <th></th>\n",
       "      <th></th>\n",
       "      <th></th>\n",
       "    </tr>\n",
       "  </thead>\n",
       "  <tbody>\n",
       "    <tr>\n",
       "      <th>machine learning</th>\n",
       "      <td>machine learning</td>\n",
       "      <td>machine learning</td>\n",
       "      <td>0.999803</td>\n",
       "    </tr>\n",
       "    <tr>\n",
       "      <th>outline of machine learning</th>\n",
       "      <td>machine learning</td>\n",
       "      <td>machine learning</td>\n",
       "      <td>0.811672</td>\n",
       "    </tr>\n",
       "    <tr>\n",
       "      <th>meta learning computer science</th>\n",
       "      <td>machine learning</td>\n",
       "      <td>machine learning</td>\n",
       "      <td>0.688403</td>\n",
       "    </tr>\n",
       "    <tr>\n",
       "      <th>adversarial machine learning</th>\n",
       "      <td>machine learning</td>\n",
       "      <td>machine learning</td>\n",
       "      <td>0.682472</td>\n",
       "    </tr>\n",
       "    <tr>\n",
       "      <th>learning classifier system</th>\n",
       "      <td>machine learning</td>\n",
       "      <td>Evolutionary algorithms</td>\n",
       "      <td>0.626307</td>\n",
       "    </tr>\n",
       "  </tbody>\n",
       "</table>\n",
       "</div>"
      ],
      "text/plain": [
       "                                        category              subcategory  \\\n",
       "title                                                                       \n",
       "machine learning                machine learning         machine learning   \n",
       "outline of machine learning     machine learning         machine learning   \n",
       "meta learning computer science  machine learning         machine learning   \n",
       "adversarial machine learning    machine learning         machine learning   \n",
       "learning classifier system      machine learning  Evolutionary algorithms   \n",
       "\n",
       "                                  cosine  \n",
       "title                                     \n",
       "machine learning                0.999803  \n",
       "outline of machine learning     0.811672  \n",
       "meta learning computer science  0.688403  \n",
       "adversarial machine learning    0.682472  \n",
       "learning classifier system      0.626307  "
      ]
     },
     "execution_count": 9,
     "metadata": {},
     "output_type": "execute_result"
    }
   ],
   "source": [
    "search.search( 'Machine learning', pckle = True)"
   ]
  },
  {
   "cell_type": "code",
   "execution_count": 3,
   "metadata": {},
   "outputs": [
    {
     "data": {
      "text/html": [
       "<div>\n",
       "<table border=\"1\" class=\"dataframe\">\n",
       "  <thead>\n",
       "    <tr style=\"text-align: right;\">\n",
       "      <th></th>\n",
       "      <th>category</th>\n",
       "      <th>subcategory</th>\n",
       "      <th>cosine</th>\n",
       "    </tr>\n",
       "    <tr>\n",
       "      <th>title</th>\n",
       "      <th></th>\n",
       "      <th></th>\n",
       "      <th></th>\n",
       "    </tr>\n",
       "  </thead>\n",
       "  <tbody>\n",
       "    <tr>\n",
       "      <th>nervous system network models</th>\n",
       "      <td>machine learning</td>\n",
       "      <td>Artificial neural networks</td>\n",
       "      <td>0.758497</td>\n",
       "    </tr>\n",
       "    <tr>\n",
       "      <th>artificial intelligence system</th>\n",
       "      <td>machine learning</td>\n",
       "      <td>Artificial neural networks</td>\n",
       "      <td>0.642681</td>\n",
       "    </tr>\n",
       "    <tr>\n",
       "      <th>hebbian theory</th>\n",
       "      <td>machine learning</td>\n",
       "      <td>Unsupervised learning</td>\n",
       "      <td>0.570620</td>\n",
       "    </tr>\n",
       "    <tr>\n",
       "      <th>dehaenechangeux model</th>\n",
       "      <td>machine learning</td>\n",
       "      <td>Machine learning algorithms</td>\n",
       "      <td>0.567702</td>\n",
       "    </tr>\n",
       "    <tr>\n",
       "      <th>dehaenechangeux model</th>\n",
       "      <td>machine learning</td>\n",
       "      <td>Machine learning algorithms</td>\n",
       "      <td>0.567702</td>\n",
       "    </tr>\n",
       "  </tbody>\n",
       "</table>\n",
       "</div>"
      ],
      "text/plain": [
       "                                        category                  subcategory  \\\n",
       "title                                                                           \n",
       "nervous system network models   machine learning   Artificial neural networks   \n",
       "artificial intelligence system  machine learning   Artificial neural networks   \n",
       "hebbian theory                  machine learning        Unsupervised learning   \n",
       "dehaenechangeux model           machine learning  Machine learning algorithms   \n",
       "dehaenechangeux model           machine learning  Machine learning algorithms   \n",
       "\n",
       "                                  cosine  \n",
       "title                                     \n",
       "nervous system network models   0.758497  \n",
       "artificial intelligence system  0.642681  \n",
       "hebbian theory                  0.570620  \n",
       "dehaenechangeux model           0.567702  \n",
       "dehaenechangeux model           0.567702  "
      ]
     },
     "execution_count": 3,
     "metadata": {},
     "output_type": "execute_result"
    }
   ],
   "source": [
    "search.search('Brain', pckle = True)"
   ]
  },
  {
   "cell_type": "code",
   "execution_count": 10,
   "metadata": {},
   "outputs": [
    {
     "data": {
      "text/html": [
       "<div>\n",
       "<table border=\"1\" class=\"dataframe\">\n",
       "  <thead>\n",
       "    <tr style=\"text-align: right;\">\n",
       "      <th></th>\n",
       "      <th>category</th>\n",
       "      <th>subcategory</th>\n",
       "      <th>cosine</th>\n",
       "    </tr>\n",
       "    <tr>\n",
       "      <th>title</th>\n",
       "      <th></th>\n",
       "      <th></th>\n",
       "      <th></th>\n",
       "    </tr>\n",
       "  </thead>\n",
       "  <tbody>\n",
       "    <tr>\n",
       "      <th>autoassociative memory</th>\n",
       "      <td>machine learning</td>\n",
       "      <td>Artificial neural networks</td>\n",
       "      <td>0.590449</td>\n",
       "    </tr>\n",
       "    <tr>\n",
       "      <th>bidirectional associative memory</th>\n",
       "      <td>machine learning</td>\n",
       "      <td>Artificial neural networks</td>\n",
       "      <td>0.556532</td>\n",
       "    </tr>\n",
       "    <tr>\n",
       "      <th>datadetective</th>\n",
       "      <td>machine learning</td>\n",
       "      <td>Data mining and machine learning software</td>\n",
       "      <td>0.417539</td>\n",
       "    </tr>\n",
       "    <tr>\n",
       "      <th>cerebellar model articulation controller</th>\n",
       "      <td>machine learning</td>\n",
       "      <td>Artificial neural networks</td>\n",
       "      <td>0.379910</td>\n",
       "    </tr>\n",
       "    <tr>\n",
       "      <th>management information system</th>\n",
       "      <td>business software</td>\n",
       "      <td>School-administration software</td>\n",
       "      <td>0.357672</td>\n",
       "    </tr>\n",
       "  </tbody>\n",
       "</table>\n",
       "</div>"
      ],
      "text/plain": [
       "                                                   category  \\\n",
       "title                                                         \n",
       "autoassociative memory                     machine learning   \n",
       "bidirectional associative memory           machine learning   \n",
       "datadetective                              machine learning   \n",
       "cerebellar model articulation controller   machine learning   \n",
       "management information system             business software   \n",
       "\n",
       "                                                                        subcategory  \\\n",
       "title                                                                                 \n",
       "autoassociative memory                                   Artificial neural networks   \n",
       "bidirectional associative memory                         Artificial neural networks   \n",
       "datadetective                             Data mining and machine learning software   \n",
       "cerebellar model articulation controller                 Artificial neural networks   \n",
       "management information system                        School-administration software   \n",
       "\n",
       "                                            cosine  \n",
       "title                                               \n",
       "autoassociative memory                    0.590449  \n",
       "bidirectional associative memory          0.556532  \n",
       "datadetective                             0.417539  \n",
       "cerebellar model articulation controller  0.379910  \n",
       "management information system             0.357672  "
      ]
     },
     "execution_count": 10,
     "metadata": {},
     "output_type": "execute_result"
    }
   ],
   "source": [
    "search.search('Saffron Technology', pckle = True)"
   ]
  },
  {
   "cell_type": "code",
   "execution_count": 5,
   "metadata": {},
   "outputs": [
    {
     "data": {
      "text/plain": [
       "('Artificial neural networks',                                    P\n",
       " Artificial neural networks  0.819695\n",
       " machine learning            0.036966\n",
       " Unsupervised learning       0.026214\n",
       " business software           0.024088\n",
       " Evolutionary algorithms     0.014468)"
      ]
     },
     "execution_count": 5,
     "metadata": {},
     "output_type": "execute_result"
    }
   ],
   "source": [
    "classify.predict( 'Brain', n = 5)"
   ]
  },
  {
   "cell_type": "code",
   "execution_count": 6,
   "metadata": {},
   "outputs": [
    {
     "data": {
      "text/plain": [
       "('Collaborative software',                                     P\n",
       " Collaborative software       0.487041\n",
       " Project management software  0.450418\n",
       " business software            0.024411\n",
       " Business software companies  0.008673\n",
       " Healthcare software          0.004425)"
      ]
     },
     "execution_count": 6,
     "metadata": {},
     "output_type": "execute_result"
    }
   ],
   "source": [
    "classify.predict( 'Slack (software)', n = 5 ) "
   ]
  },
  {
   "cell_type": "code",
   "execution_count": 7,
   "metadata": {},
   "outputs": [
    {
     "data": {
      "text/plain": [
       "('Collaborative software',                                     P\n",
       " Collaborative software       0.487041\n",
       " Project management software  0.450418\n",
       " business software            0.024411\n",
       " Business software companies  0.008673\n",
       " Healthcare software          0.004425)"
      ]
     },
     "execution_count": 7,
     "metadata": {},
     "output_type": "execute_result"
    }
   ],
   "source": [
    "url = 'https://en.wikipedia.org/wiki/Slack_(software)'\n",
    "\n",
    "classify.predict( url, n = 5)\n"
   ]
  },
  {
   "cell_type": "code",
   "execution_count": null,
   "metadata": {
    "collapsed": true
   },
   "outputs": [],
   "source": []
  }
 ],
 "metadata": {
  "kernelspec": {
   "display_name": "Python 3",
   "language": "python",
   "name": "python3"
  },
  "language_info": {
   "codemirror_mode": {
    "name": "ipython",
    "version": 3
   },
   "file_extension": ".py",
   "mimetype": "text/x-python",
   "name": "python",
   "nbconvert_exporter": "python",
   "pygments_lexer": "ipython3",
   "version": "3.6.2"
  }
 },
 "nbformat": 4,
 "nbformat_minor": 2
}
