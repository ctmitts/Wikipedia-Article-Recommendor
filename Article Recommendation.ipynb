{
 "cells": [
  {
   "cell_type": "code",
   "execution_count": 1,
   "metadata": {
    "collapsed": true
   },
   "outputs": [],
   "source": [
    "import pandas as pd\n",
    "import numpy as np\n",
    "\n",
    "from datetime import datetime\n",
    "import matplotlib.pyplot as plt\n",
    "\n",
    "from sklearn.base import BaseEstimator, ClassifierMixin\n",
    "from sklearn.metrics.pairwise import cosine_similarity\n",
    "from sklearn.feature_extraction.text import TfidfVectorizer\n",
    "from sklearn.decomposition import TruncatedSVD, NMF\n",
    "\n",
    "from sklearn.pipeline import Pipeline\n",
    "from sklearn.model_selection import GridSearchCV\n",
    "\n",
    "import database as db\n",
    "import request_category as rc\n",
    "\n",
    "import recommend as rec"
   ]
  },
  {
   "cell_type": "code",
   "execution_count": 2,
   "metadata": {},
   "outputs": [
    {
     "data": {
      "text/plain": [
       "(3791, 4)"
      ]
     },
     "execution_count": 2,
     "metadata": {},
     "output_type": "execute_result"
    }
   ],
   "source": [
    "nonempty_pages_df = db.get_data('machine learning', 'business software', unique = True) \n",
    "nonempty_pages_df.shape"
   ]
  },
  {
   "cell_type": "code",
   "execution_count": 3,
   "metadata": {
    "collapsed": true
   },
   "outputs": [],
   "source": [
    "rec1 = rec.Recommend(n_components = 700)"
   ]
  },
  {
   "cell_type": "code",
   "execution_count": 4,
   "metadata": {},
   "outputs": [
    {
     "name": "stdout",
     "output_type": "stream",
     "text": [
      "0.35\n"
     ]
    }
   ],
   "source": [
    "start = datetime.now()\n",
    "rec1.fit(nonempty_pages_df)\n",
    "timeduration = round((datetime.now()-start).seconds/60,2) ## minutes\n",
    "print( timeduration)"
   ]
  },
  {
   "cell_type": "code",
   "execution_count": 5,
   "metadata": {},
   "outputs": [
    {
     "data": {
      "text/html": [
       "<div>\n",
       "<table border=\"1\" class=\"dataframe\">\n",
       "  <thead>\n",
       "    <tr style=\"text-align: right;\">\n",
       "      <th></th>\n",
       "      <th>category</th>\n",
       "      <th>subcategory</th>\n",
       "      <th>cosine</th>\n",
       "    </tr>\n",
       "    <tr>\n",
       "      <th>title</th>\n",
       "      <th></th>\n",
       "      <th></th>\n",
       "      <th></th>\n",
       "    </tr>\n",
       "  </thead>\n",
       "  <tbody>\n",
       "    <tr>\n",
       "      <th>autoassociative memory</th>\n",
       "      <td>machine learning</td>\n",
       "      <td>Artificial neural networks</td>\n",
       "      <td>0.508513</td>\n",
       "    </tr>\n",
       "    <tr>\n",
       "      <th>sisense</th>\n",
       "      <td>business software</td>\n",
       "      <td>business software</td>\n",
       "      <td>0.433740</td>\n",
       "    </tr>\n",
       "    <tr>\n",
       "      <th>datawatch corporation</th>\n",
       "      <td>business software</td>\n",
       "      <td>business software</td>\n",
       "      <td>0.401779</td>\n",
       "    </tr>\n",
       "    <tr>\n",
       "      <th>semantic research</th>\n",
       "      <td>business software</td>\n",
       "      <td>Business software companies</td>\n",
       "      <td>0.401679</td>\n",
       "    </tr>\n",
       "    <tr>\n",
       "      <th>genetic memory computer science</th>\n",
       "      <td>machine learning</td>\n",
       "      <td>Genetic algorithms</td>\n",
       "      <td>0.379758</td>\n",
       "    </tr>\n",
       "  </tbody>\n",
       "</table>\n",
       "</div>"
      ],
      "text/plain": [
       "                                          category  \\\n",
       "title                                                \n",
       "autoassociative memory            machine learning   \n",
       "sisense                          business software   \n",
       "datawatch corporation            business software   \n",
       "semantic research                business software   \n",
       "genetic memory computer science   machine learning   \n",
       "\n",
       "                                                 subcategory    cosine  \n",
       "title                                                                   \n",
       "autoassociative memory            Artificial neural networks  0.508513  \n",
       "sisense                                    business software  0.433740  \n",
       "datawatch corporation                      business software  0.401779  \n",
       "semantic research                Business software companies  0.401679  \n",
       "genetic memory computer science           Genetic algorithms  0.379758  "
      ]
     },
     "execution_count": 5,
     "metadata": {},
     "output_type": "execute_result"
    }
   ],
   "source": [
    "article = 'Saffron Technology'\n",
    "rec1.transform( nonempty_pages_df, article)"
   ]
  },
  {
   "cell_type": "code",
   "execution_count": 6,
   "metadata": {},
   "outputs": [
    {
     "data": {
      "text/html": [
       "<div>\n",
       "<table border=\"1\" class=\"dataframe\">\n",
       "  <thead>\n",
       "    <tr style=\"text-align: right;\">\n",
       "      <th></th>\n",
       "      <th>category</th>\n",
       "      <th>subcategory</th>\n",
       "      <th>cosine</th>\n",
       "    </tr>\n",
       "    <tr>\n",
       "      <th>title</th>\n",
       "      <th></th>\n",
       "      <th></th>\n",
       "      <th></th>\n",
       "    </tr>\n",
       "  </thead>\n",
       "  <tbody>\n",
       "    <tr>\n",
       "      <th>machine learning</th>\n",
       "      <td>machine learning</td>\n",
       "      <td>machine learning</td>\n",
       "      <td>0.999941</td>\n",
       "    </tr>\n",
       "    <tr>\n",
       "      <th>quantum machine learning</th>\n",
       "      <td>machine learning</td>\n",
       "      <td>machine learning</td>\n",
       "      <td>0.871254</td>\n",
       "    </tr>\n",
       "    <tr>\n",
       "      <th>outline of machine learning</th>\n",
       "      <td>machine learning</td>\n",
       "      <td>machine learning</td>\n",
       "      <td>0.865452</td>\n",
       "    </tr>\n",
       "    <tr>\n",
       "      <th>adversarial machine learning</th>\n",
       "      <td>machine learning</td>\n",
       "      <td>machine learning</td>\n",
       "      <td>0.808537</td>\n",
       "    </tr>\n",
       "    <tr>\n",
       "      <th>meta learning computer science</th>\n",
       "      <td>machine learning</td>\n",
       "      <td>machine learning</td>\n",
       "      <td>0.765091</td>\n",
       "    </tr>\n",
       "  </tbody>\n",
       "</table>\n",
       "</div>"
      ],
      "text/plain": [
       "                                        category       subcategory    cosine\n",
       "title                                                                       \n",
       "machine learning                machine learning  machine learning  0.999941\n",
       "quantum machine learning        machine learning  machine learning  0.871254\n",
       "outline of machine learning     machine learning  machine learning  0.865452\n",
       "adversarial machine learning    machine learning  machine learning  0.808537\n",
       "meta learning computer science  machine learning  machine learning  0.765091"
      ]
     },
     "execution_count": 6,
     "metadata": {},
     "output_type": "execute_result"
    }
   ],
   "source": [
    "article = 'Machine learning'\n",
    "rec1.transform( nonempty_pages_df, article)"
   ]
  },
  {
   "cell_type": "code",
   "execution_count": 7,
   "metadata": {},
   "outputs": [
    {
     "data": {
      "text/html": [
       "<div>\n",
       "<table border=\"1\" class=\"dataframe\">\n",
       "  <thead>\n",
       "    <tr style=\"text-align: right;\">\n",
       "      <th></th>\n",
       "      <th>category</th>\n",
       "      <th>subcategory</th>\n",
       "      <th>cosine</th>\n",
       "    </tr>\n",
       "    <tr>\n",
       "      <th>title</th>\n",
       "      <th></th>\n",
       "      <th></th>\n",
       "      <th></th>\n",
       "    </tr>\n",
       "  </thead>\n",
       "  <tbody>\n",
       "    <tr>\n",
       "      <th>neural backpropagation</th>\n",
       "      <td>machine learning</td>\n",
       "      <td>Artificial neural networks</td>\n",
       "      <td>0.520270</td>\n",
       "    </tr>\n",
       "    <tr>\n",
       "      <th>nervous system network models</th>\n",
       "      <td>machine learning</td>\n",
       "      <td>Artificial neural networks</td>\n",
       "      <td>0.415289</td>\n",
       "    </tr>\n",
       "    <tr>\n",
       "      <th>gene expression programming</th>\n",
       "      <td>machine learning</td>\n",
       "      <td>Gene expression programming</td>\n",
       "      <td>0.331516</td>\n",
       "    </tr>\n",
       "    <tr>\n",
       "      <th>artificial neuron</th>\n",
       "      <td>machine learning</td>\n",
       "      <td>Artificial neural networks</td>\n",
       "      <td>0.317691</td>\n",
       "    </tr>\n",
       "    <tr>\n",
       "      <th>julia programming language</th>\n",
       "      <td>machine learning</td>\n",
       "      <td>Data mining and machine learning software</td>\n",
       "      <td>0.304381</td>\n",
       "    </tr>\n",
       "  </tbody>\n",
       "</table>\n",
       "</div>"
      ],
      "text/plain": [
       "                                       category  \\\n",
       "title                                             \n",
       "neural backpropagation         machine learning   \n",
       "nervous system network models  machine learning   \n",
       "gene expression programming    machine learning   \n",
       "artificial neuron              machine learning   \n",
       "julia programming language     machine learning   \n",
       "\n",
       "                                                             subcategory  \\\n",
       "title                                                                      \n",
       "neural backpropagation                        Artificial neural networks   \n",
       "nervous system network models                 Artificial neural networks   \n",
       "gene expression programming                  Gene expression programming   \n",
       "artificial neuron                             Artificial neural networks   \n",
       "julia programming language     Data mining and machine learning software   \n",
       "\n",
       "                                 cosine  \n",
       "title                                    \n",
       "neural backpropagation         0.520270  \n",
       "nervous system network models  0.415289  \n",
       "gene expression programming    0.331516  \n",
       "artificial neuron              0.317691  \n",
       "julia programming language     0.304381  "
      ]
     },
     "execution_count": 7,
     "metadata": {},
     "output_type": "execute_result"
    }
   ],
   "source": [
    "article = 'Neuron'\n",
    "rec1.transform( nonempty_pages_df, article)"
   ]
  },
  {
   "cell_type": "code",
   "execution_count": 8,
   "metadata": {},
   "outputs": [
    {
     "data": {
      "text/html": [
       "<div>\n",
       "<table border=\"1\" class=\"dataframe\">\n",
       "  <thead>\n",
       "    <tr style=\"text-align: right;\">\n",
       "      <th></th>\n",
       "      <th>category</th>\n",
       "      <th>subcategory</th>\n",
       "      <th>cosine</th>\n",
       "    </tr>\n",
       "    <tr>\n",
       "      <th>title</th>\n",
       "      <th></th>\n",
       "      <th></th>\n",
       "      <th></th>\n",
       "    </tr>\n",
       "  </thead>\n",
       "  <tbody>\n",
       "    <tr>\n",
       "      <th>microsoft</th>\n",
       "      <td>business software</td>\n",
       "      <td>Business software companies</td>\n",
       "      <td>0.999981</td>\n",
       "    </tr>\n",
       "    <tr>\n",
       "      <th>microsoft dynamics crm</th>\n",
       "      <td>business software</td>\n",
       "      <td>Customer relationship management software</td>\n",
       "      <td>0.790390</td>\n",
       "    </tr>\n",
       "    <tr>\n",
       "      <th>microsoft dynamics erp</th>\n",
       "      <td>business software</td>\n",
       "      <td>business software</td>\n",
       "      <td>0.767478</td>\n",
       "    </tr>\n",
       "    <tr>\n",
       "      <th>microsoft dynamics</th>\n",
       "      <td>business software</td>\n",
       "      <td>business software</td>\n",
       "      <td>0.767239</td>\n",
       "    </tr>\n",
       "    <tr>\n",
       "      <th>microsoft small business financials</th>\n",
       "      <td>business software</td>\n",
       "      <td>Accounting software</td>\n",
       "      <td>0.681211</td>\n",
       "    </tr>\n",
       "  </tbody>\n",
       "</table>\n",
       "</div>"
      ],
      "text/plain": [
       "                                              category  \\\n",
       "title                                                    \n",
       "microsoft                            business software   \n",
       "microsoft dynamics crm               business software   \n",
       "microsoft dynamics erp               business software   \n",
       "microsoft dynamics                   business software   \n",
       "microsoft small business financials  business software   \n",
       "\n",
       "                                                                   subcategory  \\\n",
       "title                                                                            \n",
       "microsoft                                          Business software companies   \n",
       "microsoft dynamics crm               Customer relationship management software   \n",
       "microsoft dynamics erp                                       business software   \n",
       "microsoft dynamics                                           business software   \n",
       "microsoft small business financials                        Accounting software   \n",
       "\n",
       "                                       cosine  \n",
       "title                                          \n",
       "microsoft                            0.999981  \n",
       "microsoft dynamics crm               0.790390  \n",
       "microsoft dynamics erp               0.767478  \n",
       "microsoft dynamics                   0.767239  \n",
       "microsoft small business financials  0.681211  "
      ]
     },
     "execution_count": 8,
     "metadata": {},
     "output_type": "execute_result"
    }
   ],
   "source": [
    "article = 'Microsoft'\n",
    "rec1.transform( nonempty_pages_df, article)"
   ]
  },
  {
   "cell_type": "code",
   "execution_count": 9,
   "metadata": {},
   "outputs": [
    {
     "data": {
      "text/html": [
       "<div>\n",
       "<table border=\"1\" class=\"dataframe\">\n",
       "  <thead>\n",
       "    <tr style=\"text-align: right;\">\n",
       "      <th></th>\n",
       "      <th>category</th>\n",
       "      <th>subcategory</th>\n",
       "      <th>cosine</th>\n",
       "    </tr>\n",
       "    <tr>\n",
       "      <th>title</th>\n",
       "      <th></th>\n",
       "      <th></th>\n",
       "      <th></th>\n",
       "    </tr>\n",
       "  </thead>\n",
       "  <tbody>\n",
       "    <tr>\n",
       "      <th>hierarchical temporal memory</th>\n",
       "      <td>machine learning</td>\n",
       "      <td>Deep learning</td>\n",
       "      <td>0.426137</td>\n",
       "    </tr>\n",
       "    <tr>\n",
       "      <th>nervous system network models</th>\n",
       "      <td>machine learning</td>\n",
       "      <td>Artificial neural networks</td>\n",
       "      <td>0.408951</td>\n",
       "    </tr>\n",
       "    <tr>\n",
       "      <th>types of artificial neural networks</th>\n",
       "      <td>machine learning</td>\n",
       "      <td>Classification algorithms</td>\n",
       "      <td>0.367717</td>\n",
       "    </tr>\n",
       "    <tr>\n",
       "      <th>activity recognition</th>\n",
       "      <td>machine learning</td>\n",
       "      <td>Applied machine learning</td>\n",
       "      <td>0.366936</td>\n",
       "    </tr>\n",
       "    <tr>\n",
       "      <th>convolutional neural network</th>\n",
       "      <td>machine learning</td>\n",
       "      <td>Artificial neural networks</td>\n",
       "      <td>0.363592</td>\n",
       "    </tr>\n",
       "  </tbody>\n",
       "</table>\n",
       "</div>"
      ],
      "text/plain": [
       "                                             category  \\\n",
       "title                                                   \n",
       "hierarchical temporal memory         machine learning   \n",
       "nervous system network models        machine learning   \n",
       "types of artificial neural networks  machine learning   \n",
       "activity recognition                 machine learning   \n",
       "convolutional neural network         machine learning   \n",
       "\n",
       "                                                    subcategory    cosine  \n",
       "title                                                                      \n",
       "hierarchical temporal memory                      Deep learning  0.426137  \n",
       "nervous system network models        Artificial neural networks  0.408951  \n",
       "types of artificial neural networks   Classification algorithms  0.367717  \n",
       "activity recognition                   Applied machine learning  0.366936  \n",
       "convolutional neural network         Artificial neural networks  0.363592  "
      ]
     },
     "execution_count": 9,
     "metadata": {},
     "output_type": "execute_result"
    }
   ],
   "source": [
    "article = 'brain'\n",
    "rec1.transform( nonempty_pages_df, article)"
   ]
  },
  {
   "cell_type": "code",
   "execution_count": null,
   "metadata": {
    "collapsed": true
   },
   "outputs": [],
   "source": []
  },
  {
   "cell_type": "code",
   "execution_count": null,
   "metadata": {
    "collapsed": true
   },
   "outputs": [],
   "source": []
  },
  {
   "cell_type": "code",
   "execution_count": null,
   "metadata": {
    "collapsed": true
   },
   "outputs": [],
   "source": []
  }
 ],
 "metadata": {
  "kernelspec": {
   "display_name": "Python 3",
   "language": "python",
   "name": "python3"
  },
  "language_info": {
   "codemirror_mode": {
    "name": "ipython",
    "version": 3
   },
   "file_extension": ".py",
   "mimetype": "text/x-python",
   "name": "python",
   "nbconvert_exporter": "python",
   "pygments_lexer": "ipython3",
   "version": "3.6.2"
  }
 },
 "nbformat": 4,
 "nbformat_minor": 2
}
