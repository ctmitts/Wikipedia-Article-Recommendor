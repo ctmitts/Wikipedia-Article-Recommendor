{
 "cells": [
  {
   "cell_type": "code",
   "execution_count": 2,
   "metadata": {},
   "outputs": [
    {
     "name": "stdout",
     "output_type": "stream",
     "text": [
      "Collecting psycopg2\n",
      "  Downloading psycopg2-2.7.3.1-cp36-cp36m-manylinux1_x86_64.whl (2.6MB)\n",
      "\u001b[K    100% |████████████████████████████████| 2.6MB 259kB/s eta 0:00:01\n",
      "\u001b[?25hInstalling collected packages: psycopg2\n",
      "Successfully installed psycopg2-2.7.3.1\n"
     ]
    }
   ],
   "source": [
    "!pip install psycopg2"
   ]
  },
  {
   "cell_type": "code",
   "execution_count": 4,
   "metadata": {},
   "outputs": [
    {
     "name": "stdout",
     "output_type": "stream",
     "text": [
      "Collecting wikipedia\n",
      "Requirement already satisfied: requests<3.0.0,>=2.0.0 in /opt/conda/lib/python3.6/site-packages (from wikipedia)\n",
      "Requirement already satisfied: beautifulsoup4 in /opt/conda/lib/python3.6/site-packages (from wikipedia)\n",
      "Requirement already satisfied: chardet<3.1.0,>=3.0.2 in /opt/conda/lib/python3.6/site-packages (from requests<3.0.0,>=2.0.0->wikipedia)\n",
      "Requirement already satisfied: idna<2.6,>=2.5 in /opt/conda/lib/python3.6/site-packages (from requests<3.0.0,>=2.0.0->wikipedia)\n",
      "Requirement already satisfied: urllib3<1.23,>=1.21.1 in /opt/conda/lib/python3.6/site-packages (from requests<3.0.0,>=2.0.0->wikipedia)\n",
      "Requirement already satisfied: certifi>=2017.4.17 in /opt/conda/lib/python3.6/site-packages (from requests<3.0.0,>=2.0.0->wikipedia)\n",
      "Installing collected packages: wikipedia\n",
      "Successfully installed wikipedia-1.4.0\n"
     ]
    }
   ],
   "source": [
    "!pip install wikipedia"
   ]
  },
  {
   "cell_type": "code",
   "execution_count": 6,
   "metadata": {},
   "outputs": [
    {
     "name": "stdout",
     "output_type": "stream",
     "text": [
      "Collecting spacy\n",
      "Collecting murmurhash<0.27,>=0.26 (from spacy)\n",
      "Requirement already satisfied: numpy>=1.7 in /opt/conda/lib/python3.6/site-packages (from spacy)\n",
      "Requirement already satisfied: dill<0.3,>=0.2 in /opt/conda/lib/python3.6/site-packages (from spacy)\n",
      "Collecting pathlib (from spacy)\n",
      "Collecting ujson>=1.35 (from spacy)\n",
      "Collecting regex<2017.12.1,>=2017.4.1 (from spacy)\n",
      "Requirement already satisfied: requests<3.0.0,>=2.13.0 in /opt/conda/lib/python3.6/site-packages (from spacy)\n",
      "Collecting preshed<2.0.0,>=1.0.0 (from spacy)\n",
      "Requirement already satisfied: six in /opt/conda/lib/python3.6/site-packages (from spacy)\n",
      "Collecting ftfy<5.0.0,>=4.4.2 (from spacy)\n",
      "Collecting plac<1.0.0,>=0.9.6 (from spacy)\n",
      "  Using cached plac-0.9.6-py2.py3-none-any.whl\n",
      "Requirement already satisfied: pip<10.0.0,>=9.0.0 in /opt/conda/lib/python3.6/site-packages (from spacy)\n",
      "Collecting cymem<1.32,>=1.30 (from spacy)\n",
      "Collecting thinc<6.6.0,>=6.5.0 (from spacy)\n",
      "Requirement already satisfied: chardet<3.1.0,>=3.0.2 in /opt/conda/lib/python3.6/site-packages (from requests<3.0.0,>=2.13.0->spacy)\n",
      "Requirement already satisfied: idna<2.6,>=2.5 in /opt/conda/lib/python3.6/site-packages (from requests<3.0.0,>=2.13.0->spacy)\n",
      "Requirement already satisfied: urllib3<1.23,>=1.21.1 in /opt/conda/lib/python3.6/site-packages (from requests<3.0.0,>=2.13.0->spacy)\n",
      "Requirement already satisfied: certifi>=2017.4.17 in /opt/conda/lib/python3.6/site-packages (from requests<3.0.0,>=2.13.0->spacy)\n",
      "Requirement already satisfied: wcwidth in /opt/conda/lib/python3.6/site-packages (from ftfy<5.0.0,>=4.4.2->spacy)\n",
      "Requirement already satisfied: html5lib in /opt/conda/lib/python3.6/site-packages (from ftfy<5.0.0,>=4.4.2->spacy)\n",
      "Collecting wrapt (from thinc<6.6.0,>=6.5.0->spacy)\n",
      "Collecting cytoolz<0.9,>=0.8 (from thinc<6.6.0,>=6.5.0->spacy)\n",
      "Collecting tqdm<5.0.0,>=4.10.0 (from thinc<6.6.0,>=6.5.0->spacy)\n",
      "  Using cached tqdm-4.15.0-py2.py3-none-any.whl\n",
      "Collecting termcolor (from thinc<6.6.0,>=6.5.0->spacy)\n",
      "Requirement already satisfied: toolz>=0.8.0 in /opt/conda/lib/python3.6/site-packages (from cytoolz<0.9,>=0.8->thinc<6.6.0,>=6.5.0->spacy)\n",
      "Installing collected packages: murmurhash, pathlib, ujson, regex, cymem, preshed, ftfy, plac, wrapt, cytoolz, tqdm, termcolor, thinc, spacy\n",
      "Successfully installed cymem-1.31.2 cytoolz-0.8.2 ftfy-4.4.3 murmurhash-0.26.4 pathlib-1.0.1 plac-0.9.6 preshed-1.0.0 regex-2017.7.28 spacy-1.9.0 termcolor-1.1.0 thinc-6.5.2 tqdm-4.15.0 ujson-1.35 wrapt-1.10.11\n"
     ]
    }
   ],
   "source": [
    "!pip install spacy"
   ]
  },
  {
   "cell_type": "code",
   "execution_count": 7,
   "metadata": {},
   "outputs": [],
   "source": [
    "import request_category as rc\n",
    "import database as db\n",
    "from download import download\n",
    "import search\n",
    "import classify\n",
    "\n",
    "#import pickle\n",
    "from pathlib import Path\n",
    "import re\n",
    "\n",
    "import pandas as pd\n",
    "import numpy as np\n",
    "from datetime import datetime\n",
    "import matplotlib.pyplot as plt\n",
    "%matplotlib inline"
   ]
  },
  {
   "cell_type": "code",
   "execution_count": 8,
   "metadata": {
    "collapsed": true
   },
   "outputs": [],
   "source": [
    "from sklearn.model_selection import train_test_split\n",
    "\n",
    "from sklearn.preprocessing import LabelBinarizer, LabelEncoder\n",
    "\n",
    "from sklearn.feature_extraction.text import CountVectorizer, TfidfVectorizer\n",
    "\n",
    "from sklearn.decomposition import TruncatedSVD\n",
    "from sklearn.pipeline import Pipeline\n",
    "from sklearn.model_selection import GridSearchCV, StratifiedShuffleSplit\n",
    "from sklearn.linear_model import LogisticRegression\n",
    "import sklearn.externals.joblib"
   ]
  },
  {
   "cell_type": "code",
   "execution_count": null,
   "metadata": {
    "collapsed": true
   },
   "outputs": [],
   "source": [
    "download( ['machine learning','business software'], depth = s) #pckle = False"
   ]
  },
  {
   "cell_type": "code",
   "execution_count": 9,
   "metadata": {},
   "outputs": [
    {
     "data": {
      "text/html": [
       "<div>\n",
       "<table border=\"1\" class=\"dataframe\">\n",
       "  <thead>\n",
       "    <tr style=\"text-align: right;\">\n",
       "      <th></th>\n",
       "      <th>count</th>\n",
       "    </tr>\n",
       "  </thead>\n",
       "  <tbody>\n",
       "    <tr>\n",
       "      <th>0</th>\n",
       "      <td>0</td>\n",
       "    </tr>\n",
       "  </tbody>\n",
       "</table>\n",
       "</div>"
      ],
      "text/plain": [
       "   count\n",
       "0      0"
      ]
     },
     "execution_count": 9,
     "metadata": {},
     "output_type": "execute_result"
    }
   ],
   "source": [
    "db.query_to_dataframe(\"SELECT COUNT(*) FROM pages;\")  #  LIMIT 1"
   ]
  },
  {
   "cell_type": "code",
   "execution_count": 10,
   "metadata": {},
   "outputs": [
    {
     "data": {
      "text/html": [
       "<div>\n",
       "<table border=\"1\" class=\"dataframe\">\n",
       "  <thead>\n",
       "    <tr style=\"text-align: right;\">\n",
       "      <th></th>\n",
       "      <th>count</th>\n",
       "    </tr>\n",
       "  </thead>\n",
       "  <tbody>\n",
       "    <tr>\n",
       "      <th>0</th>\n",
       "      <td>0</td>\n",
       "    </tr>\n",
       "  </tbody>\n",
       "</table>\n",
       "</div>"
      ],
      "text/plain": [
       "   count\n",
       "0      0"
      ]
     },
     "execution_count": 10,
     "metadata": {},
     "output_type": "execute_result"
    }
   ],
   "source": [
    "db.query_to_dataframe(\"SELECT COUNT(*) FROM categories;\") # LIMIT 1"
   ]
  },
  {
   "cell_type": "code",
   "execution_count": 11,
   "metadata": {},
   "outputs": [
    {
     "data": {
      "text/html": [
       "<div>\n",
       "<table border=\"1\" class=\"dataframe\">\n",
       "  <thead>\n",
       "    <tr style=\"text-align: right;\">\n",
       "      <th></th>\n",
       "      <th>count</th>\n",
       "    </tr>\n",
       "  </thead>\n",
       "  <tbody>\n",
       "    <tr>\n",
       "      <th>0</th>\n",
       "      <td>0</td>\n",
       "    </tr>\n",
       "  </tbody>\n",
       "</table>\n",
       "</div>"
      ],
      "text/plain": [
       "   count\n",
       "0      0"
      ]
     },
     "execution_count": 11,
     "metadata": {},
     "output_type": "execute_result"
    }
   ],
   "source": [
    "db.query_to_dataframe(\"SELECT COUNT(*) FROM subcategories;\") #  LIMIT 1"
   ]
  },
  {
   "cell_type": "code",
   "execution_count": 12,
   "metadata": {},
   "outputs": [
    {
     "data": {
      "text/html": [
       "<div>\n",
       "<table border=\"1\" class=\"dataframe\">\n",
       "  <thead>\n",
       "    <tr style=\"text-align: right;\">\n",
       "      <th></th>\n",
       "      <th>count</th>\n",
       "    </tr>\n",
       "  </thead>\n",
       "  <tbody>\n",
       "    <tr>\n",
       "      <th>0</th>\n",
       "      <td>0</td>\n",
       "    </tr>\n",
       "  </tbody>\n",
       "</table>\n",
       "</div>"
      ],
      "text/plain": [
       "   count\n",
       "0      0"
      ]
     },
     "execution_count": 12,
     "metadata": {},
     "output_type": "execute_result"
    }
   ],
   "source": [
    "db.query_to_dataframe(\"SELECT COUNT(*) FROM page_category;\") # LIMIT 1"
   ]
  },
  {
   "cell_type": "code",
   "execution_count": null,
   "metadata": {},
   "outputs": [],
   "source": [
    "query_all = \"\"\"SELECT crap.category, crap.subcategory, crap.pageid, p.title, p.article\n",
    "            FROM (SELECT stuff.category, stuff.subcategory, pc.pageid \n",
    "                    FROM ( SELECT category, subcategory, subcategory_id \n",
    "                            FROM subcategories sc \n",
    "                            JOIN categories c \n",
    "                            ON sc.category_id = c.category_id ) as stuff \n",
    "                    JOIN page_category pc ON stuff.subcategory_id = pc.subcategory_id) as crap \n",
    "            INNER JOIN pages p \n",
    "            ON crap.pageid = p.pageid;\"\"\"\n",
    "\n",
    "query_all = re.sub('\\s+', ' ', query_all)\n",
    "all_df = db.query_to_dataframe( query_all)\n",
    "all_df.shape"
   ]
  },
  {
   "cell_type": "code",
   "execution_count": null,
   "metadata": {
    "collapsed": true
   },
   "outputs": [],
   "source": [
    "inner_query = \"\"\"SELECT scc.category, scc.subcategory, scc.subcategory_id, pc.pageid  \n",
    "    FROM page_category pc\n",
    "    LEFT JOIN ( SELECT category, sc.subcategory, sc.subcategory_id \n",
    "                FROM subcategories sc\n",
    "                LEFT JOIN categories c\n",
    "                ON sc.category_id = c.category_id\n",
    "                WHERE category = 'machine learning') scc\n",
    "    ON pc.subcategory_id = scc.subcategory_id\"\"\"\n",
    "\n",
    "query = \"\"\"SELECT i.category, i.subcategory, COUNT( i.pageid) \n",
    "    FROM ({}) as i\n",
    "    INNER JOIN pages p\n",
    "    ON i.pageid = p.pageid\n",
    "    GROUP BY i.category, i.subcategory\"\"\".format(inner_query)  #COUNT(*)\n",
    "\n",
    "query = re.sub('\\s+', ' ', query)\n",
    "\n",
    "ml_df = db.query_to_dataframe( query)\n",
    "ml_df.head(50)  ## Currently database includes articles at level 0 (machine learning),  pages from subcategories"
   ]
  }
 ],
 "metadata": {
  "kernelspec": {
   "display_name": "Python 3",
   "language": "python",
   "name": "python3"
  },
  "language_info": {
   "codemirror_mode": {
    "name": "ipython",
    "version": 3
   },
   "file_extension": ".py",
   "mimetype": "text/x-python",
   "name": "python",
   "nbconvert_exporter": "python",
   "pygments_lexer": "ipython3",
   "version": "3.6.2"
  }
 },
 "nbformat": 4,
 "nbformat_minor": 2
}
