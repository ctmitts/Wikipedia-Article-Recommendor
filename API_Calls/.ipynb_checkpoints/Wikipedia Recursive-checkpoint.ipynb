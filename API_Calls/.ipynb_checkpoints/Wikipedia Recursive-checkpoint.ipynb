{
 "cells": [
  {
   "cell_type": "code",
   "execution_count": null,
   "metadata": {
    "collapsed": true
   },
   "outputs": [],
   "source": [
    "!pip install wikipedia"
   ]
  },
  {
   "cell_type": "code",
   "execution_count": 1,
   "metadata": {
    "collapsed": true
   },
   "outputs": [],
   "source": [
    "import requests\n",
    "import wikipedia\n",
    "import pandas as pd\n",
    "import numpy as np\n",
    "\n",
    "import re"
   ]
  },
  {
   "cell_type": "code",
   "execution_count": 2,
   "metadata": {
    "collapsed": true
   },
   "outputs": [],
   "source": [
    "def category_format( category):\n",
    "    category_query = re.sub( '\\s', '+', category)\n",
    "    return category_query\n",
    "    "
   ]
  },
  {
   "cell_type": "code",
   "execution_count": 3,
   "metadata": {
    "collapsed": true
   },
   "outputs": [],
   "source": [
    "def format_query(category, ptype ):\n",
    "    '''Category should be provided as a string,  ptype may be page, subcat, or file'''\n",
    "    categoryF = category_format(category)\n",
    "    \n",
    "    ptype_dict = {'page':'0', 'subcat':'14','file':'6'}\n",
    "    nstype = ptype_dict[ ptype]\n",
    "    #if ptype == 'page':\n",
    "    #    nstype = '0'\n",
    "    #if ptype == 'subcat':\n",
    "    #    nstype = '14'\n",
    "    #if ptype == 'file':\n",
    "    #    nstype = '6'\n",
    "    base_url = 'https://en.wikipedia.org/w/api.php'\n",
    "    action_tag = \"?action=query&list=categorymembers&cmlimit=max\" ## fetch all category members (pages, subcategories)\n",
    "    category_tag = '&cmtitle=Category:{}&cmtype={}&cmnamespace={}&format=json'.format( categoryF, ptype, nstype) ## append category to cat_tag\n",
    "   # parameters_tag = \"&prop=info|categories|links\" ## return in json format\n",
    "    query = base_url + action_tag + category_tag# + parameters_tag ## concatenate base_url with request tags\n",
    "    return query"
   ]
  },
  {
   "cell_type": "code",
   "execution_count": 4,
   "metadata": {
    "collapsed": true
   },
   "outputs": [],
   "source": [
    "def request_elements( category, ptype, tag = False):\n",
    "    query = format_query( category, ptype)\n",
    "    \n",
    "    r = requests.get( query)  ## request HTTP results\n",
    "    response = r.json()\n",
    "\n",
    "    elements_df = pd.DataFrame( response['query']['categorymembers'])\n",
    "    if tag:\n",
    "        elements_df['subcategory'] = tag \n",
    "    return elements_df\n",
    "    "
   ]
  },
  {
   "cell_type": "code",
   "execution_count": 5,
   "metadata": {
    "collapsed": true
   },
   "outputs": [],
   "source": [
    "def get_subcategories( category, depth =4, subcategories = []):  ## Restrixt depth to level 4\n",
    "    \n",
    "    category_df = request_elements( category, 'subcat')\n",
    "    for subcat in category_df.title.str.replace('Category:', '').tolist():\n",
    "        \n",
    "        if subcat not in subcategories:\n",
    "            subcategories.append( subcat)\n",
    "            try:\n",
    "                if depth < 0:\n",
    "                    break\n",
    "                else:\n",
    "                    subcategories = get_subcategories( subcat,depth - 1, subcategories)\n",
    "            except:\n",
    "                continue\n",
    "    return subcategories\n",
    "            "
   ]
  },
  {
   "cell_type": "code",
   "execution_count": null,
   "metadata": {
    "collapsed": true
   },
   "outputs": [],
   "source": [
    "def get_subcategories( category, depth =4, subcategories = []):  ## Restrixt depth to level 4\n",
    "    \n",
    "    category_df = request_elements( category, 'subcat')\n",
    "    \n",
    "    #cat_labels = category + \"/\"\n",
    "    \n",
    "    for subcat in category_df.title.str.replace('Category:', '').tolist():\n",
    "        \n",
    "        if subcat not in subcategories:\n",
    "            subcategories.append( subcat)\n",
    "            try:\n",
    "                if depth < 0:\n",
    "                    #print(\"BREAK\")\n",
    "                    break\n",
    "                else:\n",
    "                    subcategories = get_subcategories( subcat,depth - 1, subcategories)\n",
    "            except:\n",
    "                continue\n",
    "    return subcategories\n",
    "            "
   ]
  },
  {
   "cell_type": "code",
   "execution_count": null,
   "metadata": {
    "collapsed": true
   },
   "outputs": [],
   "source": []
  },
  {
   "cell_type": "code",
   "execution_count": null,
   "metadata": {
    "collapsed": true
   },
   "outputs": [],
   "source": [
    "category_df = request_elements( 'machine learning', 'subcat')\n",
    "categories = category_df.title.str.replace('Category:', '').tolist()\n",
    "categories"
   ]
  },
  {
   "cell_type": "code",
   "execution_count": null,
   "metadata": {
    "collapsed": true
   },
   "outputs": [],
   "source": []
  },
  {
   "cell_type": "code",
   "execution_count": null,
   "metadata": {
    "collapsed": true
   },
   "outputs": [],
   "source": [
    "df = request_elements( 'machine learning', 'page')\n",
    "\n",
    "df"
   ]
  },
  {
   "cell_type": "code",
   "execution_count": 6,
   "metadata": {
    "collapsed": true
   },
   "outputs": [],
   "source": [
    "def grab_content( page_id):\n",
    "    try:\n",
    "        page_content = wikipedia.WikipediaPage(pageid = page_id).content\n",
    "    except: \n",
    "        page_content = ''\n",
    "    return page_content\n",
    "    "
   ]
  },
  {
   "cell_type": "code",
   "execution_count": 14,
   "metadata": {
    "collapsed": true
   },
   "outputs": [],
   "source": [
    "def cleaner(message):\n",
    "    message = re.sub('\\.+', ' ', message)\n",
    "    message = re.sub('[^a-z0-9 ]',' ', message.lower())\n",
    "    message = re.sub('\\d+',' NUMBER ',message)\n",
    "    message = re.sub('\\s+',' ',message)\n",
    "    return message "
   ]
  },
  {
   "cell_type": "code",
   "execution_count": 7,
   "metadata": {
    "collapsed": true
   },
   "outputs": [],
   "source": [
    "def get_pages( category, depth = 4 ):\n",
    "    ##astype\n",
    "    subcategories = get_subcategories( category, depth, subcategories = [] )\n",
    "    \n",
    "    pages_df_list = []\n",
    "    #categories_pageid_dict = {}\n",
    "    \n",
    "    pages_df = request_elements( category, 'page', category)\n",
    "    \n",
    "    pages_df_list.append( pages_df)\n",
    "    #categories_pageid_dict[category] = pages_df.pageid.tolist()\n",
    "    \n",
    "    for subcat in subcategories:\n",
    "        #tag = category + \"/\" + subcat\n",
    "        pages_df = request_elements( subcat, 'page', subcat)\n",
    "        \n",
    "        try:\n",
    "            #categories_pageid_dict[subcat] = pages_df.pageid.tolist()\n",
    "            pages_df_list.append( pages_df)\n",
    "        except:\n",
    "            continue\n",
    "        \n",
    "    pages_df = pd.concat( pages_df_list)\n",
    "    \n",
    "    pages_df = pages_df.reset_index(drop = True )\n",
    "    \n",
    "    pages_df.drop_duplicates().reset_index(drop = True, inplace = True)\n",
    "    \n",
    "    pages_df.drop('ns', axis = 1, inplace = True)\n",
    "    \n",
    "    pages_df['category'] = category\n",
    "    pages_df['text'] = pages_df.pageid.apply( grab_content)\n",
    "    \n",
    "    \n",
    "    pages_df.pageid = pages_df.pageid.apply( lambda x: int(x))\n",
    "    pages_df.text = pages_df.text.apply( cleaner)\n",
    "    pages_df.title = pages_df.title.apply( cleaner)\n",
    "    \n",
    "    return pages_df #, categories_pageid_dict\n",
    "                             \n",
    "        \n",
    "    \n",
    "    \n",
    "    "
   ]
  },
  {
   "cell_type": "code",
   "execution_count": null,
   "metadata": {
    "collapsed": true
   },
   "outputs": [],
   "source": [
    "pd.DataFrame.reset_index()"
   ]
  },
  {
   "cell_type": "code",
   "execution_count": null,
   "metadata": {
    "collapsed": true
   },
   "outputs": [],
   "source": [
    "pages_df = request_elements( 'machine learning', 'page')\n",
    "pages_df.pageid.tolist()"
   ]
  },
  {
   "cell_type": "code",
   "execution_count": null,
   "metadata": {
    "collapsed": true
   },
   "outputs": [],
   "source": [
    "ml_pages_df = get_pages( 'machine learning')\n",
    "print( ml_pages_df.shape)\n",
    "ml_pages_df.head()"
   ]
  },
  {
   "cell_type": "markdown",
   "metadata": {},
   "source": [
    "ml_pages_df.dtypes"
   ]
  },
  {
   "cell_type": "code",
   "execution_count": null,
   "metadata": {
    "collapsed": true
   },
   "outputs": [],
   "source": [
    "ml_pages_df.subcategory.unique()"
   ]
  },
  {
   "cell_type": "code",
   "execution_count": null,
   "metadata": {
    "collapsed": true
   },
   "outputs": [],
   "source": []
  },
  {
   "cell_type": "code",
   "execution_count": null,
   "metadata": {
    "collapsed": true
   },
   "outputs": [],
   "source": [
    "\n",
    "\n",
    "ml_pages_df['text'] = ml_pages_df.pageid.apply( grab_content)\n",
    "\n",
    "#pages_df['text'] = pages_df.pageid.apply( grab_content)"
   ]
  },
  {
   "cell_type": "code",
   "execution_count": null,
   "metadata": {
    "collapsed": true
   },
   "outputs": [],
   "source": [
    "ml_pages_df.head()"
   ]
  },
  {
   "cell_type": "code",
   "execution_count": null,
   "metadata": {
    "collapsed": true
   },
   "outputs": [],
   "source": [
    "!pwd"
   ]
  },
  {
   "cell_type": "code",
   "execution_count": null,
   "metadata": {
    "collapsed": true
   },
   "outputs": [],
   "source": [
    "ml_pages_df.to_pickle('../docker/postgres/data/ml.p')"
   ]
  },
  {
   "cell_type": "code",
   "execution_count": null,
   "metadata": {
    "collapsed": true
   },
   "outputs": [],
   "source": []
  },
  {
   "cell_type": "code",
   "execution_count": 8,
   "metadata": {},
   "outputs": [
    {
     "name": "stdout",
     "output_type": "stream",
     "text": [
      "(6545, 4)\n"
     ]
    },
    {
     "data": {
      "text/html": [
       "<div>\n",
       "<table border=\"1\" class=\"dataframe\">\n",
       "  <thead>\n",
       "    <tr style=\"text-align: right;\">\n",
       "      <th></th>\n",
       "      <th>pageid</th>\n",
       "      <th>subcategory</th>\n",
       "      <th>title</th>\n",
       "      <th>category</th>\n",
       "    </tr>\n",
       "  </thead>\n",
       "  <tbody>\n",
       "    <tr>\n",
       "      <th>0</th>\n",
       "      <td>1037763.0</td>\n",
       "      <td>business software</td>\n",
       "      <td>Business software</td>\n",
       "      <td>business software</td>\n",
       "    </tr>\n",
       "    <tr>\n",
       "      <th>1</th>\n",
       "      <td>41270069.0</td>\n",
       "      <td>business software</td>\n",
       "      <td>AccuSystems</td>\n",
       "      <td>business software</td>\n",
       "    </tr>\n",
       "    <tr>\n",
       "      <th>2</th>\n",
       "      <td>5211212.0</td>\n",
       "      <td>business software</td>\n",
       "      <td>Active policy management</td>\n",
       "      <td>business software</td>\n",
       "    </tr>\n",
       "    <tr>\n",
       "      <th>3</th>\n",
       "      <td>28502793.0</td>\n",
       "      <td>business software</td>\n",
       "      <td>Alexandria (library software)</td>\n",
       "      <td>business software</td>\n",
       "    </tr>\n",
       "    <tr>\n",
       "      <th>4</th>\n",
       "      <td>44133735.0</td>\n",
       "      <td>business software</td>\n",
       "      <td>Alteryx</td>\n",
       "      <td>business software</td>\n",
       "    </tr>\n",
       "  </tbody>\n",
       "</table>\n",
       "</div>"
      ],
      "text/plain": [
       "       pageid        subcategory                          title  \\\n",
       "0   1037763.0  business software              Business software   \n",
       "1  41270069.0  business software                    AccuSystems   \n",
       "2   5211212.0  business software       Active policy management   \n",
       "3  28502793.0  business software  Alexandria (library software)   \n",
       "4  44133735.0  business software                        Alteryx   \n",
       "\n",
       "            category  \n",
       "0  business software  \n",
       "1  business software  \n",
       "2  business software  \n",
       "3  business software  \n",
       "4  business software  "
      ]
     },
     "execution_count": 8,
     "metadata": {},
     "output_type": "execute_result"
    }
   ],
   "source": [
    "bs_pages_df = get_pages( 'business software', depth = 2)\n",
    "print( bs_pages_df.shape)\n",
    "bs_pages_df.head()"
   ]
  },
  {
   "cell_type": "code",
   "execution_count": null,
   "metadata": {
    "collapsed": true
   },
   "outputs": [],
   "source": [
    "bs_pages_df.loc[:,'text'] = bs_pages_df.pageid.apply( grab_content)"
   ]
  },
  {
   "cell_type": "code",
   "execution_count": 16,
   "metadata": {
    "collapsed": true
   },
   "outputs": [],
   "source": [
    "bs_cleaned_df = bs_pages_df.copy()\n",
    "bs_cleaned_df.pageid = bs_cleaned_df.pageid.apply( lambda x: int(x))\n",
    "bs_cleaned_df.text = bs_cleaned_df.text.apply( cleaner)\n",
    "bs_cleaned_df.title = bs_cleaned_df.title.apply( cleaner)\n"
   ]
  },
  {
   "cell_type": "code",
   "execution_count": 18,
   "metadata": {},
   "outputs": [
    {
     "data": {
      "text/html": [
       "<div>\n",
       "<table border=\"1\" class=\"dataframe\">\n",
       "  <thead>\n",
       "    <tr style=\"text-align: right;\">\n",
       "      <th></th>\n",
       "      <th>pageid</th>\n",
       "      <th>subcategory</th>\n",
       "      <th>title</th>\n",
       "      <th>category</th>\n",
       "      <th>text</th>\n",
       "    </tr>\n",
       "  </thead>\n",
       "  <tbody>\n",
       "    <tr>\n",
       "      <th>0</th>\n",
       "      <td>1037763</td>\n",
       "      <td>business software</td>\n",
       "      <td>business software</td>\n",
       "      <td>business software</td>\n",
       "      <td>business software or a business application is...</td>\n",
       "    </tr>\n",
       "    <tr>\n",
       "      <th>1</th>\n",
       "      <td>41270069</td>\n",
       "      <td>business software</td>\n",
       "      <td>accusystems</td>\n",
       "      <td>business software</td>\n",
       "      <td>accusystems llc is an american company headqua...</td>\n",
       "    </tr>\n",
       "    <tr>\n",
       "      <th>2</th>\n",
       "      <td>5211212</td>\n",
       "      <td>business software</td>\n",
       "      <td>active policy management</td>\n",
       "      <td>business software</td>\n",
       "      <td>active policy management is business oriented ...</td>\n",
       "    </tr>\n",
       "    <tr>\n",
       "      <th>3</th>\n",
       "      <td>28502793</td>\n",
       "      <td>business software</td>\n",
       "      <td>alexandria library software</td>\n",
       "      <td>business software</td>\n",
       "      <td>alexandria is browser based cross platform lib...</td>\n",
       "    </tr>\n",
       "    <tr>\n",
       "      <th>4</th>\n",
       "      <td>44133735</td>\n",
       "      <td>business software</td>\n",
       "      <td>alteryx</td>\n",
       "      <td>business software</td>\n",
       "      <td>alteryx is an american computer software compa...</td>\n",
       "    </tr>\n",
       "  </tbody>\n",
       "</table>\n",
       "</div>"
      ],
      "text/plain": [
       "     pageid        subcategory                         title  \\\n",
       "0   1037763  business software             business software   \n",
       "1  41270069  business software                   accusystems   \n",
       "2   5211212  business software      active policy management   \n",
       "3  28502793  business software  alexandria library software    \n",
       "4  44133735  business software                       alteryx   \n",
       "\n",
       "            category                                               text  \n",
       "0  business software  business software or a business application is...  \n",
       "1  business software  accusystems llc is an american company headqua...  \n",
       "2  business software  active policy management is business oriented ...  \n",
       "3  business software  alexandria is browser based cross platform lib...  \n",
       "4  business software  alteryx is an american computer software compa...  "
      ]
     },
     "execution_count": 18,
     "metadata": {},
     "output_type": "execute_result"
    }
   ],
   "source": [
    "bs_cleaned_df.head()"
   ]
  },
  {
   "cell_type": "code",
   "execution_count": 19,
   "metadata": {
    "collapsed": true
   },
   "outputs": [],
   "source": [
    "bs_cleaned_df.to_pickle('../docker/postgres/data/bs_cleaned.p')"
   ]
  },
  {
   "cell_type": "markdown",
   "metadata": {},
   "source": [
    "## Table Functions"
   ]
  },
  {
   "cell_type": "code",
   "execution_count": null,
   "metadata": {
    "collapsed": true
   },
   "outputs": [],
   "source": [
    "!pip install psycopg2\n",
    "\n",
    "import psycopg2 as pg2\n",
    "from psycopg2.extras import RealDictCursor\n",
    "\n",
    "def connect_to_db():\n",
    "    con = pg2.connect(host='postgres',\n",
    "                      dbname='wikipedia',\n",
    "                      user='postgres')\n",
    "    cur = con.cursor(cursor_factory=RealDictCursor)\n",
    "    return con, cur\n",
    "\n",
    "con, cur = connect_to_db\n",
    "\n",
    "con = pg2.connect(host='postgres',  #127.0.0.1\n",
    "                      dbname='wikipedia',\n",
    "                      user='postgres')\n",
    "cursor = con.cursor(cursor_factory=RealDictCursor)"
   ]
  },
  {
   "cell_type": "code",
   "execution_count": null,
   "metadata": {
    "collapsed": true
   },
   "outputs": [],
   "source": [
    "cursor"
   ]
  },
  {
   "cell_type": "code",
   "execution_count": null,
   "metadata": {
    "collapsed": true
   },
   "outputs": [],
   "source": [
    "database.py\n",
    "request_categories.py"
   ]
  },
  {
   "cell_type": "code",
   "execution_count": null,
   "metadata": {
    "collapsed": true
   },
   "outputs": [],
   "source": [
    "ml_pages_df['title'].value_counts"
   ]
  },
  {
   "cell_type": "code",
   "execution_count": null,
   "metadata": {
    "collapsed": true
   },
   "outputs": [],
   "source": [
    "bs_pages_df = get_pages( 'business software', 3)\n",
    "print( bs_pages_df.shape)\n",
    "bs_pages_df"
   ]
  },
  {
   "cell_type": "code",
   "execution_count": null,
   "metadata": {
    "collapsed": true
   },
   "outputs": [],
   "source": [
    "bs_pages_df.ns.unique()"
   ]
  },
  {
   "cell_type": "code",
   "execution_count": null,
   "metadata": {
    "collapsed": true
   },
   "outputs": [],
   "source": [
    "def update_page_table(data):\n",
    "    query = \"\"\"BEGIN; INSERT INTO pages (pageid, title, article); \n",
    "        VALUES\n",
    "    COMMIT;\"\"\".format()"
   ]
  },
  {
   "cell_type": "code",
   "execution_count": null,
   "metadata": {
    "collapsed": true
   },
   "outputs": [],
   "source": []
  },
  {
   "cell_type": "code",
   "execution_count": null,
   "metadata": {
    "collapsed": true
   },
   "outputs": [],
   "source": []
  },
  {
   "cell_type": "code",
   "execution_count": null,
   "metadata": {
    "collapsed": true
   },
   "outputs": [],
   "source": []
  },
  {
   "cell_type": "code",
   "execution_count": null,
   "metadata": {
    "collapsed": true
   },
   "outputs": [],
   "source": [
    "ml_cats = get_subcategories( 'machine learning', subcategories = [])"
   ]
  },
  {
   "cell_type": "code",
   "execution_count": null,
   "metadata": {
    "collapsed": true
   },
   "outputs": [],
   "source": [
    "ml_cats"
   ]
  },
  {
   "cell_type": "code",
   "execution_count": null,
   "metadata": {
    "collapsed": true
   },
   "outputs": [],
   "source": [
    "bs_cats = get_subcategories( 'business software', 3, subcategories = [])  ## Gets lost in Financial Software / \n",
    "                                                    ## Financial Markets Software / Electronic Trading Platforms /\n",
    "                                                    ## Stock Exchanges          "
   ]
  },
  {
   "cell_type": "code",
   "execution_count": null,
   "metadata": {
    "collapsed": true
   },
   "outputs": [],
   "source": [
    "bs_cats"
   ]
  },
  {
   "cell_type": "code",
   "execution_count": null,
   "metadata": {
    "collapsed": true
   },
   "outputs": [],
   "source": []
  },
  {
   "cell_type": "code",
   "execution_count": null,
   "metadata": {
    "collapsed": true
   },
   "outputs": [],
   "source": [
    "def request_category( category ):  ##  exclude\n",
    "    \n",
    "    #category_query = category_format( category)\n",
    "    \n",
    "    base_url = 'https://en.wikipedia.org/w/api.php'\n",
    "    action_tag = \"?action=query&list=categorymembers&cmlimit=max\" ## fetch all category members (pages, subcategories)\n",
    "    category_tag = '&cmtitle=Category:{}'.format( category) ## append category to cat_tag\n",
    "    parameters_tag = \"&format=json&prop=info|categories|links\" ## return in json format\n",
    "    request_call = base_url + action_tag + category_tag + parameters_tag ## concatenate base_url with request tags\n",
    "\n",
    "    r = requests.get( request_call)  ## request HTTP results\n",
    "    response = r.json()\n",
    "    \n",
    "    category_pages = response['query']['categorymembers']\n",
    "    \n",
    "    \n",
    "    category_pages_df = pd.DataFrame( response['query']['categorymembers'] )\n",
    "    \n",
    "    return category_pages_df\n",
    "    \n",
    "    \n",
    "    "
   ]
  },
  {
   "cell_type": "code",
   "execution_count": null,
   "metadata": {
    "collapsed": true
   },
   "outputs": [],
   "source": [
    "## Original \n",
    "\n",
    "def gather_articles( category ):\n",
    "    '''Collect all articles that belong to a category, including articles found in sub-categories.\n",
    "        This process is performed recursively to find all relevant articles in the domain space'''\n",
    "    print(category)\n",
    "    category_pages_df = request_category( category)  ## load dataframe of pages contained in category\n",
    "    \n",
    "    sub_category_mask = category_pages_df.title.str.contains('Category:')  ## row mask for only sub-categories\n",
    "    \n",
    "    pages_df_list = []\n",
    "    categories_pageid_dict = {}\n",
    "    \n",
    "    pages_df = category_pages_df[ ~sub_category_mask]\n",
    "    pages_df_list.append( pages_df)\n",
    "    \n",
    "    sub_categories = category_pages_df[ sub_category_mask].title.str.replace( 'Category:', '').tolist()    ## Create list of all sub-category names ( Category: <name>), remove the preface                \n",
    "    categories_pageid_dict[ category] = pages_df.pageid\n",
    "    n_sub_categories = sum( sub_category_mask)  ## Number of sub-categories belong to category\n",
    "    \n",
    "    if n_sub_categories > 0:\n",
    "        for sub_category in sub_categories:  ## recursively, one at a time     \n",
    "            sub_category_pages = gather_articles( sub_category )[0]\n",
    "            \n",
    "            #categories_pageid_dict[ sub_category] = sub_category_pages.pageid  ## add sub \n",
    "            \n",
    "            \n",
    "            pages_df_list.append( sub_category_pages  )\n",
    "            \n",
    "\n",
    "    pages_df = pd.concat( pages_df_list)\n",
    "    pages_df.reset_index()\n",
    "    return pages_df, categories_pageid_dict\n",
    "    \n",
    "    \n",
    "    #pages_df_list.append(  category_pages_df[~sub_category_mask].pageid.apply( grab_content ))\n",
    "    \n",
    "    "
   ]
  },
  {
   "cell_type": "code",
   "execution_count": null,
   "metadata": {
    "collapsed": true
   },
   "outputs": [],
   "source": []
  },
  {
   "cell_type": "code",
   "execution_count": null,
   "metadata": {
    "collapsed": true
   },
   "outputs": [],
   "source": []
  }
 ],
 "metadata": {
  "kernelspec": {
   "display_name": "Python 3",
   "language": "python",
   "name": "python3"
  },
  "language_info": {
   "codemirror_mode": {
    "name": "ipython",
    "version": 3
   },
   "file_extension": ".py",
   "mimetype": "text/x-python",
   "name": "python",
   "nbconvert_exporter": "python",
   "pygments_lexer": "ipython3",
   "version": "3.6.2"
  }
 },
 "nbformat": 4,
 "nbformat_minor": 2
}
