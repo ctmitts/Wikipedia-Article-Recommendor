{
 "cells": [
  {
   "cell_type": "code",
   "execution_count": 1,
   "metadata": {
    "collapsed": true
   },
   "outputs": [],
   "source": [
    "import requests\n",
    "import wikipedia\n",
    "import pandas as pd\n",
    "import numpy as np\n",
    "\n",
    "import re"
   ]
  },
  {
   "cell_type": "markdown",
   "metadata": {},
   "source": [
    "https://www.mediawiki.org/wiki/API:Main_page"
   ]
  },
  {
   "cell_type": "markdown",
   "metadata": {},
   "source": [
    "## CRUD\n",
    "\n",
    "| | SQL | RESTful API |\n",
    "|:-:|:-:|:-:|\n",
    "| create | `INSERT` | `POST` |\n",
    "| read | `SELECT` | `GET` |\n",
    "| update | `UPDATE` | `PUT` |\n",
    "| delete | `DELETE` | `DELETE` |"
   ]
  },
  {
   "cell_type": "markdown",
   "metadata": {},
   "source": [
    "![](http://interactive.blockdiag.com/image?compression=deflate&encoding=base64&src=eJxLyslPzk7JTExXqOZSUFAPcnV0UUgrys9VCM_MzixIBcqoK-jaKRSlFpfmlBSDmOrlRZklqQol-QoF-cUl6UAZdWuuWgBXuhe4)"
   ]
  },
  {
   "cell_type": "markdown",
   "metadata": {},
   "source": [
    "## Query Wikipedia\n",
    "\n",
    "## API Tutorial (mediawiki API)\n",
    "\n"
   ]
  },
  {
   "cell_type": "markdown",
   "metadata": {},
   "source": []
  },
  {
   "cell_type": "markdown",
   "metadata": {},
   "source": [
    "## Raw Get on Wikipedia"
   ]
  },
  {
   "cell_type": "code",
   "execution_count": null,
   "metadata": {
    "collapsed": true
   },
   "outputs": [],
   "source": []
  },
  {
   "cell_type": "code",
   "execution_count": null,
   "metadata": {
    "collapsed": true
   },
   "outputs": [],
   "source": []
  },
  {
   "cell_type": "code",
   "execution_count": null,
   "metadata": {
    "collapsed": true
   },
   "outputs": [],
   "source": [
    "np.nan"
   ]
  },
  {
   "cell_type": "code",
   "execution_count": 4,
   "metadata": {
    "collapsed": true
   },
   "outputs": [],
   "source": [
    "def input_category( category):\n",
    "    category_query = re.sub( '\\s', '+', category)\n",
    "    return category_query\n",
    "    "
   ]
  },
  {
   "cell_type": "code",
   "execution_count": 22,
   "metadata": {},
   "outputs": [],
   "source": [
    "## Testing out linkshere: \n",
    "\n",
    "category = input_category( 'machine learning')\n",
    "base_url = 'https://en.wikipedia.org/w/api.php'\n",
    "action_tag = \"?action=query&prop=linkshere&lhprop=pageid|title&lhlimit=max&lhcontinue=5000\" # list=categorymembers&cmlimit=max\" ## fetch all category members (pages, subcategories)\n",
    "category_tag = '&titles=Category:{}'.format( category) ## append category to cat_tag\n",
    "parameters_tag = \"&format=json\" #&prop=info|categories|links\" ## return in json format\n",
    "request_call = base_url + action_tag + category_tag + parameters_tag ## concatenate base_url with request tags\n",
    "request = requests.get( request_call)  ## request HTTP results\n"
   ]
  },
  {
   "cell_type": "code",
   "execution_count": 23,
   "metadata": {
    "collapsed": true
   },
   "outputs": [
    {
     "data": {
      "text/plain": [
       "{'normalized': [{'from': 'Category:machine learning',\n",
       "   'to': 'Category:Machine learning'}],\n",
       " 'pages': {'706543': {'linkshere': [{'ns': 1,\n",
       "     'pageid': 447497,\n",
       "     'title': 'Talk:Computational learning theory'},\n",
       "    {'ns': 1, 'pageid': 693831, 'title': 'Talk:Hidden Markov model'},\n",
       "    {'ns': 14,\n",
       "     'pageid': 1532663,\n",
       "     'title': 'Category:Artificial intelligence applications'},\n",
       "    {'ns': 4,\n",
       "     'pageid': 1828342,\n",
       "     'title': 'Wikipedia:WikiProject Mathematics/List of mathematics categories'},\n",
       "    {'ns': 4,\n",
       "     'pageid': 1883701,\n",
       "     'title': 'Wikipedia:Categories for deletion/Log/2005 May 14'},\n",
       "    {'ns': 4,\n",
       "     'pageid': 3228314,\n",
       "     'title': 'Wikipedia:Categories for deletion/Log/2005 November 24'},\n",
       "    {'ns': 14, 'pageid': 5206601, 'title': 'Category:Data mining'},\n",
       "    {'ns': 3, 'pageid': 5740476, 'title': 'User talk:Botev (usurped)'},\n",
       "    {'ns': 4,\n",
       "     'pageid': 13491841,\n",
       "     'title': 'Wikipedia:Categories for discussion/Log/2007 October 30'},\n",
       "    {'ns': 4,\n",
       "     'pageid': 14003273,\n",
       "     'title': 'Wikipedia:Categories for discussion/Log/2007 November 7'},\n",
       "    {'ns': 4, 'pageid': 14974139, 'title': 'Wikipedia:WikiProject Robotics'},\n",
       "    {'ns': 2,\n",
       "     'pageid': 15041328,\n",
       "     'title': 'User:Salix alba/One day of mathematics page views'},\n",
       "    {'ns': 5,\n",
       "     'pageid': 15685682,\n",
       "     'title': 'Wikipedia talk:WikiProject Robotics/Archive 1'},\n",
       "    {'ns': 2, 'pageid': 18292034, 'title': 'User:Jiuguang Wang'},\n",
       "    {'ns': 1, 'pageid': 18315044, 'title': 'Talk:Glivenko–Cantelli theorem'},\n",
       "    {'ns': 15, 'pageid': 18346681, 'title': 'Category talk:Machine learning'},\n",
       "    {'ns': 2, 'pageid': 18691328, 'title': 'User:Jiuguang Wang/Categories'},\n",
       "    {'ns': 1,\n",
       "     'pageid': 20381998,\n",
       "     'title': 'Talk:Artificial neural network/Archive 1'},\n",
       "    {'ns': 2, 'pageid': 26263664, 'title': 'User:Gregbard/old watchlist'},\n",
       "    {'ns': 2, 'pageid': 27048387, 'title': 'User:Ksilvestro/MedLEE'},\n",
       "    {'ns': 4,\n",
       "     'pageid': 34076292,\n",
       "     'title': \"Wikipedia:Administrators' noticeboard/IncidentArchive732\"},\n",
       "    {'ns': 2, 'pageid': 35113873, 'title': 'User:Kazkaskazkasako/Books/EECS'},\n",
       "    {'ns': 3, 'pageid': 35697357, 'title': 'User talk:Hike395/Archive 16'},\n",
       "    {'ns': 5,\n",
       "     'pageid': 38333630,\n",
       "     'title': 'Wikipedia talk:WikiProject Statistics/Archive 6'},\n",
       "    {'ns': 2,\n",
       "     'pageid': 39073626,\n",
       "     'title': 'User:Qymwill/Draft of the page for C-1SVM algorithm'},\n",
       "    {'ns': 5,\n",
       "     'pageid': 39155574,\n",
       "     'title': 'Wikipedia talk:WikiProject Stub sorting/Archive 17'},\n",
       "    {'ns': 2, 'pageid': 41351795, 'title': 'User:Jonasmueller/sandbox'},\n",
       "    {'ns': 2, 'pageid': 41356707, 'title': 'User:Avalenzu/sandbox'},\n",
       "    {'ns': 2, 'pageid': 41881173, 'title': 'User:Physikerwelt'},\n",
       "    {'ns': 4,\n",
       "     'pageid': 42600814,\n",
       "     'title': 'Wikipedia:Categories for discussion/Log/2014 May 7'},\n",
       "    {'ns': 2, 'pageid': 44597455, 'title': 'User:A.n.campero/sandbox'},\n",
       "    {'ns': 2, 'pageid': 44629242, 'title': 'User:TonyWang0316/sandbox'},\n",
       "    {'ns': 2, 'pageid': 44632970, 'title': 'User:Lovebeloved/sandbox'},\n",
       "    {'ns': 2, 'pageid': 44632971, 'title': 'User:Alex e e alex/sandbox'},\n",
       "    {'ns': 3, 'pageid': 45330113, 'title': 'User talk:HelpUsStopSpam'},\n",
       "    {'ns': 4,\n",
       "     'pageid': 47155024,\n",
       "     'title': 'Wikipedia:Categories for discussion/Archive debates/2014 May index'},\n",
       "    {'ns': 4,\n",
       "     'pageid': 47180083,\n",
       "     'title': 'Wikipedia:WikiProject Cognitive science/Tasks'},\n",
       "    {'ns': 2,\n",
       "     'pageid': 47180269,\n",
       "     'title': 'User:Reports bot/WikiProject Cognitive science/Assessment/Not tagged'},\n",
       "    {'ns': 2,\n",
       "     'pageid': 48481247,\n",
       "     'title': 'User:Dpleibovitz/Exploration–exploitation trade-off'},\n",
       "    {'ns': 2, 'pageid': 48811043, 'title': 'User:Yongyi781/sandbox'},\n",
       "    {'ns': 2, 'pageid': 48812591, 'title': 'User:Anonymousbadger/sandbox'},\n",
       "    {'ns': 2, 'pageid': 48820269, 'title': 'User:Biswas aritro/sandbox'},\n",
       "    {'ns': 2,\n",
       "     'pageid': 53088297,\n",
       "     'title': 'User:Mkai91/sandbox/Deep Learning Studio'},\n",
       "    {'ns': 118, 'pageid': 53269042, 'title': 'Draft:Caffe'},\n",
       "    {'ns': 2, 'pageid': 53800123, 'title': 'User:TuCo/sandbox'},\n",
       "    {'ns': 3, 'pageid': 53802173, 'title': 'User talk:TuCo/sandbox'}],\n",
       "   'ns': 14,\n",
       "   'pageid': 706543,\n",
       "   'title': 'Category:Machine learning'}}}"
      ]
     },
     "execution_count": 23,
     "metadata": {},
     "output_type": "execute_result"
    }
   ],
   "source": [
    "request.json()['query']"
   ]
  },
  {
   "cell_type": "code",
   "execution_count": null,
   "metadata": {
    "collapsed": true
   },
   "outputs": [],
   "source": []
  },
  {
   "cell_type": "code",
   "execution_count": 26,
   "metadata": {
    "collapsed": true
   },
   "outputs": [],
   "source": [
    "def request_category( category):  ##  exclude\n",
    "    \n",
    "    category_query = input_category( category)\n",
    "    \n",
    "    base_url = 'https://en.wikipedia.org/w/api.php'\n",
    "    action_tag = \"?action=query&list=categorymembers&cmlimit=max\" ## fetch all category members (pages, subcategories)\n",
    "    category_tag = '&cmtitle=Category:{}'.format( category) ## append category to cat_tag\n",
    "    parameters_tag = \"&format=json&prop=info|categories|links\" ## return in json format\n",
    "    request_call = base_url + action_tag + category_tag + parameters_tag ## concatenate base_url with request tags\n",
    "    request = requests.get( request_call)  ## request HTTP results\n",
    "    \n",
    "    category_pages_df = pd.DataFrame( request.json()['query']['categorymembers'] )\n",
    "    \n",
    "    #category_pages_df.loc[:, 'category'] = category\n",
    "    \n",
    "    return category_pages_df\n",
    "    \n",
    "    \n",
    "    "
   ]
  },
  {
   "cell_type": "code",
   "execution_count": 27,
   "metadata": {},
   "outputs": [
    {
     "data": {
      "text/html": [
       "<div>\n",
       "<table border=\"1\" class=\"dataframe\">\n",
       "  <thead>\n",
       "    <tr style=\"text-align: right;\">\n",
       "      <th></th>\n",
       "      <th>ns</th>\n",
       "      <th>pageid</th>\n",
       "      <th>title</th>\n",
       "    </tr>\n",
       "  </thead>\n",
       "  <tbody>\n",
       "    <tr>\n",
       "      <th>0</th>\n",
       "      <td>0</td>\n",
       "      <td>43385931</td>\n",
       "      <td>Data exploration</td>\n",
       "    </tr>\n",
       "    <tr>\n",
       "      <th>1</th>\n",
       "      <td>0</td>\n",
       "      <td>49082762</td>\n",
       "      <td>List of datasets for machine learning research</td>\n",
       "    </tr>\n",
       "    <tr>\n",
       "      <th>2</th>\n",
       "      <td>0</td>\n",
       "      <td>233488</td>\n",
       "      <td>Machine learning</td>\n",
       "    </tr>\n",
       "    <tr>\n",
       "      <th>3</th>\n",
       "      <td>0</td>\n",
       "      <td>53587467</td>\n",
       "      <td>Outline of machine learning</td>\n",
       "    </tr>\n",
       "    <tr>\n",
       "      <th>4</th>\n",
       "      <td>0</td>\n",
       "      <td>53198248</td>\n",
       "      <td>Singular statistical model</td>\n",
       "    </tr>\n",
       "  </tbody>\n",
       "</table>\n",
       "</div>"
      ],
      "text/plain": [
       "   ns    pageid                                           title\n",
       "0   0  43385931                                Data exploration\n",
       "1   0  49082762  List of datasets for machine learning research\n",
       "2   0    233488                                Machine learning\n",
       "3   0  53587467                     Outline of machine learning\n",
       "4   0  53198248                      Singular statistical model"
      ]
     },
     "execution_count": 27,
     "metadata": {},
     "output_type": "execute_result"
    }
   ],
   "source": [
    "category_pages_df = request_category( 'machine learning')\n",
    "category_pages_df.head()"
   ]
  },
  {
   "cell_type": "code",
   "execution_count": 34,
   "metadata": {
    "collapsed": true
   },
   "outputs": [],
   "source": [
    "sub_category_mask = category_pages_df.title.str.contains( 'Category:')  ## row mask for only sub-categories\n",
    "\n",
    "pageids = category_pages_df[~sub_category_mask].pageid.tolist()"
   ]
  },
  {
   "cell_type": "code",
   "execution_count": 36,
   "metadata": {
    "collapsed": true
   },
   "outputs": [
    {
     "data": {
      "text/plain": [
       "{20926,\n",
       " 40254,\n",
       " 126706,\n",
       " 173332,\n",
       " 173926,\n",
       " 205393,\n",
       " 213214,\n",
       " 233488,\n",
       " 233497,\n",
       " 313845,\n",
       " 387537,\n",
       " 405562,\n",
       " 416612,\n",
       " 460689,\n",
       " 470314,\n",
       " 523173,\n",
       " 579867,\n",
       " 787776,\n",
       " 847558,\n",
       " 871681,\n",
       " 926722,\n",
       " 938663,\n",
       " 960361,\n",
       " 995455,\n",
       " 1041204,\n",
       " 1053303,\n",
       " 1191936,\n",
       " 1222578,\n",
       " 1299404,\n",
       " 1331441,\n",
       " 1422176,\n",
       " 1455062,\n",
       " 1514392,\n",
       " 1579244,\n",
       " 2085584,\n",
       " 2090057,\n",
       " 2291650,\n",
       " 2829632,\n",
       " 2854828,\n",
       " 2934910,\n",
       " 3118600,\n",
       " 3119546,\n",
       " 3274742,\n",
       " 3290880,\n",
       " 3771060,\n",
       " 3920550,\n",
       " 4118276,\n",
       " 4144848,\n",
       " 4375576,\n",
       " 4615464,\n",
       " 5008963,\n",
       " 5077439,\n",
       " 5721283,\n",
       " 5721403,\n",
       " 5767980,\n",
       " 6881120,\n",
       " 6968451,\n",
       " 7309022,\n",
       " 7517319,\n",
       " 7578809,\n",
       " 8416103,\n",
       " 8964665,\n",
       " 9583985,\n",
       " 9731945,\n",
       " 9732182,\n",
       " 10704974,\n",
       " 10747879,\n",
       " 10747995,\n",
       " 10748030,\n",
       " 11360852,\n",
       " 12155912,\n",
       " 12304987,\n",
       " 12306500,\n",
       " 12386904,\n",
       " 13750669,\n",
       " 14003441,\n",
       " 14082194,\n",
       " 14271782,\n",
       " 14529261,\n",
       " 14923880,\n",
       " 17114678,\n",
       " 18475546,\n",
       " 19058043,\n",
       " 19208664,\n",
       " 19317802,\n",
       " 19463198,\n",
       " 19667111,\n",
       " 20890511,\n",
       " 21638340,\n",
       " 21985449,\n",
       " 22589574,\n",
       " 22795783,\n",
       " 22999791,\n",
       " 23864280,\n",
       " 23864530,\n",
       " 24825162,\n",
       " 25050663,\n",
       " 28037054,\n",
       " 28255458,\n",
       " 28650287,\n",
       " 28801798,\n",
       " 29288159,\n",
       " 30511763,\n",
       " 30909817,\n",
       " 30928751,\n",
       " 31877832,\n",
       " 32402755,\n",
       " 33762888,\n",
       " 33886025,\n",
       " 33890474,\n",
       " 33998310,\n",
       " 34042707,\n",
       " 34061548,\n",
       " 34072838,\n",
       " 35272263,\n",
       " 35867897,\n",
       " 35887507,\n",
       " 36126852,\n",
       " 37697003,\n",
       " 37787103,\n",
       " 38059657,\n",
       " 38782554,\n",
       " 38870173,\n",
       " 39182554,\n",
       " 39945557,\n",
       " 40678189,\n",
       " 40946774,\n",
       " 40973765,\n",
       " 41200806,\n",
       " 41370976,\n",
       " 41644056,\n",
       " 41732818,\n",
       " 41755648,\n",
       " 41929726,\n",
       " 42129549,\n",
       " 42579971,\n",
       " 43169442,\n",
       " 43218024,\n",
       " 43269516,\n",
       " 43385931,\n",
       " 43502368,\n",
       " 43688866,\n",
       " 43808044,\n",
       " 43932548,\n",
       " 44108758,\n",
       " 44439173,\n",
       " 44577560,\n",
       " 44628821,\n",
       " 44632031,\n",
       " 45049676,\n",
       " 45378845,\n",
       " 45390860,\n",
       " 45627703,\n",
       " 46207323,\n",
       " 46798615,\n",
       " 46963137,\n",
       " 47228422,\n",
       " 47509138,\n",
       " 47527969,\n",
       " 47577902,\n",
       " 47845063,\n",
       " 47937215,\n",
       " 48290454,\n",
       " 48777199,\n",
       " 48813654,\n",
       " 48827727,\n",
       " 48833041,\n",
       " 48841414,\n",
       " 48844125,\n",
       " 48976249,\n",
       " 48987892,\n",
       " 49082762,\n",
       " 49242352,\n",
       " 49316492,\n",
       " 49786340,\n",
       " 50211107,\n",
       " 50222574,\n",
       " 50227596,\n",
       " 50336055,\n",
       " 50646178,\n",
       " 50773876,\n",
       " 50828755,\n",
       " 51112472,\n",
       " 52003586,\n",
       " 52242050,\n",
       " 52642349,\n",
       " 52992310,\n",
       " 53047074,\n",
       " 53049812,\n",
       " 53198248,\n",
       " 53279262,\n",
       " 53587467,\n",
       " 53631046,\n",
       " 53802271,\n",
       " 53970843,\n",
       " 54033657,\n",
       " 54550729,\n",
       " 54625345}"
      ]
     },
     "execution_count": 36,
     "metadata": {},
     "output_type": "execute_result"
    }
   ],
   "source": [
    "orig_set = set(pageids)\n",
    "orig_set"
   ]
  },
  {
   "cell_type": "code",
   "execution_count": 55,
   "metadata": {},
   "outputs": [],
   "source": [
    "article_categories = {}\n",
    "article_id_list = category_pages_df[ ~sub_category_mask].pageid.tolist()  ## article pageids\n",
    "\n",
    "\n",
    "\n",
    "for article_id in article_id_list:\n",
    "    if article_id in article_categories:\n",
    "        article_categories[article_id].append( category)\n",
    "    if article_id not in article_categories:\n",
    "        article_categories[ article_id ] = [category]\n"
   ]
  },
  {
   "cell_type": "code",
   "execution_count": 56,
   "metadata": {
    "collapsed": true
   },
   "outputs": [
    {
     "data": {
      "text/plain": [
       "{20926: ['machine+learning'],\n",
       " 40254: ['machine+learning'],\n",
       " 126706: ['machine+learning'],\n",
       " 173332: ['machine+learning'],\n",
       " 173926: ['machine+learning'],\n",
       " 205393: ['machine+learning'],\n",
       " 213214: ['machine+learning'],\n",
       " 233488: ['machine+learning'],\n",
       " 233497: ['machine+learning'],\n",
       " 313845: ['machine+learning'],\n",
       " 387537: ['machine+learning'],\n",
       " 405562: ['machine+learning'],\n",
       " 416612: ['machine+learning'],\n",
       " 460689: ['machine+learning'],\n",
       " 470314: ['machine+learning'],\n",
       " 523173: ['machine+learning'],\n",
       " 579867: ['machine+learning'],\n",
       " 787776: ['machine+learning'],\n",
       " 847558: ['machine+learning'],\n",
       " 871681: ['machine+learning'],\n",
       " 926722: ['machine+learning'],\n",
       " 938663: ['machine+learning'],\n",
       " 960361: ['machine+learning'],\n",
       " 995455: ['machine+learning'],\n",
       " 1041204: ['machine+learning'],\n",
       " 1053303: ['machine+learning'],\n",
       " 1191936: ['machine+learning'],\n",
       " 1222578: ['machine+learning'],\n",
       " 1299404: ['machine+learning'],\n",
       " 1331441: ['machine+learning'],\n",
       " 1422176: ['machine+learning'],\n",
       " 1455062: ['machine+learning'],\n",
       " 1514392: ['machine+learning'],\n",
       " 1579244: ['machine+learning'],\n",
       " 2085584: ['machine+learning'],\n",
       " 2090057: ['machine+learning'],\n",
       " 2291650: ['machine+learning'],\n",
       " 2829632: ['machine+learning'],\n",
       " 2854828: ['machine+learning'],\n",
       " 2934910: ['machine+learning'],\n",
       " 3118600: ['machine+learning'],\n",
       " 3119546: ['machine+learning'],\n",
       " 3274742: ['machine+learning'],\n",
       " 3290880: ['machine+learning'],\n",
       " 3771060: ['machine+learning'],\n",
       " 3920550: ['machine+learning'],\n",
       " 4118276: ['machine+learning'],\n",
       " 4144848: ['machine+learning'],\n",
       " 4375576: ['machine+learning'],\n",
       " 4615464: ['machine+learning'],\n",
       " 5008963: ['machine+learning'],\n",
       " 5077439: ['machine+learning'],\n",
       " 5721283: ['machine+learning'],\n",
       " 5721403: ['machine+learning'],\n",
       " 5767980: ['machine+learning'],\n",
       " 6881120: ['machine+learning'],\n",
       " 6968451: ['machine+learning'],\n",
       " 7309022: ['machine+learning'],\n",
       " 7517319: ['machine+learning'],\n",
       " 7578809: ['machine+learning'],\n",
       " 8416103: ['machine+learning'],\n",
       " 8964665: ['machine+learning'],\n",
       " 9583985: ['machine+learning'],\n",
       " 9731945: ['machine+learning'],\n",
       " 9732182: ['machine+learning'],\n",
       " 10704974: ['machine+learning'],\n",
       " 10747879: ['machine+learning'],\n",
       " 10747995: ['machine+learning'],\n",
       " 10748030: ['machine+learning'],\n",
       " 11360852: ['machine+learning'],\n",
       " 12155912: ['machine+learning'],\n",
       " 12304987: ['machine+learning'],\n",
       " 12306500: ['machine+learning'],\n",
       " 12386904: ['machine+learning'],\n",
       " 13750669: ['machine+learning'],\n",
       " 14003441: ['machine+learning'],\n",
       " 14082194: ['machine+learning'],\n",
       " 14271782: ['machine+learning'],\n",
       " 14529261: ['machine+learning'],\n",
       " 14923880: ['machine+learning'],\n",
       " 17114678: ['machine+learning'],\n",
       " 18475546: ['machine+learning'],\n",
       " 19058043: ['machine+learning'],\n",
       " 19208664: ['machine+learning'],\n",
       " 19317802: ['machine+learning'],\n",
       " 19463198: ['machine+learning'],\n",
       " 19667111: ['machine+learning'],\n",
       " 20890511: ['machine+learning'],\n",
       " 21638340: ['machine+learning'],\n",
       " 21985449: ['machine+learning'],\n",
       " 22589574: ['machine+learning'],\n",
       " 22795783: ['machine+learning'],\n",
       " 22999791: ['machine+learning'],\n",
       " 23864280: ['machine+learning'],\n",
       " 23864530: ['machine+learning'],\n",
       " 24825162: ['machine+learning'],\n",
       " 25050663: ['machine+learning'],\n",
       " 28037054: ['machine+learning'],\n",
       " 28255458: ['machine+learning'],\n",
       " 28650287: ['machine+learning'],\n",
       " 28801798: ['machine+learning'],\n",
       " 29288159: ['machine+learning'],\n",
       " 30511763: ['machine+learning'],\n",
       " 30909817: ['machine+learning'],\n",
       " 30928751: ['machine+learning'],\n",
       " 31877832: ['machine+learning'],\n",
       " 32402755: ['machine+learning'],\n",
       " 33762888: ['machine+learning'],\n",
       " 33886025: ['machine+learning'],\n",
       " 33890474: ['machine+learning'],\n",
       " 33998310: ['machine+learning'],\n",
       " 34042707: ['machine+learning'],\n",
       " 34061548: ['machine+learning'],\n",
       " 34072838: ['machine+learning'],\n",
       " 35272263: ['machine+learning'],\n",
       " 35867897: ['machine+learning'],\n",
       " 35887507: ['machine+learning'],\n",
       " 36126852: ['machine+learning'],\n",
       " 37697003: ['machine+learning'],\n",
       " 37787103: ['machine+learning'],\n",
       " 38059657: ['machine+learning'],\n",
       " 38782554: ['machine+learning'],\n",
       " 38870173: ['machine+learning'],\n",
       " 39182554: ['machine+learning'],\n",
       " 39945557: ['machine+learning'],\n",
       " 40678189: ['machine+learning'],\n",
       " 40946774: ['machine+learning'],\n",
       " 40973765: ['machine+learning'],\n",
       " 41200806: ['machine+learning'],\n",
       " 41370976: ['machine+learning'],\n",
       " 41644056: ['machine+learning'],\n",
       " 41732818: ['machine+learning'],\n",
       " 41755648: ['machine+learning'],\n",
       " 41929726: ['machine+learning'],\n",
       " 42129549: ['machine+learning'],\n",
       " 42579971: ['machine+learning'],\n",
       " 43169442: ['machine+learning'],\n",
       " 43218024: ['machine+learning'],\n",
       " 43269516: ['machine+learning'],\n",
       " 43385931: ['machine+learning'],\n",
       " 43502368: ['machine+learning'],\n",
       " 43688866: ['machine+learning'],\n",
       " 43808044: ['machine+learning'],\n",
       " 43932548: ['machine+learning'],\n",
       " 44108758: ['machine+learning'],\n",
       " 44439173: ['machine+learning'],\n",
       " 44577560: ['machine+learning'],\n",
       " 44628821: ['machine+learning'],\n",
       " 44632031: ['machine+learning'],\n",
       " 45049676: ['machine+learning'],\n",
       " 45378845: ['machine+learning'],\n",
       " 45390860: ['machine+learning'],\n",
       " 45627703: ['machine+learning'],\n",
       " 46207323: ['machine+learning'],\n",
       " 46798615: ['machine+learning'],\n",
       " 46963137: ['machine+learning'],\n",
       " 47228422: ['machine+learning'],\n",
       " 47509138: ['machine+learning'],\n",
       " 47527969: ['machine+learning'],\n",
       " 47577902: ['machine+learning'],\n",
       " 47845063: ['machine+learning'],\n",
       " 47937215: ['machine+learning'],\n",
       " 48290454: ['machine+learning'],\n",
       " 48777199: ['machine+learning'],\n",
       " 48813654: ['machine+learning'],\n",
       " 48827727: ['machine+learning'],\n",
       " 48833041: ['machine+learning'],\n",
       " 48841414: ['machine+learning'],\n",
       " 48844125: ['machine+learning'],\n",
       " 48976249: ['machine+learning'],\n",
       " 48987892: ['machine+learning'],\n",
       " 49082762: ['machine+learning'],\n",
       " 49242352: ['machine+learning'],\n",
       " 49316492: ['machine+learning'],\n",
       " 49786340: ['machine+learning'],\n",
       " 50211107: ['machine+learning'],\n",
       " 50222574: ['machine+learning'],\n",
       " 50227596: ['machine+learning'],\n",
       " 50336055: ['machine+learning'],\n",
       " 50646178: ['machine+learning'],\n",
       " 50773876: ['machine+learning'],\n",
       " 50828755: ['machine+learning'],\n",
       " 51112472: ['machine+learning'],\n",
       " 52003586: ['machine+learning'],\n",
       " 52242050: ['machine+learning'],\n",
       " 52642349: ['machine+learning'],\n",
       " 52992310: ['machine+learning'],\n",
       " 53047074: ['machine+learning'],\n",
       " 53049812: ['machine+learning'],\n",
       " 53198248: ['machine+learning'],\n",
       " 53279262: ['machine+learning'],\n",
       " 53587467: ['machine+learning'],\n",
       " 53631046: ['machine+learning'],\n",
       " 53802271: ['machine+learning'],\n",
       " 53970843: ['machine+learning'],\n",
       " 54033657: ['machine+learning'],\n",
       " 54550729: ['machine+learning'],\n",
       " 54625345: ['machine+learning']}"
      ]
     },
     "execution_count": 56,
     "metadata": {},
     "output_type": "execute_result"
    }
   ],
   "source": [
    "article_categories"
   ]
  },
  {
   "cell_type": "code",
   "execution_count": null,
   "metadata": {
    "collapsed": true
   },
   "outputs": [],
   "source": []
  },
  {
   "cell_type": "code",
   "execution_count": null,
   "metadata": {
    "collapsed": true
   },
   "outputs": [],
   "source": []
  },
  {
   "cell_type": "code",
   "execution_count": 30,
   "metadata": {},
   "outputs": [
    {
     "data": {
      "text/plain": [
       "['Applied machine learning',\n",
       " 'Artificial neural networks',\n",
       " 'Bayesian networks',\n",
       " 'Classification algorithms',\n",
       " 'Cluster analysis']"
      ]
     },
     "execution_count": 30,
     "metadata": {},
     "output_type": "execute_result"
    }
   ],
   "source": [
    "\n",
    "\n",
    "sub_category_list = category_pages_df[ sub_category_mask].title.str.replace( 'Category:', '').tolist()  \n",
    "\n",
    "sub_category_list[0:5]"
   ]
  },
  {
   "cell_type": "code",
   "execution_count": 57,
   "metadata": {
    "collapsed": true
   },
   "outputs": [],
   "source": [
    "sub_cat = sub_category_list[0]\n",
    "\n",
    "category_pages_df1 = request_category(sub_cat )  ##  first sub category"
   ]
  },
  {
   "cell_type": "code",
   "execution_count": 58,
   "metadata": {
    "collapsed": true
   },
   "outputs": [],
   "source": [
    "sub_category_mask1 = category_pages_df1.title.str.contains( 'Category:')  ## row mask for only sub-categories\n",
    "\n",
    "pageids1 = category_pages_df1[~sub_category_mask1].pageid.tolist()"
   ]
  },
  {
   "cell_type": "code",
   "execution_count": 60,
   "metadata": {},
   "outputs": [],
   "source": [
    "article_id_list = pageids1# category_pages_df[ ~sub_category_mask].pageid.tolist()  ## article pageids\n",
    "\n",
    "\n",
    "\n",
    "for article_id in article_id_list:\n",
    "    if article_id in article_categories:\n",
    "        article_categories[article_id].append( sub_cat)\n",
    "    if article_id not in article_categories:\n",
    "        article_categories[ article_id ] = [sub_cat]\n"
   ]
  },
  {
   "cell_type": "code",
   "execution_count": 61,
   "metadata": {
    "collapsed": true
   },
   "outputs": [
    {
     "data": {
      "text/plain": [
       "{20926: ['machine+learning'],\n",
       " 40254: ['machine+learning'],\n",
       " 126706: ['machine+learning'],\n",
       " 173332: ['machine+learning'],\n",
       " 173926: ['machine+learning'],\n",
       " 205393: ['machine+learning'],\n",
       " 213214: ['machine+learning'],\n",
       " 233488: ['machine+learning'],\n",
       " 233497: ['machine+learning'],\n",
       " 313845: ['machine+learning'],\n",
       " 387537: ['machine+learning'],\n",
       " 405562: ['machine+learning'],\n",
       " 416612: ['machine+learning'],\n",
       " 460689: ['machine+learning'],\n",
       " 470314: ['machine+learning'],\n",
       " 523173: ['machine+learning'],\n",
       " 579867: ['machine+learning'],\n",
       " 705605: ['Applied machine learning'],\n",
       " 763951: ['Applied machine learning'],\n",
       " 787776: ['machine+learning'],\n",
       " 847558: ['machine+learning'],\n",
       " 871681: ['machine+learning'],\n",
       " 926722: ['machine+learning'],\n",
       " 938663: ['machine+learning'],\n",
       " 960361: ['machine+learning'],\n",
       " 995455: ['machine+learning'],\n",
       " 1041204: ['machine+learning'],\n",
       " 1053303: ['machine+learning'],\n",
       " 1191936: ['machine+learning'],\n",
       " 1222578: ['machine+learning'],\n",
       " 1299404: ['machine+learning'],\n",
       " 1331441: ['machine+learning'],\n",
       " 1422176: ['machine+learning'],\n",
       " 1455062: ['machine+learning'],\n",
       " 1514392: ['machine+learning'],\n",
       " 1579244: ['machine+learning'],\n",
       " 1643246: ['Applied machine learning'],\n",
       " 2085584: ['machine+learning'],\n",
       " 2090057: ['machine+learning'],\n",
       " 2291650: ['machine+learning'],\n",
       " 2829632: ['machine+learning'],\n",
       " 2854828: ['machine+learning'],\n",
       " 2876802: ['Applied machine learning'],\n",
       " 2934910: ['machine+learning'],\n",
       " 3118600: ['machine+learning'],\n",
       " 3119546: ['machine+learning'],\n",
       " 3274742: ['machine+learning'],\n",
       " 3290880: ['machine+learning'],\n",
       " 3771060: ['machine+learning'],\n",
       " 3920550: ['machine+learning'],\n",
       " 4086271: ['Applied machine learning'],\n",
       " 4118276: ['machine+learning'],\n",
       " 4144848: ['machine+learning'],\n",
       " 4375576: ['machine+learning'],\n",
       " 4615464: ['machine+learning'],\n",
       " 5008963: ['machine+learning'],\n",
       " 5077439: ['machine+learning'],\n",
       " 5721283: ['machine+learning'],\n",
       " 5721403: ['machine+learning'],\n",
       " 5767980: ['machine+learning'],\n",
       " 6881120: ['machine+learning'],\n",
       " 6968451: ['machine+learning'],\n",
       " 7309022: ['machine+learning'],\n",
       " 7517319: ['machine+learning'],\n",
       " 7578809: ['machine+learning'],\n",
       " 8416103: ['machine+learning'],\n",
       " 8964665: ['machine+learning'],\n",
       " 9583985: ['machine+learning'],\n",
       " 9731945: ['machine+learning'],\n",
       " 9732182: ['machine+learning'],\n",
       " 10704974: ['machine+learning'],\n",
       " 10747879: ['machine+learning'],\n",
       " 10747995: ['machine+learning'],\n",
       " 10748030: ['machine+learning'],\n",
       " 11360852: ['machine+learning'],\n",
       " 12155912: ['machine+learning'],\n",
       " 12304987: ['machine+learning'],\n",
       " 12306500: ['machine+learning'],\n",
       " 12386904: ['machine+learning'],\n",
       " 13750669: ['machine+learning'],\n",
       " 14003441: ['machine+learning'],\n",
       " 14082194: ['machine+learning'],\n",
       " 14271782: ['machine+learning'],\n",
       " 14529261: ['machine+learning'],\n",
       " 14923880: ['machine+learning'],\n",
       " 15795950: ['machine+learning', 'Applied machine learning'],\n",
       " 17114678: ['machine+learning'],\n",
       " 18475546: ['machine+learning'],\n",
       " 19058043: ['machine+learning'],\n",
       " 19208664: ['machine+learning'],\n",
       " 19317802: ['machine+learning'],\n",
       " 19463198: ['machine+learning'],\n",
       " 19667111: ['machine+learning'],\n",
       " 20890511: ['machine+learning'],\n",
       " 21638340: ['machine+learning'],\n",
       " 21985449: ['machine+learning'],\n",
       " 22589574: ['machine+learning'],\n",
       " 22795783: ['machine+learning'],\n",
       " 22999791: ['machine+learning'],\n",
       " 23048428: ['Applied machine learning'],\n",
       " 23762260: ['Applied machine learning'],\n",
       " 23864280: ['machine+learning'],\n",
       " 23864530: ['machine+learning'],\n",
       " 24825162: ['machine+learning'],\n",
       " 25050663: ['machine+learning'],\n",
       " 26127201: ['Applied machine learning'],\n",
       " 27370710: ['Applied machine learning'],\n",
       " 28037054: ['machine+learning'],\n",
       " 28255458: ['machine+learning'],\n",
       " 28650287: ['machine+learning'],\n",
       " 28801798: ['machine+learning'],\n",
       " 29288159: ['machine+learning'],\n",
       " 30511763: ['machine+learning'],\n",
       " 30909817: ['machine+learning'],\n",
       " 30928751: ['machine+learning'],\n",
       " 31103500: ['Applied machine learning'],\n",
       " 31663650: ['Applied machine learning'],\n",
       " 31877832: ['machine+learning'],\n",
       " 32402755: ['machine+learning'],\n",
       " 33762888: ['machine+learning'],\n",
       " 33886025: ['machine+learning'],\n",
       " 33890474: ['machine+learning'],\n",
       " 33998310: ['machine+learning'],\n",
       " 34042707: ['machine+learning'],\n",
       " 34061548: ['machine+learning'],\n",
       " 34072838: ['machine+learning'],\n",
       " 34113322: ['Applied machine learning'],\n",
       " 34529351: ['Applied machine learning'],\n",
       " 35272263: ['machine+learning'],\n",
       " 35456221: ['Applied machine learning'],\n",
       " 35494317: ['Applied machine learning'],\n",
       " 35867897: ['machine+learning'],\n",
       " 35887507: ['machine+learning'],\n",
       " 36126852: ['machine+learning'],\n",
       " 37697003: ['machine+learning'],\n",
       " 37787103: ['machine+learning'],\n",
       " 38059657: ['machine+learning'],\n",
       " 38782554: ['machine+learning'],\n",
       " 38818825: ['Applied machine learning'],\n",
       " 38870173: ['machine+learning'],\n",
       " 39182554: ['machine+learning'],\n",
       " 39945557: ['machine+learning'],\n",
       " 40678189: ['machine+learning'],\n",
       " 40914533: ['Applied machine learning'],\n",
       " 40946774: ['machine+learning'],\n",
       " 40973765: ['machine+learning'],\n",
       " 41184517: ['Applied machine learning'],\n",
       " 41200806: ['machine+learning'],\n",
       " 41370976: ['machine+learning'],\n",
       " 41644056: ['machine+learning'],\n",
       " 41732818: ['machine+learning'],\n",
       " 41755648: ['machine+learning'],\n",
       " 41916168: ['machine+learning', 'Applied machine learning'],\n",
       " 41916447: ['Applied machine learning'],\n",
       " 41917196: ['Applied machine learning'],\n",
       " 41929726: ['machine+learning'],\n",
       " 42129549: ['machine+learning', 'Applied machine learning'],\n",
       " 42579971: ['machine+learning'],\n",
       " 43169442: ['machine+learning', 'Applied machine learning'],\n",
       " 43218024: ['machine+learning'],\n",
       " 43269516: ['machine+learning'],\n",
       " 43385931: ['machine+learning'],\n",
       " 43502368: ['machine+learning'],\n",
       " 43688866: ['machine+learning'],\n",
       " 43808044: ['machine+learning'],\n",
       " 43932548: ['machine+learning'],\n",
       " 44108758: ['machine+learning'],\n",
       " 44439173: ['machine+learning'],\n",
       " 44577560: ['machine+learning'],\n",
       " 44628821: ['machine+learning'],\n",
       " 44632031: ['machine+learning'],\n",
       " 45049676: ['machine+learning'],\n",
       " 45378845: ['machine+learning'],\n",
       " 45390860: ['machine+learning'],\n",
       " 45627703: ['machine+learning'],\n",
       " 46207323: ['machine+learning'],\n",
       " 46222904: ['Applied machine learning'],\n",
       " 46798615: ['machine+learning'],\n",
       " 46963137: ['machine+learning'],\n",
       " 47228422: ['machine+learning'],\n",
       " 47509138: ['machine+learning', 'Applied machine learning'],\n",
       " 47527969: ['machine+learning'],\n",
       " 47577902: ['machine+learning'],\n",
       " 47845063: ['machine+learning'],\n",
       " 47937215: ['machine+learning'],\n",
       " 48290454: ['machine+learning'],\n",
       " 48508507: ['Applied machine learning'],\n",
       " 48777199: ['machine+learning'],\n",
       " 48813654: ['machine+learning'],\n",
       " 48827727: ['machine+learning'],\n",
       " 48833041: ['machine+learning'],\n",
       " 48841414: ['machine+learning'],\n",
       " 48844125: ['machine+learning'],\n",
       " 48976249: ['machine+learning', 'Applied machine learning'],\n",
       " 48987892: ['machine+learning'],\n",
       " 49082762: ['machine+learning'],\n",
       " 49119569: ['Applied machine learning'],\n",
       " 49242352: ['machine+learning'],\n",
       " 49316492: ['machine+learning'],\n",
       " 49786340: ['machine+learning'],\n",
       " 50211107: ['machine+learning'],\n",
       " 50222574: ['machine+learning'],\n",
       " 50227596: ['machine+learning'],\n",
       " 50303345: ['Applied machine learning'],\n",
       " 50336055: ['machine+learning'],\n",
       " 50646178: ['machine+learning'],\n",
       " 50773876: ['machine+learning'],\n",
       " 50828755: ['machine+learning'],\n",
       " 51112472: ['machine+learning'],\n",
       " 51650259: ['Applied machine learning'],\n",
       " 52003586: ['machine+learning'],\n",
       " 52202762: ['Applied machine learning'],\n",
       " 52242050: ['machine+learning'],\n",
       " 52404701: ['Applied machine learning'],\n",
       " 52642349: ['machine+learning'],\n",
       " 52992310: ['machine+learning'],\n",
       " 53047074: ['machine+learning'],\n",
       " 53049812: ['machine+learning'],\n",
       " 53198248: ['machine+learning'],\n",
       " 53279262: ['machine+learning'],\n",
       " 53587467: ['machine+learning'],\n",
       " 53631046: ['machine+learning', 'Applied machine learning'],\n",
       " 53802271: ['machine+learning'],\n",
       " 53970843: ['machine+learning'],\n",
       " 54033657: ['machine+learning'],\n",
       " 54550729: ['machine+learning'],\n",
       " 54625345: ['machine+learning']}"
      ]
     },
     "execution_count": 61,
     "metadata": {},
     "output_type": "execute_result"
    }
   ],
   "source": [
    "article_categories"
   ]
  },
  {
   "cell_type": "code",
   "execution_count": 47,
   "metadata": {},
   "outputs": [
    {
     "name": "stdout",
     "output_type": "stream",
     "text": [
      "Number of original pages in category: 198\n",
      "Number of pages in sub_category: 34\n",
      "Number of new pages added to category: 29\n",
      "Number of pages found in both the category and sub-category: 5\n",
      "Number of total pages in category: 227\n"
     ]
    }
   ],
   "source": [
    "new_set1 = set(pageids1)\n",
    "\n",
    "intersection = new_set1.intersection( orig_set)\n",
    "union = new_set1.union(orig_set)\n",
    "\n",
    "new_pages = new_set1.difference( intersection)\n",
    "\n",
    "\n",
    "print( 'Number of original pages in category: {}'.format( len( orig_set) ) )\n",
    "print( 'Number of pages in sub_category: {}'.format( len( new_set1) ) )      \n",
    "\n",
    "print( 'Number of new pages added to category: {}'.format( len( new_pages ) ) )\n",
    "print( 'Number of pages found in both the category and sub-category: {}'.format( len(intersection) ) )\n",
    "print( 'Number of total pages in category: {}'.format( len(union) ) )\n",
    "#print( len( intersection ) )\n",
    "#print( len( union) )\n",
    "\n",
    "#print( len( new_set1.difference( intersection) ) )\n",
    "\n",
    "\n",
    "\n",
    "\n",
    "\n"
   ]
  },
  {
   "cell_type": "code",
   "execution_count": null,
   "metadata": {
    "collapsed": true
   },
   "outputs": [],
   "source": [
    "article_categories = {pageid:[] }\n",
    "\n"
   ]
  },
  {
   "cell_type": "code",
   "execution_count": 28,
   "metadata": {},
   "outputs": [
    {
     "data": {
      "text/html": [
       "<div>\n",
       "<table border=\"1\" class=\"dataframe\">\n",
       "  <thead>\n",
       "    <tr style=\"text-align: right;\">\n",
       "      <th></th>\n",
       "      <th>ns</th>\n",
       "      <th>pageid</th>\n",
       "      <th>title</th>\n",
       "    </tr>\n",
       "  </thead>\n",
       "  <tbody>\n",
       "    <tr>\n",
       "      <th>223</th>\n",
       "      <td>14</td>\n",
       "      <td>11737376</td>\n",
       "      <td>Category:Statistical natural language processing</td>\n",
       "    </tr>\n",
       "    <tr>\n",
       "      <th>224</th>\n",
       "      <td>14</td>\n",
       "      <td>40149461</td>\n",
       "      <td>Category:Structured prediction</td>\n",
       "    </tr>\n",
       "    <tr>\n",
       "      <th>225</th>\n",
       "      <td>14</td>\n",
       "      <td>52763867</td>\n",
       "      <td>Category:Supervised learning</td>\n",
       "    </tr>\n",
       "    <tr>\n",
       "      <th>226</th>\n",
       "      <td>14</td>\n",
       "      <td>31176997</td>\n",
       "      <td>Category:Support vector machines</td>\n",
       "    </tr>\n",
       "    <tr>\n",
       "      <th>227</th>\n",
       "      <td>14</td>\n",
       "      <td>52763828</td>\n",
       "      <td>Category:Unsupervised learning</td>\n",
       "    </tr>\n",
       "  </tbody>\n",
       "</table>\n",
       "</div>"
      ],
      "text/plain": [
       "     ns    pageid                                             title\n",
       "223  14  11737376  Category:Statistical natural language processing\n",
       "224  14  40149461                    Category:Structured prediction\n",
       "225  14  52763867                      Category:Supervised learning\n",
       "226  14  31176997                  Category:Support vector machines\n",
       "227  14  52763828                    Category:Unsupervised learning"
      ]
     },
     "execution_count": 28,
     "metadata": {},
     "output_type": "execute_result"
    }
   ],
   "source": [
    "category_pages_df.tail()"
   ]
  },
  {
   "cell_type": "code",
   "execution_count": null,
   "metadata": {
    "collapsed": true
   },
   "outputs": [],
   "source": []
  },
  {
   "cell_type": "code",
   "execution_count": null,
   "metadata": {
    "collapsed": true
   },
   "outputs": [],
   "source": []
  },
  {
   "cell_type": "code",
   "execution_count": null,
   "metadata": {
    "collapsed": true
   },
   "outputs": [],
   "source": []
  },
  {
   "cell_type": "code",
   "execution_count": 73,
   "metadata": {
    "collapsed": true
   },
   "outputs": [],
   "source": [
    "def gather_articles( category ):\n",
    "    '''Collect all articles that belong to a category, including articles found in sub-categories of category\n",
    "        that are not already included under the category explicitly'''\n",
    "    category_pages_df = request_category( category)  ## load dataframe of pages contained in category\n",
    "    \n",
    "    sub_category_mask = category_pages_df.title.str.contains('Category:')  ## row mask for only sub-categories\n",
    "    n_sub_categories = sum( sub_category_mask)  ## Number of sub-categories belong to category\n",
    "    ## Create list of all sub-category names ( Category: <name>), remove the preface          \n",
    "    sub_categories = category_pages_df[ sub_category_mask].title.str.replace( 'Category:', '').tolist()      \n",
    "    \n",
    "    pages_df_list = []\n",
    "    \n",
    "    pages_df = category_pages_df[ ~sub_category_mask]\n",
    "    \n",
    "    pages_df_list.append( pages_df)\n",
    "    \n",
    "    if n_sub_categories > 0:\n",
    "\n",
    "        for sub_category in sub_categories:  ## recursively, one at a time\n",
    "            \n",
    "            pages_df_list.append( gather_articles( sub_category ) )\n",
    "            \n",
    "\n",
    "   \n",
    "    pages_df = pd.concat( pages_df_list)\n",
    "    \n",
    "    #pages_df.loc[:, 'content'] = pages_df.pageid.apply( grab_content)\n",
    "    \n",
    "    pages_df.reset_index()\n",
    "    \n",
    "    return pages_df\n",
    "    \n",
    "    \n",
    "    #pages_df_list.append(  category_pages_df[~sub_category_mask].pageid.apply( grab_content ))\n",
    "    \n",
    "    "
   ]
  },
  {
   "cell_type": "code",
   "execution_count": null,
   "metadata": {
    "collapsed": true
   },
   "outputs": [],
   "source": []
  },
  {
   "cell_type": "code",
   "execution_count": null,
   "metadata": {
    "collapsed": true
   },
   "outputs": [],
   "source": []
  },
  {
   "cell_type": "code",
   "execution_count": 71,
   "metadata": {
    "collapsed": true
   },
   "outputs": [],
   "source": [
    "category = 'machine learning'\n",
    "\n",
    "category_pages_df = request_category( category)  ## load dataframe of pages contained in category\n",
    "    \n",
    "sub_category_mask = category_pages_df.title.str.contains('Category:')"
   ]
  },
  {
   "cell_type": "code",
   "execution_count": 72,
   "metadata": {
    "collapsed": true
   },
   "outputs": [
    {
     "data": {
      "text/plain": [
       "0      False\n",
       "1      False\n",
       "2      False\n",
       "3      False\n",
       "4      False\n",
       "5      False\n",
       "6      False\n",
       "7      False\n",
       "8      False\n",
       "9      False\n",
       "10     False\n",
       "11     False\n",
       "12     False\n",
       "13     False\n",
       "14     False\n",
       "15     False\n",
       "16     False\n",
       "17     False\n",
       "18     False\n",
       "19     False\n",
       "20     False\n",
       "21     False\n",
       "22     False\n",
       "23     False\n",
       "24     False\n",
       "25     False\n",
       "26     False\n",
       "27     False\n",
       "28     False\n",
       "29     False\n",
       "       ...  \n",
       "198     True\n",
       "199     True\n",
       "200     True\n",
       "201     True\n",
       "202     True\n",
       "203     True\n",
       "204     True\n",
       "205     True\n",
       "206     True\n",
       "207     True\n",
       "208     True\n",
       "209     True\n",
       "210     True\n",
       "211     True\n",
       "212     True\n",
       "213     True\n",
       "214     True\n",
       "215     True\n",
       "216     True\n",
       "217     True\n",
       "218     True\n",
       "219     True\n",
       "220     True\n",
       "221     True\n",
       "222     True\n",
       "223     True\n",
       "224     True\n",
       "225     True\n",
       "226     True\n",
       "227     True\n",
       "Name: title, dtype: bool"
      ]
     },
     "execution_count": 72,
     "metadata": {},
     "output_type": "execute_result"
    }
   ],
   "source": [
    "sub_category_mask"
   ]
  },
  {
   "cell_type": "code",
   "execution_count": 76,
   "metadata": {},
   "outputs": [
    {
     "ename": "ValueError",
     "evalue": "cannot insert level_0, already exists",
     "output_type": "error",
     "traceback": [
      "\u001b[0;31m\u001b[0m",
      "\u001b[0;31mValueError\u001b[0mTraceback (most recent call last)",
      "\u001b[0;32m<ipython-input-76-fbba5680e889>\u001b[0m in \u001b[0;36m<module>\u001b[0;34m()\u001b[0m\n\u001b[0;32m----> 1\u001b[0;31m \u001b[0mml_articles\u001b[0m \u001b[0;34m=\u001b[0m \u001b[0mgather_articles\u001b[0m\u001b[0;34m(\u001b[0m \u001b[0;34m'machine learning'\u001b[0m\u001b[0;34m)\u001b[0m\u001b[0;34m\u001b[0m\u001b[0m\n\u001b[0m",
      "\u001b[0;32m<ipython-input-73-68056108d401>\u001b[0m in \u001b[0;36mgather_articles\u001b[0;34m(category)\u001b[0m\n\u001b[1;32m     19\u001b[0m         \u001b[0;32mfor\u001b[0m \u001b[0msub_category\u001b[0m \u001b[0;32min\u001b[0m \u001b[0msub_categories\u001b[0m\u001b[0;34m:\u001b[0m  \u001b[0;31m## recursively, one at a time\u001b[0m\u001b[0;34m\u001b[0m\u001b[0m\n\u001b[1;32m     20\u001b[0m \u001b[0;34m\u001b[0m\u001b[0m\n\u001b[0;32m---> 21\u001b[0;31m             \u001b[0mpages_df_list\u001b[0m\u001b[0;34m.\u001b[0m\u001b[0mappend\u001b[0m\u001b[0;34m(\u001b[0m \u001b[0mgather_articles\u001b[0m\u001b[0;34m(\u001b[0m \u001b[0msub_category\u001b[0m \u001b[0;34m)\u001b[0m \u001b[0;34m)\u001b[0m\u001b[0;34m\u001b[0m\u001b[0m\n\u001b[0m\u001b[1;32m     22\u001b[0m \u001b[0;34m\u001b[0m\u001b[0m\n\u001b[1;32m     23\u001b[0m \u001b[0;34m\u001b[0m\u001b[0m\n",
      "\u001b[0;32m<ipython-input-73-68056108d401>\u001b[0m in \u001b[0;36mgather_articles\u001b[0;34m(category)\u001b[0m\n\u001b[1;32m     23\u001b[0m \u001b[0;34m\u001b[0m\u001b[0m\n\u001b[1;32m     24\u001b[0m \u001b[0;34m\u001b[0m\u001b[0m\n\u001b[0;32m---> 25\u001b[0;31m     \u001b[0mpages_df\u001b[0m \u001b[0;34m=\u001b[0m \u001b[0mpd\u001b[0m\u001b[0;34m.\u001b[0m\u001b[0mconcat\u001b[0m\u001b[0;34m(\u001b[0m \u001b[0mpages_df_list\u001b[0m\u001b[0;34m)\u001b[0m\u001b[0;34m.\u001b[0m\u001b[0mreset_index\u001b[0m\u001b[0;34m(\u001b[0m\u001b[0;34m)\u001b[0m\u001b[0;34m\u001b[0m\u001b[0m\n\u001b[0m\u001b[1;32m     26\u001b[0m \u001b[0;34m\u001b[0m\u001b[0m\n\u001b[1;32m     27\u001b[0m     \u001b[0mpages_df\u001b[0m\u001b[0;34m.\u001b[0m\u001b[0mloc\u001b[0m\u001b[0;34m[\u001b[0m\u001b[0;34m:\u001b[0m\u001b[0;34m,\u001b[0m \u001b[0;34m'content'\u001b[0m\u001b[0;34m]\u001b[0m \u001b[0;34m=\u001b[0m \u001b[0mpages_df\u001b[0m\u001b[0;34m.\u001b[0m\u001b[0mpageid\u001b[0m\u001b[0;34m.\u001b[0m\u001b[0mapply\u001b[0m\u001b[0;34m(\u001b[0m \u001b[0mgrab_content\u001b[0m\u001b[0;34m)\u001b[0m\u001b[0;34m\u001b[0m\u001b[0m\n",
      "\u001b[0;32m/opt/conda/lib/python3.6/site-packages/pandas/core/frame.py\u001b[0m in \u001b[0;36mreset_index\u001b[0;34m(self, level, drop, inplace, col_level, col_fill)\u001b[0m\n\u001b[1;32m   3039\u001b[0m                     \u001b[0mname\u001b[0m \u001b[0;34m=\u001b[0m \u001b[0mtuple\u001b[0m\u001b[0;34m(\u001b[0m\u001b[0mname_lst\u001b[0m\u001b[0;34m)\u001b[0m\u001b[0;34m\u001b[0m\u001b[0m\n\u001b[1;32m   3040\u001b[0m             \u001b[0mvalues\u001b[0m \u001b[0;34m=\u001b[0m \u001b[0m_maybe_casted_values\u001b[0m\u001b[0;34m(\u001b[0m\u001b[0mself\u001b[0m\u001b[0;34m.\u001b[0m\u001b[0mindex\u001b[0m\u001b[0;34m)\u001b[0m\u001b[0;34m\u001b[0m\u001b[0m\n\u001b[0;32m-> 3041\u001b[0;31m             \u001b[0mnew_obj\u001b[0m\u001b[0;34m.\u001b[0m\u001b[0minsert\u001b[0m\u001b[0;34m(\u001b[0m\u001b[0;36m0\u001b[0m\u001b[0;34m,\u001b[0m \u001b[0mname\u001b[0m\u001b[0;34m,\u001b[0m \u001b[0mvalues\u001b[0m\u001b[0;34m)\u001b[0m\u001b[0;34m\u001b[0m\u001b[0m\n\u001b[0m\u001b[1;32m   3042\u001b[0m \u001b[0;34m\u001b[0m\u001b[0m\n\u001b[1;32m   3043\u001b[0m         \u001b[0mnew_obj\u001b[0m\u001b[0;34m.\u001b[0m\u001b[0mindex\u001b[0m \u001b[0;34m=\u001b[0m \u001b[0mnew_index\u001b[0m\u001b[0;34m\u001b[0m\u001b[0m\n",
      "\u001b[0;32m/opt/conda/lib/python3.6/site-packages/pandas/core/frame.py\u001b[0m in \u001b[0;36minsert\u001b[0;34m(self, loc, column, value, allow_duplicates)\u001b[0m\n\u001b[1;32m   2509\u001b[0m         \u001b[0mvalue\u001b[0m \u001b[0;34m=\u001b[0m \u001b[0mself\u001b[0m\u001b[0;34m.\u001b[0m\u001b[0m_sanitize_column\u001b[0m\u001b[0;34m(\u001b[0m\u001b[0mcolumn\u001b[0m\u001b[0;34m,\u001b[0m \u001b[0mvalue\u001b[0m\u001b[0;34m,\u001b[0m \u001b[0mbroadcast\u001b[0m\u001b[0;34m=\u001b[0m\u001b[0;32mFalse\u001b[0m\u001b[0;34m)\u001b[0m\u001b[0;34m\u001b[0m\u001b[0m\n\u001b[1;32m   2510\u001b[0m         self._data.insert(loc, column, value,\n\u001b[0;32m-> 2511\u001b[0;31m                           allow_duplicates=allow_duplicates)\n\u001b[0m\u001b[1;32m   2512\u001b[0m \u001b[0;34m\u001b[0m\u001b[0m\n\u001b[1;32m   2513\u001b[0m     \u001b[0;32mdef\u001b[0m \u001b[0massign\u001b[0m\u001b[0;34m(\u001b[0m\u001b[0mself\u001b[0m\u001b[0;34m,\u001b[0m \u001b[0;34m**\u001b[0m\u001b[0mkwargs\u001b[0m\u001b[0;34m)\u001b[0m\u001b[0;34m:\u001b[0m\u001b[0;34m\u001b[0m\u001b[0m\n",
      "\u001b[0;32m/opt/conda/lib/python3.6/site-packages/pandas/core/internals.py\u001b[0m in \u001b[0;36minsert\u001b[0;34m(self, loc, item, value, allow_duplicates)\u001b[0m\n\u001b[1;32m   3761\u001b[0m         \u001b[0;32mif\u001b[0m \u001b[0;32mnot\u001b[0m \u001b[0mallow_duplicates\u001b[0m \u001b[0;32mand\u001b[0m \u001b[0mitem\u001b[0m \u001b[0;32min\u001b[0m \u001b[0mself\u001b[0m\u001b[0;34m.\u001b[0m\u001b[0mitems\u001b[0m\u001b[0;34m:\u001b[0m\u001b[0;34m\u001b[0m\u001b[0m\n\u001b[1;32m   3762\u001b[0m             \u001b[0;31m# Should this be a different kind of error??\u001b[0m\u001b[0;34m\u001b[0m\u001b[0;34m\u001b[0m\u001b[0m\n\u001b[0;32m-> 3763\u001b[0;31m             \u001b[0;32mraise\u001b[0m \u001b[0mValueError\u001b[0m\u001b[0;34m(\u001b[0m\u001b[0;34m'cannot insert %s, already exists'\u001b[0m \u001b[0;34m%\u001b[0m \u001b[0mitem\u001b[0m\u001b[0;34m)\u001b[0m\u001b[0;34m\u001b[0m\u001b[0m\n\u001b[0m\u001b[1;32m   3764\u001b[0m \u001b[0;34m\u001b[0m\u001b[0m\n\u001b[1;32m   3765\u001b[0m         \u001b[0;32mif\u001b[0m \u001b[0;32mnot\u001b[0m \u001b[0misinstance\u001b[0m\u001b[0;34m(\u001b[0m\u001b[0mloc\u001b[0m\u001b[0;34m,\u001b[0m \u001b[0mint\u001b[0m\u001b[0;34m)\u001b[0m\u001b[0;34m:\u001b[0m\u001b[0;34m\u001b[0m\u001b[0m\n",
      "\u001b[0;31mValueError\u001b[0m: cannot insert level_0, already exists"
     ]
    }
   ],
   "source": [
    "ml_articles = gather_articles( 'machine learning')"
   ]
  },
  {
   "cell_type": "code",
   "execution_count": null,
   "metadata": {
    "collapsed": true
   },
   "outputs": [],
   "source": []
  },
  {
   "cell_type": "code",
   "execution_count": null,
   "metadata": {
    "collapsed": true
   },
   "outputs": [],
   "source": []
  },
  {
   "cell_type": "code",
   "execution_count": null,
   "metadata": {
    "collapsed": true
   },
   "outputs": [],
   "source": []
  },
  {
   "cell_type": "code",
   "execution_count": 16,
   "metadata": {},
   "outputs": [
    {
     "data": {
      "text/plain": [
       "(198, 198)"
      ]
     },
     "execution_count": 16,
     "metadata": {},
     "output_type": "execute_result"
    }
   ],
   "source": [
    "sub_category_mask = category_pages_df.title.str.contains( 'Category:')\n",
    "category_pages_df[ sub_category_mask].title.replace( 'Category:', '').tolist()\n",
    "\n",
    "len( category_pages_df[ ~sub_category_mask].pageid.tolist()), len(category_pages_df[ ~sub_category_mask].pageid.unique() )\n",
    "\n",
    "\n",
    "\n"
   ]
  },
  {
   "cell_type": "code",
   "execution_count": null,
   "metadata": {
    "collapsed": true
   },
   "outputs": [],
   "source": []
  },
  {
   "cell_type": "code",
   "execution_count": null,
   "metadata": {
    "collapsed": true
   },
   "outputs": [],
   "source": []
  },
  {
   "cell_type": "code",
   "execution_count": 75,
   "metadata": {
    "collapsed": true
   },
   "outputs": [],
   "source": [
    "def grab_content( page_id):\n",
    "    try:\n",
    "        page_content = wikipedia.WikipediaPage(pageid = page_id).content\n",
    "    except: \n",
    "        page_content = ''\n",
    "    return page_content\n",
    "    "
   ]
  },
  {
   "cell_type": "code",
   "execution_count": null,
   "metadata": {
    "collapsed": true
   },
   "outputs": [],
   "source": []
  },
  {
   "cell_type": "code",
   "execution_count": null,
   "metadata": {
    "collapsed": true
   },
   "outputs": [],
   "source": []
  },
  {
   "cell_type": "code",
   "execution_count": null,
   "metadata": {
    "collapsed": true
   },
   "outputs": [],
   "source": []
  },
  {
   "cell_type": "code",
   "execution_count": null,
   "metadata": {
    "collapsed": true
   },
   "outputs": [],
   "source": []
  },
  {
   "cell_type": "code",
   "execution_count": null,
   "metadata": {
    "collapsed": true
   },
   "outputs": [],
   "source": []
  },
  {
   "cell_type": "code",
   "execution_count": 2,
   "metadata": {
    "collapsed": true
   },
   "outputs": [],
   "source": [
    "def request_category( category, sub_category = False):  ## return\n",
    "    '''Request from wikipedia API for category pages (articles, subcategories) \n",
    "            return:  JSON object with category pages  '''\n",
    "    if sub_category:\n",
    "        cat_tag = '&cmtitle=Category:' + sub_category ## append category to cat_tag\n",
    "    else: \n",
    "        cat_tag = '&cmtitle=Category:' + category ## append category to cat_tag\n",
    "    \n",
    "    base_url = 'https://en.wikipedia.org/w/api.php'\n",
    "    action_tag = \"?action=query&list=categorymembers&cmlimit=max\" ## fetch all category members (pages, subcategories)\n",
    "    #category_tag =  cat_tag#'&cmtitle=Category:' + category ## append category to cat_tag\n",
    "    parameters_tag = \"&format=json&prop=info|categories|links\" #&prop=categories|links|info\" ## return in json format\n",
    "    request_call = base_url + action_tag + cat_tag + parameters_tag ## concatenate base_url with request tags\n",
    "    request = requests.get( request_call)  ## request HTTP results\n",
    "    \n",
    "    category_pages = request.json()['query']['categorymembers']  ## list object containing category pages ( articles, sub-categories)\n",
    "    \n",
    "    pages = {}\n",
    "    for i, page_info in enumerate( category_pages):\n",
    "        page_id = page_info['pageid']\n",
    "        page_title = page_info['title']\n",
    "        if sub_category:\n",
    "            pages[i] ={'category': category, 'sub-category': sub_category, 'pageid': page_id, 'title': page_title, 'content':np.nan } \n",
    "        else:\n",
    "            pages[i] ={'category': category, 'sub-category': None, 'pageid': page_id, 'title': page_title, 'content':np.nan } \n",
    "    \n",
    "    pages_df = pd.DataFrame.from_dict( pages, orient = 'index')\n",
    "    \n",
    "    pages_df['title']\n",
    "    \n",
    "    return pages_df\n",
    "    \n",
    "    "
   ]
  },
  {
   "cell_type": "code",
   "execution_count": 13,
   "metadata": {
    "collapsed": true
   },
   "outputs": [],
   "source": [
    "def gather_content( page_df, condition = True):\n",
    "    \n",
    "    category = page_df.category.unique()[0]\n",
    "\n",
    "    sub_category_mask = page_df.title.str.contains( 'Category:')  ## row mask \n",
    "    \n",
    "    new_articles_mask = ~sub_category_mask & page_df.content.isnull()\n",
    "     \n",
    "    sub_category_indices = page_df[sub_category_mask].index.tolist()\n",
    "    ## gather all the article content for the each page in the category, excluding the sub_categories\n",
    "    page_df.loc[new_articles_mask, 'content'] = page_df[ new_articles_mask ].apply( lambda x: grab_content( x.pageid), axis = 1 )\n",
    "    \n",
    "    n_sub_categories = sum( sub_category_mask)\n",
    "    if n_sub_categories == 0:\n",
    "        condition = False\n",
    "        return page_df\n",
    "    \n",
    "    \n",
    "    while condition:\n",
    "        \n",
    "        subCat_indice = sub_category_indices[0] ## grab the first one\n",
    "        \n",
    "        \n",
    "        subCat = page_df.iloc[subCat_indice,:]['title'].split('Category:')[1] # subCat = \n",
    "        \n",
    "        page_df = page_df.append( request_category( category, subCat ), ignore_index= True)\n",
    "        \n",
    "        \n",
    "        page_df.drop( page_df.index[ subCat_indice], inplace = True )  ## Remove the original page\n",
    "        \n",
    "        gather_content( page_df)\n",
    "        \n",
    "        "
   ]
  },
  {
   "cell_type": "code",
   "execution_count": 6,
   "metadata": {
    "collapsed": true
   },
   "outputs": [],
   "source": [
    "page_df = request_category('Machine_learning')\n"
   ]
  },
  {
   "cell_type": "code",
   "execution_count": 7,
   "metadata": {},
   "outputs": [
    {
     "data": {
      "text/html": [
       "<div>\n",
       "<table border=\"1\" class=\"dataframe\">\n",
       "  <thead>\n",
       "    <tr style=\"text-align: right;\">\n",
       "      <th></th>\n",
       "      <th>category</th>\n",
       "      <th>sub-category</th>\n",
       "      <th>pageid</th>\n",
       "      <th>title</th>\n",
       "      <th>content</th>\n",
       "    </tr>\n",
       "  </thead>\n",
       "  <tbody>\n",
       "    <tr>\n",
       "      <th>0</th>\n",
       "      <td>Machine_learning</td>\n",
       "      <td>None</td>\n",
       "      <td>43385931</td>\n",
       "      <td>Data exploration</td>\n",
       "      <td>NaN</td>\n",
       "    </tr>\n",
       "    <tr>\n",
       "      <th>1</th>\n",
       "      <td>Machine_learning</td>\n",
       "      <td>None</td>\n",
       "      <td>49082762</td>\n",
       "      <td>List of datasets for machine learning research</td>\n",
       "      <td>NaN</td>\n",
       "    </tr>\n",
       "    <tr>\n",
       "      <th>2</th>\n",
       "      <td>Machine_learning</td>\n",
       "      <td>None</td>\n",
       "      <td>233488</td>\n",
       "      <td>Machine learning</td>\n",
       "      <td>NaN</td>\n",
       "    </tr>\n",
       "    <tr>\n",
       "      <th>3</th>\n",
       "      <td>Machine_learning</td>\n",
       "      <td>None</td>\n",
       "      <td>53587467</td>\n",
       "      <td>Outline of machine learning</td>\n",
       "      <td>NaN</td>\n",
       "    </tr>\n",
       "    <tr>\n",
       "      <th>4</th>\n",
       "      <td>Machine_learning</td>\n",
       "      <td>None</td>\n",
       "      <td>53198248</td>\n",
       "      <td>Singular statistical model</td>\n",
       "      <td>NaN</td>\n",
       "    </tr>\n",
       "  </tbody>\n",
       "</table>\n",
       "</div>"
      ],
      "text/plain": [
       "           category sub-category    pageid  \\\n",
       "0  Machine_learning         None  43385931   \n",
       "1  Machine_learning         None  49082762   \n",
       "2  Machine_learning         None    233488   \n",
       "3  Machine_learning         None  53587467   \n",
       "4  Machine_learning         None  53198248   \n",
       "\n",
       "                                            title  content  \n",
       "0                                Data exploration      NaN  \n",
       "1  List of datasets for machine learning research      NaN  \n",
       "2                                Machine learning      NaN  \n",
       "3                     Outline of machine learning      NaN  \n",
       "4                      Singular statistical model      NaN  "
      ]
     },
     "execution_count": 7,
     "metadata": {},
     "output_type": "execute_result"
    }
   ],
   "source": [
    "page_df.head()"
   ]
  },
  {
   "cell_type": "code",
   "execution_count": 9,
   "metadata": {},
   "outputs": [
    {
     "data": {
      "text/html": [
       "<div>\n",
       "<table border=\"1\" class=\"dataframe\">\n",
       "  <thead>\n",
       "    <tr style=\"text-align: right;\">\n",
       "      <th></th>\n",
       "      <th>category</th>\n",
       "      <th>sub-category</th>\n",
       "      <th>pageid</th>\n",
       "      <th>title</th>\n",
       "      <th>content</th>\n",
       "    </tr>\n",
       "  </thead>\n",
       "  <tbody>\n",
       "    <tr>\n",
       "      <th>197</th>\n",
       "      <td>Machine_learning</td>\n",
       "      <td>None</td>\n",
       "      <td>47527969</td>\n",
       "      <td>Word2vec</td>\n",
       "      <td>NaN</td>\n",
       "    </tr>\n",
       "    <tr>\n",
       "      <th>198</th>\n",
       "      <td>Machine_learning</td>\n",
       "      <td>None</td>\n",
       "      <td>33547387</td>\n",
       "      <td>Category:Applied machine learning</td>\n",
       "      <td>NaN</td>\n",
       "    </tr>\n",
       "    <tr>\n",
       "      <th>199</th>\n",
       "      <td>Machine_learning</td>\n",
       "      <td>None</td>\n",
       "      <td>42936114</td>\n",
       "      <td>Category:Artificial neural networks</td>\n",
       "      <td>NaN</td>\n",
       "    </tr>\n",
       "    <tr>\n",
       "      <th>200</th>\n",
       "      <td>Machine_learning</td>\n",
       "      <td>None</td>\n",
       "      <td>1718975</td>\n",
       "      <td>Category:Bayesian networks</td>\n",
       "      <td>NaN</td>\n",
       "    </tr>\n",
       "    <tr>\n",
       "      <th>201</th>\n",
       "      <td>Machine_learning</td>\n",
       "      <td>None</td>\n",
       "      <td>1991254</td>\n",
       "      <td>Category:Classification algorithms</td>\n",
       "      <td>NaN</td>\n",
       "    </tr>\n",
       "    <tr>\n",
       "      <th>202</th>\n",
       "      <td>Machine_learning</td>\n",
       "      <td>None</td>\n",
       "      <td>22532673</td>\n",
       "      <td>Category:Cluster analysis</td>\n",
       "      <td>NaN</td>\n",
       "    </tr>\n",
       "    <tr>\n",
       "      <th>203</th>\n",
       "      <td>Machine_learning</td>\n",
       "      <td>None</td>\n",
       "      <td>34310097</td>\n",
       "      <td>Category:Computational learning theory</td>\n",
       "      <td>NaN</td>\n",
       "    </tr>\n",
       "    <tr>\n",
       "      <th>204</th>\n",
       "      <td>Machine_learning</td>\n",
       "      <td>None</td>\n",
       "      <td>12932492</td>\n",
       "      <td>Category:Artificial intelligence conferences</td>\n",
       "      <td>NaN</td>\n",
       "    </tr>\n",
       "    <tr>\n",
       "      <th>205</th>\n",
       "      <td>Machine_learning</td>\n",
       "      <td>None</td>\n",
       "      <td>33542714</td>\n",
       "      <td>Category:Data mining and machine learning soft...</td>\n",
       "      <td>NaN</td>\n",
       "    </tr>\n",
       "    <tr>\n",
       "      <th>206</th>\n",
       "      <td>Machine_learning</td>\n",
       "      <td>None</td>\n",
       "      <td>42320378</td>\n",
       "      <td>Category:Datasets in machine learning</td>\n",
       "      <td>NaN</td>\n",
       "    </tr>\n",
       "    <tr>\n",
       "      <th>207</th>\n",
       "      <td>Machine_learning</td>\n",
       "      <td>None</td>\n",
       "      <td>29549713</td>\n",
       "      <td>Category:Dimension reduction</td>\n",
       "      <td>NaN</td>\n",
       "    </tr>\n",
       "    <tr>\n",
       "      <th>208</th>\n",
       "      <td>Machine_learning</td>\n",
       "      <td>None</td>\n",
       "      <td>3985352</td>\n",
       "      <td>Category:Ensemble learning</td>\n",
       "      <td>NaN</td>\n",
       "    </tr>\n",
       "    <tr>\n",
       "      <th>209</th>\n",
       "      <td>Machine_learning</td>\n",
       "      <td>None</td>\n",
       "      <td>754055</td>\n",
       "      <td>Category:Evolutionary algorithms</td>\n",
       "      <td>NaN</td>\n",
       "    </tr>\n",
       "    <tr>\n",
       "      <th>210</th>\n",
       "      <td>Machine_learning</td>\n",
       "      <td>None</td>\n",
       "      <td>3061615</td>\n",
       "      <td>Category:Genetic programming</td>\n",
       "      <td>NaN</td>\n",
       "    </tr>\n",
       "    <tr>\n",
       "      <th>211</th>\n",
       "      <td>Machine_learning</td>\n",
       "      <td>None</td>\n",
       "      <td>29003796</td>\n",
       "      <td>Category:Inductive logic programming</td>\n",
       "      <td>NaN</td>\n",
       "    </tr>\n",
       "    <tr>\n",
       "      <th>212</th>\n",
       "      <td>Machine_learning</td>\n",
       "      <td>None</td>\n",
       "      <td>12535256</td>\n",
       "      <td>Category:Kernel methods for machine learning</td>\n",
       "      <td>NaN</td>\n",
       "    </tr>\n",
       "    <tr>\n",
       "      <th>213</th>\n",
       "      <td>Machine_learning</td>\n",
       "      <td>None</td>\n",
       "      <td>20924581</td>\n",
       "      <td>Category:Latent variable models</td>\n",
       "      <td>NaN</td>\n",
       "    </tr>\n",
       "    <tr>\n",
       "      <th>214</th>\n",
       "      <td>Machine_learning</td>\n",
       "      <td>None</td>\n",
       "      <td>19314112</td>\n",
       "      <td>Category:Learning in computer vision</td>\n",
       "      <td>NaN</td>\n",
       "    </tr>\n",
       "    <tr>\n",
       "      <th>215</th>\n",
       "      <td>Machine_learning</td>\n",
       "      <td>None</td>\n",
       "      <td>36407925</td>\n",
       "      <td>Category:Log-linear models</td>\n",
       "      <td>NaN</td>\n",
       "    </tr>\n",
       "    <tr>\n",
       "      <th>216</th>\n",
       "      <td>Machine_learning</td>\n",
       "      <td>None</td>\n",
       "      <td>28004586</td>\n",
       "      <td>Category:Loss functions</td>\n",
       "      <td>NaN</td>\n",
       "    </tr>\n",
       "    <tr>\n",
       "      <th>217</th>\n",
       "      <td>Machine_learning</td>\n",
       "      <td>None</td>\n",
       "      <td>33547228</td>\n",
       "      <td>Category:Machine learning algorithms</td>\n",
       "      <td>NaN</td>\n",
       "    </tr>\n",
       "    <tr>\n",
       "      <th>218</th>\n",
       "      <td>Machine_learning</td>\n",
       "      <td>None</td>\n",
       "      <td>44943481</td>\n",
       "      <td>Category:Machine learning portal</td>\n",
       "      <td>NaN</td>\n",
       "    </tr>\n",
       "    <tr>\n",
       "      <th>219</th>\n",
       "      <td>Machine_learning</td>\n",
       "      <td>None</td>\n",
       "      <td>47991509</td>\n",
       "      <td>Category:Machine learning task</td>\n",
       "      <td>NaN</td>\n",
       "    </tr>\n",
       "    <tr>\n",
       "      <th>220</th>\n",
       "      <td>Machine_learning</td>\n",
       "      <td>None</td>\n",
       "      <td>24059390</td>\n",
       "      <td>Category:Markov models</td>\n",
       "      <td>NaN</td>\n",
       "    </tr>\n",
       "    <tr>\n",
       "      <th>221</th>\n",
       "      <td>Machine_learning</td>\n",
       "      <td>None</td>\n",
       "      <td>3832584</td>\n",
       "      <td>Category:Machine learning researchers</td>\n",
       "      <td>NaN</td>\n",
       "    </tr>\n",
       "    <tr>\n",
       "      <th>222</th>\n",
       "      <td>Machine_learning</td>\n",
       "      <td>None</td>\n",
       "      <td>52763829</td>\n",
       "      <td>Category:Semisupervised learning</td>\n",
       "      <td>NaN</td>\n",
       "    </tr>\n",
       "    <tr>\n",
       "      <th>223</th>\n",
       "      <td>Machine_learning</td>\n",
       "      <td>None</td>\n",
       "      <td>11737376</td>\n",
       "      <td>Category:Statistical natural language processing</td>\n",
       "      <td>NaN</td>\n",
       "    </tr>\n",
       "    <tr>\n",
       "      <th>224</th>\n",
       "      <td>Machine_learning</td>\n",
       "      <td>None</td>\n",
       "      <td>40149461</td>\n",
       "      <td>Category:Structured prediction</td>\n",
       "      <td>NaN</td>\n",
       "    </tr>\n",
       "    <tr>\n",
       "      <th>225</th>\n",
       "      <td>Machine_learning</td>\n",
       "      <td>None</td>\n",
       "      <td>52763867</td>\n",
       "      <td>Category:Supervised learning</td>\n",
       "      <td>NaN</td>\n",
       "    </tr>\n",
       "    <tr>\n",
       "      <th>226</th>\n",
       "      <td>Machine_learning</td>\n",
       "      <td>None</td>\n",
       "      <td>31176997</td>\n",
       "      <td>Category:Support vector machines</td>\n",
       "      <td>NaN</td>\n",
       "    </tr>\n",
       "    <tr>\n",
       "      <th>227</th>\n",
       "      <td>Machine_learning</td>\n",
       "      <td>None</td>\n",
       "      <td>52763828</td>\n",
       "      <td>Category:Unsupervised learning</td>\n",
       "      <td>NaN</td>\n",
       "    </tr>\n",
       "  </tbody>\n",
       "</table>\n",
       "</div>"
      ],
      "text/plain": [
       "             category sub-category    pageid  \\\n",
       "197  Machine_learning         None  47527969   \n",
       "198  Machine_learning         None  33547387   \n",
       "199  Machine_learning         None  42936114   \n",
       "200  Machine_learning         None   1718975   \n",
       "201  Machine_learning         None   1991254   \n",
       "202  Machine_learning         None  22532673   \n",
       "203  Machine_learning         None  34310097   \n",
       "204  Machine_learning         None  12932492   \n",
       "205  Machine_learning         None  33542714   \n",
       "206  Machine_learning         None  42320378   \n",
       "207  Machine_learning         None  29549713   \n",
       "208  Machine_learning         None   3985352   \n",
       "209  Machine_learning         None    754055   \n",
       "210  Machine_learning         None   3061615   \n",
       "211  Machine_learning         None  29003796   \n",
       "212  Machine_learning         None  12535256   \n",
       "213  Machine_learning         None  20924581   \n",
       "214  Machine_learning         None  19314112   \n",
       "215  Machine_learning         None  36407925   \n",
       "216  Machine_learning         None  28004586   \n",
       "217  Machine_learning         None  33547228   \n",
       "218  Machine_learning         None  44943481   \n",
       "219  Machine_learning         None  47991509   \n",
       "220  Machine_learning         None  24059390   \n",
       "221  Machine_learning         None   3832584   \n",
       "222  Machine_learning         None  52763829   \n",
       "223  Machine_learning         None  11737376   \n",
       "224  Machine_learning         None  40149461   \n",
       "225  Machine_learning         None  52763867   \n",
       "226  Machine_learning         None  31176997   \n",
       "227  Machine_learning         None  52763828   \n",
       "\n",
       "                                                 title  content  \n",
       "197                                           Word2vec      NaN  \n",
       "198                  Category:Applied machine learning      NaN  \n",
       "199                Category:Artificial neural networks      NaN  \n",
       "200                         Category:Bayesian networks      NaN  \n",
       "201                 Category:Classification algorithms      NaN  \n",
       "202                          Category:Cluster analysis      NaN  \n",
       "203             Category:Computational learning theory      NaN  \n",
       "204       Category:Artificial intelligence conferences      NaN  \n",
       "205  Category:Data mining and machine learning soft...      NaN  \n",
       "206              Category:Datasets in machine learning      NaN  \n",
       "207                       Category:Dimension reduction      NaN  \n",
       "208                         Category:Ensemble learning      NaN  \n",
       "209                   Category:Evolutionary algorithms      NaN  \n",
       "210                       Category:Genetic programming      NaN  \n",
       "211               Category:Inductive logic programming      NaN  \n",
       "212       Category:Kernel methods for machine learning      NaN  \n",
       "213                    Category:Latent variable models      NaN  \n",
       "214               Category:Learning in computer vision      NaN  \n",
       "215                         Category:Log-linear models      NaN  \n",
       "216                            Category:Loss functions      NaN  \n",
       "217               Category:Machine learning algorithms      NaN  \n",
       "218                   Category:Machine learning portal      NaN  \n",
       "219                     Category:Machine learning task      NaN  \n",
       "220                             Category:Markov models      NaN  \n",
       "221              Category:Machine learning researchers      NaN  \n",
       "222                   Category:Semisupervised learning      NaN  \n",
       "223   Category:Statistical natural language processing      NaN  \n",
       "224                     Category:Structured prediction      NaN  \n",
       "225                       Category:Supervised learning      NaN  \n",
       "226                   Category:Support vector machines      NaN  \n",
       "227                     Category:Unsupervised learning      NaN  "
      ]
     },
     "execution_count": 9,
     "metadata": {},
     "output_type": "execute_result"
    }
   ],
   "source": [
    "page_df.tail(31)"
   ]
  },
  {
   "cell_type": "code",
   "execution_count": null,
   "metadata": {
    "collapsed": true
   },
   "outputs": [],
   "source": [
    "category_df = gather_content( page_df)"
   ]
  },
  {
   "cell_type": "code",
   "execution_count": null,
   "metadata": {
    "collapsed": true
   },
   "outputs": [],
   "source": []
  },
  {
   "cell_type": "code",
   "execution_count": null,
   "metadata": {
    "collapsed": true
   },
   "outputs": [],
   "source": []
  },
  {
   "cell_type": "code",
   "execution_count": null,
   "metadata": {
    "collapsed": true
   },
   "outputs": [],
   "source": []
  },
  {
   "cell_type": "code",
   "execution_count": null,
   "metadata": {
    "collapsed": true
   },
   "outputs": [],
   "source": [
    "page_df.head()"
   ]
  },
  {
   "cell_type": "code",
   "execution_count": null,
   "metadata": {
    "collapsed": true
   },
   "outputs": [],
   "source": [
    "page_df.category.unique()[0]"
   ]
  },
  {
   "cell_type": "code",
   "execution_count": null,
   "metadata": {
    "collapsed": true
   },
   "outputs": [],
   "source": [
    "arr[0]"
   ]
  },
  {
   "cell_type": "code",
   "execution_count": null,
   "metadata": {
    "collapsed": true
   },
   "outputs": [],
   "source": [
    "sub_category_mask = page_df.title.str.contains( 'Category:')"
   ]
  },
  {
   "cell_type": "code",
   "execution_count": null,
   "metadata": {
    "collapsed": true
   },
   "outputs": [],
   "source": [
    "page_df.shape, sum( sub_category_mask), sum( ~sub_category_mask)"
   ]
  },
  {
   "cell_type": "code",
   "execution_count": null,
   "metadata": {
    "collapsed": true
   },
   "outputs": [],
   "source": [
    "sub_category_mask = page_df_test.title.str.contains( 'Category:')\n",
    "\n",
    "sum(~sub_category_mask), page_df_test.content.isnull().sum()"
   ]
  },
  {
   "cell_type": "code",
   "execution_count": null,
   "metadata": {
    "collapsed": true
   },
   "outputs": [],
   "source": [
    "new_articles_mask = ~sub_category_mask & page_df_test.content.isnull()\n",
    "sum(new_articles_mask)"
   ]
  },
  {
   "cell_type": "code",
   "execution_count": null,
   "metadata": {
    "collapsed": true
   },
   "outputs": [],
   "source": [
    "sub_category_mask = page_df.title.str.contains( 'Category:')\n",
    "\n",
    "new_articles_mask = ~sub_category_mask & page_df.content.isnull()\n",
    "    \n",
    "n_articles = sum( ~sub_category_mask)\n",
    "n_sub_categories = sum( sub_category_mask)\n",
    "\n",
    "#print( '{} requests to be made'.format( n_articles * n_sub_categories) )\n",
    "## First gather all the article content for the each page in the category\n",
    "page_df.loc[~sub_category_mask, 'content'] = page_df[ ~sub_category_mask ].apply( lambda x: grab_content( x.pageid), axis = 1 )\n",
    "    "
   ]
  },
  {
   "cell_type": "code",
   "execution_count": null,
   "metadata": {
    "collapsed": true
   },
   "outputs": [],
   "source": [
    "page_df.tail(31)"
   ]
  },
  {
   "cell_type": "code",
   "execution_count": null,
   "metadata": {
    "collapsed": true
   },
   "outputs": [],
   "source": [
    "category = page_df.category.unique()[0]\n",
    "category"
   ]
  },
  {
   "cell_type": "code",
   "execution_count": null,
   "metadata": {
    "collapsed": true
   },
   "outputs": [],
   "source": [
    "sub_category_indices = page_df[sub_category_mask].index.tolist()\n",
    "\n",
    "\n",
    "\n",
    "subCat_indice = sub_category_indices[0] ## grab the first one\n",
    "print(subCat_indice)"
   ]
  },
  {
   "cell_type": "code",
   "execution_count": null,
   "metadata": {
    "collapsed": true
   },
   "outputs": [],
   "source": [
    "subCat = page_df.iloc[subCat_indice,:]['title'].split('Category:')[1] # subCat = \n",
    "print( subCat)"
   ]
  },
  {
   "cell_type": "code",
   "execution_count": null,
   "metadata": {
    "collapsed": true
   },
   "outputs": [],
   "source": [
    "sub_category_pages_df = request_category( category, subCat )\n",
    "\n",
    "page_df = page_df.append( sub_category_pages_df, ignore_index= True)\n",
    "\n"
   ]
  },
  {
   "cell_type": "code",
   "execution_count": null,
   "metadata": {
    "collapsed": true
   },
   "outputs": [],
   "source": [
    "page_df.drop( page_df.index[262:], inplace = True)"
   ]
  },
  {
   "cell_type": "code",
   "execution_count": null,
   "metadata": {
    "collapsed": true
   },
   "outputs": [],
   "source": [
    "page_df.tail(65)"
   ]
  },
  {
   "cell_type": "code",
   "execution_count": null,
   "metadata": {
    "collapsed": true
   },
   "outputs": [],
   "source": [
    "print( page_df.loc[ subCat_indice, :])\n",
    "\n",
    "\n",
    "page_df.drop( page_df.index[ subCat_indice], inplace = True )  ## Remove the original page\n",
    "page_df.tail(65)"
   ]
  },
  {
   "cell_type": "code",
   "execution_count": null,
   "metadata": {
    "collapsed": true
   },
   "outputs": [],
   "source": [
    "sub_category_mask = page_df.title.str.contains( 'Category:')  ## row mask "
   ]
  },
  {
   "cell_type": "code",
   "execution_count": null,
   "metadata": {
    "collapsed": true
   },
   "outputs": [],
   "source": [
    "sum(sub_category_mask)"
   ]
  },
  {
   "cell_type": "code",
   "execution_count": null,
   "metadata": {
    "collapsed": true
   },
   "outputs": [],
   "source": [
    "\n",
    "new_articles_mask = ~sub_category_mask & page_df.content.isnull()"
   ]
  },
  {
   "cell_type": "code",
   "execution_count": null,
   "metadata": {
    "collapsed": true
   },
   "outputs": [],
   "source": [
    "page_df[new_articles_mask]"
   ]
  },
  {
   "cell_type": "code",
   "execution_count": null,
   "metadata": {
    "collapsed": true
   },
   "outputs": [],
   "source": []
  },
  {
   "cell_type": "code",
   "execution_count": null,
   "metadata": {
    "collapsed": true
   },
   "outputs": [],
   "source": [
    "page_df.content.isnull()"
   ]
  },
  {
   "cell_type": "code",
   "execution_count": null,
   "metadata": {
    "collapsed": true
   },
   "outputs": [],
   "source": []
  },
  {
   "cell_type": "code",
   "execution_count": null,
   "metadata": {
    "collapsed": true
   },
   "outputs": [],
   "source": [
    "category = page_df.category.unique()[0]\n",
    "\n",
    "sub_category_indices = df[sub_category_mask].index.tolist()\n",
    "\n",
    "subCat_indice = sub_category_indices[0] ## grab the first one\n",
    "print(subCat_indice)\n",
    "\n",
    "\n",
    "subCat = page_df.iloc[subCat_indice,:]['title'].split('Category:')[1] # subCat = \n",
    "print( subCat)\n",
    "request_category( category, subCat )\n",
    "\n",
    "#page_df = page_df.append( request_category( category, subCat ), ignore_index= True) # \n",
    "\n",
    "#print( page_df.loc[ subCat_indice, :])\n",
    "\n",
    "#page_df.tail()\n",
    "#page_df.drop( page_df.index[ sub_Cat_indice] )  ## Remove the original page\n"
   ]
  },
  {
   "cell_type": "code",
   "execution_count": null,
   "metadata": {
    "collapsed": true
   },
   "outputs": [],
   "source": [
    "page_df"
   ]
  },
  {
   "cell_type": "code",
   "execution_count": null,
   "metadata": {
    "collapsed": true
   },
   "outputs": [],
   "source": [
    "page_df.iloc[455,:]"
   ]
  },
  {
   "cell_type": "code",
   "execution_count": null,
   "metadata": {
    "collapsed": true
   },
   "outputs": [],
   "source": [
    "page_df[ page_df['sub-category'] == 'Applied machine learning']"
   ]
  },
  {
   "cell_type": "code",
   "execution_count": null,
   "metadata": {
    "collapsed": true
   },
   "outputs": [],
   "source": [
    "page_df['sub-category'].isnull().sum()"
   ]
  },
  {
   "cell_type": "code",
   "execution_count": null,
   "metadata": {
    "collapsed": true
   },
   "outputs": [],
   "source": [
    "page_df.shape"
   ]
  },
  {
   "cell_type": "code",
   "execution_count": null,
   "metadata": {
    "collapsed": true
   },
   "outputs": [],
   "source": [
    "page_df.iloc[198,:]"
   ]
  },
  {
   "cell_type": "code",
   "execution_count": null,
   "metadata": {
    "collapsed": true
   },
   "outputs": [],
   "source": [
    "n_sub_categories\n"
   ]
  },
  {
   "cell_type": "code",
   "execution_count": null,
   "metadata": {
    "collapsed": true
   },
   "outputs": [],
   "source": [
    "for i in range( ):\n",
    "    page_df.append( request_category( page_df.category.unique()[0], df[sub_category_mask].iloc[i,:]['title'].split('Category:')[1]), ignore_index= True)            \n",
    "    # page_df.drop()  ## remove original page"
   ]
  },
  {
   "cell_type": "code",
   "execution_count": null,
   "metadata": {
    "collapsed": true
   },
   "outputs": [],
   "source": [
    "sub_category_indices = df[sub_category_mask].index.tolist()\n",
    "\n",
    "subCat_indice = sub_category_indices[0] ## grab the first one\n",
    "\n",
    "subCat = page_df.iloc[subCat_indice,:]['title'].split('Category:')[1] # subCat = \n",
    "        \n",
    "page_df.append( request_category( category, subCat ), ignore_index= True)\n",
    "\n",
    "\n",
    "page_df.drop( page_df.index[ sub_Cat_indice] )  ## Remove the original page\n"
   ]
  },
  {
   "cell_type": "code",
   "execution_count": null,
   "metadata": {
    "collapsed": true
   },
   "outputs": [],
   "source": [
    "grab_content( 39945557)"
   ]
  },
  {
   "cell_type": "code",
   "execution_count": null,
   "metadata": {
    "collapsed": true
   },
   "outputs": [],
   "source": [
    "~sub_category_mask"
   ]
  },
  {
   "cell_type": "code",
   "execution_count": null,
   "metadata": {
    "collapsed": true
   },
   "outputs": [],
   "source": [
    "\n",
    "\n",
    "\n",
    "df.loc[~sub_category_mask, 'content'] = df[ ~sub_category_mask ].apply( lambda x: grab_content( x.pageid), axis = 1 )\n",
    "#sub_df.apply( lambda x: grab_content(x.pageid), axis = 1) # grab_content("
   ]
  },
  {
   "cell_type": "code",
   "execution_count": null,
   "metadata": {
    "collapsed": true
   },
   "outputs": [],
   "source": [
    "df.head()"
   ]
  },
  {
   "cell_type": "code",
   "execution_count": null,
   "metadata": {
    "collapsed": true
   },
   "outputs": [],
   "source": [
    "df.tail()"
   ]
  },
  {
   "cell_type": "code",
   "execution_count": null,
   "metadata": {
    "collapsed": true
   },
   "outputs": [],
   "source": [
    "df[sub_category_mask]"
   ]
  },
  {
   "cell_type": "code",
   "execution_count": null,
   "metadata": {
    "collapsed": true
   },
   "outputs": [],
   "source": [
    "df[sub_category_mask]"
   ]
  },
  {
   "cell_type": "code",
   "execution_count": null,
   "metadata": {
    "collapsed": true
   },
   "outputs": [],
   "source": []
  },
  {
   "cell_type": "code",
   "execution_count": null,
   "metadata": {
    "collapsed": true
   },
   "outputs": [],
   "source": [
    "df[sub_category_mask].apply( lambda x: request_category('Machine_learning', x.title.split('Category:')[1]), axis = 1 )#, axis = 1)\n",
    "#"
   ]
  },
  {
   "cell_type": "code",
   "execution_count": null,
   "metadata": {
    "collapsed": true
   },
   "outputs": [],
   "source": [
    "df.append(request_category( 'Machine_learning', df[sub_category_mask].apply( lambda x: x.title.split('Category:')[1]), ignore_index= True )"
   ]
  },
  {
   "cell_type": "code",
   "execution_count": null,
   "metadata": {
    "collapsed": true
   },
   "outputs": [],
   "source": []
  },
  {
   "cell_type": "code",
   "execution_count": null,
   "metadata": {
    "collapsed": true
   },
   "outputs": [],
   "source": []
  },
  {
   "cell_type": "code",
   "execution_count": null,
   "metadata": {
    "collapsed": true
   },
   "outputs": [],
   "source": []
  },
  {
   "cell_type": "code",
   "execution_count": null,
   "metadata": {
    "collapsed": true
   },
   "outputs": [],
   "source": []
  },
  {
   "cell_type": "code",
   "execution_count": null,
   "metadata": {
    "collapsed": true
   },
   "outputs": [],
   "source": [
    "df.append(request_category( 'Machine_learning', df[sub_category_mask].iloc[0,:]['title'].split('Category:')[1]), ignore_index= True)            "
   ]
  },
  {
   "cell_type": "code",
   "execution_count": null,
   "metadata": {
    "collapsed": true
   },
   "outputs": [],
   "source": []
  },
  {
   "cell_type": "code",
   "execution_count": null,
   "metadata": {
    "collapsed": true
   },
   "outputs": [],
   "source": [
    "df[sub_category_mask].apply(  lambda x: request_category( x['title'].split('Category:')[1]), axis = 1)   # \n",
    "## \n",
    "                        \n",
    "                        \n",
    "                        \n",
    "                        "
   ]
  },
  {
   "cell_type": "code",
   "execution_count": null,
   "metadata": {
    "collapsed": true
   },
   "outputs": [],
   "source": [
    "df[sub_category_mask]"
   ]
  },
  {
   "cell_type": "code",
   "execution_count": null,
   "metadata": {
    "collapsed": true
   },
   "outputs": [],
   "source": []
  },
  {
   "cell_type": "code",
   "execution_count": null,
   "metadata": {
    "collapsed": true
   },
   "outputs": [],
   "source": []
  },
  {
   "cell_type": "code",
   "execution_count": null,
   "metadata": {
    "collapsed": true
   },
   "outputs": [],
   "source": []
  },
  {
   "cell_type": "code",
   "execution_count": null,
   "metadata": {
    "collapsed": true
   },
   "outputs": [],
   "source": []
  },
  {
   "cell_type": "code",
   "execution_count": null,
   "metadata": {
    "collapsed": true
   },
   "outputs": [],
   "source": [
    "sub_category_mask = df.title.str.contains( 'Category:')\n",
    "\n",
    "\n",
    "article_df = df[ ~sub_category_mask ]"
   ]
  },
  {
   "cell_type": "code",
   "execution_count": null,
   "metadata": {
    "collapsed": true
   },
   "outputs": [],
   "source": [
    "sub_df = article_df.loc[:10,:]"
   ]
  },
  {
   "cell_type": "code",
   "execution_count": null,
   "metadata": {
    "collapsed": true
   },
   "outputs": [],
   "source": [
    "sub_df"
   ]
  },
  {
   "cell_type": "code",
   "execution_count": null,
   "metadata": {
    "collapsed": true
   },
   "outputs": [],
   "source": [
    "sub_df.loc[:, 'content'] = sub_df.apply( lambda x: grab_content(x.pageid), axis = 1) # grab_content("
   ]
  },
  {
   "cell_type": "code",
   "execution_count": null,
   "metadata": {
    "collapsed": true
   },
   "outputs": [],
   "source": [
    "sub_df.head()"
   ]
  },
  {
   "cell_type": "code",
   "execution_count": null,
   "metadata": {
    "collapsed": true
   },
   "outputs": [],
   "source": []
  },
  {
   "cell_type": "code",
   "execution_count": null,
   "metadata": {
    "collapsed": true
   },
   "outputs": [],
   "source": []
  },
  {
   "cell_type": "code",
   "execution_count": null,
   "metadata": {
    "collapsed": true
   },
   "outputs": [],
   "source": []
  },
  {
   "cell_type": "code",
   "execution_count": null,
   "metadata": {
    "collapsed": true
   },
   "outputs": [],
   "source": []
  },
  {
   "cell_type": "code",
   "execution_count": null,
   "metadata": {
    "collapsed": true
   },
   "outputs": [],
   "source": []
  },
  {
   "cell_type": "code",
   "execution_count": null,
   "metadata": {
    "collapsed": true
   },
   "outputs": [],
   "source": []
  },
  {
   "cell_type": "code",
   "execution_count": null,
   "metadata": {
    "collapsed": true
   },
   "outputs": [],
   "source": []
  },
  {
   "cell_type": "code",
   "execution_count": null,
   "metadata": {
    "collapsed": true
   },
   "outputs": [],
   "source": []
  },
  {
   "cell_type": "code",
   "execution_count": null,
   "metadata": {
    "collapsed": true
   },
   "outputs": [],
   "source": []
  },
  {
   "cell_type": "code",
   "execution_count": null,
   "metadata": {
    "collapsed": true
   },
   "outputs": [],
   "source": [
    "ml_json = request_category('Machine_learning').json()\n",
    "\n",
    "ml_pages  = ml_json['query']['categorymembers']  ## List object"
   ]
  },
  {
   "cell_type": "code",
   "execution_count": null,
   "metadata": {
    "collapsed": true
   },
   "outputs": [],
   "source": [
    "\n",
    "\n",
    "ml_pages  = ml_json['query']['categorymembers']  ## List object\n",
    "N_pages = len(ml_pages)"
   ]
  },
  {
   "cell_type": "code",
   "execution_count": null,
   "metadata": {
    "collapsed": true
   },
   "outputs": [],
   "source": [
    "ml_pages[-1]['title'].split('Category:')[1]"
   ]
  },
  {
   "cell_type": "code",
   "execution_count": null,
   "metadata": {
    "collapsed": true
   },
   "outputs": [],
   "source": [
    "pages = {}"
   ]
  },
  {
   "cell_type": "code",
   "execution_count": null,
   "metadata": {
    "collapsed": true
   },
   "outputs": [],
   "source": [
    "ml_json['query'].keys()"
   ]
  },
  {
   "cell_type": "code",
   "execution_count": null,
   "metadata": {
    "collapsed": true
   },
   "outputs": [],
   "source": []
  },
  {
   "cell_type": "code",
   "execution_count": null,
   "metadata": {
    "collapsed": true
   },
   "outputs": [],
   "source": [
    "pages = {}\n",
    "for i, page_info in enumerate( category_pages):\n",
    "    page_id = page_info['pageid']\n",
    "    page_title = page_info['title']\n",
    "    \n",
    "    pages[i] ={'pageid': page_id, 'title': page_title, 'content': page_content, 'category': category} \n",
    "    \n",
    "pages_df = pd.DataFrame.from_dict( pages, orient = 'index')\n",
    "\n",
    "    "
   ]
  },
  {
   "cell_type": "code",
   "execution_count": null,
   "metadata": {
    "collapsed": true
   },
   "outputs": [],
   "source": [
    "def gather_content( category, category_pages):\n",
    "    \n",
    "    request_category( category).json()\n",
    "    \n",
    "\n",
    "    pages = {}\n",
    "\n",
    "    for i, page_info in enumerate( category_pages):\n",
    "\n",
    "        page_type = page_info['ns']\n",
    "        page_id = page_info['pageid']\n",
    "        page_title = page_info['title']\n",
    "\n",
    "        if page_type == 0:  ## category\n",
    "            \n",
    "            page_content = wikipedia.WikipediaPage(pageid = page_id).content\n",
    "\n",
    "            pages[i] ={'pageid': page_id, 'title': page_title, 'conent': page_content, 'category':} \n",
    "            \n",
    "        else:  ## sub-category\n",
    "            sub_category = page_title.split('Category:')[1]\n",
    "            \n",
    "            sub_category_pages = request_category( sub_category).json()['query']['categorymembers']\n",
    "            \n",
    "            gather_content( category, sub_category_pages)\n",
    "            \n",
    "        \n",
    "        \n",
    "    "
   ]
  },
  {
   "cell_type": "code",
   "execution_count": null,
   "metadata": {
    "collapsed": true
   },
   "outputs": [],
   "source": [
    "def gather_content( category, category_pages):\n",
    "    \n",
    "    \n",
    "\n",
    "    pages = {}\n",
    "\n",
    "    for i, page_info in enumerate( ml_pages[0:10]):\n",
    "\n",
    "        page_type = page_info['ns']\n",
    "        page_id = page_info['pageid']\n",
    "        page_title = page_info['title']\n",
    "\n",
    "        if page_type == 14:  ## sub-category\n",
    "            \n",
    "            sub_category = page_title.split('Category:')[1]\n",
    "            \n",
    "            sub_category_json = request_category( sub_category).json()\n",
    "            \n",
    "            \n",
    "            \n",
    "\n",
    "        #else:  ## article\n",
    "            #page_content = wikipedia.WikipediaPage(pageid = page_id).content\n",
    "\n",
    "            #pages[i] ={'pageid': page_id, 'title': page_title, 'conent': page_content, 'category':} \n",
    "        \n",
    "#pages        \n",
    "        \n",
    "        \n",
    "        \n",
    "    "
   ]
  },
  {
   "cell_type": "code",
   "execution_count": null,
   "metadata": {
    "collapsed": true
   },
   "outputs": [],
   "source": [
    "pages"
   ]
  },
  {
   "cell_type": "code",
   "execution_count": null,
   "metadata": {
    "collapsed": true
   },
   "outputs": [],
   "source": [
    "pd.DataFrame.from_dict( pages, orient = 'index')"
   ]
  },
  {
   "cell_type": "code",
   "execution_count": null,
   "metadata": {
    "collapsed": true
   },
   "outputs": [],
   "source": [
    "##Get all the pages in a Category\n",
    "\n",
    "catJson = ml.json() ## dict\n",
    "catJson.keys()\n",
    "\n"
   ]
  },
  {
   "cell_type": "code",
   "execution_count": null,
   "metadata": {
    "collapsed": true
   },
   "outputs": [],
   "source": [
    "catJson"
   ]
  },
  {
   "cell_type": "code",
   "execution_count": null,
   "metadata": {
    "collapsed": true
   },
   "outputs": [],
   "source": [
    "catPages = catJson['query']['categorymembers']\n",
    "print( len( catPages))\n",
    "print( catPages[0:5], sep = '\\n' )"
   ]
  },
  {
   "cell_type": "code",
   "execution_count": null,
   "metadata": {
    "collapsed": true
   },
   "outputs": [],
   "source": [
    "catPages"
   ]
  },
  {
   "cell_type": "code",
   "execution_count": null,
   "metadata": {
    "collapsed": true
   },
   "outputs": [],
   "source": [
    "articles = {}\n",
    "\n",
    "subcats = {}\n",
    "\n",
    "for i, page in enumerate( catPages):\n",
    "    \n",
    "    pageid = page['pageid']\n",
    "    title = page['title']\n",
    "    \n",
    "    if 'Category' not in title:\n",
    "\n",
    "    \n",
    "    "
   ]
  },
  {
   "cell_type": "code",
   "execution_count": null,
   "metadata": {
    "collapsed": true
   },
   "outputs": [],
   "source": [
    "\n"
   ]
  },
  {
   "cell_type": "code",
   "execution_count": null,
   "metadata": {
    "collapsed": true
   },
   "outputs": [],
   "source": [
    "pd.DataFrame()"
   ]
  },
  {
   "cell_type": "code",
   "execution_count": null,
   "metadata": {
    "collapsed": true
   },
   "outputs": [],
   "source": []
  },
  {
   "cell_type": "code",
   "execution_count": null,
   "metadata": {
    "collapsed": true
   },
   "outputs": [],
   "source": [
    "#wikipedia.WikipediaPage(pageid = 50222574).links\n",
    "wikipedia.WikipediaPage(pageid = 39945557)"
   ]
  },
  {
   "cell_type": "code",
   "execution_count": null,
   "metadata": {
    "collapsed": true
   },
   "outputs": [],
   "source": []
  },
  {
   "cell_type": "code",
   "execution_count": null,
   "metadata": {
    "collapsed": true
   },
   "outputs": [],
   "source": []
  },
  {
   "cell_type": "code",
   "execution_count": null,
   "metadata": {
    "collapsed": true
   },
   "outputs": [],
   "source": []
  },
  {
   "cell_type": "code",
   "execution_count": null,
   "metadata": {
    "collapsed": true
   },
   "outputs": [],
   "source": [
    "base_url = 'https://en.wikipedia.org/w/api.php'"
   ]
  },
  {
   "cell_type": "code",
   "execution_count": null,
   "metadata": {
    "collapsed": true
   },
   "outputs": [],
   "source": [
    "action = \"?action=query&list=categorymembers&cmlimit=max\" ## &generator=allpages |allpages\n",
    "#action = \"?action=mobileview\"\n",
    "parameters = \"&format=json&prop=categories|links|info\" #  \" # &sections=all &rvprop=content\n",
    "category = '&cmtitle=Category:'\n",
    "#titles = \"&titles=\"\n",
    "#page = \"&page=\""
   ]
  },
  {
   "cell_type": "code",
   "execution_count": null,
   "metadata": {
    "collapsed": true
   },
   "outputs": [],
   "source": [
    "#category = \"Machine_learning\"\n",
    "\n",
    "url = base_url + action + parameters + category + 'Category:Machine_learning'\n"
   ]
  },
  {
   "cell_type": "code",
   "execution_count": null,
   "metadata": {
    "collapsed": true
   },
   "outputs": [],
   "source": [
    "ml = requests.get( url)"
   ]
  },
  {
   "cell_type": "code",
   "execution_count": null,
   "metadata": {
    "collapsed": true
   },
   "outputs": [],
   "source": [
    "ml.json()"
   ]
  },
  {
   "cell_type": "code",
   "execution_count": null,
   "metadata": {
    "collapsed": true
   },
   "outputs": [],
   "source": []
  },
  {
   "cell_type": "code",
   "execution_count": null,
   "metadata": {
    "collapsed": true
   },
   "outputs": [],
   "source": []
  },
  {
   "cell_type": "code",
   "execution_count": null,
   "metadata": {
    "collapsed": true
   },
   "outputs": [],
   "source": []
  }
 ],
 "metadata": {
  "kernelspec": {
   "display_name": "Python 3",
   "language": "python",
   "name": "python3"
  },
  "language_info": {
   "codemirror_mode": {
    "name": "ipython",
    "version": 3
   },
   "file_extension": ".py",
   "mimetype": "text/x-python",
   "name": "python",
   "nbconvert_exporter": "python",
   "pygments_lexer": "ipython3",
   "version": "3.6.1"
  }
 },
 "nbformat": 4,
 "nbformat_minor": 2
}
