{
 "cells": [
  {
   "cell_type": "code",
   "execution_count": 1,
   "metadata": {
    "collapsed": true
   },
   "outputs": [],
   "source": [
    "import requests"
   ]
  },
  {
   "cell_type": "markdown",
   "metadata": {},
   "source": [
    "https://www.mediawiki.org/wiki/API:Main_page"
   ]
  },
  {
   "cell_type": "markdown",
   "metadata": {},
   "source": [
    "## CRUD\n",
    "\n",
    "| | SQL | RESTful API |\n",
    "|:-:|:-:|:-:|\n",
    "| create | `INSERT` | `POST` |\n",
    "| read | `SELECT` | `GET` |\n",
    "| update | `UPDATE` | `PUT` |\n",
    "| delete | `DELETE` | `DELETE` |"
   ]
  },
  {
   "cell_type": "markdown",
   "metadata": {},
   "source": [
    "![](http://interactive.blockdiag.com/image?compression=deflate&encoding=base64&src=eJxLyslPzk7JTExXqOZSUFAPcnV0UUgrys9VCM_MzixIBcqoK-jaKRSlFpfmlBSDmOrlRZklqQol-QoF-cUl6UAZdWuuWgBXuhe4)"
   ]
  },
  {
   "cell_type": "markdown",
   "metadata": {},
   "source": [
    "## Read results from Google"
   ]
  },
  {
   "cell_type": "code",
   "execution_count": 6,
   "metadata": {},
   "outputs": [
    {
     "data": {
      "text/plain": [
       "<Response [200]>"
      ]
     },
     "execution_count": 6,
     "metadata": {},
     "output_type": "execute_result"
    }
   ],
   "source": [
    "requests.get( 'https://google.com')"
   ]
  },
  {
   "cell_type": "code",
   "execution_count": null,
   "metadata": {
    "collapsed": true
   },
   "outputs": [],
   "source": [
    "response = requests.get( 'https://google.com')"
   ]
  },
  {
   "cell_type": "code",
   "execution_count": 14,
   "metadata": {},
   "outputs": [],
   "source": [
    "response2 = requests.get( \"https://www.google.com/search?q=cowboy&oq=cowboy&aqs=chrome..69i57j0l5.161807j0j8&sourceid=chrome&ie=UTF-8\")     "
   ]
  },
  {
   "cell_type": "code",
   "execution_count": 8,
   "metadata": {},
   "outputs": [
    {
     "data": {
      "text/plain": [
       "<Response [200]>"
      ]
     },
     "execution_count": 8,
     "metadata": {},
     "output_type": "execute_result"
    }
   ],
   "source": [
    "response"
   ]
  },
  {
   "cell_type": "code",
   "execution_count": 9,
   "metadata": {},
   "outputs": [
    {
     "data": {
      "text/plain": [
       "200"
      ]
     },
     "execution_count": 9,
     "metadata": {},
     "output_type": "execute_result"
    }
   ],
   "source": [
    "response.status_code"
   ]
  },
  {
   "cell_type": "code",
   "execution_count": 10,
   "metadata": {},
   "outputs": [
    {
     "data": {
      "text/plain": [
       "'https://www.google.com/'"
      ]
     },
     "execution_count": 10,
     "metadata": {},
     "output_type": "execute_result"
    }
   ],
   "source": [
    "response.url"
   ]
  },
  {
   "cell_type": "code",
   "execution_count": 15,
   "metadata": {},
   "outputs": [
    {
     "data": {
      "text/plain": [
       "'<!doctype html><html itemscope=\"\" itemtype=\"http://schema.org/SearchResultsPage\" lang=\"en\"><head><meta content=\"text/html; charset=UTF-8\" http-equiv=\"Content-Type\"><meta content=\"/images/branding/googleg/1x/googleg_standard_color_128dp.png\" itemprop=\"image\"><link href=\"/images/branding/product/ico/googleg_lodp.ico\" rel=\"shortcut icon\"><title>cowboy - Google Search</title><style>#gbar,#guser{font-size:13px;padding-top:1px !important;}#gbar{height:22px}#guser{padding-bottom:7px !important;text-align:right}.gbh,.gbd{border-top:1px solid #c9d7f1;font-size:1px}.gbh{height:0;position:absolute;top:24px;width:100%}@media all{.gb1{height:22px;margin-right:.5em;vertical-align:top}#gbar{float:left}}a.gb1,a.gb4{text-decoration:underline !important}a.gb1,a.gb4{color:#00c !important}.gbi .gb4{color:#dd8e27 !important}.gbf .gb4{color:#900 !important} </style><style>.star{float:left;margin-top:1px;overflow:hidden}._yhd{font-size:11px}.j{width:34em}body,td,div,.p,a{font-family:arial,sans-serif;tap-highlight-color:rgba(255,255,255,0)}body{margin:0}a img{border:0}#gbar{float:left;height:22px;padding-left:2px;font-size:13px}.gsfi,.gsfs{font-size:17px}.w,.q:active,.q:visited,.tbotu{color:#11c}a.gl{text-decoration:none}._Umd a:link{color:#0E1CB3}#foot{padding:0 8px}#foot a{white-space:nowrap}h3{font-size:16px;font-weight:normal;margin:0;padding:0}#res h3{display:inline}.hd{height:1px;position:absolute;top:-1000em}.g,body,html,table,.std{font-size:13px}.g{margin-bottom:23px;margin-top:0;zoom:1}ol li,ul li{list-style:none}h1,ol,ul,li{margin:0;padding:0}.e{margin:2px 0 0.75em}#leftnav a{text-decoration:none}#leftnav h2{color:#767676;font-weight:normal;margin:0}#nav{border-collapse:collapse;margin-top:17px;text-align:left}#nav td{text-align:center}.nobr{white-space:nowrap}.ts{border-collapse:collapse}.s br{display:none}.csb{display:block;height:40px}.images_table td{line-height:17px;padding-bottom:16px}.images_table img{border:1px solid #ccc;padding:1px}#tbd,#abd{display:block;min-height:1px}#abd{padding-top:3px}#tbd li{display:inline}._ITd,._JTd{margin-bottom:8px}#tbd .tbt li{display:block;font-size:13px;line-height:1.2;padding-bottom:3px;padding-left:8px;text-indent:-8px}.tbos,.b{font-weight:bold}em{font-weight:bold;font-style:normal}.mime{color:#1a0dab;font-weight:bold;font-size:x-small}._lwd{right:-2px !important;overflow:hidden}.soc a{text-decoration:none}.soc{color:#808080}._AC a{text-decoration:none}._AC{color:#808080}._kgd{color:#e7711b}#_vBb{border:1px solid #e0e0e0;margin-left:-8px;margin-right:-8px;padding:15px 20px 5px}._m3b{font-size:32px}._eGc{color:#777;font-size:16px;margin-top:5px}._H0d{color:#777;font-size:14px;margin-top:5px}._HLh{border:1px solid #e0e0e0;padding-left:20px}._Tki{border:1px solid #e0e0e0;padding:5px 20px}#vob{border:1px solid #e0e0e0;padding:15px 15px}#_Nyc{font-size:22px;line-height:22px;padding-bottom:5px}#vob_st{line-height:1.24}._Tsb{border-width:1px;border-style:solid;border-color:#eee;background-color:#fff;position:relative;margin-bottom:26px}._Peb,._Qeb,._Usb{font-family:Arial;font-weight:lighter}._Peb{margin-bottom:5px}._Peb{font-size:xx-large}._Qeb{font-size:medium}._Usb{font-size:small}._Tsb{margin-left:-8px;margin-right:-15px;padding:20px 20px 24px}._rOc{border-spacing:0px 2px}._sOc{max-width:380px;text-overflow:ellipsis;white-space:nowrap;overflow:hidden;padding-left:0px}._v9b{padding-left:15px;white-space:nowrap;color:#666}._pOc{padding-left:0px}._rkc{color:#212121}._HOb{color:#878787}._lMf{color:#093}._jMf{color:#c00}._kMf{padding:1px}._CKg{color:#dd4b39}.gssb_a{padding:0 10px !important}.gssb_c{left:132px !important;right:295px !important;top:78px !important;width:572px !important}.gssb_c table{font-size:16px !important}.gssb_e{border:1px solid #ccc !important;border-top-color:#d9d9d9 !important}.gssb_i{background:#eee !important}#res{padding:0 8px}#rhs_block{padding-top:43px}#_FQd{padding:0 8px}#subform_ctrl{font-size:11px;height:17px;margin:5px 3px 0 17px}.taf{padding-bottom:3px}._chd{padding:20px 0 3px}._bhd{padding:20px 0 3px}#topstuff .e{padding-bottom:6px}.slk .sld{width:250px}.slk{margin-bottom:-3px}.slk ._z3b{padding-bottom:5px;width:250px}._QPd{margin-top:1px;margin-bottom:-11px}._zuc{color:#545454}._Auc{padding-top:2px;padding-bottom:1px}._Buc{padding-top:1px;margin-bottom:14px}.ac,.st{line-height:1.24}.mfr,#ofr{font-size:16px;margin:1em 0;padding:0 8px}._tLi{padding-bottom:25px}.s{color:#545454}.ac,._JEe{color:#545454}a.fl,._cD a,.osl a{color:#1a0dab;text-decoration:none}a:link{color:#1a0dab;cursor:pointer}#tads a:link{color:#1a0dab}#tads .soc a:link{color:#808080}#tads ._AC a:link{color:#808080}._AC a:link{color:#808080}._AC a:visited{color:#808080}._AC a:hover{color:#808080;text-decoration:underline}a:visited{color:#61C}.blg a{text-decoration:none}cite,cite a:link{color:#006621;font-style:normal}#tads cite{color:#006621}.kv{font-size:15px}.kvs{margin-top:1px}.kv,.kvs,.slp{display:block;margin-bottom:1px}.kt{border-spacing:2px 0;margin-top:1px}.f{color:#808080}._pJb{color:#093}h4.r{display:inline;font-size:small;font-weight:normal}.g{line-height:1.2}._sPb{display:inline-block;vertical-align:top;overflow:hidden;position:relative}._Gnc{margin:0 0 2em 1.3em}._Gnc li{list-style-type:disc}.osl{color:#777;margin-top:4px}.r{font-size:16px;margin:0}.spell{font-size:16px}.spell_orig{font-size:13px}.spell_orig a{text-decoration:none}.spell_orig b i{font-style:normal;font-weight:normal}.th{border:1px solid #ebebeb}.ts td{padding:0}.videobox{padding-bottom:3px}.slk a{text-decoration:none}#leftnav a:hover,#leftnav .tbou a:hover,.slk h3 a,a:hover{text-decoration:underline}#mn{table-layout:fixed;width:100%}#leftnav a{color:#222;font-size:13px}#leftnav{padding:43px 4px 4px 0}.tbos{color:#dd4b39}._AEd{border-top:1px solid #efefef;font-size:13px;margin:10px 0 14px 10px;padding:0}.tbt{margin-bottom:28px}#tbd{padding:0 0 0 16px}.tbou a{color:#222}#center_col{border:0;padding:0 8px 0 0}#topstuff .e{padding-top:3px}#topstuff .sp_cnt{padding-top:6px}#ab_name{color:#dd4b39;font:20px \"Arial\";margin-left:15px}._fld{border-bottom:1px solid #dedede;height:56px;padding-top:1px}#resultStats{color:#999;font-size:13px;overflow:hidden;white-space:nowrap}.mslg>td{padding-right:1px;padding-top:2px}.slk .sld{margin-top:2px;padding:5px 0 5px 5px}._Mvd,.fmp{padding-top:3px}.close_btn{overflow:hidden}#fll a,#bfl a{color:#1a0dab !important;margin:0 12px;text-decoration:none !important}.ng{color:#dd4b39}#mss{margin:.33em 0 0;padding:0;display:table}._mY{display:inline-block;float:left;white-space:nowrap;padding-right:16px}#mss p{margin:0;padding-top:5px}.tn{border-bottom:1px solid #ebebeb;display:block;float:left;height:59px;line-height:54px;min-width:980px;padding:0;position:relative;white-space:nowrap}._UXb,a._UXb{color:#777;cursor:pointer;display:inline-block;font-family:arial,sans-serif;font-size:small;height:54px;line-height:54px;margin:0 8px;padding:0 8px;text-decoration:none;white-space:nowrap}._Ihd{border-bottom:3px solid #dd4b39;color:#dd4b39;font-weight:bold;margin:2px 8px 0}a._Jhd:hover{color:black;text-decoration:none;white-space:nowrap}body{margin:0;padding:0}._sxc{display:inline-block;float:left;margin-top:2px}._Hhd,a._Hhd{margin-left:1px}.sd{line-height:43px;padding:0 8px 0 9px}a:active,.osl a:active,.tbou a:active,#leftnav a:active{color:#dd4b39}#_Xud a:active,#bfl a:active{color:#dd4b39 !important}.csb{background:url(/images/nav_logo229.png) no-repeat;overflow:hidden}.close_btn{background:url(/images/nav_logo229.png) no-repeat -138px -84px;height:14px;width:14px;display:block}.star{background:url(/images/nav_logo229.png) no-repeat -94px -245px;height:13px;width:65px;display:block}.star div,.star span{background:url(/images/nav_logo229.png) no-repeat 0 -245px;height:13px;width:65px;display:block}._nBb{display:inline;margin:0 3px;outline-color:transparent;overflow:hidden;position:relative}._nBb>div{outline-color:transparent}._O0{border-color:transparent;border-style:solid dashed dashed;border-top-color:green;border-width:4px 4px 0 4px;cursor:pointer;display:inline-block;font-size:0;height:0;left:4px;line-height:0;outline-color:transparent;position:relative;top:-3px;width:0}._O0{margin-top:-4px}.am-dropdown-menu{display:block;background:#fff;border:1px solid #dcdcdc;font-size:13px;left:0;padding:0;position:absolute;right:auto;white-space:nowrap;z-index:3}._Ykb{list-style:none;white-space:nowrap}._Ykb:hover{background-color:#eee}a._Zkb{color:#333;cursor:pointer;display:block;padding:7px 18px;text-decoration:none}#tads a._Zkb{color:#333}.sfbgg{background:#f1f1f1;border-bottom:1px solid #e5e5e5;height:71px}#logocont{z-index:1;padding-left:4px;padding-top:4px}#logo{display:block;height:49px;margin-top:12px;margin-left:12px;overflow:hidden;position:relative;width:137px}#logo img{left:0;position:absolute;top:-41px}.lst-a{background:white;border:1px solid #d9d9d9;border-top-color:silver;width:570px}.lst-a:hover{border:1px solid #b9b9b9;border-top:1px solid #a0a0a0;box-shadow:inset 0 1px 2px rgba(0,0,0,0.1);-webkit-box-shadow:inset 0 1px 2px rgba(0,0,0,0.1);-moz-box-shadow:inset 0 1px 2px rgba(0,0,0,0.1)}.lst-td{border:none;padding:0}.tia input{border-right:none;padding-right:0}.tia{padding-right:0}.lst{background:none;border:none;color:#000;font:16px arial,sans-serif;float:left;height:22px;margin:0;padding:3px 6px 2px 9px;vertical-align:top;width:100%;word-break:break-all}.lst:focus{outline:none}.lst-b{background:none;border:none;height:26px;padding:0 6px 0 12px}.ds{border-right:1px solid #e7e7e7;position:relative;height:29px;margin-left:17px;z-index:100}.lsbb{background-image:-moz-linear-gradient(top,#4d90fe,#4787ed);background-image:-ms-linear-gradient(top,#4d90fe,#4787ed);background-image:-o-linear-gradient(top,#4d90fe,#4787ed);background-image:-webkit-gradient(linear,left top,left bottom,from(#4d90fe),to(#4787ed));background-image:-webkit-linear-gradient(top,#4d90fe,#4787ed);background-image:linear-gradient(top,#4d90fe,#4787ed);border:1px solid #3079ed;border-radius:2px;background-color:#4d90fe;height:27px;width:68px}.lsbb:hover{background-image:-moz-linear-gradient(top,#4d90fe,#357ae8);background-image:-ms-linear-gradient(top,#4d90fe,#357ae8);background-image:-o-linear-gradient(top,#4d90fe,#357ae8);background-image:-webkit-gradient(linear,left top,left bottom,from(#4d90fe),to(#357ae8));background-image:-webkit-linear-gradient(top,#4d90fe,#357ae8);background-color:#357ae8;background-image:linear-gradient(top,#4d90fe,#357ae8);border:1px solid #2f5bb7}.lsb{background:transparent;background-position:0 -343px;background-repeat:repeat-x;border:none;color:#000;cursor:default;font:15px arial,sans-serif;height:29px;margin:0;vertical-align:top;width:100%}.lsb:active{-moz-box-shadow:inset 0 1px 2px rgba(0,0,0,0.3);-webkit-box-shadow:inset 0 1px 2px rgba(0,0,0,0.3);box-shadow:inset 0 1px 2px rgba(0,0,0,0.3);background:transparent;color:transparent;overflow:hidden;position:relative;width:100%}.sbico{color:transparent;display:inline-block;height:15px;margin:0 auto;margin-top:2px;width:15px;overflow:hidden}</style><script>(function(){window.google={kEI:\\'BGmTWYL9H-SqjQOK9ZRA\\',kEXPI:\\'1353382,1354277,1354401,1354517,1354625,1354750,1354936,1355076,1355174,3700318,3700347,3700439,3700442,4029815,4031109,4041302,4043492,4045841,4048347,4072776,4076997,4078430,4081039,4081165,4088153,4093313,4094544,4095910,4096464,4097153,4097469,4097922,4097929,4097951,4098721,4098728,4098752,4102827,4103475,4103861,4104258,4105085,4105114,4105125,4105240,4107555,4109316,4109489,4109528,4110656,4110751,4111276,4112553,4113148,4113217,4113276,4115697,4116724,4116731,4116926,4116927,4116935,4117535,4117980,4118103,4118227,4118627,4118798,4119032,4119034,4119036,4119239,4119272,4120289,4120290,4120508,4120916,4121035,4121175,4121205,4122025,4122724,4123211,4123379,4123644,4123984,4124221,4124417,4124948,4125161,4125478,4126137,4126366,4126446,4126611,4126791,10200084,10200096,10202444\\',authuser:0,kscs:\\'c9c918f0_24\\'};google.kHL=\\'en\\';})();(function(){google.lc=[];google.li=0;google.getEI=function(a){for(var b;a&&(!a.getAttribute||!(b=a.getAttribute(\"eid\")));)a=a.parentNode;return b||google.kEI};google.getLEI=function(a){for(var b=null;a&&(!a.getAttribute||!(b=a.getAttribute(\"leid\")));)a=a.parentNode;return b};google.https=function(){return\"https:\"==window.location.protocol};google.ml=function(){return null};google.wl=function(a,b){try{google.ml(Error(a),!1,b)}catch(c){}};google.time=function(){return(new Date).getTime()};google.log=function(a,b,c,d,g){if(a=google.logUrl(a,b,c,d,g)){b=new Image;var e=google.lc,f=google.li;e[f]=b;b.onerror=b.onload=b.onabort=function(){delete e[f]};google.vel&&google.vel.lu&&google.vel.lu(a);b.src=a;google.li=f+1}};google.logUrl=function(a,b,c,d,g){var e=\"\",f=google.ls||\"\";c||-1!=b.search(\"&ei=\")||(e=\"&ei=\"+google.getEI(d),-1==b.search(\"&lei=\")&&(d=google.getLEI(d))&&(e+=\"&lei=\"+d));d=\"\";!c&&google.cached&&-1==b.search(\"&cached=\")&&(d=\"&cached=\"+google.cached);a=c||\"/\"+(g||\"gen_204\")+\"?atyp=i&ct=\"+a+\"&cad=\"+b+e+f+\"&zx=\"+google.time()+d;/^http:/i.test(a)&&google.https()&&(google.ml(Error(\"a\"),!1,{src:a,glmm:1}),a=\"\");return a};google.y={};google.x=function(a,b){if(a)var c=a.id;else{do c=Math.random();while(google.y[c])}google.y[c]=[a,b];return!1};google.lq=[];google.load=function(a,b,c){google.lq.push([[a],b,c])};google.loadAll=function(a,b){google.lq.push([a,b])};}).call(this);google.f={};(function(){var b={gen204:\"dcl\",clearcut:4};var c=[function(){google.c&&google.tick(\"load\",b)}];google.dcl=!1;google.dclc=function(a){google.dcl?a():c.push(a)};function d(){if(!google.dcl){google.dcl=!0;for(var a;a=c.shift();)a()}}window.addEventListener?(document.addEventListener(\"DOMContentLoaded\",d,!1),window.addEventListener(\"load\",d,!1)):window.attachEvent&&window.attachEvent(\"onload\",d);}).call(this);</script><script type=\"text/javascript\"></script><script>(function(){var a=function(f){for(var g=f.parentElement,d=null,e=0;e<g.childNodes.length;e++){var h=g.childNodes[e];-1<(\" \"+h.className+\" \").indexOf(\" am-dropdown-menu \")&&(d=h)}\"none\"==d.style.display?(d.style.display=\"\",google.log(\"hpam\",\"&ved=\"+f.getAttribute(\"data-ved\"))):d.style.display=\"none\"},b=[\"google\",\"sham\"],c=this;b[0]in c||!c.execScript||c.execScript(\"var \"+b[0]);for(var k;b.length&&(k=b.shift());)b.length||void 0===a?c[k]&&c[k]!==Object.prototype[k]?c=c[k]:c=c[k]={}:c[k]=a;}).call(this);</script></head><body class=\"hsrp\" bgcolor=\"#ffffff\" marginheight=\"0\" marginwidth=\"0\" topmargin=\"0\"><div id=gbar><nobr><b class=gb1>Search</b> <a class=gb1 href=\"https://www.google.com/search?hl=en&tbm=isch&source=og&tab=wi\">Images</a> <a class=gb1 href=\"https://maps.google.com/maps?hl=en&tab=wl\">Maps</a> <a class=gb1 href=\"https://play.google.com/?hl=en&tab=w8\">Play</a> <a class=gb1 href=\"https://www.youtube.com/results?gl=US&tab=w1\">YouTube</a> <a class=gb1 href=\"https://news.google.com/nwshp?hl=en&tab=wn\">News</a> <a class=gb1 href=\"https://mail.google.com/mail/?tab=wm\">Gmail</a> <a class=gb1 href=\"https://drive.google.com/?tab=wo\">Drive</a> <a class=gb1 style=\"text-decoration:none\" href=\"https://www.google.com/intl/en/options/\"><u>More</u> &raquo;</a></nobr></div><div id=guser width=100%><nobr><span id=gbn class=gbi></span><span id=gbf class=gbf></span><span id=gbe></span><a href=\"http://www.google.com/history/optout?hl=en\" class=gb4>Web History</a> | <a  href=\"/preferences?hl=en\" class=gb4>Settings</a> | <a target=_top id=gb_70 href=\"https://accounts.google.com/ServiceLogin?hl=en&passive=true&continue=https://www.google.com/search%3Fq%3Dcowboy%26oq%3Dcowboy%26aqs%3Dchrome..69i57j0l5.161807j0j8%26sourceid%3Dchrome%26ie%3DUTF-8\" class=gb4>Sign in</a></nobr></div><div class=gbh style=left:0></div><div class=gbh style=right:0></div><table id=\"mn\" border=\"0\" cellpadding=\"0\" cellspacing=\"0\" style=\"position:relative\"><tr><th width=\"132\"></th><th width=\"573\"></th><th width=\"278\"></th><th></th></tr><tr><td class=\"sfbgg\" valign=\"top\"><div id=\"logocont\"><h1><a href=\"/webhp?hl=en\" style=\"background:url(/images/nav_logo229.png) no-repeat 0 -41px;height:37px;width:95px;display:block\" id=\"logo\" title=\"Go to Google Home\"></a></h1></div></td><td class=\"sfbgg\" colspan=\"2\" valign=\"top\" style=\"padding-left:0px\"><form style=\"display:block;margin:0;background:none\" action=\"/search\" id=\"tsf\" method=\"GET\" name=\"gs\"><table border=\"0\" cellpadding=\"0\" cellspacing=\"0\" style=\"margin-top:20px;position:relative\"><tr><td><div class=\"lst-a\"><table cellpadding=\"0\" cellspacing=\"0\"><tr><td class=\"lst-td\" width=\"555\" valign=\"bottom\"><div style=\"position:relative;zoom:1\"><input class=\"lst\" value=\"cowboy\" title=\"Search\" autocomplete=\"off\" id=\"sbhost\" maxlength=\"2048\" name=\"q\" type=\"text\"></div></td></tr></table></div></td><td><div class=\"ds\"><div class=\"lsbb\"><button class=\"lsb\" value=\"Search\" name=\"btnG\" type=\"submit\"><span class=\"sbico\" style=\"background:url(/images/nav_logo229.png) no-repeat -36px -111px;height:14px;width:13px;display:block\"></span></button></div></div></td></tr></table></form></td><td class=\"sfbgg\">&nbsp;</td></tr><tr style=\"position:relative\"><td><div style=\"border-bottom:1px solid #ebebeb;height:59px\"></div></td><td colspan=\"2\"><div class=\"tn\"><div class=\"_UXb _Ihd _sxc _Hhd\">All</div><div class=\"_sxc\"><a class=\"_UXb _Jhd\" href=\"/search?q=cowboy&amp;ie=UTF-8&amp;prmd=ivns&amp;source=lnms&amp;tbm=isch&amp;sa=X&amp;ved=0ahUKEwiCj8XpmNrVAhVkVWMKHYo6BQgQ_AUIBQ\">Images</a></div><div class=\"_sxc\"><a class=\"_UXb _Jhd\" href=\"/search?q=cowboy&amp;ie=UTF-8&amp;prmd=ivns&amp;source=lnms&amp;tbm=vid&amp;sa=X&amp;ved=0ahUKEwiCj8XpmNrVAhVkVWMKHYo6BQgQ_AUIBg\">Videos</a></div><div class=\"_sxc\"><a class=\"_UXb _Jhd\" href=\"/search?q=cowboy&amp;ie=UTF-8&amp;prmd=ivns&amp;source=lnms&amp;tbm=nws&amp;sa=X&amp;ved=0ahUKEwiCj8XpmNrVAhVkVWMKHYo6BQgQ_AUIBw\">News</a></div><div class=\"_sxc\"><a class=\"_UXb _Jhd\" href=\"/search?q=cowboy&amp;ie=UTF-8&amp;prmd=ivns&amp;source=lnms&amp;tbm=shop&amp;sa=X&amp;ved=0ahUKEwiCj8XpmNrVAhVkVWMKHYo6BQgQ_AUICA\">Shopping</a></div><div class=\"_sxc\"><a class=\"_UXb _Jhd\" href=\"https://maps.google.com/maps?q=cowboy&amp;um=1&amp;ie=UTF-8&amp;sa=X&amp;ved=0ahUKEwiCj8XpmNrVAhVkVWMKHYo6BQgQ_AUICQ\">Maps</a></div><div class=\"_sxc\"><a class=\"_UXb _Jhd\" href=\"/search?q=cowboy&amp;ie=UTF-8&amp;prmd=ivns&amp;source=lnms&amp;tbm=bks&amp;sa=X&amp;ved=0ahUKEwiCj8XpmNrVAhVkVWMKHYo6BQgQ_AUICg\">Books</a></div></div><div style=\"border-bottom:1px solid #ebebeb;height:59px\"></div></td><td><div style=\"border-bottom:1px solid #ebebeb;height:59px\"></div></td></tr><tbody data-jibp=\"h\" data-jiis=\"uc\" id=\"desktop-search\"><style>._Bu,._Bu a:link,._Bu a:visited,a._Bu:link,a._Bu:visited{color:#808080}._kBb{color:#61C}.ellip{overflow:hidden;text-overflow:ellipsis;white-space:nowrap}._uXc{border:1px solid #e0e0e0;font-size:13px;margin-right:-2px;}._o0d{margin:4px 10px}._Z8d{background:white;border-bottom:0;border-left:0;border-right:0;border-top:1px solid #e0e0e0;cursor:pointer;height:40px;outline:0;width:100%}._Azf{color:#777;font-size:11px}._Azf a{color:#777;text-decoration:none}.xpdclpsbtn{}.xpdxpndbtn{}.xpdclpsbtn ._FGf{background:url(/images/nav_logo229.png) no-repeat -50px -79px;height:22px;width:64px}.xpdxpndbtn ._FGf{background:url(/images/nav_logo229.png) no-repeat -50px -102px;height:22px;width:64px}._tXc{color:#222;font-size:15px;line-height:normal;margin:12px 0}._rvh{margin:4px 0}._x8d{margin:10px;overflow:hidden;position:relative;white-space:nowrap;}._tNf{display:-moz-inline-stack;display:inline-block;position:relative;width:100%;z-index:0;}._i8d{display:-moz-inline-stack;display:inline-block;max-width:100%;overflow:hidden;}._uNf{position:absolute;right:0;z-index:1;}._B5d{border-top:1px solid #e0e0e0;color:#000;font-size:22px;margin-top:-5px;padding-top:10px}._C5d{color:#000;font-size:14px}._Pce{margin:4px 10px}#_Oce{border:1px solid #e0e0e0;font-size:13px;margin-right:-2px;}._Vbe{color:#000}._R4d{border-spacing:0;line-height:20px;table-layout:fixed;width:100%}._R4d a:hover,._R4d a:active{text-decoration:none}._fce{color:#1a0dab}a:hover ._fce,a:active ._fce{text-decoration:underline}._S4d{border-top:1px solid #e0e0e0;margin:0 -10px;padding:0 10px}._T4d{display:block;margin:auto}._P4d{padding-top:8px;padding-bottom:8px}._Qbe{max-width:198px;overflow:hidden;text-overflow:ellipsis;white-space:nowrap}._tA{color:#777}</style><tr><td id=\"leftnav\" valign=\"top\"><div><h2 class=\"hd\">Search Options</h2><ul class=\"med\" id=\"tbd\"><li><ul class=\"tbt\"><li class=\"tbos\" id=\"qdr_\">Any time</li><li class=\"tbou\" id=\"qdr_h\"><a class=\"q\" href=\"/search?q=cowboy&amp;ie=UTF-8&amp;prmd=ivns&amp;source=lnt&amp;tbs=qdr:h&amp;sa=X&amp;ved=0ahUKEwiCj8XpmNrVAhVkVWMKHYo6BQgQpwUIDw\">Past hour</a></li><li class=\"tbou\" id=\"qdr_d\"><a class=\"q\" href=\"/search?q=cowboy&amp;ie=UTF-8&amp;prmd=ivns&amp;source=lnt&amp;tbs=qdr:d&amp;sa=X&amp;ved=0ahUKEwiCj8XpmNrVAhVkVWMKHYo6BQgQpwUIDw\">Past 24 hours</a></li><li class=\"tbou\" id=\"qdr_w\"><a class=\"q\" href=\"/search?q=cowboy&amp;ie=UTF-8&amp;prmd=ivns&amp;source=lnt&amp;tbs=qdr:w&amp;sa=X&amp;ved=0ahUKEwiCj8XpmNrVAhVkVWMKHYo6BQgQpwUIDw\">Past week</a></li><li class=\"tbou\" id=\"qdr_m\"><a class=\"q\" href=\"/search?q=cowboy&amp;ie=UTF-8&amp;prmd=ivns&amp;source=lnt&amp;tbs=qdr:m&amp;sa=X&amp;ved=0ahUKEwiCj8XpmNrVAhVkVWMKHYo6BQgQpwUIDw\">Past month</a></li><li class=\"tbou\" id=\"qdr_y\"><a class=\"q\" href=\"/search?q=cowboy&amp;ie=UTF-8&amp;prmd=ivns&amp;source=lnt&amp;tbs=qdr:y&amp;sa=X&amp;ved=0ahUKEwiCj8XpmNrVAhVkVWMKHYo6BQgQpwUIDw\">Past year</a></li></ul></li><li><ul class=\"tbt\"><li class=\"tbos\" id=\"li_\">All results</li><li class=\"tbou\" id=\"li_1\"><a class=\"q\" href=\"/search?q=cowboy&amp;ie=UTF-8&amp;prmd=ivns&amp;source=lnt&amp;tbs=li:1&amp;sa=X&amp;ved=0ahUKEwiCj8XpmNrVAhVkVWMKHYo6BQgQpwUIDw\">Verbatim</a></li></ul></li></ul></div></td><td valign=\"top\"><div id=\"center_col\"><div class=\"sd\" id=\"resultStats\">About 290,000,000 results</div><div id=\"res\"><div id=\"topstuff\"></div><div id=\"search\"><div id=\"ires\"><ol><div class=\"g\"><div><h3 class=\"r\"><div data-hveid=\"20\"><span style=\"font-weight:bold\">cow·boy</span><span style=\"font:smaller \\'Doulos SIL\\',\\'Gentum\\',\\'TITUS Cyberbit Basic\\',\\'Junicode\\',\\'Aborigonal Serif\\',\\'Arial Unicode MS\\',\\'Lucida Sans Unicode\\',\\'Chrysanthi Unicode\\';padding-left:15px\">/&#712;kou&#716;boi/</span></div></h3><table style=\"font-size:14px;width:100%\"><tr><td><div style=\"color:#666;padding:5px 0\">noun</div><ol style=\"padding-left:20px\"><li style=\"list-style-type:decimal\">a man, typically one on horseback, who herds and tends cattle, especially in the western US and as represented in westerns and novels.</li><li style=\"list-style-type:decimal\">a person who is reckless or careless, especially when driving an automobile.</li></ol></td></tr><tr><td><div style=\"color:#666;padding:5px 0\">verb</div><ol><li>work as a cowboy.</li></ol></td></tr><tr bgcolor=\"#ddd\" height=\"1px\"><td height=\"1px\" style=\"padding:0\"></td></tr></table></div></div><div class=\"g\"><h3 class=\"r\"><a href=\"/url?q=http://www.dallascowboys.com/&amp;sa=U&amp;ved=0ahUKEwiCj8XpmNrVAhVkVWMKHYo6BQgQFggWMAE&amp;usg=AFQjCNEWN6jdxa50Qa0syITlZr-swrvlYA\">Dallas <b>Cowboys</b> | Official Site of the Dallas <b>Cowboys</b></a></h3><div class=\"s\"><div class=\"kv\" style=\"margin-bottom:2px\"><cite>www.dallas<b>cowboys</b>.com/</cite><div class=\"_nBb\"><div style=\"display:inline\" onclick=\"google.sham(this);\" aria-expanded=\"false\" aria-haspopup=\"true\" tabindex=\"0\" data-ved=\"0ahUKEwiCj8XpmNrVAhVkVWMKHYo6BQgQ7B0IFzAB\"><span class=\"_O0\"></span></div><div style=\"display:none\" class=\"am-dropdown-menu\" role=\"menu\" tabindex=\"-1\"><ul><li class=\"_Ykb\"><a class=\"_Zkb\" href=\"/url?q=http://webcache.googleusercontent.com/search%3Fq%3Dcache:vJnTfherndIJ:http://www.dallascowboys.com/%252Bcowboy%26hl%3Den%26ct%3Dclnk&amp;sa=U&amp;ved=0ahUKEwiCj8XpmNrVAhVkVWMKHYo6BQgQIAgZMAE&amp;usg=AFQjCNHmUWKu7FwWZgmRbitaDvo7XueYBA\">Cached</a></li><li class=\"_Ykb\"><a class=\"_Zkb\" href=\"/search?ie=UTF-8&amp;q=related:www.dallascowboys.com/+cowboy&amp;tbo=1&amp;sa=X&amp;ved=0ahUKEwiCj8XpmNrVAhVkVWMKHYo6BQgQHwgaMAE\">Similar</a></li></ul></div></div></div><span class=\"st\"><b>Cowboys</b> Mailbag ... LOS ANGELES &#8211; The second preseason game was another <br>\\nclose one for the <b>Cowboys</b>, who found themselves on the short end of... Read.</span><br></div></div><div class=\"g\"><h3 class=\"r\"><a href=\"/url?q=https://en.wikipedia.org/wiki/Cowboy&amp;sa=U&amp;ved=0ahUKEwiCj8XpmNrVAhVkVWMKHYo6BQgQFggcMAI&amp;usg=AFQjCNFx5Uxyewo7mgZAwBZGul_gHV3G7A\"><b>Cowboy</b> - Wikipedia</a></h3><div class=\"s\"><div class=\"kv\" style=\"margin-bottom:2px\"><cite>https://en.wikipedia.org/wiki/<b>Cowboy</b></cite><div class=\"_nBb\"><div style=\"display:inline\" onclick=\"google.sham(this);\" aria-expanded=\"false\" aria-haspopup=\"true\" tabindex=\"0\" data-ved=\"0ahUKEwiCj8XpmNrVAhVkVWMKHYo6BQgQ7B0IHTAC\"><span class=\"_O0\"></span></div><div style=\"display:none\" class=\"am-dropdown-menu\" role=\"menu\" tabindex=\"-1\"><ul><li class=\"_Ykb\"><a class=\"_Zkb\" href=\"/url?q=http://webcache.googleusercontent.com/search%3Fq%3Dcache:vHaBiNxLi-kJ:https://en.wikipedia.org/wiki/Cowboy%252Bcowboy%26hl%3Den%26ct%3Dclnk&amp;sa=U&amp;ved=0ahUKEwiCj8XpmNrVAhVkVWMKHYo6BQgQIAgfMAI&amp;usg=AFQjCNG5UMxiq0IqxggBaMv9_CuVWkTH-A\">Cached</a></li><li class=\"_Ykb\"><a class=\"_Zkb\" href=\"/search?ie=UTF-8&amp;q=related:https://en.wikipedia.org/wiki/Cowboy+cowboy&amp;tbo=1&amp;sa=X&amp;ved=0ahUKEwiCj8XpmNrVAhVkVWMKHYo6BQgQHwggMAI\">Similar</a></li></ul></div></div></div><span class=\"st\">A <b>cowboy</b> is an animal herder who tends cattle on ranches in North America, <br>\\ntraditionally on horseback, and often performs a multitude of other ranch-related&nbsp;...</span><br><div class=\"osl\"><a href=\"/url?q=https://en.wikipedia.org/wiki/Vaquero&amp;sa=U&amp;ved=0ahUKEwiCj8XpmNrVAhVkVWMKHYo6BQgQ0gIIIigAMAI&amp;usg=AFQjCNHaZAYLE2SsJkutXCcGBhwhGsuUZQ\">Vaquero</a> - <a href=\"/url?q=https://en.wikipedia.org/wiki/Wrangler_(profession)&amp;sa=U&amp;ved=0ahUKEwiCj8XpmNrVAhVkVWMKHYo6BQgQ0gIIIygBMAI&amp;usg=AFQjCNGZ-KqjJLj0FGpluA3Vykzbp5K85w\">Wrangler (profession)</a> - <a href=\"/url?q=https://en.wikipedia.org/wiki/Rhinestone_Cowboy&amp;sa=U&amp;ved=0ahUKEwiCj8XpmNrVAhVkVWMKHYo6BQgQ0gIIJCgCMAI&amp;usg=AFQjCNH5O4vPWEBNVTouRqArBxf_spTksQ\">Rhinestone Cowboy</a> - <a href=\"/url?q=https://en.wikipedia.org/wiki/Drugstore_Cowboy&amp;sa=U&amp;ved=0ahUKEwiCj8XpmNrVAhVkVWMKHYo6BQgQ0gIIJSgDMAI&amp;usg=AFQjCNFhFL5CHCgk11vUwnUUoC9118hKEA\">Drugstore Cowboy</a></div></div></div><div class=\"g\"><h3 class=\"r\"><a href=\"/search?q=cowboy&amp;ie=UTF-8&amp;prmd=ivns&amp;tbm=isch&amp;tbo=u&amp;source=univ&amp;sa=X&amp;ved=0ahUKEwiCj8XpmNrVAhVkVWMKHYo6BQgQsAQIJw\">Images for <b>cowboy</b></a></h3><br><div><a href=\"/url?q=https://en.wikipedia.org/wiki/Cowboy&amp;sa=U&amp;ved=0ahUKEwiCj8XpmNrVAhVkVWMKHYo6BQgQwW4IKTAD&amp;usg=AFQjCNFx5Uxyewo7mgZAwBZGul_gHV3G7A\"><img style=\"margin:3px 0;margin-right:6px;padding:0\" height=\"72\" src=\"https://encrypted-tbn0.gstatic.com/images?q=tbn:ANd9GcRTkvDw9zchJ7OSdvj6_LZ6LI6392WoA1woMhBvXjxqAu3-j956RedbMqA\" title=\"https://en.wikipedia.org/wiki/Cowboy\" width=\"115\" alt=\"Image result for cowboy\" align=\"middle\"></a><a href=\"/url?q=http://www.cowboysindians.com/&amp;sa=U&amp;ved=0ahUKEwiCj8XpmNrVAhVkVWMKHYo6BQgQwW4IKzAE&amp;usg=AFQjCNFvJ9lx7tn3CpXEoJV9X-jxl6svLg\"><img style=\"margin:3px 0;margin-right:6px;padding:0\" height=\"65\" src=\"https://encrypted-tbn0.gstatic.com/images?q=tbn:ANd9GcQp_N40PSlqDD2HkSjTuOSa42EsGKzDfV-UXauPl17HxiKr6djUGAe61yU\" title=\"http://www.cowboysindians.com/\" width=\"115\" alt=\"Image result for cowboy\" align=\"middle\"></a><a href=\"/url?q=https://www.pinterest.com/explore/the-cowboy/&amp;sa=U&amp;ved=0ahUKEwiCj8XpmNrVAhVkVWMKHYo6BQgQwW4ILTAF&amp;usg=AFQjCNFP8DGH8OgcsBhdNwGCkiMAvvnbog\"><img style=\"margin:3px 0;margin-right:6px;padding:0\" height=\"86\" src=\"https://encrypted-tbn0.gstatic.com/images?q=tbn:ANd9GcSGfZJlpO8irGDZRpm86nB6JNVhXIecG6gHZiIErBWYD6ZmBqxENq4kP-E\" title=\"https://www.pinterest.com/explore/the-cowboy/\" width=\"57\" alt=\"Image result for cowboy\" align=\"middle\"></a><a href=\"/url?q=http://petticoatsandpistols.com/tag/international-day-of-the-cowboy/&amp;sa=U&amp;ved=0ahUKEwiCj8XpmNrVAhVkVWMKHYo6BQgQwW4ILzAG&amp;usg=AFQjCNGEEK23yUU1129czPgwUqGuDGQCqw\"><img style=\"margin:3px 0;margin-right:6px;padding:0\" height=\"86\" src=\"https://encrypted-tbn0.gstatic.com/images?q=tbn:ANd9GcSrc0ho8k7m1IUI_dCXLMb7y7OA_AXZUnvuTolgRiPtHWS1SClp6Pdb_Q\" title=\"http://petticoatsandpistols.com/tag/international-day-of-the-cowboy/\" width=\"108\" alt=\"Image result for cowboy\" align=\"middle\"></a><a href=\"/url?q=http://www.cowboysindians.com/&amp;sa=U&amp;ved=0ahUKEwiCj8XpmNrVAhVkVWMKHYo6BQgQwW4IMTAH&amp;usg=AFQjCNFvJ9lx7tn3CpXEoJV9X-jxl6svLg\"><img style=\"margin:3px 0;margin-right:6px;padding:0\" height=\"71\" src=\"https://encrypted-tbn0.gstatic.com/images?q=tbn:ANd9GcT1uW8RgmMWbLdJMN93-koO-UD0Tqcd72iFb3t_XERGGZbQUOlqdruxA-8\" title=\"http://www.cowboysindians.com/\" width=\"115\" alt=\"Image result for cowboy\" align=\"middle\"></a></div></div><div class=\"g\"><h3 class=\"r\"><a href=\"/url?q=https://en.wiktionary.org/wiki/cowboy&amp;sa=U&amp;ved=0ahUKEwiCj8XpmNrVAhVkVWMKHYo6BQgQFggzMAg&amp;usg=AFQjCNEbmm-FKHZKlRlnOphjyAFGXWsAtw\"><b>cowboy</b> - Wiktionary</a></h3><div class=\"s\"><div class=\"kv\" style=\"margin-bottom:2px\"><cite>https://en.wiktionary.org/wiki/<b>cowboy</b></cite><div class=\"_nBb\"><div style=\"display:inline\" onclick=\"google.sham(this);\" aria-expanded=\"false\" aria-haspopup=\"true\" tabindex=\"0\" data-ved=\"0ahUKEwiCj8XpmNrVAhVkVWMKHYo6BQgQ7B0INDAI\"><span class=\"_O0\"></span></div><div style=\"display:none\" class=\"am-dropdown-menu\" role=\"menu\" tabindex=\"-1\"><ul><li class=\"_Ykb\"><a class=\"_Zkb\" href=\"/url?q=http://webcache.googleusercontent.com/search%3Fq%3Dcache:mnTbGwHFvWwJ:https://en.wiktionary.org/wiki/cowboy%252Bcowboy%26hl%3Den%26ct%3Dclnk&amp;sa=U&amp;ved=0ahUKEwiCj8XpmNrVAhVkVWMKHYo6BQgQIAg2MAg&amp;usg=AFQjCNGnoqTlF3L4hVi1fM8FvM4sbHPlhw\">Cached</a></li><li class=\"_Ykb\"><a class=\"_Zkb\" href=\"/search?ie=UTF-8&amp;q=related:https://en.wiktionary.org/wiki/cowboy+cowboy&amp;tbo=1&amp;sa=X&amp;ved=0ahUKEwiCj8XpmNrVAhVkVWMKHYo6BQgQHwg3MAg\">Similar</a></li></ul></div></div></div><span class=\"st\"><b>cowboy</b> (plural <b>cowboys</b>) ... A man who identifies with <b>cowboy</b> culture, including <br>\\nwearing a <b>cowboy</b> hat and .... (intransitive) To work as a <b>cowboy</b>, herding cattle.</span><br></div></div><div class=\"g\"><h3 class=\"r\"><a href=\"/url?q=http://www.history.com/topics/cowboys&amp;sa=U&amp;ved=0ahUKEwiCj8XpmNrVAhVkVWMKHYo6BQgQFgg5MAk&amp;usg=AFQjCNESU8vJhBwE3od5TPPlNGTzW-T9Cw\"><b>Cowboys</b> - Facts &amp; Summary - HISTORY.com</a></h3><div class=\"s\"><div class=\"kv\" style=\"margin-bottom:2px\"><cite>www.history.com/topics/<b>cowboys</b></cite><div class=\"_nBb\"><div style=\"display:inline\" onclick=\"google.sham(this);\" aria-expanded=\"false\" aria-haspopup=\"true\" tabindex=\"0\" data-ved=\"0ahUKEwiCj8XpmNrVAhVkVWMKHYo6BQgQ7B0IOjAJ\"><span class=\"_O0\"></span></div><div style=\"display:none\" class=\"am-dropdown-menu\" role=\"menu\" tabindex=\"-1\"><ul><li class=\"_Ykb\"><a class=\"_Zkb\" href=\"/url?q=http://webcache.googleusercontent.com/search%3Fq%3Dcache:cyaAkMHY6VIJ:http://www.history.com/topics/cowboys%252Bcowboy%26hl%3Den%26ct%3Dclnk&amp;sa=U&amp;ved=0ahUKEwiCj8XpmNrVAhVkVWMKHYo6BQgQIAg8MAk&amp;usg=AFQjCNHSJlyGnmLSulxy2y1WNCDMs11a6A\">Cached</a></li><li class=\"_Ykb\"><a class=\"_Zkb\" href=\"/search?ie=UTF-8&amp;q=related:www.history.com/topics/cowboys+cowboy&amp;tbo=1&amp;sa=X&amp;ved=0ahUKEwiCj8XpmNrVAhVkVWMKHYo6BQgQHwg9MAk\">Similar</a></li></ul></div></div></div><span class=\"st\">&#8220;When you call me that, smile,&#8221; the hero said to the bad man in that first of <br>\\nthousands of <b>cowboy</b> novels, Owen Wister&#39;s &#8220;The Virginian.&#8221; Even before that <br>\\nbook&#39;s&nbsp;...</span><br></div></div><div class=\"g\"><h3 class=\"r\"><a href=\"/url?q=https://github.com/ninenines/cowboy&amp;sa=U&amp;ved=0ahUKEwiCj8XpmNrVAhVkVWMKHYo6BQgQFgg_MAo&amp;usg=AFQjCNHuRQua1h70dxd1XlSvVfdgOjgPaA\">GitHub - ninenines/<b>cowboy</b>: Small, fast, modern HTTP server for ...</a></h3><div class=\"s\"><div class=\"kv\" style=\"margin-bottom:2px\"><cite>https://github.com/ninenines/<b>cowboy</b></cite><div class=\"_nBb\"><div style=\"display:inline\" onclick=\"google.sham(this);\" aria-expanded=\"false\" aria-haspopup=\"true\" tabindex=\"0\" data-ved=\"0ahUKEwiCj8XpmNrVAhVkVWMKHYo6BQgQ7B0IQDAK\"><span class=\"_O0\"></span></div><div style=\"display:none\" class=\"am-dropdown-menu\" role=\"menu\" tabindex=\"-1\"><ul><li class=\"_Ykb\"><a class=\"_Zkb\" href=\"/url?q=http://webcache.googleusercontent.com/search%3Fq%3Dcache:buVcUBiriBoJ:https://github.com/ninenines/cowboy%252Bcowboy%26hl%3Den%26ct%3Dclnk&amp;sa=U&amp;ved=0ahUKEwiCj8XpmNrVAhVkVWMKHYo6BQgQIAhCMAo&amp;usg=AFQjCNFJXjmmfBK_8nDk_Q2QdSiZ4jftFA\">Cached</a></li><li class=\"_Ykb\"><a class=\"_Zkb\" href=\"/search?ie=UTF-8&amp;q=related:https://github.com/ninenines/cowboy+cowboy&amp;tbo=1&amp;sa=X&amp;ved=0ahUKEwiCj8XpmNrVAhVkVWMKHYo6BQgQHwhDMAo\">Similar</a></li></ul></div></div></div><span class=\"st\">Small, fast, modern HTTP server for Erlang/OTP. Contribute to <b>cowboy</b> <br>\\ndevelopment by creating an account on GitHub.</span><br></div></div><div class=\"g\"><h3 class=\"r\"><a href=\"/url?q=http://www.imdb.com/title/tt0051496/&amp;sa=U&amp;ved=0ahUKEwiCj8XpmNrVAhVkVWMKHYo6BQgQFghFMAs&amp;usg=AFQjCNHc3O2CiOZBXQfeQJ-MVcZcHswLjQ\"><b>Cowboy</b> (1958) - IMDb</a></h3><div class=\"s\"><div class=\"kv\" style=\"margin-bottom:2px\"><cite>www.imdb.com/title/tt0051496/</cite><div class=\"_nBb\"><div style=\"display:inline\" onclick=\"google.sham(this);\" aria-expanded=\"false\" aria-haspopup=\"true\" tabindex=\"0\" data-ved=\"0ahUKEwiCj8XpmNrVAhVkVWMKHYo6BQgQ7B0IRjAL\"><span class=\"_O0\"></span></div><div style=\"display:none\" class=\"am-dropdown-menu\" role=\"menu\" tabindex=\"-1\"><ul><li class=\"_Ykb\"><a class=\"_Zkb\" href=\"/url?q=http://webcache.googleusercontent.com/search%3Fq%3Dcache:rHCl0mdSCwMJ:http://www.imdb.com/title/tt0051496/%252Bcowboy%26hl%3Den%26ct%3Dclnk&amp;sa=U&amp;ved=0ahUKEwiCj8XpmNrVAhVkVWMKHYo6BQgQIAhIMAs&amp;usg=AFQjCNFmvtqg3MC_kVAXhdTEKV-6c1M3TA\">Cached</a></li><li class=\"_Ykb\"><a class=\"_Zkb\" href=\"/search?ie=UTF-8&amp;q=related:www.imdb.com/title/tt0051496/+cowboy&amp;tbo=1&amp;sa=X&amp;ved=0ahUKEwiCj8XpmNrVAhVkVWMKHYo6BQgQHwhJMAs\">Similar</a></li></ul></div></div></div><div class=\"f slp\"><div class=\"star\"><div style=\"width:46px\">&nbsp;</div></div>&nbsp;Rating: 6.8/10&nbsp;-&nbsp;1,979 votes</div><span class=\"st\">Western &middot; An idealistic tenderfoot Chicago hotel clerk is taken on a cattle-drive to <br>\\nMexico by famous trail boss Tom Reece but discovers that <b>cowboy</b> life isn&#39;t what&nbsp;...</span><br></div></div><div class=\"g\"><h3 class=\"r\"><a href=\"/url?q=http://bleacherreport.com/dallas-cowboys&amp;sa=U&amp;ved=0ahUKEwiCj8XpmNrVAhVkVWMKHYo6BQgQFghMMAw&amp;usg=AFQjCNFOCIg2cRNCa1amWZ98hRD0N82H2Q\">Dallas <b>Cowboys</b> | Bleacher Report</a></h3><div class=\"s\"><div class=\"kv\" style=\"margin-bottom:2px\"><cite>bleacherreport.com/dallas-<b>cowboys</b></cite><div class=\"_nBb\"><div style=\"display:inline\" onclick=\"google.sham(this);\" aria-expanded=\"false\" aria-haspopup=\"true\" tabindex=\"0\" data-ved=\"0ahUKEwiCj8XpmNrVAhVkVWMKHYo6BQgQ7B0ITTAM\"><span class=\"_O0\"></span></div><div style=\"display:none\" class=\"am-dropdown-menu\" role=\"menu\" tabindex=\"-1\"><ul><li class=\"_Ykb\"><a class=\"_Zkb\" href=\"/url?q=http://webcache.googleusercontent.com/search%3Fq%3Dcache:vZvWyCaD0bkJ:http://bleacherreport.com/dallas-cowboys%252Bcowboy%26hl%3Den%26ct%3Dclnk&amp;sa=U&amp;ved=0ahUKEwiCj8XpmNrVAhVkVWMKHYo6BQgQIAhPMAw&amp;usg=AFQjCNHQjqxantk77kyiYmPAZsLJb__qRA\">Cached</a></li><li class=\"_Ykb\"><a class=\"_Zkb\" href=\"/search?ie=UTF-8&amp;q=related:bleacherreport.com/dallas-cowboys+cowboy&amp;tbo=1&amp;sa=X&amp;ved=0ahUKEwiCj8XpmNrVAhVkVWMKHYo6BQgQHwhQMAw\">Similar</a></li></ul></div></div></div><span class=\"st\">Get the latest Dallas <b>Cowboys</b> news, photos, rankings, lists and more on <br>\\nBleacher Report.</span><br></div></div><div class=\"g\"><h3 class=\"r\"><a href=\"/url?q=http://www.sbnation.com/nfl/teams/dallas-cowboys&amp;sa=U&amp;ved=0ahUKEwiCj8XpmNrVAhVkVWMKHYo6BQgQFghSMA0&amp;usg=AFQjCNEbb2ueWFWdcMNj_Qvlrjd1Y95eiA\">Dallas <b>Cowboys</b> Football News, Schedule, Roster, Stats - SB Nation</a></h3><div class=\"s\"><div class=\"kv\" style=\"margin-bottom:2px\"><cite>www.sbnation.com/nfl/teams/dallas-<b>cowboys</b></cite><div class=\"_nBb\"><div style=\"display:inline\" onclick=\"google.sham(this);\" aria-expanded=\"false\" aria-haspopup=\"true\" tabindex=\"0\" data-ved=\"0ahUKEwiCj8XpmNrVAhVkVWMKHYo6BQgQ7B0IUzAN\"><span class=\"_O0\"></span></div><div style=\"display:none\" class=\"am-dropdown-menu\" role=\"menu\" tabindex=\"-1\"><ul><li class=\"_Ykb\"><a class=\"_Zkb\" href=\"/url?q=http://webcache.googleusercontent.com/search%3Fq%3Dcache:hjllRjb_KS0J:http://www.sbnation.com/nfl/teams/dallas-cowboys%252Bcowboy%26hl%3Den%26ct%3Dclnk&amp;sa=U&amp;ved=0ahUKEwiCj8XpmNrVAhVkVWMKHYo6BQgQIAhVMA0&amp;usg=AFQjCNEHeM1aHO1auz6tYeOvxMrjXi4bLw\">Cached</a></li><li class=\"_Ykb\"><a class=\"_Zkb\" href=\"/search?ie=UTF-8&amp;q=related:www.sbnation.com/nfl/teams/dallas-cowboys+cowboy&amp;tbo=1&amp;sa=X&amp;ved=0ahUKEwiCj8XpmNrVAhVkVWMKHYo6BQgQHwhWMA0\">Similar</a></li></ul></div></div></div><span class=\"st\"><b>Cowboys</b> News: Tyron Smith returns to practice, Justin Durant off NFI list &middot; 13. by <br>\\nMichael Sisemore Blogging The Boys Aug 15, 2017, 5:00am EDT. Tyron Smith&nbsp;...</span><br></div></div><div class=\"g\"><h3 class=\"r\"><a href=\"/url?q=http://www.dictionary.com/browse/cowboy&amp;sa=U&amp;ved=0ahUKEwiCj8XpmNrVAhVkVWMKHYo6BQgQFghYMA4&amp;usg=AFQjCNGRBfJVhRaBW5WMbG2vycLhoFGMXw\"><b>Cowboy</b> | Define <b>Cowboy</b> at Dictionary.com</a></h3><div class=\"s\"><div class=\"kv\" style=\"margin-bottom:2px\"><cite>www.dictionary.com/browse/<b>cowboy</b></cite><div class=\"_nBb\"><div style=\"display:inline\" onclick=\"google.sham(this);\" aria-expanded=\"false\" aria-haspopup=\"true\" tabindex=\"0\" data-ved=\"0ahUKEwiCj8XpmNrVAhVkVWMKHYo6BQgQ7B0IWTAO\"><span class=\"_O0\"></span></div><div style=\"display:none\" class=\"am-dropdown-menu\" role=\"menu\" tabindex=\"-1\"><ul><li class=\"_Ykb\"><a class=\"_Zkb\" href=\"/url?q=http://webcache.googleusercontent.com/search%3Fq%3Dcache:5p_Ht5bUDXgJ:http://www.dictionary.com/browse/cowboy%252Bcowboy%26hl%3Den%26ct%3Dclnk&amp;sa=U&amp;ved=0ahUKEwiCj8XpmNrVAhVkVWMKHYo6BQgQIAhbMA4&amp;usg=AFQjCNEXhQh64xMxYKGAmH7fokFU1iwcnQ\">Cached</a></li></ul></div></div></div><span class=\"st\"><b>Cowboy</b> definition, a man who herds and tends cattle on a ranch, especially in <br>\\nthe western U.S., and who traditionally goes about most of his work on horseback<br>\\n.</span><br></div></div></ol></div></div></div><div style=\"clear:both;margin-bottom:17px;overflow:hidden\"><div style=\"font-size:16px;padding:0 8px 1px\">Searches related to <b>cowboy</b></div><table border=\"0\" cellpadding=\"0\" cellspacing=\"0\"><tr><td valign=\"top\"><p class=\"_Bmc\" style=\"margin:3px 8px\"><a href=\"/search?ie=UTF-8&amp;q=cowboy+history&amp;sa=X&amp;ved=0ahUKEwiCj8XpmNrVAhVkVWMKHYo6BQgQ1QIIXigA\">cowboy <b>history</b></a></p></td><td valign=\"top\" style=\"padding-left:10px\"><p class=\"_Bmc\" style=\"margin:3px 8px\"><a href=\"/search?ie=UTF-8&amp;q=cowboy+facts&amp;sa=X&amp;ved=0ahUKEwiCj8XpmNrVAhVkVWMKHYo6BQgQ1QIIXygB\">cowboy <b>facts</b></a></p></td></tr><tr><td valign=\"top\"><p class=\"_Bmc\" style=\"margin:3px 8px\"><a href=\"/search?ie=UTF-8&amp;q=real+cowboys&amp;sa=X&amp;ved=0ahUKEwiCj8XpmNrVAhVkVWMKHYo6BQgQ1QIIYCgC\"><b>real cowboys</b></a></p></td><td valign=\"top\" style=\"padding-left:10px\"><p class=\"_Bmc\" style=\"margin:3px 8px\"><a href=\"/search?ie=UTF-8&amp;q=cowboy+framework&amp;sa=X&amp;ved=0ahUKEwiCj8XpmNrVAhVkVWMKHYo6BQgQ1QIIYSgD\">cowboy <b>framework</b></a></p></td></tr><tr><td valign=\"top\"><p class=\"_Bmc\" style=\"margin:3px 8px\"><a href=\"/search?ie=UTF-8&amp;q=cowboy+erlang&amp;sa=X&amp;ved=0ahUKEwiCj8XpmNrVAhVkVWMKHYo6BQgQ1QIIYigE\">cowboy <b>erlang</b></a></p></td><td valign=\"top\" style=\"padding-left:10px\"><p class=\"_Bmc\" style=\"margin:3px 8px\"><a href=\"/search?ie=UTF-8&amp;q=cowboy+definition&amp;sa=X&amp;ved=0ahUKEwiCj8XpmNrVAhVkVWMKHYo6BQgQ1QIIYygF\">cowboy <b>definition</b></a></p></td></tr><tr><td valign=\"top\"><p class=\"_Bmc\" style=\"margin:3px 8px\"><a href=\"/search?ie=UTF-8&amp;q=cowboy+meaning&amp;sa=X&amp;ved=0ahUKEwiCj8XpmNrVAhVkVWMKHYo6BQgQ1QIIZCgG\">cowboy <b>meaning</b></a></p></td><td valign=\"top\" style=\"padding-left:10px\"><p class=\"_Bmc\" style=\"margin:3px 8px\"><a href=\"/search?ie=UTF-8&amp;q=modern+cowboy&amp;sa=X&amp;ved=0ahUKEwiCj8XpmNrVAhVkVWMKHYo6BQgQ1QIIZSgH\"><b>modern</b> cowboy</a></p></td></tr></table></div></div><div id=\"foot\"><table align=\"center\" border=\"0\" cellpadding=\"0\" cellspacing=\"0\" id=\"nav\"><tr valign=\"top\"><td align=\"left\" class=\"b\"><span class=\"csb\" style=\"background-position:-24px 0;width:28px\"></span><b></b></td><td><span class=\"csb\" style=\"background-position:-53px 0;width:20px\"></span><b>1</b></td><td><a class=\"fl\" href=\"/search?q=cowboy&amp;ie=UTF-8&amp;prmd=ivns&amp;ei=BGmTWYL9H-SqjQOK9ZRA&amp;start=10&amp;sa=N\"><span class=\"csb\" style=\"background-position:-74px 0;width:20px\"></span>2</a></td><td><a class=\"fl\" href=\"/search?q=cowboy&amp;ie=UTF-8&amp;prmd=ivns&amp;ei=BGmTWYL9H-SqjQOK9ZRA&amp;start=20&amp;sa=N\"><span class=\"csb\" style=\"background-position:-74px 0;width:20px\"></span>3</a></td><td><a class=\"fl\" href=\"/search?q=cowboy&amp;ie=UTF-8&amp;prmd=ivns&amp;ei=BGmTWYL9H-SqjQOK9ZRA&amp;start=30&amp;sa=N\"><span class=\"csb\" style=\"background-position:-74px 0;width:20px\"></span>4</a></td><td><a class=\"fl\" href=\"/search?q=cowboy&amp;ie=UTF-8&amp;prmd=ivns&amp;ei=BGmTWYL9H-SqjQOK9ZRA&amp;start=40&amp;sa=N\"><span class=\"csb\" style=\"background-position:-74px 0;width:20px\"></span>5</a></td><td><a class=\"fl\" href=\"/search?q=cowboy&amp;ie=UTF-8&amp;prmd=ivns&amp;ei=BGmTWYL9H-SqjQOK9ZRA&amp;start=50&amp;sa=N\"><span class=\"csb\" style=\"background-position:-74px 0;width:20px\"></span>6</a></td><td><a class=\"fl\" href=\"/search?q=cowboy&amp;ie=UTF-8&amp;prmd=ivns&amp;ei=BGmTWYL9H-SqjQOK9ZRA&amp;start=60&amp;sa=N\"><span class=\"csb\" style=\"background-position:-74px 0;width:20px\"></span>7</a></td><td><a class=\"fl\" href=\"/search?q=cowboy&amp;ie=UTF-8&amp;prmd=ivns&amp;ei=BGmTWYL9H-SqjQOK9ZRA&amp;start=70&amp;sa=N\"><span class=\"csb\" style=\"background-position:-74px 0;width:20px\"></span>8</a></td><td><a class=\"fl\" href=\"/search?q=cowboy&amp;ie=UTF-8&amp;prmd=ivns&amp;ei=BGmTWYL9H-SqjQOK9ZRA&amp;start=80&amp;sa=N\"><span class=\"csb\" style=\"background-position:-74px 0;width:20px\"></span>9</a></td><td><a class=\"fl\" href=\"/search?q=cowboy&amp;ie=UTF-8&amp;prmd=ivns&amp;ei=BGmTWYL9H-SqjQOK9ZRA&amp;start=90&amp;sa=N\"><span class=\"csb\" style=\"background-position:-74px 0;width:20px\"></span>10</a></td><td class=\"b\" style=\"text-align:left\"><a class=\"fl\" href=\"/search?q=cowboy&amp;ie=UTF-8&amp;prmd=ivns&amp;ei=BGmTWYL9H-SqjQOK9ZRA&amp;start=10&amp;sa=N\" style=\"text-align:left\"><span class=\"csb\" style=\"background-position:-96px 0;width:71px\"></span><span style=\"display:block;margin-left:53px\">Next</span></a></td></tr></table><p class=\"_cD\" id=\"bfl\" style=\"margin:19px 0 0;text-align:center\"><a href=\"/advanced_search?q=cowboy&amp;ie=UTF-8&amp;prmd=ivns\">Advanced search</a><a href=\"/support/websearch/bin/answer.py?answer=134479&amp;hl=en\">Search Help</a> <a href=\"/tools/feedback/survey/html?productId=196&amp;query=cowboy&amp;hl=en\">Send feedback</a></p><div class=\"_cD\" id=\"fll\" style=\"margin:19px auto 19px auto;text-align:center\"><a href=\"/\">Google&nbsp;Home</a> <a href=\"/intl/en/ads\">Advertising&nbsp;Programs</a> <a href=\"/services\">Business Solutions</a> <a href=\"/intl/en/policies/privacy/\">Privacy</a> <a href=\"/intl/en/policies/terms/\">Terms</a> <a href=\"/intl/en/about.html\">About Google</a></div></div></td><td id=\"rhs_block\" valign=\"top\"><ol><div class=\"g\"><div class=\"_uXc hp-xpdbox\"><div class=\"_x8d\" style=\"float:right\"><div class=\"_i8d\" style=\"height:160px;width:86px\"><a href=\"/url?q=http://tvtropes.org/pmwiki/pmwiki.php/Main/Cowboy&amp;sa=U&amp;ved=0ahUKEwiCj8XpmNrVAhVkVWMKHYo6BQgQndQBCG8wDw&amp;usg=AFQjCNE0PurGHwciM7vDThtaWO8crCfLKA\"><img src=\"https://encrypted-tbn0.gstatic.com/images?q=tbn:ANd9GcQfZL_zaYZ5AVlBdH2Q4nlDxJBbG_9PXeIOeWl96Mayne12-vS3jWy0w414\" style=\"margin-left:-36px;margin-right:-38px\" title=\"http://tvtropes.org/pmwiki/pmwiki.php/Main/Cowboy\" alt=\"Image result for cowboy\"></a></div></div><div class=\"_o0d\"><div><div class=\"_B5d\">Cowboy</div></div></div><div class=\"_o0d\"><div class=\"_tXc\"><span>A cowboy is an animal herder who tends cattle on ranches in North America, traditionally on horseback, and often performs a multitude of other ranch-related tasks. <a class=\"fl\" href=\"/url?q=https://en.wikipedia.org/wiki/Cowboy&amp;sa=U&amp;ved=0ahUKEwiCj8XpmNrVAhVkVWMKHYo6BQgQmhMIdCgAMBE&amp;usg=AFQjCNFx5Uxyewo7mgZAwBZGul_gHV3G7A\">Wikipedia</a></span></div></div><div class=\"_o0d\" style=\"display:none\"></div></div></div><div class=\"g\"><div id=\"_Oce\"><div class=\"_Pce\"><div><div class=\"_C5d\">See results about</div></div></div><div class=\"_Pce\"><div class=\"_S4d\"><table class=\"_R4d\"><tr><td class=\"_P4d\"><a class=\"fl\" href=\"/search?ie=UTF-8&amp;q=Dallas+Cowboys&amp;stick=H4sIAAAAAAAAAONgecToyC3w8sc9YSmLSWtOXmM04uIKzsgvd80rySypFFLhYoOypLh4pDj0c_UNjCwszTQYpLi44DweAMdCfoBGAAAA&amp;sa=X&amp;ved=0ahUKEwiCj8XpmNrVAhVkVWMKHYo6BQgQ-DIIfTAU\"><div class=\"_fce _Qbe\">Dallas Cowboys (Football team)</div><div class=\"_Vbe _Qbe\">Roster: Rayne Dakota Prescott, Ezekiel Elliott, Dez Bryant, Jaylon Smith, Jason Witten, David Irving, Cole Beasley, Anthony Brown, Sean Lee, Darren McFadden, Tyron Smith, Terrance Williams, Rico Gathers, Chris Jones, Byron Jones, Ryan Switzer, Kellen Moore, Nolan Carroll, Taco Charlton, Damontre Moore, La\\'el Collins, Jeff Heath, Zack Martin, Jonathan Cooper, Maliek Collins, Alfred Morris, Charles Tapper, Dan Bailey, Orlando Scandrick, Demarcus Lawrence, Brice Butler, Jourdan Lewis, Chidobe Awuzie, Damien Wilson, Benson Mayowa, Rod Smith, Zac Dysert, Noah Brown, Anthony Hitchens, Xavier Woods, Chaz Green, Jameill Showers, Justin Durant, Keith Smith, Byron Bell, Lance Lenoir, Jr., Joey Ivie, John Lotulelei, Travis Frederick, Jahad Thomas</div><div class=\"_Vbe _Qbe\">NFL championships: 1996, 1994, 1993, 1978, 1972</div></a></td><td width=\"40\"><a href=\"/search?ie=UTF-8&amp;q=Dallas+Cowboys&amp;stick=H4sIAAAAAAAAAONgecToyC3w8sc9YSmLSWtOXmM04uIKzsgvd80rySypFFLhYoOypLh4pDj0c_UNjCwszTQYpLi44DweAMdCfoBGAAAA&amp;sa=X&amp;ved=0ahUKEwiCj8XpmNrVAhVkVWMKHYo6BQgQ-DIIgAEwFA\"><img class=\"_T4d\" src=\"https://encrypted-tbn1.gstatic.com/images?q=tbn:ANd9GcTdhZ7rHoSOFscB5q9QAcUlfK5AwTPooQXKJRFzfpjCrsOA_1R1yUg\" height=\"40\" width=\"40\"></a></td></tr></table></div></div><div class=\"_Pce\"><div class=\"_S4d\"><table class=\"_R4d\"><tr><td class=\"_P4d\"><a class=\"fl\" href=\"/search?ie=UTF-8&amp;q=Cowboy+1958&amp;stick=H4sIAAAAAAAAAONgecToyi3w8sc9YSmbSWtOXmM04-IKzsgvd80rySypFNLgYoOy5Lj4pLj0c_UNjCpMCrMrNRikeLiQ-DwAIRy7qUoAAAA&amp;sa=X&amp;ved=0ahUKEwiCj8XpmNrVAhVkVWMKHYo6BQgQ-DIIgwEwFQ\"><div class=\"_fce _Qbe\">Cowboy (1958 film)</div><div class=\"_Vbe _Qbe\">Release date: February 19, 1958 (New York City)</div><div class=\"_Vbe _Qbe\">Director: Delmer Daves</div></a></td><td width=\"40\"><a href=\"/search?ie=UTF-8&amp;q=Cowboy+1958&amp;stick=H4sIAAAAAAAAAONgecToyi3w8sc9YSmbSWtOXmM04-IKzsgvd80rySypFNLgYoOy5Lj4pLj0c_UNjCpMCrMrNRikeLiQ-DwAIRy7qUoAAAA&amp;sa=X&amp;ved=0ahUKEwiCj8XpmNrVAhVkVWMKHYo6BQgQ-DIIhgEwFQ\"><img class=\"_T4d\" src=\"https://encrypted-tbn0.gstatic.com/images?q=tbn:ANd9GcTT0zHTGWg5OWcg54ehuGPPBLaNt66Xv9hXTXJGMttiPJ_4D4p-rarXxVzB0SoiXHCO7YQ\" height=\"40\" width=\"40\"></a></td></tr></table></div></div></div></div><div class=\"g\"></div></ol></td></tr></tbody></table><script type=\"text/javascript\">(function(){var eventid=\\'BGmTWYL9H-SqjQOK9ZRA\\';google.kEI = eventid;})();</script><script src=\"/xjs/_/js/k=xjs.hp.en_US.DIsHEVqiWwk.O/m=sb_he,d/rt=j/d=1/t=zcms/rs=ACT90oF9bTmVUsvTuH9ngwDovbvlIVrIVw\"></script><script type=\"text/javascript\">google.ac&&google.ac.c({\"agen\":false,\"cgen\":false,\"client\":\"heirloom-serp\",\"dh\":true,\"dhqt\":true,\"ds\":\"\",\"fl\":true,\"host\":\"google.com\",\"isbh\":28,\"jam\":0,\"jsonp\":true,\"msgs\":{\"cibl\":\"Clear Search\",\"dym\":\"Did you mean:\",\"lcky\":\"I\\\\u0026#39;m Feeling Lucky\",\"lml\":\"Learn more\",\"oskt\":\"Input tools\",\"psrc\":\"This search was removed from your \\\\u003Ca href=\\\\\"/history\\\\\"\\\\u003EWeb History\\\\u003C/a\\\\u003E\",\"psrl\":\"Remove\",\"sbit\":\"Search by image\",\"srch\":\"Google Search\"},\"nds\":true,\"ovr\":{},\"pq\":\"cowboy\",\"refpd\":true,\"rfs\":[\"cowboy history\",\"real cowboys\",\"cowboy erlang\",\"cowboy meaning\",\"cowboy facts\",\"cowboy framework\",\"cowboy definition\",\"modern cowboy\"],\"sbpl\":24,\"sbpr\":24,\"scd\":10,\"sce\":5,\"stok\":\"EqQ_wuiz7DnoHZc2jLLZyianRuQ\"})</script><script>(function(){window.google.cdo={height:0,width:0};(function(){var a=window.innerWidth,b=window.innerHeight;if(!a||!b){var c=window.document,d=\"CSS1Compat\"==c.compatMode?c.documentElement:c.body;a=d.clientWidth;b=d.clientHeight}a&&b&&(a!=google.cdo.width||b!=google.cdo.height)&&google.log(\"\",\"\",\"/client_204?&atyp=i&biw=\"+a+\"&bih=\"+b+\"&ei=\"+google.kEI);}).call(this);})();</script></body></html>'"
      ]
     },
     "execution_count": 15,
     "metadata": {},
     "output_type": "execute_result"
    }
   ],
   "source": [
    "response2.text"
   ]
  },
  {
   "cell_type": "markdown",
   "metadata": {},
   "source": [
    "## Query Wikipedia"
   ]
  },
  {
   "cell_type": "code",
   "execution_count": 16,
   "metadata": {},
   "outputs": [
    {
     "data": {
      "text/plain": [
       "<Response [200]>"
      ]
     },
     "execution_count": 16,
     "metadata": {},
     "output_type": "execute_result"
    }
   ],
   "source": [
    "requests.get('https://www.wikidata.org/w/api.php?action=wbgetentities&ids=Q39246&format=json')"
   ]
  },
  {
   "cell_type": "code",
   "execution_count": 23,
   "metadata": {
    "collapsed": true
   },
   "outputs": [],
   "source": [
    "response_wiki = requests.get('https://www.wikidata.org/w/api.php?action=wbgetentities&ids=Q39246&format=json')"
   ]
  },
  {
   "cell_type": "code",
   "execution_count": 24,
   "metadata": {},
   "outputs": [
    {
     "data": {
      "text/plain": [
       "requests.models.Response"
      ]
     },
     "execution_count": 24,
     "metadata": {},
     "output_type": "execute_result"
    }
   ],
   "source": [
    "type( response_wiki)"
   ]
  },
  {
   "cell_type": "code",
   "execution_count": 19,
   "metadata": {},
   "outputs": [
    {
     "data": {
      "text/plain": [
       "200"
      ]
     },
     "execution_count": 19,
     "metadata": {},
     "output_type": "execute_result"
    }
   ],
   "source": [
    "response_wiki.status_code"
   ]
  },
  {
   "cell_type": "code",
   "execution_count": 25,
   "metadata": {},
   "outputs": [],
   "source": [
    "response_json = response_wiki.json()"
   ]
  },
  {
   "cell_type": "code",
   "execution_count": 61,
   "metadata": {},
   "outputs": [
    {
     "data": {
      "text/plain": [
       "dict"
      ]
     },
     "execution_count": 61,
     "metadata": {},
     "output_type": "execute_result"
    }
   ],
   "source": [
    "type(response_json)"
   ]
  },
  {
   "cell_type": "code",
   "execution_count": 26,
   "metadata": {},
   "outputs": [
    {
     "data": {
      "text/plain": [
       "dict_keys(['entities', 'success'])"
      ]
     },
     "execution_count": 26,
     "metadata": {},
     "output_type": "execute_result"
    }
   ],
   "source": [
    "response_json.keys()"
   ]
  },
  {
   "cell_type": "code",
   "execution_count": 27,
   "metadata": {},
   "outputs": [
    {
     "data": {
      "text/plain": [
       "dict_keys(['Q39246'])"
      ]
     },
     "execution_count": 27,
     "metadata": {},
     "output_type": "execute_result"
    }
   ],
   "source": [
    "response_json['entities'].keys()"
   ]
  },
  {
   "cell_type": "code",
   "execution_count": null,
   "metadata": {
    "collapsed": true
   },
   "outputs": [],
   "source": []
  },
  {
   "cell_type": "code",
   "execution_count": 46,
   "metadata": {
    "collapsed": true
   },
   "outputs": [],
   "source": [
    "base_url = \"https://en.wikipedia.org/w/api.php\""
   ]
  },
  {
   "cell_type": "code",
   "execution_count": 47,
   "metadata": {
    "collapsed": true
   },
   "outputs": [],
   "source": [
    "action = \"?action=mobileview\"\n",
    "parameters = \"&format=json&prop=sections&sections=all\"\n",
    "page = \"&page=\""
   ]
  },
  {
   "cell_type": "code",
   "execution_count": 48,
   "metadata": {},
   "outputs": [
    {
     "data": {
      "text/plain": [
       "'https://en.wikipedia.org/w/api.php?action=mobileview&format=json&prop=sections&sections=all&page=Richard_Feynman'"
      ]
     },
     "execution_count": 48,
     "metadata": {},
     "output_type": "execute_result"
    }
   ],
   "source": [
    "richard_feynman_url = base_url + action + parameters + page + 'Richard_Feynman'\n",
    "richard_feynman_url"
   ]
  },
  {
   "cell_type": "code",
   "execution_count": null,
   "metadata": {
    "collapsed": true
   },
   "outputs": [],
   "source": []
  },
  {
   "cell_type": "code",
   "execution_count": null,
   "metadata": {
    "collapsed": true
   },
   "outputs": [],
   "source": []
  },
  {
   "cell_type": "code",
   "execution_count": null,
   "metadata": {
    "collapsed": true
   },
   "outputs": [],
   "source": []
  },
  {
   "cell_type": "code",
   "execution_count": 49,
   "metadata": {
    "collapsed": true
   },
   "outputs": [],
   "source": [
    "response_rich_f = requests.get( richard_feynman_url )"
   ]
  },
  {
   "cell_type": "code",
   "execution_count": 50,
   "metadata": {},
   "outputs": [
    {
     "data": {
      "text/plain": [
       "200"
      ]
     },
     "execution_count": 50,
     "metadata": {},
     "output_type": "execute_result"
    }
   ],
   "source": [
    "response_rich_f.status_code"
   ]
  },
  {
   "cell_type": "code",
   "execution_count": 53,
   "metadata": {},
   "outputs": [
    {
     "data": {
      "text/plain": [
       "'{\"mobileview\":{\"sections\":[{\"id\":0},{\"toclevel\":1,\"line\":\"Early life\",\"id\":1},{\"toclevel\":1,\"line\":\"Education\",\"id\":2},{\"toclevel\":1,\"line\":\"Manhattan Project\",\"id\":3},{\"toclevel\":1,\"line\":\"Cornell\",\"id\":4},{\"toclevel\":1,\"line\":\"Caltech years\",\"id\":5},{\"toclevel\":2,\"line\":\"Personal and political life\",\"id\":6},{\"toclevel\":2,\"line\":\"Physics\",\"id\":7},{\"toclevel\":2,\"line\":\"Pedagogy\",\"id\":8},{\"toclevel\":2,\"line\":\"<i>Surely You\\'re Joking Mr. Feynman</i>\",\"id\":9},{\"toclevel\":2,\"line\":\"Challenger disaster\",\"id\":10},{\"toclevel\":2,\"line\":\"Recognition and awards\",\"id\":11},{\"toclevel\":1,\"line\":\"Death\",\"id\":12},{\"toclevel\":1,\"line\":\"Popular legacy\",\"id\":13},{\"toclevel\":1,\"line\":\"Bibliography\",\"id\":14},{\"toclevel\":2,\"line\":\"Selected scientific works\",\"id\":15},{\"toclevel\":2,\"line\":\"Textbooks and lecture notes\",\"id\":16},{\"toclevel\":2,\"line\":\"Popular works\",\"id\":17},{\"toclevel\":2,\"line\":\"Audio and video recordings\",\"id\":18},{\"toclevel\":1,\"line\":\"Notes\",\"id\":19,\"references\":\"\"},{\"toclevel\":1,\"line\":\"References\",\"id\":20},{\"toclevel\":1,\"line\":\"Further reading\",\"id\":21},{\"toclevel\":2,\"line\":\"Articles\",\"id\":22},{\"toclevel\":2,\"line\":\"Books\",\"id\":23},{\"toclevel\":2,\"line\":\"Films and plays\",\"id\":24},{\"toclevel\":1,\"line\":\"External links\",\"id\":25}]}}'"
      ]
     },
     "execution_count": 53,
     "metadata": {},
     "output_type": "execute_result"
    }
   ],
   "source": [
    "response_rich_f.text"
   ]
  },
  {
   "cell_type": "code",
   "execution_count": null,
   "metadata": {
    "collapsed": true
   },
   "outputs": [],
   "source": []
  },
  {
   "cell_type": "code",
   "execution_count": null,
   "metadata": {
    "collapsed": true
   },
   "outputs": [],
   "source": []
  },
  {
   "cell_type": "code",
   "execution_count": 34,
   "metadata": {},
   "outputs": [
    {
     "data": {
      "text/plain": [
       "{'mobileview': {'sections': [{'id': 0},\n",
       "   {'id': 1, 'line': 'Early life', 'toclevel': 1},\n",
       "   {'id': 2, 'line': 'Education', 'toclevel': 1},\n",
       "   {'id': 3, 'line': 'Manhattan Project', 'toclevel': 1},\n",
       "   {'id': 4, 'line': 'Cornell', 'toclevel': 1},\n",
       "   {'id': 5, 'line': 'Caltech years', 'toclevel': 1},\n",
       "   {'id': 6, 'line': 'Personal and political life', 'toclevel': 2},\n",
       "   {'id': 7, 'line': 'Physics', 'toclevel': 2},\n",
       "   {'id': 8, 'line': 'Pedagogy', 'toclevel': 2},\n",
       "   {'id': 9, 'line': \"<i>Surely You're Joking Mr. Feynman</i>\", 'toclevel': 2},\n",
       "   {'id': 10, 'line': 'Challenger disaster', 'toclevel': 2},\n",
       "   {'id': 11, 'line': 'Recognition and awards', 'toclevel': 2},\n",
       "   {'id': 12, 'line': 'Death', 'toclevel': 1},\n",
       "   {'id': 13, 'line': 'Popular legacy', 'toclevel': 1},\n",
       "   {'id': 14, 'line': 'Bibliography', 'toclevel': 1},\n",
       "   {'id': 15, 'line': 'Selected scientific works', 'toclevel': 2},\n",
       "   {'id': 16, 'line': 'Textbooks and lecture notes', 'toclevel': 2},\n",
       "   {'id': 17, 'line': 'Popular works', 'toclevel': 2},\n",
       "   {'id': 18, 'line': 'Audio and video recordings', 'toclevel': 2},\n",
       "   {'id': 19, 'line': 'Notes', 'references': '', 'toclevel': 1},\n",
       "   {'id': 20, 'line': 'References', 'toclevel': 1},\n",
       "   {'id': 21, 'line': 'Further reading', 'toclevel': 1},\n",
       "   {'id': 22, 'line': 'Articles', 'toclevel': 2},\n",
       "   {'id': 23, 'line': 'Books', 'toclevel': 2},\n",
       "   {'id': 24, 'line': 'Films and plays', 'toclevel': 2},\n",
       "   {'id': 25, 'line': 'External links', 'toclevel': 1}]}}"
      ]
     },
     "execution_count": 34,
     "metadata": {},
     "output_type": "execute_result"
    }
   ],
   "source": [
    "response_rich_f.json()"
   ]
  },
  {
   "cell_type": "code",
   "execution_count": 78,
   "metadata": {
    "collapsed": true
   },
   "outputs": [],
   "source": [
    "raw_page_url = 'https://en.wikipedia.org/wiki/Richard_Feynman'"
   ]
  },
  {
   "cell_type": "markdown",
   "metadata": {},
   "source": [
    "## API Tutorial\n",
    "\n",
    "mediawiki API"
   ]
  },
  {
   "cell_type": "markdown",
   "metadata": {},
   "source": [
    "## Raw Get on Wikipedia"
   ]
  },
  {
   "cell_type": "code",
   "execution_count": 36,
   "metadata": {
    "collapsed": true
   },
   "outputs": [],
   "source": [
    "base_url = 'https://en.wikipedia.org/w/api.php'"
   ]
  },
  {
   "cell_type": "code",
   "execution_count": 194,
   "metadata": {
    "collapsed": true
   },
   "outputs": [],
   "source": [
    "action = \"?action=query&list=categorymembers|allpages&cmlimit=198\" ## &generator=allpages\n",
    "#action = \"?action=mobileview\"\n",
    "parameters = \"&format=json&prop=categories\" #|links\" #&rvprop=content\" # &sections=all\n",
    "category = '&cmtitle='\n",
    "#titles = \"&titles=\"\n",
    "#page = \"&page=\""
   ]
  },
  {
   "cell_type": "code",
   "execution_count": 195,
   "metadata": {
    "collapsed": true
   },
   "outputs": [],
   "source": [
    "#category = \"Machine_learning\"\n",
    "\n",
    "url = base_url + action + parameters + category + 'Category:Machine_learning'\n"
   ]
  },
  {
   "cell_type": "code",
   "execution_count": 196,
   "metadata": {
    "collapsed": true
   },
   "outputs": [],
   "source": [
    "ml = requests.get( url)"
   ]
  },
  {
   "cell_type": "code",
   "execution_count": 197,
   "metadata": {},
   "outputs": [
    {
     "data": {
      "text/plain": [
       "dict_keys(['batchcomplete', 'continue', 'query'])"
      ]
     },
     "execution_count": 197,
     "metadata": {},
     "output_type": "execute_result"
    }
   ],
   "source": [
    "##Get all the pages in a Category\n",
    "\n",
    "catJson = ml.json() ## dict\n",
    "catJson.keys()\n",
    "\n"
   ]
  },
  {
   "cell_type": "code",
   "execution_count": null,
   "metadata": {},
   "outputs": [],
   "source": [
    "catPages = catJson['query']['categorymembers']\n",
    "print( len( catPages))\n",
    "print( catPages_dict[0:5], sep = '\\n' )"
   ]
  },
  {
   "cell_type": "code",
   "execution_count": 201,
   "metadata": {},
   "outputs": [
    {
     "data": {
      "text/plain": [
       "<function dict.items>"
      ]
     },
     "execution_count": 201,
     "metadata": {},
     "output_type": "execute_result"
    }
   ],
   "source": []
  },
  {
   "cell_type": "code",
   "execution_count": 204,
   "metadata": {},
   "outputs": [
    {
     "data": {
      "text/plain": [
       "{'batchcomplete': '',\n",
       " 'continue': {'apcontinue': '!!Fuck_you!!',\n",
       "  'cmcontinue': 'subcat|2745453d372f2d043f272b3537412f043d2f274941374133011c018f1b|33547387',\n",
       "  'continue': '-||categories'},\n",
       " 'query': {'allpages': [{'ns': 0, 'pageid': 5878274, 'title': '!'},\n",
       "   {'ns': 0, 'pageid': 3632887, 'title': '!!'},\n",
       "   {'ns': 0, 'pageid': 600744, 'title': '!!!'},\n",
       "   {'ns': 0, 'pageid': 34443176, 'title': '!!!Fuck You!!!'},\n",
       "   {'ns': 0, 'pageid': 11011780, 'title': '!!!Fuck You!!! And Then Some'},\n",
       "   {'ns': 0, 'pageid': 34443184, 'title': '!!!Fuck You!!! and Then Some'},\n",
       "   {'ns': 0, 'pageid': 39401265, 'title': '!!! (Chk Chk Chk)'},\n",
       "   {'ns': 0, 'pageid': 2556962, 'title': '!!! (album)'},\n",
       "   {'ns': 0, 'pageid': 10065458, 'title': '!!! (band)'},\n",
       "   {'ns': 0, 'pageid': 16381751, 'title': '!!Destroy-Oh-Boy!!'}],\n",
       "  'categorymembers': [{'ns': 0,\n",
       "    'pageid': 43385931,\n",
       "    'title': 'Data exploration'},\n",
       "   {'ns': 0,\n",
       "    'pageid': 49082762,\n",
       "    'title': 'List of datasets for machine learning research'},\n",
       "   {'ns': 0, 'pageid': 233488, 'title': 'Machine learning'},\n",
       "   {'ns': 0, 'pageid': 53587467, 'title': 'Outline of machine learning'},\n",
       "   {'ns': 0, 'pageid': 53198248, 'title': 'Singular statistical model'},\n",
       "   {'ns': 0, 'pageid': 3771060, 'title': 'Accuracy paradox'},\n",
       "   {'ns': 0, 'pageid': 43808044, 'title': 'Action model learning'},\n",
       "   {'ns': 0,\n",
       "    'pageid': 28801798,\n",
       "    'title': 'Active learning (machine learning)'},\n",
       "   {'ns': 0, 'pageid': 45049676, 'title': 'Adversarial machine learning'},\n",
       "   {'ns': 0, 'pageid': 52642349, 'title': 'AIVA'},\n",
       "   {'ns': 0, 'pageid': 30511763, 'title': 'AIXI'},\n",
       "   {'ns': 0, 'pageid': 50773876, 'title': 'Algorithm Selection'},\n",
       "   {'ns': 0, 'pageid': 20890511, 'title': 'Algorithmic inference'},\n",
       "   {'ns': 0, 'pageid': 49242352, 'title': 'AlphaGo'},\n",
       "   {'ns': 0, 'pageid': 19463198, 'title': 'Apprenticeship learning'},\n",
       "   {'ns': 0, 'pageid': 14003441, 'title': 'Bag-of-words model'},\n",
       "   {'ns': 0, 'pageid': 31877832, 'title': 'Ball tree'},\n",
       "   {'ns': 0, 'pageid': 9732182, 'title': 'Base rate'},\n",
       "   {'ns': 0,\n",
       "    'pageid': 35867897,\n",
       "    'title': 'Bayesian interpretation of kernel regularization'},\n",
       "   {'ns': 0, 'pageid': 40973765, 'title': 'Bayesian optimization'},\n",
       "   {'ns': 0, 'pageid': 50211107, 'title': 'Bayesian structural time series'},\n",
       "   {'ns': 0, 'pageid': 40678189, 'title': 'Bias–variance tradeoff'},\n",
       "   {'ns': 0, 'pageid': 205393, 'title': 'Binary classification'},\n",
       "   {'ns': 0, 'pageid': 50646178, 'title': 'Bing Predicts'},\n",
       "   {'ns': 0, 'pageid': 1191936, 'title': 'Bongard problem'},\n",
       "   {'ns': 0, 'pageid': 44439173, 'title': 'Bradley–Terry model'},\n",
       "   {'ns': 0, 'pageid': 53631046, 'title': 'Caffe (software)'},\n",
       "   {'ns': 0, 'pageid': 39182554, 'title': 'Catastrophic interference'},\n",
       "   {'ns': 0, 'pageid': 8964665, 'title': 'Category utility'},\n",
       "   {'ns': 0, 'pageid': 17114678, 'title': 'CBCL (MIT)'},\n",
       "   {'ns': 0, 'pageid': 22795783, 'title': 'CIML community portal'},\n",
       "   {'ns': 0, 'pageid': 28650287, 'title': 'Cleverbot'},\n",
       "   {'ns': 0, 'pageid': 2934910, 'title': 'Cognitive robotics'},\n",
       "   {'ns': 0, 'pageid': 9583985, 'title': 'Committee machine'},\n",
       "   {'ns': 0, 'pageid': 387537, 'title': 'Computational learning theory'},\n",
       "   {'ns': 0, 'pageid': 3118600, 'title': 'Concept drift'},\n",
       "   {'ns': 0, 'pageid': 6968451, 'title': 'Concept learning'},\n",
       "   {'ns': 0, 'pageid': 4118276, 'title': 'Conditional random field'},\n",
       "   {'ns': 0, 'pageid': 847558, 'title': 'Confusion matrix'},\n",
       "   {'ns': 0,\n",
       "    'pageid': 54550729,\n",
       "    'title': 'Connectionist Temporal Classification (CTC)'},\n",
       "   {'ns': 0, 'pageid': 28255458, 'title': 'Constrained conditional model'},\n",
       "   {'ns': 0, 'pageid': 34042707, 'title': 'Coupled pattern learner'},\n",
       "   {'ns': 0, 'pageid': 5767980, 'title': 'Cross-entropy method'},\n",
       "   {'ns': 0, 'pageid': 416612, 'title': 'Cross-validation (statistics)'},\n",
       "   {'ns': 0, 'pageid': 787776, 'title': 'Curse of dimensionality'},\n",
       "   {'ns': 0, 'pageid': 49316492, 'title': 'Darkforest'},\n",
       "   {'ns': 0, 'pageid': 12386904, 'title': 'Data pre-processing'},\n",
       "   {'ns': 0, 'pageid': 51112472, 'title': 'Dataiku'},\n",
       "   {'ns': 0, 'pageid': 19317802, 'title': 'Decision list'},\n",
       "   {'ns': 0, 'pageid': 48290454, 'title': 'Deep feature synthesis'},\n",
       "   {'ns': 0, 'pageid': 43169442, 'title': 'Deeplearning4j'},\n",
       "   {'ns': 0, 'pageid': 41755648, 'title': 'DeepMind'},\n",
       "   {'ns': 0, 'pageid': 1422176, 'title': 'Developmental robotics'},\n",
       "   {'ns': 0, 'pageid': 579867, 'title': 'Dimensionality reduction'},\n",
       "   {'ns': 0, 'pageid': 12155912, 'title': 'Discriminative model'},\n",
       "   {'ns': 0, 'pageid': 1331441, 'title': 'Document classification'},\n",
       "   {'ns': 0, 'pageid': 45390860, 'title': 'Domain adaptation'},\n",
       "   {'ns': 0, 'pageid': 10747995, 'title': 'Eager learning'},\n",
       "   {'ns': 0, 'pageid': 213214, 'title': 'Early stopping'},\n",
       "   {'ns': 0, 'pageid': 13750669, 'title': 'Elastic matching'},\n",
       "   {'ns': 0, 'pageid': 1455062, 'title': 'Empirical risk minimization'},\n",
       "   {'ns': 0, 'pageid': 52003586, 'title': 'End-to-end reinforcement learning'},\n",
       "   {'ns': 0, 'pageid': 12304987, 'title': 'Ensembles of classifiers'},\n",
       "   {'ns': 0, 'pageid': 48833041, 'title': 'Error Tolerance (PAC learning)'},\n",
       "   {'ns': 0, 'pageid': 43218024, 'title': 'Evaluation of binary classifiers'},\n",
       "   {'ns': 0, 'pageid': 460689, 'title': 'Evolutionary programming'},\n",
       "   {'ns': 0, 'pageid': 8416103, 'title': 'Evolvability (computer science)'},\n",
       "   {'ns': 0, 'pageid': 14923880, 'title': 'Expectation propagation'},\n",
       "   {'ns': 0, 'pageid': 21638340, 'title': 'Explanation-based learning'},\n",
       "   {'ns': 0, 'pageid': 1299404, 'title': 'Feature (machine learning)'},\n",
       "   {'ns': 0, 'pageid': 46207323, 'title': 'Feature engineering'},\n",
       "   {'ns': 0, 'pageid': 36126852, 'title': 'Feature hashing'},\n",
       "   {'ns': 0, 'pageid': 38870173, 'title': 'Feature learning'},\n",
       "   {'ns': 0, 'pageid': 34061548, 'title': 'Feature scaling'},\n",
       "   {'ns': 0, 'pageid': 2085584, 'title': 'Feature vector'},\n",
       "   {'ns': 0, 'pageid': 313845, 'title': 'Formal concept analysis'},\n",
       "   {'ns': 0, 'pageid': 1222578, 'title': 'Generative model'},\n",
       "   {'ns': 0, 'pageid': 40254, 'title': 'Genetic algorithm'},\n",
       "   {'ns': 0,\n",
       "    'pageid': 50336055,\n",
       "    'title': 'Glossary of artificial intelligence'},\n",
       "   {'ns': 0, 'pageid': 4375576, 'title': 'Grammar induction'},\n",
       "   {'ns': 0, 'pageid': 1041204, 'title': 'Granular computing'},\n",
       "   {'ns': 0, 'pageid': 32402755, 'title': 'Hyperparameter (machine learning)'},\n",
       "   {'ns': 0, 'pageid': 5008963, 'title': 'Inauthentic text'},\n",
       "   {'ns': 0, 'pageid': 173926, 'title': 'Inductive bias'},\n",
       "   {'ns': 0, 'pageid': 42579971, 'title': 'Inductive probability'},\n",
       "   {'ns': 0, 'pageid': 41644056, 'title': 'Inductive programming'},\n",
       "   {'ns': 0, 'pageid': 33762888, 'title': 'Inferential theory of learning'},\n",
       "   {'ns': 0, 'pageid': 53279262, 'title': 'Instance selection'},\n",
       "   {'ns': 0, 'pageid': 22589574, 'title': 'Instance-based learning'},\n",
       "   {'ns': 0,\n",
       "    'pageid': 470314,\n",
       "    'title': 'Instantaneously trained neural networks'},\n",
       "   {'ns': 0, 'pageid': 48987892, 'title': 'Isotropic position'},\n",
       "   {'ns': 0,\n",
       "    'pageid': 5721283,\n",
       "    'title': 'Journal of Machine Learning Research'},\n",
       "   {'ns': 0, 'pageid': 2090057, 'title': 'Kernel density estimation'},\n",
       "   {'ns': 0, 'pageid': 41370976, 'title': 'Kernel embedding of distributions'},\n",
       "   {'ns': 0, 'pageid': 46798615, 'title': 'Kernel random forest'},\n",
       "   {'ns': 0, 'pageid': 4144848, 'title': 'Knowledge integration'},\n",
       "   {'ns': 0, 'pageid': 43688866, 'title': 'Knowledge Vault'},\n",
       "   {'ns': 0, 'pageid': 54033657, 'title': 'Labeled data'},\n",
       "   {'ns': 0, 'pageid': 28037054, 'title': 'Large margin nearest neighbor'},\n",
       "   {'ns': 0, 'pageid': 10747879, 'title': 'Lazy learning'},\n",
       "   {'ns': 0, 'pageid': 48827727, 'title': 'Learnable function class'},\n",
       "   {'ns': 0, 'pageid': 3274742, 'title': 'Learning automata'},\n",
       "   {'ns': 0, 'pageid': 25050663, 'title': 'Learning to rank'},\n",
       "   {'ns': 0, 'pageid': 23864530, 'title': 'Learning with errors'},\n",
       "   {'ns': 0, 'pageid': 33890474, 'title': 'Leave-one-out error'},\n",
       "   {'ns': 0, 'pageid': 35272263, 'title': 'Linear predictor function'},\n",
       "   {'ns': 0, 'pageid': 523173, 'title': 'Linear separability'},\n",
       "   {'ns': 0, 'pageid': 46963137, 'title': 'Local case-control sampling'},\n",
       "   {'ns': 2, 'pageid': 53047074, 'title': 'User:Luca Innocenti/sandbox'},\n",
       "   {'ns': 0, 'pageid': 44632031, 'title': 'M-Theory (learning framework)'},\n",
       "   {'ns': 0, 'pageid': 45378845, 'title': 'Logic learning machine'},\n",
       "   {'ns': 0, 'pageid': 5721403, 'title': 'Machine Learning (journal)'},\n",
       "   {'ns': 0, 'pageid': 53802271, 'title': 'Machine learning control'},\n",
       "   {'ns': 0,\n",
       "    'pageid': 53970843,\n",
       "    'title': 'Machine learning in bioinformatics'},\n",
       "   {'ns': 0, 'pageid': 48777199, 'title': 'Manifold regularization'},\n",
       "   {'ns': 2, 'pageid': 53049812, 'title': 'User:Maria Schuld/sandbox'},\n",
       "   {'ns': 0, 'pageid': 47937215, 'title': 'The Master Algorithm'},\n",
       "   {'ns': 0, 'pageid': 44628821, 'title': 'Matrix regularization'},\n",
       "   {'ns': 0, 'pageid': 12306500, 'title': 'Matthews correlation coefficient'},\n",
       "   {'ns': 0, 'pageid': 4615464, 'title': 'Meta learning (computer science)'},\n",
       "   {'ns': 0, 'pageid': 871681, 'title': 'Mixture model'},\n",
       "   {'ns': 0, 'pageid': 33998310, 'title': 'Mountain Car'},\n",
       "   {'ns': 0, 'pageid': 49786340, 'title': 'Movidius'},\n",
       "   {'ns': 0, 'pageid': 2854828, 'title': 'Multi-armed bandit'},\n",
       "   {'ns': 0, 'pageid': 938663, 'title': 'Multi-task learning'},\n",
       "   {'ns': 0,\n",
       "    'pageid': 30928751,\n",
       "    'title': 'Multilinear principal component analysis'},\n",
       "   {'ns': 0, 'pageid': 30909817, 'title': 'Multilinear subspace learning'},\n",
       "   {'ns': 0, 'pageid': 48841414, 'title': 'Multiple instance learning'},\n",
       "   {'ns': 0, 'pageid': 14082194, 'title': 'Multiple-instance learning'},\n",
       "   {'ns': 0,\n",
       "    'pageid': 52242050,\n",
       "    'title': 'Multiplicative Weight Update Method'},\n",
       "   {'ns': 0,\n",
       "    'pageid': 18475546,\n",
       "    'title': 'Multivariate adaptive regression splines'},\n",
       "   {'ns': 0, 'pageid': 48976249, 'title': 'MysteryVibe'},\n",
       "   {'ns': 0, 'pageid': 45627703, 'title': 'Native-language identification'},\n",
       "   {'ns': 0, 'pageid': 7309022, 'title': 'Nearest neighbor search'},\n",
       "   {'ns': 0, 'pageid': 19208664, 'title': 'Neural modeling fields'},\n",
       "   {'ns': 0, 'pageid': 44577560, 'title': 'Occam learning'},\n",
       "   {'ns': 0, 'pageid': 10748030, 'title': 'Offline learning'},\n",
       "   {'ns': 0, 'pageid': 42129549, 'title': 'OpenNN'},\n",
       "   {'ns': 0, 'pageid': 173332, 'title': 'Overfitting'},\n",
       "   {'ns': 0, 'pageid': 23864280, 'title': 'Parity learning'},\n",
       "   {'ns': 0,\n",
       "    'pageid': 40946774,\n",
       "    'title': 'Pattern language (formal languages)'},\n",
       "   {'ns': 0, 'pageid': 126706, 'title': 'Pattern recognition'},\n",
       "   {'ns': 0, 'pageid': 2291650, 'title': 'Predictive learning'},\n",
       "   {'ns': 0, 'pageid': 11360852, 'title': 'Predictive state representation'},\n",
       "   {'ns': 0, 'pageid': 34072838, 'title': 'Preference learning'},\n",
       "   {'ns': 0,\n",
       "    'pageid': 6881120,\n",
       "    'title': 'Prior knowledge for pattern recognition'},\n",
       "   {'ns': 0, 'pageid': 21985449, 'title': 'Proactive learning'},\n",
       "   {'ns': 0, 'pageid': 9731945, 'title': 'Probability matching'},\n",
       "   {'ns': 0, 'pageid': 24825162, 'title': 'Product of experts'},\n",
       "   {'ns': 0,\n",
       "    'pageid': 41200806,\n",
       "    'title': 'Proximal gradient methods for learning'},\n",
       "   {'ns': 0, 'pageid': 41732818, 'title': 'Qloo'},\n",
       "   {'ns': 0, 'pageid': 44108758, 'title': 'Quantum machine learning'},\n",
       "   {'ns': 0, 'pageid': 41929726, 'title': 'Query level feature'},\n",
       "   {'ns': 0, 'pageid': 14529261, 'title': 'Rademacher complexity'},\n",
       "   {'ns': 0, 'pageid': 37697003, 'title': 'Random indexing'},\n",
       "   {'ns': 0, 'pageid': 43932548, 'title': 'Random projection'},\n",
       "   {'ns': 0, 'pageid': 926722, 'title': 'Relational data mining'},\n",
       "   {'ns': 0, 'pageid': 35887507, 'title': 'Representer theorem'},\n",
       "   {'ns': 0, 'pageid': 54625345, 'title': 'Right to explanation'},\n",
       "   {'ns': 0, 'pageid': 38782554, 'title': 'RoboEarth'},\n",
       "   {'ns': 0, 'pageid': 3290880, 'title': 'Robot learning'},\n",
       "   {'ns': 0, 'pageid': 7517319, 'title': 'Rule induction'},\n",
       "   {'ns': 0, 'pageid': 43269516, 'title': 'Sample complexity'},\n",
       "   {'ns': 0, 'pageid': 995455, 'title': 'Savi Technology'},\n",
       "   {'ns': 0,\n",
       "    'pageid': 14271782,\n",
       "    'title': 'Semantic analysis (machine learning)'},\n",
       "   {'ns': 0, 'pageid': 50222574, 'title': 'Semantic folding'},\n",
       "   {'ns': 0, 'pageid': 2829632, 'title': 'Semi-supervised learning'},\n",
       "   {'ns': 0, 'pageid': 29288159, 'title': 'Sequence labeling'},\n",
       "   {'ns': 0, 'pageid': 38059657, 'title': 'Similarity learning'},\n",
       "   {'ns': 0, 'pageid': 47509138, 'title': 'Skymind'},\n",
       "   {'ns': 0,\n",
       "    'pageid': 405562,\n",
       "    'title': \"Solomonoff's theory of inductive inference\"},\n",
       "   {'ns': 0, 'pageid': 48813654, 'title': 'Sparse dictionary learning'},\n",
       "   {'ns': 0, 'pageid': 50227596, 'title': 'Spike-and-slab variable selection'},\n",
       "   {'ns': 0, 'pageid': 33886025, 'title': 'Stability (learning theory)'},\n",
       "   {'ns': 0, 'pageid': 1579244, 'title': 'Statistical classification'},\n",
       "   {'ns': 0, 'pageid': 1053303, 'title': 'Statistical learning theory'},\n",
       "   {'ns': 0, 'pageid': 19667111, 'title': 'Statistical relational learning'},\n",
       "   {'ns': 0, 'pageid': 47845063, 'title': 'Stochastic block model'},\n",
       "   {'ns': 0, 'pageid': 10704974, 'title': 'Structural risk minimization'},\n",
       "   {'ns': 0,\n",
       "    'pageid': 48844125,\n",
       "    'title': 'Structured sparsity regularization'},\n",
       "   {'ns': 0, 'pageid': 3119546, 'title': 'Subclass reachability'},\n",
       "   {'ns': 0, 'pageid': 20926, 'title': 'Supervised learning'},\n",
       "   {'ns': 0, 'pageid': 1514392, 'title': 'Test set'},\n",
       "   {'ns': 0, 'pageid': 50828755, 'title': 'Timeline of machine learning'},\n",
       "   {'ns': 0, 'pageid': 960361, 'title': 'Transduction (machine learning)'},\n",
       "   {'ns': 0, 'pageid': 3920550, 'title': 'Transfer learning'},\n",
       "   {'ns': 0, 'pageid': 47577902, 'title': 'Trax Image Recognition'},\n",
       "   {'ns': 0, 'pageid': 5077439, 'title': 'Ugly duckling theorem'},\n",
       "   {'ns': 0, 'pageid': 19058043, 'title': 'Uncertain data'},\n",
       "   {'ns': 0,\n",
       "    'pageid': 22999791,\n",
       "    'title': 'Uniform convergence in probability'},\n",
       "   {'ns': 0, 'pageid': 37787103, 'title': 'Universal portfolio algorithm'},\n",
       "   {'ns': 0, 'pageid': 233497, 'title': 'Unsupervised learning'},\n",
       "   {'ns': 0, 'pageid': 47228422, 'title': 'User behavior analytics'},\n",
       "   {'ns': 0, 'pageid': 39945557, 'title': 'Validation set'},\n",
       "   {'ns': 0, 'pageid': 43502368, 'title': 'Vanishing gradient problem'},\n",
       "   {'ns': 0, 'pageid': 7578809, 'title': 'Version space learning'},\n",
       "   {'ns': 0, 'pageid': 52992310, 'title': 'VGG Image Annotator'},\n",
       "   {'ns': 0, 'pageid': 47527969, 'title': 'Word2vec'}]}}"
      ]
     },
     "execution_count": 204,
     "metadata": {},
     "output_type": "execute_result"
    }
   ],
   "source": [
    "ml.json()"
   ]
  },
  {
   "cell_type": "code",
   "execution_count": 218,
   "metadata": {},
   "outputs": [
    {
     "data": {
      "text/plain": [
       "'https://en.wikipedia.org/w/api.php?action=query&list=categorymembers%7Callpages&cmlimit=198&format=json&prop=categories&cmtitle=Category:Machine_learning'"
      ]
     },
     "execution_count": 218,
     "metadata": {},
     "output_type": "execute_result"
    }
   ],
   "source": [
    "ml.url\n"
   ]
  },
  {
   "cell_type": "code",
   "execution_count": null,
   "metadata": {
    "collapsed": true
   },
   "outputs": [],
   "source": []
  },
  {
   "cell_type": "code",
   "execution_count": null,
   "metadata": {
    "collapsed": true
   },
   "outputs": [],
   "source": []
  },
  {
   "cell_type": "code",
   "execution_count": null,
   "metadata": {
    "collapsed": true
   },
   "outputs": [],
   "source": []
  },
  {
   "cell_type": "code",
   "execution_count": null,
   "metadata": {
    "collapsed": true
   },
   "outputs": [],
   "source": []
  },
  {
   "cell_type": "code",
   "execution_count": null,
   "metadata": {
    "collapsed": true
   },
   "outputs": [],
   "source": []
  },
  {
   "cell_type": "code",
   "execution_count": null,
   "metadata": {
    "collapsed": true
   },
   "outputs": [],
   "source": []
  },
  {
   "cell_type": "code",
   "execution_count": null,
   "metadata": {
    "collapsed": true
   },
   "outputs": [],
   "source": []
  },
  {
   "cell_type": "code",
   "execution_count": null,
   "metadata": {
    "collapsed": true
   },
   "outputs": [],
   "source": []
  },
  {
   "cell_type": "code",
   "execution_count": null,
   "metadata": {
    "collapsed": true
   },
   "outputs": [],
   "source": []
  }
 ],
 "metadata": {
  "kernelspec": {
   "display_name": "Python 3",
   "language": "python",
   "name": "python3"
  },
  "language_info": {
   "codemirror_mode": {
    "name": "ipython",
    "version": 3
   },
   "file_extension": ".py",
   "mimetype": "text/x-python",
   "name": "python",
   "nbconvert_exporter": "python",
   "pygments_lexer": "ipython3",
   "version": "3.6.1"
  }
 },
 "nbformat": 4,
 "nbformat_minor": 2
}
