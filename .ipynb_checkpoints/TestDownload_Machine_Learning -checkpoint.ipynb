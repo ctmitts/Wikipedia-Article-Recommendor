{
 "cells": [
  {
   "cell_type": "code",
   "execution_count": 13,
   "metadata": {
    "collapsed": true
   },
   "outputs": [],
   "source": [
    "## Pickle file:  \n",
    "\n",
    "##category_pages_df contains raw text"
   ]
  },
  {
   "cell_type": "code",
   "execution_count": 1,
   "metadata": {
    "collapsed": true
   },
   "outputs": [],
   "source": [
    "import database as db\n",
    "import request_category as rc\n",
    "from download import download\n",
    "from datetime import datetime\n",
    "import re\n",
    "import pandas as pd\n",
    "import numpy as np\n",
    "import pickle"
   ]
  },
  {
   "cell_type": "code",
   "execution_count": 2,
   "metadata": {},
   "outputs": [
    {
     "name": "stdout",
     "output_type": "stream",
     "text": [
      "Gathering page information from Category: machine learning, pages from nested sub-categories (+3 levels) will be \n",
      "included as a union for each category.\n",
      "\tTotal categories after recursive search: 48\n",
      "\tRequesting 1096 unique articles - ETA: 12.08 minutes\n",
      "Category DataFrames are pickled at the following location: ./docker/postgres/data/machine_learning_dfs.p. Raw text is available in\n",
      " category_pages_df in the pickle file\n",
      "\t\tPage collection  took a total of 11.58 minutes\n"
     ]
    }
   ],
   "source": [
    "df_tup = rc.fill_unique_pages('machine learning', grab = True)"
   ]
  },
  {
   "cell_type": "markdown",
   "metadata": {},
   "source": [
    "## Confirm able to load pickle"
   ]
  },
  {
   "cell_type": "code",
   "execution_count": 3,
   "metadata": {
    "collapsed": true
   },
   "outputs": [],
   "source": [
    "cat = 'machine learning'"
   ]
  },
  {
   "cell_type": "code",
   "execution_count": 5,
   "metadata": {
    "collapsed": true
   },
   "outputs": [],
   "source": [
    "from pathlib import Path"
   ]
  },
  {
   "cell_type": "code",
   "execution_count": 7,
   "metadata": {},
   "outputs": [
    {
     "name": "stdout",
     "output_type": "stream",
     "text": [
      "Pickle file exists, (machine_learning_dfs.p) and it's loaded!\n"
     ]
    }
   ],
   "source": [
    "pickle_path = './docker/postgres/data/' + re.sub( ' ', '_', cat) + '_dfs.p'\n",
    "pickle_file = Path( pickle_path)\n",
    "if pickle_file.is_file(): ## pckle = True and file exists at pickle_path  pckle and \n",
    "    pickle_file_name = pickle_path.split('data/')[1]\n",
    "    ## Load pickle\n",
    "    with open( pickle_path, 'rb') as f:\n",
    "        df_tup = pickle.load( f)\n",
    "        print( \"Pickle file exists, ({}) and it's loaded!\".format( pickle_file_name))"
   ]
  },
  {
   "cell_type": "code",
   "execution_count": 8,
   "metadata": {},
   "outputs": [
    {
     "data": {
      "text/plain": [
       "5"
      ]
     },
     "execution_count": 8,
     "metadata": {},
     "output_type": "execute_result"
    }
   ],
   "source": [
    "len( df_tup)"
   ]
  },
  {
   "cell_type": "code",
   "execution_count": 9,
   "metadata": {
    "collapsed": true
   },
   "outputs": [],
   "source": [
    "category_pages_df, unique_pages_df, categories_df, subcategories_df, subcat_page_df = df_tup"
   ]
  },
  {
   "cell_type": "code",
   "execution_count": 11,
   "metadata": {},
   "outputs": [
    {
     "data": {
      "text/plain": [
       "((3055, 5), (1096, 5), (48, 4), (130, 4), (1312, 4))"
      ]
     },
     "execution_count": 11,
     "metadata": {},
     "output_type": "execute_result"
    }
   ],
   "source": [
    "category_pages_df.shape, unique_pages_df.shape, categories_df.shape, subcategories_df.shape, subcat_page_df.shape"
   ]
  },
  {
   "cell_type": "code",
   "execution_count": null,
   "metadata": {
    "collapsed": true
   },
   "outputs": [],
   "source": []
  },
  {
   "cell_type": "code",
   "execution_count": null,
   "metadata": {
    "collapsed": true
   },
   "outputs": [],
   "source": []
  }
 ],
 "metadata": {
  "kernelspec": {
   "display_name": "Python 3",
   "language": "python",
   "name": "python3"
  },
  "language_info": {
   "codemirror_mode": {
    "name": "ipython",
    "version": 3
   },
   "file_extension": ".py",
   "mimetype": "text/x-python",
   "name": "python",
   "nbconvert_exporter": "python",
   "pygments_lexer": "ipython3",
   "version": "3.6.2"
  }
 },
 "nbformat": 4,
 "nbformat_minor": 2
}
