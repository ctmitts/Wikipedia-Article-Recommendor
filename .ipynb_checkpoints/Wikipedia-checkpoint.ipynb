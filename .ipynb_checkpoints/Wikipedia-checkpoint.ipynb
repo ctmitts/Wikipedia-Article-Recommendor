{
 "cells": [
  {
   "cell_type": "code",
   "execution_count": 1,
   "metadata": {},
   "outputs": [
    {
     "name": "stdout",
     "output_type": "stream",
     "text": [
      "Collecting wikipedia\n",
      "  Downloading wikipedia-1.4.0.tar.gz\n",
      "Requirement already satisfied: beautifulsoup4 in /opt/conda/lib/python3.6/site-packages (from wikipedia)\n",
      "Requirement already satisfied: requests<3.0.0,>=2.0.0 in /opt/conda/lib/python3.6/site-packages (from wikipedia)\n",
      "Requirement already satisfied: chardet<3.1.0,>=3.0.2 in /opt/conda/lib/python3.6/site-packages (from requests<3.0.0,>=2.0.0->wikipedia)\n",
      "Requirement already satisfied: idna<2.6,>=2.5 in /opt/conda/lib/python3.6/site-packages (from requests<3.0.0,>=2.0.0->wikipedia)\n",
      "Requirement already satisfied: urllib3<1.22,>=1.21.1 in /opt/conda/lib/python3.6/site-packages (from requests<3.0.0,>=2.0.0->wikipedia)\n",
      "Requirement already satisfied: certifi>=2017.4.17 in /opt/conda/lib/python3.6/site-packages (from requests<3.0.0,>=2.0.0->wikipedia)\n",
      "Building wheels for collected packages: wikipedia\n",
      "  Running setup.py bdist_wheel for wikipedia ... \u001b[?25ldone\n",
      "\u001b[?25h  Stored in directory: /home/jovyan/.cache/pip/wheels/bf/87/25/df698dd7b66a42c1c5f3bd36f8155d4518d210f5e2c128b440\n",
      "Successfully built wikipedia\n",
      "Installing collected packages: wikipedia\n",
      "Successfully installed wikipedia-1.4.0\n"
     ]
    }
   ],
   "source": [
    "!pip install wikipedia"
   ]
  },
  {
   "cell_type": "code",
   "execution_count": 2,
   "metadata": {
    "collapsed": true
   },
   "outputs": [],
   "source": [
    "import wikipedia"
   ]
  },
  {
   "cell_type": "code",
   "execution_count": 121,
   "metadata": {},
   "outputs": [
    {
     "data": {
      "text/plain": [
       "['Category:Machine learning',\n",
       " 'Category:Classification algorithms',\n",
       " 'Category:Markov models',\n",
       " 'Category:Data mining and machine learning software',\n",
       " 'Category:Evolutionary algorithms',\n",
       " 'Category:Statistical natural language processing',\n",
       " 'Category:Applied machine learning',\n",
       " 'Category:Artificial intelligence conferences',\n",
       " 'Category:Artificial neural networks',\n",
       " 'Category:Computational learning theory']"
      ]
     },
     "execution_count": 121,
     "metadata": {},
     "output_type": "execute_result"
    }
   ],
   "source": [
    "results = wikipedia.search(query='Category:Machine_learning', results = 10)\n",
    "results"
   ]
  },
  {
   "cell_type": "code",
   "execution_count": 26,
   "metadata": {},
   "outputs": [],
   "source": [
    "page = wikipedia.WikipediaPage( results[0])"
   ]
  },
  {
   "cell_type": "code",
   "execution_count": null,
   "metadata": {
    "collapsed": true
   },
   "outputs": [],
   "source": []
  },
  {
   "cell_type": "code",
   "execution_count": 82,
   "metadata": {},
   "outputs": [
    {
     "data": {
      "text/plain": [
       "'1532663'"
      ]
     },
     "execution_count": 82,
     "metadata": {},
     "output_type": "execute_result"
    }
   ],
   "source": []
  },
  {
   "cell_type": "code",
   "execution_count": null,
   "metadata": {
    "collapsed": true
   },
   "outputs": [],
   "source": [
    "wikipedia.BeautifulSoup( )page()"
   ]
  },
  {
   "cell_type": "code",
   "execution_count": 123,
   "metadata": {},
   "outputs": [],
   "source": [
    "page = wikipedia.WikipediaPage(\"Category:Machine learning\")"
   ]
  },
  {
   "cell_type": "code",
   "execution_count": 113,
   "metadata": {},
   "outputs": [],
   "source": [
    "page = wikipedia.WikipediaPage(\"Data_exploration\" ) #, redirect = True, preload= True)\n"
   ]
  },
  {
   "cell_type": "code",
   "execution_count": 114,
   "metadata": {},
   "outputs": [
    {
     "data": {
      "text/plain": [
       "'https://en.wikipedia.org/wiki/Data_exploration'"
      ]
     },
     "execution_count": 114,
     "metadata": {},
     "output_type": "execute_result"
    }
   ],
   "source": [
    "page.url"
   ]
  },
  {
   "cell_type": "code",
   "execution_count": 115,
   "metadata": {},
   "outputs": [
    {
     "data": {
      "text/plain": [
       "'Data exploration is an approach similar to initial data analysis, whereby a data analyst uses visual exploration to understand what is in a dataset and the characteristics of the data, rather than through traditional data management systems. These characteristics can include size or amount of data, completeness of the data, correctness of the data, possible relationships amongst data elements or files/tables in the data.\\nData exploration is typically conducted using a combination of automated and manual activities. Automated activities can include data profiling or data visualization or tabular reports to give the analyst an initial view into the data and an understanding of key characteristics.\\nThis is often followed by manual drill-down or filtering of the data to identify anomalies or patterns identified through the automated actions. Data exploration can also require manual scripting and queries into the data (e.g. using languages such as SQL or R) or using Excel or similar tools to view the raw data.\\nAll of these activities are aimed at creating a clear mental model and understanding of the data in the mind of the analyst, and defining basic metadata (statistics, structure, relationships) for the data set that can be used in further analysis.\\nOnce this initial understanding of the data is had, the data can be pruned or refined by removing unusable parts of the data, correcting poorly formatted elements and defining relevant relationships across datasets. This process is also known as determining data quality.\\nAt this stage, the data can be considered ready for deeper analysis or be handed off to other analysts or users who have specific needs for the data.\\nData exploration can also refer to the adhoc querying and visualization of data to identify potential relationships or insights that may be hidden in the data. In this scenario, hypotheses may be created and then the data is explored to identify whether those hypotheses are correct.\\nTraditionally, this had been a key area of focus for statisticians, with John Tukey being a key evangelist in the field. Today, data exploration is more widespread and is the focus of data analysts and data scientists; the latter being a relatively new role within enterprises and larger organizations.\\n\\n\\n== Interactive Data Exploration ==\\nThis area of data exploration has become an area of interest in the field of machine learning. This is a relatively new field and is still evolving. As it’s most basic level, a machine-learning algorithm can be fed a data set and can be used to identify whether a hypothesis is true based on the dataset. Common machine learning algorithms can focus on identifying specific patterns in the data. Common patterns include regression, classification or clustering, but there are many possible patterns and algorithms that can be applied to data via machine learning.\\nBy employing machine learning, it is possible to find patterns or relationships in the data that would be difficult or impossible to find via manual inspection, trial and error or traditional exploration techniques.\\n\\n\\n== Software ==\\nTrifacta – a data preparation and analysis platform\\nPaxata – self-service data preparation software\\nAlteryx – data blending and advanced data analytics software\\nIBM Infosphere Analyzer – a data profiling tool\\nMicrosoft Power BI - interactive visualization and data analysis tool\\nOpenRefine - a standalone open source desktop application for data clean-up and data transformation\\nTableau software – interactive data visualization software\\n\\n\\n== See also ==\\n\\nExploratory Data Analysis\\nMachine Learning\\nData profiling\\nData Visualization\\n\\n\\n== References =='"
      ]
     },
     "execution_count": 115,
     "metadata": {},
     "output_type": "execute_result"
    }
   ],
   "source": [
    "page.content"
   ]
  },
  {
   "cell_type": "code",
   "execution_count": 116,
   "metadata": {},
   "outputs": [
    {
     "data": {
      "text/plain": [
       "['Alteryx',\n",
       " 'Data Visualization',\n",
       " 'Data profiling',\n",
       " 'Data quality',\n",
       " 'Data scientists',\n",
       " 'Exploratory Data Analysis',\n",
       " 'John Tukey',\n",
       " 'Machine Learning',\n",
       " 'OpenRefine',\n",
       " 'Paxata',\n",
       " 'Power BI',\n",
       " 'Tableau software',\n",
       " 'Trifacta']"
      ]
     },
     "execution_count": 116,
     "metadata": {},
     "output_type": "execute_result"
    }
   ],
   "source": [
    "page.links\n"
   ]
  },
  {
   "cell_type": "code",
   "execution_count": 97,
   "metadata": {},
   "outputs": [
    {
     "data": {
      "text/plain": [
       "[]"
      ]
     },
     "execution_count": 97,
     "metadata": {},
     "output_type": "execute_result"
    }
   ],
   "source": [
    "page.sections"
   ]
  },
  {
   "cell_type": "code",
   "execution_count": 91,
   "metadata": {},
   "outputs": [],
   "source": [
    "page.section(section_title='Subcategories')"
   ]
  },
  {
   "cell_type": "code",
   "execution_count": 117,
   "metadata": {},
   "outputs": [
    {
     "data": {
      "text/plain": [
       "['All articles lacking in-text citations',\n",
       " 'All articles needing additional references',\n",
       " 'Articles lacking in-text citations from July 2017',\n",
       " 'Articles needing additional references from July 2017',\n",
       " 'Data analysis',\n",
       " 'Data management',\n",
       " 'Data quality',\n",
       " 'Machine learning']"
      ]
     },
     "execution_count": 117,
     "metadata": {},
     "output_type": "execute_result"
    }
   ],
   "source": [
    "page.categories"
   ]
  },
  {
   "cell_type": "code",
   "execution_count": 62,
   "metadata": {},
   "outputs": [
    {
     "data": {
      "text/plain": [
       "['Computer science', 'Machine learning', 'Statistics']"
      ]
     },
     "execution_count": 62,
     "metadata": {},
     "output_type": "execute_result"
    }
   ],
   "source": [
    "page.links\n"
   ]
  },
  {
   "cell_type": "code",
   "execution_count": 119,
   "metadata": {},
   "outputs": [
    {
     "name": "stdout",
     "output_type": "stream",
     "text": [
      "Data exploration\n",
      "['Alteryx', 'Data Visualization', 'Data profiling', 'Data quality', 'Data scientists', 'Exploratory Data Analysis', 'John Tukey', 'Machine Learning', 'OpenRefine', 'Paxata', 'Power BI', 'Tableau software', 'Trifacta']\n",
      "['All articles lacking in-text citations', 'All articles needing additional references', 'Articles lacking in-text citations from July 2017', 'Articles needing additional references from July 2017', 'Data analysis', 'Data management', 'Data quality', 'Machine learning']\n",
      "Data exploration is an approach similar to initial data analysis, whereby a data analyst uses visual exploration to understand what is in a dataset and the characteristics of the data, rather than through traditional data management systems. These characteristics can include size or amount of data, completeness of the data, correctness of the data, possible relationships amongst data elements or files/tables in the data.\n",
      "Data exploration is typically conducted using a combination of automated and manual activities. Automated activities can include data profiling or data visualization or tabular reports to give the analyst an initial view into the data and an understanding of key characteristics.\n",
      "This is often followed by manual drill-down or filtering of the data to identify anomalies or patterns identified through the automated actions. Data exploration can also require manual scripting and queries into the data (e.g. using languages such as SQL or R) or using Excel or similar tools to view the raw data.\n",
      "All of these activities are aimed at creating a clear mental model and understanding of the data in the mind of the analyst, and defining basic metadata (statistics, structure, relationships) for the data set that can be used in further analysis.\n",
      "Once this initial understanding of the data is had, the data can be pruned or refined by removing unusable parts of the data, correcting poorly formatted elements and defining relevant relationships across datasets. This process is also known as determining data quality.\n",
      "At this stage, the data can be considered ready for deeper analysis or be handed off to other analysts or users who have specific needs for the data.\n",
      "Data exploration can also refer to the adhoc querying and visualization of data to identify potential relationships or insights that may be hidden in the data. In this scenario, hypotheses may be created and then the data is explored to identify whether those hypotheses are correct.\n",
      "Traditionally, this had been a key area of focus for statisticians, with John Tukey being a key evangelist in the field. Today, data exploration is more widespread and is the focus of data analysts and data scientists; the latter being a relatively new role within enterprises and larger organizations.\n",
      "\n",
      "\n",
      "== Interactive Data Exploration ==\n",
      "This area of data exploration has become an area of interest in the field of machine learning. This is a relatively new field and is still evolving. As it’s most basic level, a machine-learning algorithm can be fed a data set and can be used to identify whether a hypothesis is true based on the dataset. Common machine learning algorithms can focus on identifying specific patterns in the data. Common patterns include regression, classification or clustering, but there are many possible patterns and algorithms that can be applied to data via machine learning.\n",
      "By employing machine learning, it is possible to find patterns or relationships in the data that would be difficult or impossible to find via manual inspection, trial and error or traditional exploration techniques.\n",
      "\n",
      "\n",
      "== Software ==\n",
      "Trifacta – a data preparation and analysis platform\n",
      "Paxata – self-service data preparation software\n",
      "Alteryx – data blending and advanced data analytics software\n",
      "IBM Infosphere Analyzer – a data profiling tool\n",
      "Microsoft Power BI - interactive visualization and data analysis tool\n",
      "OpenRefine - a standalone open source desktop application for data clean-up and data transformation\n",
      "Tableau software – interactive data visualization software\n",
      "\n",
      "\n",
      "== See also ==\n",
      "\n",
      "Exploratory Data Analysis\n",
      "Machine Learning\n",
      "Data profiling\n",
      "Data Visualization\n",
      "\n",
      "\n",
      "== References ==\n"
     ]
    }
   ],
   "source": [
    "print( page.title)\n",
    "print( page.links)\n",
    "print( page.categories)\n",
    "print( page.content)\n",
    "#print( page.original_title)\n"
   ]
  },
  {
   "cell_type": "code",
   "execution_count": 120,
   "metadata": {},
   "outputs": [
    {
     "data": {
      "text/plain": [
       "'<div class=\"mw-parser-output\"><table class=\"plainlinks metadata ambox ambox-content ambox-multiple_issues compact-ambox\" role=\"presentation\"><tr><td class=\"mbox-image\"><div style=\"width:52px\"><img alt=\"\" src=\"//upload.wikimedia.org/wikipedia/commons/thumb/b/b4/Ambox_important.svg/40px-Ambox_important.svg.png\" width=\"40\" height=\"40\" srcset=\"//upload.wikimedia.org/wikipedia/commons/thumb/b/b4/Ambox_important.svg/60px-Ambox_important.svg.png 1.5x, //upload.wikimedia.org/wikipedia/commons/thumb/b/b4/Ambox_important.svg/80px-Ambox_important.svg.png 2x\" data-file-width=\"40\" data-file-height=\"40\" /></div></td><td class=\"mbox-text\"><span class=\"mbox-text-span\"><div class=\"mw-collapsible\" style=\"width:95%; margin: 0.2em 0;\"><b>This article has multiple issues.</b> Please help <b><a class=\"external text\" href=\"//en.wikipedia.org/w/index.php?title=Data_exploration&amp;action=edit\">improve it</a></b> or discuss these issues on the <b><a href=\"/wiki/Talk:Data_exploration\" title=\"Talk:Data exploration\">talk page</a></b>. <small><i>(<a href=\"/wiki/Help:Maintenance_template_removal\" title=\"Help:Maintenance template removal\">Learn how and when to remove these template messages</a>)</i></small>\\n<div class=\"mw-collapsible-content\" style=\"margin-top: 0.3em;\">\\n      <table class=\"plainlinks metadata ambox ambox-content ambox-Refimprove\" role=\"presentation\"><tr><td class=\"mbox-image\"><div style=\"width:52px\"><a href=\"/wiki/File:Question_book-new.svg\" class=\"image\"><img alt=\"\" src=\"//upload.wikimedia.org/wikipedia/en/thumb/9/99/Question_book-new.svg/50px-Question_book-new.svg.png\" width=\"50\" height=\"39\" srcset=\"//upload.wikimedia.org/wikipedia/en/thumb/9/99/Question_book-new.svg/75px-Question_book-new.svg.png 1.5x, //upload.wikimedia.org/wikipedia/en/thumb/9/99/Question_book-new.svg/100px-Question_book-new.svg.png 2x\" data-file-width=\"512\" data-file-height=\"399\" /></a></div></td><td class=\"mbox-text\"><span class=\"mbox-text-span\">This article <b>needs additional citations for <a href=\"/wiki/Wikipedia:Verifiability\" title=\"Wikipedia:Verifiability\">verification</a></b>.<span class=\"hide-when-compact\"> Please help <a class=\"external text\" href=\"//en.wikipedia.org/w/index.php?title=Data_exploration&amp;action=edit\">improve this article</a> by <a href=\"/wiki/Help:Introduction_to_referencing_with_Wiki_Markup/1\" title=\"Help:Introduction to referencing with Wiki Markup/1\">adding citations to reliable sources</a>. Unsourced material may be challenged and removed.</span>  <small><i>(July 2017)</i></small><small class=\"hide-when-compact\"><i> (<a href=\"/wiki/Help:Maintenance_template_removal\" title=\"Help:Maintenance template removal\">Learn how and when to remove this template message</a>)</i></small></span></td></tr></table><table class=\"plainlinks metadata ambox ambox-style ambox-More_footnotes\" role=\"presentation\"><tr><td class=\"mbox-image\"><div style=\"width:52px\"><img alt=\"\" src=\"//upload.wikimedia.org/wikipedia/commons/thumb/a/a4/Text_document_with_red_question_mark.svg/40px-Text_document_with_red_question_mark.svg.png\" width=\"40\" height=\"40\" srcset=\"//upload.wikimedia.org/wikipedia/commons/thumb/a/a4/Text_document_with_red_question_mark.svg/60px-Text_document_with_red_question_mark.svg.png 1.5x, //upload.wikimedia.org/wikipedia/commons/thumb/a/a4/Text_document_with_red_question_mark.svg/80px-Text_document_with_red_question_mark.svg.png 2x\" data-file-width=\"48\" data-file-height=\"48\" /></div></td><td class=\"mbox-text\"><span class=\"mbox-text-span\">This article includes a <a href=\"/wiki/Wikipedia:Citing_sources\" title=\"Wikipedia:Citing sources\">list of references</a>, but <b>its sources remain unclear</b> because it has <b>insufficient <a href=\"/wiki/Wikipedia:Citing_sources#Inline_citations\" title=\"Wikipedia:Citing sources\">inline citations</a></b>.<span class=\"hide-when-compact\"> Please help to <a href=\"/wiki/Wikipedia:WikiProject_Fact_and_Reference_Check\" title=\"Wikipedia:WikiProject Fact and Reference Check\">improve</a> this article by <a href=\"/wiki/Wikipedia:When_to_cite\" title=\"Wikipedia:When to cite\">introducing</a> more precise citations.</span>  <small><i>(July 2017)</i></small><small class=\"hide-when-compact\"><i> (<a href=\"/wiki/Help:Maintenance_template_removal\" title=\"Help:Maintenance template removal\">Learn how and when to remove this template message</a>)</i></small></span></td></tr></table>\\n    </div>\\n</div><small class=\"hide-when-compact\"><i> (<a href=\"/wiki/Help:Maintenance_template_removal\" title=\"Help:Maintenance template removal\">Learn how and when to remove this template message</a>)</i></small></span></td></tr></table>\\n<p><b>Data exploration</b> is an approach similar to initial data analysis, whereby a data analyst uses visual exploration to understand what is in a dataset and the characteristics of the data, rather than through traditional data management systems<sup id=\"cite_ref-Foster_1-0\" class=\"reference\"><a href=\"#cite_note-Foster-1\">&#91;1&#93;</a></sup>. These characteristics can include size or amount of data, completeness of the data, correctness of the data, possible relationships amongst data elements or files/tables in the data.\\n</p><p>Data exploration is typically conducted using a combination of automated and manual activities.<sup id=\"cite_ref-Foster_1-1\" class=\"reference\"><a href=\"#cite_note-Foster-1\">&#91;1&#93;</a></sup><sup id=\"cite_ref-Stanford2011_2-0\" class=\"reference\"><a href=\"#cite_note-Stanford2011-2\">&#91;2&#93;</a></sup> Automated activities can include data profiling or data visualization or tabular reports to give the analyst an initial view into the data and an understanding of key characteristics.\\n</p><p>This is often followed by manual drill-down or filtering of the data to identify anomalies or patterns identified through the automated actions.  Data exploration can also require manual scripting and queries into the data (e.g. using languages such as SQL or R) or using Excel or similar tools to view the raw data.<sup id=\"cite_ref-Stanford2012_3-0\" class=\"reference\"><a href=\"#cite_note-Stanford2012-3\">&#91;3&#93;</a></sup>\\n</p><p>All of these activities are aimed at creating a clear mental model and understanding of the data in the mind of the analyst, and defining basic metadata (statistics, structure, relationships) for the data set that can be used in further analysis.\\n</p><p>Once this initial understanding of the data is had, the data can be pruned or refined by removing unusable parts of the data, correcting poorly formatted elements and defining relevant relationships across datasets<sup id=\"cite_ref-Stanford2011_2-1\" class=\"reference\"><a href=\"#cite_note-Stanford2011-2\">&#91;2&#93;</a></sup>. This process is also known as determining <a href=\"/wiki/Data_quality\" title=\"Data quality\">data quality</a><sup id=\"cite_ref-Stanford2012_3-1\" class=\"reference\"><a href=\"#cite_note-Stanford2012-3\">&#91;3&#93;</a></sup>.\\n</p><p>At this stage, the data can be considered ready for deeper analysis or be handed off to other analysts or users who have specific needs for the data.\\n</p><p>Data exploration can also refer to the adhoc querying and visualization of data to identify potential relationships or insights that may be hidden in the data<sup id=\"cite_ref-Foster_1-2\" class=\"reference\"><a href=\"#cite_note-Foster-1\">&#91;1&#93;</a></sup>.  In this scenario, hypotheses may be created and then the data is explored to identify whether those hypotheses are correct. \\n</p><p>Traditionally, this had been a key area of focus for statisticians, with <a href=\"/wiki/John_Tukey\" title=\"John Tukey\">John Tukey</a> being a key evangelist in the field. Today, data exploration is more widespread and is the focus of data analysts and <a href=\"/wiki/Data_scientists\" class=\"mw-redirect\" title=\"Data scientists\">data scientists</a>; the latter being a relatively new role within enterprises and larger organizations.\\n</p>\\n<div id=\"toc\" class=\"toc\"><div class=\"toctitle\"><h2>Contents</h2></div>\\n<ul>\\n<li class=\"toclevel-1 tocsection-1\"><a href=\"#Interactive_Data_Exploration\"><span class=\"tocnumber\">1</span> <span class=\"toctext\">Interactive Data Exploration</span></a></li>\\n<li class=\"toclevel-1 tocsection-2\"><a href=\"#Software\"><span class=\"tocnumber\">2</span> <span class=\"toctext\">Software</span></a></li>\\n<li class=\"toclevel-1 tocsection-3\"><a href=\"#See_also\"><span class=\"tocnumber\">3</span> <span class=\"toctext\">See also</span></a></li>\\n<li class=\"toclevel-1 tocsection-4\"><a href=\"#References\"><span class=\"tocnumber\">4</span> <span class=\"toctext\">References</span></a></li>\\n</ul>\\n</div>\\n\\n<h2><span class=\"mw-headline\" id=\"Interactive_Data_Exploration\">Interactive Data Exploration</span><span class=\"mw-editsection\"><span class=\"mw-editsection-bracket\">[</span><a href=\"/w/index.php?title=Data_exploration&amp;action=edit&amp;section=1\" title=\"Edit section: Interactive Data Exploration\">edit</a><span class=\"mw-editsection-bracket\">]</span></span></h2>\\n<p>This area of data exploration has become an area of interest in the field of machine learning. This is a relatively new field and is still evolving.<sup id=\"cite_ref-Stanford2012_3-2\" class=\"reference\"><a href=\"#cite_note-Stanford2012-3\">&#91;3&#93;</a></sup>  As it’s most basic level, a machine-learning algorithm can be fed a data set and can be used to identify whether a hypothesis is true based on the dataset. Common machine learning algorithms can focus on identifying specific patterns in the data.<sup id=\"cite_ref-Stanford2011_2-2\" class=\"reference\"><a href=\"#cite_note-Stanford2011-2\">&#91;2&#93;</a></sup> Common patterns include regression, classification or clustering, but there are many possible patterns and algorithms that can be applied to data via machine learning.\\n</p><p>By employing machine learning, it is possible to find patterns or relationships in the data that would be difficult or impossible to find via manual inspection, trial and error or traditional exploration techniques.\\n</p>\\n<h2><span class=\"mw-headline\" id=\"Software\">Software</span><span class=\"mw-editsection\"><span class=\"mw-editsection-bracket\">[</span><a href=\"/w/index.php?title=Data_exploration&amp;action=edit&amp;section=2\" title=\"Edit section: Software\">edit</a><span class=\"mw-editsection-bracket\">]</span></span></h2>\\n<ul><li> <a href=\"/wiki/Trifacta\" title=\"Trifacta\">Trifacta</a> – a data preparation and analysis platform</li>\\n<li> <a href=\"/wiki/Paxata\" title=\"Paxata\">Paxata</a> – self-service data preparation software</li>\\n<li> <a href=\"/wiki/Alteryx\" title=\"Alteryx\">Alteryx</a> – data blending and advanced data analytics software</li>\\n<li> IBM Infosphere Analyzer – a data profiling tool</li>\\n<li> Microsoft <a href=\"/wiki/Power_BI\" title=\"Power BI\">Power BI</a> -  interactive visualization and data analysis tool</li>\\n<li> <a href=\"/wiki/OpenRefine\" title=\"OpenRefine\">OpenRefine</a> -  a standalone open source desktop application for data clean-up and data transformation </li>\\n<li> <a href=\"/wiki/Tableau_software\" class=\"mw-redirect\" title=\"Tableau software\">Tableau software</a> – interactive data visualization software</li></ul>\\n<h2><span class=\"mw-headline\" id=\"See_also\">See also</span><span class=\"mw-editsection\"><span class=\"mw-editsection-bracket\">[</span><a href=\"/w/index.php?title=Data_exploration&amp;action=edit&amp;section=3\" title=\"Edit section: See also\">edit</a><span class=\"mw-editsection-bracket\">]</span></span></h2>\\n<div role=\"navigation\" aria-label=\"Portals\" class=\"noprint portal plainlist tright\" style=\"margin:0.5em 0 0.5em 1em;border:solid #aaa 1px\">\\n<ul style=\"display:table;box-sizing:border-box;padding:0.1em;max-width:175px;background:#f9f9f9;font-size:85%;line-height:110%;font-style:italic;font-weight:bold\">\\n<li style=\"display:table-row\"><span style=\"display:table-cell;padding:0.2em;vertical-align:middle;text-align:center\"><img alt=\"\" src=\"//upload.wikimedia.org/wikipedia/commons/thumb/d/d7/Desktop_computer_clipart_-_Yellow_theme.svg/32px-Desktop_computer_clipart_-_Yellow_theme.svg.png\" width=\"32\" height=\"23\" class=\"noviewer\" srcset=\"//upload.wikimedia.org/wikipedia/commons/thumb/d/d7/Desktop_computer_clipart_-_Yellow_theme.svg/48px-Desktop_computer_clipart_-_Yellow_theme.svg.png 1.5x, //upload.wikimedia.org/wikipedia/commons/thumb/d/d7/Desktop_computer_clipart_-_Yellow_theme.svg/64px-Desktop_computer_clipart_-_Yellow_theme.svg.png 2x\" data-file-width=\"281\" data-file-height=\"203\" /></span><span style=\"display:table-cell;padding:0.2em 0.2em 0.2em 0.3em;vertical-align:middle\"><a href=\"/wiki/Portal:Information_technology\" title=\"Portal:Information technology\">Information technology portal</a></span></li></ul></div>\\n<ul><li> <a href=\"/wiki/Exploratory_Data_Analysis\" class=\"mw-redirect\" title=\"Exploratory Data Analysis\">Exploratory Data Analysis</a></li>\\n<li> <a href=\"/wiki/Machine_Learning\" class=\"mw-redirect\" title=\"Machine Learning\">Machine Learning</a></li>\\n<li> <a href=\"/wiki/Data_profiling\" title=\"Data profiling\">Data profiling</a></li>\\n<li> <a href=\"/wiki/Data_Visualization\" class=\"mw-redirect\" title=\"Data Visualization\">Data Visualization</a></li></ul>\\n<div style=\"clear:both;\"></div>\\n<h2><span class=\"mw-headline\" id=\"References\">References</span><span class=\"mw-editsection\"><span class=\"mw-editsection-bracket\">[</span><a href=\"/w/index.php?title=Data_exploration&amp;action=edit&amp;section=4\" title=\"Edit section: References\">edit</a><span class=\"mw-editsection-bracket\">]</span></span></h2>\\n<div class=\"reflist\" style=\"list-style-type: decimal;\">\\n<div class=\"mw-references-wrap\"><ol class=\"references\">\\n<li id=\"cite_note-Foster-1\"><span class=\"mw-cite-backlink\">^ <a href=\"#cite_ref-Foster_1-0\"><sup><i><b>a</b></i></sup></a> <a href=\"#cite_ref-Foster_1-1\"><sup><i><b>b</b></i></sup></a> <a href=\"#cite_ref-Foster_1-2\"><sup><i><b>c</b></i></sup></a></span> <span class=\"reference-text\"><a rel=\"nofollow\" class=\"external text\" href=\"https://www.fosteropenscience.eu/sites/default/files/pdf/2933.pdf\">FOSTER Open Science</a>, Overview of Data Exploration Techniques: Stratos Idreos, Olga Papaemmonouil, Surajit Chaudhuri.</span>\\n</li>\\n<li id=\"cite_note-Stanford2011-2\"><span class=\"mw-cite-backlink\">^ <a href=\"#cite_ref-Stanford2011_2-0\"><sup><i><b>a</b></i></sup></a> <a href=\"#cite_ref-Stanford2011_2-1\"><sup><i><b>b</b></i></sup></a> <a href=\"#cite_ref-Stanford2011_2-2\"><sup><i><b>c</b></i></sup></a></span> <span class=\"reference-text\"><a rel=\"nofollow\" class=\"external text\" href=\"http://vis.stanford.edu/files/2011-Wrangler-CHI.pdf\">Stanford.edu</a>, 2011 Wrangler: Interactive Visual Specification of Data Transformation Scripts, Kandel, Paepcke, Hellerstein Heer.</span>\\n</li>\\n<li id=\"cite_note-Stanford2012-3\"><span class=\"mw-cite-backlink\">^ <a href=\"#cite_ref-Stanford2012_3-0\"><sup><i><b>a</b></i></sup></a> <a href=\"#cite_ref-Stanford2012_3-1\"><sup><i><b>b</b></i></sup></a> <a href=\"#cite_ref-Stanford2012_3-2\"><sup><i><b>c</b></i></sup></a></span> <span class=\"reference-text\"><a rel=\"nofollow\" class=\"external text\" href=\"http://vis.stanford.edu/files/2012-EnterpriseAnalysisInterviews-VAST.pdf\">Stanford.edu</a>, IEEE Visual Analytics Science &amp; Technology (VAST), Oct 2012 Enterprise Data Analysis and Visualization: An Interview Study., Sean Kandel, Andreas Paepcke, Joseph Hellerstein, Jeffrey Heer Proc.</span>\\n</li>\\n</ol></div></div>\\n</div>'"
      ]
     },
     "execution_count": 120,
     "metadata": {},
     "output_type": "execute_result"
    }
   ],
   "source": [
    "page.html()"
   ]
  },
  {
   "cell_type": "code",
   "execution_count": null,
   "metadata": {
    "collapsed": true
   },
   "outputs": [],
   "source": []
  },
  {
   "cell_type": "code",
   "execution_count": null,
   "metadata": {
    "collapsed": true
   },
   "outputs": [],
   "source": []
  },
  {
   "cell_type": "code",
   "execution_count": null,
   "metadata": {
    "collapsed": true
   },
   "outputs": [],
   "source": []
  },
  {
   "cell_type": "code",
   "execution_count": null,
   "metadata": {
    "collapsed": true
   },
   "outputs": [],
   "source": []
  },
  {
   "cell_type": "code",
   "execution_count": null,
   "metadata": {
    "collapsed": true
   },
   "outputs": [],
   "source": []
  },
  {
   "cell_type": "code",
   "execution_count": null,
   "metadata": {
    "collapsed": true
   },
   "outputs": [],
   "source": []
  },
  {
   "cell_type": "code",
   "execution_count": null,
   "metadata": {
    "collapsed": true
   },
   "outputs": [],
   "source": []
  },
  {
   "cell_type": "code",
   "execution_count": null,
   "metadata": {
    "collapsed": true
   },
   "outputs": [],
   "source": []
  },
  {
   "cell_type": "code",
   "execution_count": null,
   "metadata": {
    "collapsed": true
   },
   "outputs": [],
   "source": []
  },
  {
   "cell_type": "code",
   "execution_count": null,
   "metadata": {
    "collapsed": true
   },
   "outputs": [],
   "source": []
  },
  {
   "cell_type": "code",
   "execution_count": null,
   "metadata": {
    "collapsed": true
   },
   "outputs": [],
   "source": []
  },
  {
   "cell_type": "code",
   "execution_count": null,
   "metadata": {
    "collapsed": true
   },
   "outputs": [],
   "source": []
  },
  {
   "cell_type": "code",
   "execution_count": null,
   "metadata": {
    "collapsed": true
   },
   "outputs": [],
   "source": []
  },
  {
   "cell_type": "code",
   "execution_count": null,
   "metadata": {
    "collapsed": true
   },
   "outputs": [],
   "source": []
  }
 ],
 "metadata": {
  "kernelspec": {
   "display_name": "Python 3",
   "language": "python",
   "name": "python3"
  },
  "language_info": {
   "codemirror_mode": {
    "name": "ipython",
    "version": 3
   },
   "file_extension": ".py",
   "mimetype": "text/x-python",
   "name": "python",
   "nbconvert_exporter": "python",
   "pygments_lexer": "ipython3",
   "version": "3.6.1"
  }
 },
 "nbformat": 4,
 "nbformat_minor": 2
}
