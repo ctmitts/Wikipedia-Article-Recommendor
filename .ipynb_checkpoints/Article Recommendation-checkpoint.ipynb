{
 "cells": [
  {
   "cell_type": "code",
   "execution_count": 1,
   "metadata": {},
   "outputs": [],
   "source": [
    "import pandas as pd\n",
    "import numpy as np\n",
    "\n",
    "from datetime import datetime\n",
    "import matplotlib.pyplot as plt\n",
    "\n",
    "from sklearn.base import BaseEstimator, ClassifierMixin\n",
    "from sklearn.metrics.pairwise import cosine_similarity\n",
    "from sklearn.feature_extraction.text import TfidfVectorizer\n",
    "from sklearn.decomposition import TruncatedSVD, NMF\n",
    "\n",
    "from sklearn.pipeline import Pipeline\n",
    "from sklearn.model_selection import GridSearchCV\n",
    "\n",
    "import database as db\n",
    "import request_category as rc\n",
    "\n"
   ]
  },
  {
   "cell_type": "code",
   "execution_count": 2,
   "metadata": {
    "collapsed": true
   },
   "outputs": [],
   "source": [
    "## Original\n",
    "def get_data(*categories, all = False):\n",
    "    queries = []\n",
    "    for category in categories:\n",
    "        cat_query = db.query_pages_by_category( category)\n",
    "        \n",
    "        queries.append( cat_query)\n",
    "    if len( categories) > 1:\n",
    "        pages_query = \"\"\"SELECT b.category, b.subcategory, b.title, b.pageid, b.article\n",
    "                 FROM (({}) UNION ({}) ) as b;\"\"\".format( queries[0], queries[1])\n",
    "    else: \n",
    "        pages_query = cat_query + \";\"\n",
    "        \n",
    "    #ml_query = db.query_pages_by_category( categories[0])  # 'machine learning'\n",
    "    #bs_query = db.query_pages_by_category( categories[1])   # 'business software'\n",
    "    #pages_query = \"\"\"SELECT b.category, b.subcategory, b.title, b.pageid, b.article\n",
    "    #             FROM (({}) UNION ({}) ) as b;\"\"\".format( ml_query, bs_query)\n",
    "\n",
    "    pages_df = db.query_to_dataframe( pages_query)\n",
    "    \n",
    "    empty_mask =  pages_df.article == ''\n",
    "    nonempty_pages_df = pages_df[~empty_mask].reset_index(drop = True).copy()\n",
    "    nonempty_pages_df.index = nonempty_pages_df.pageid\n",
    "    nonempty_pages_df.drop( ['pageid'], axis = 1, inplace = True)\n",
    "    \n",
    "\n",
    "    return nonempty_pages_df"
   ]
  },
  {
   "cell_type": "code",
   "execution_count": 53,
   "metadata": {
    "collapsed": true
   },
   "outputs": [],
   "source": [
    "## New\n",
    "## Set unique = True for Recommendation, False for Classification\n",
    "def get_data(*categories, unique = False):  \n",
    "    queries = []\n",
    "    for category in categories:\n",
    "        cat_query = db.query_pages_by_category( category)\n",
    "        \n",
    "        queries.append( cat_query)\n",
    "    if len( categories) > 1:  ## Only works for n_categories = 2 \n",
    "        pages_query = \"\"\"SELECT b.category, b.subcategory, b.title, b.pageid, b.article\n",
    "                 FROM (({}) UNION ({}) ) as b;\"\"\".format( queries[0], queries[1])\n",
    "    else: \n",
    "        pages_query = cat_query + \";\"\n",
    "        \n",
    "    #ml_query = db.query_pages_by_category( categories[0])  # 'machine learning'\n",
    "    #bs_query = db.query_pages_by_category( categories[1])   # 'business software'\n",
    "    #pages_query = \"\"\"SELECT b.category, b.subcategory, b.title, b.pageid, b.article\n",
    "    #             FROM (({}) UNION ({}) ) as b;\"\"\".format( ml_query, bs_query)\n",
    "\n",
    "    pages_df = db.query_to_dataframe( pages_query)\n",
    "    \n",
    "    empty_mask =  pages_df.article == ''\n",
    "    nonempty_pages_df = pages_df[~empty_mask].reset_index(drop = True).copy()\n",
    "    nonempty_pages_df.index = nonempty_pages_df.pageid\n",
    "    \n",
    "    if unique:\n",
    "        nonempty_pages_df.drop_duplicates(subset = ['pageid', 'title'],inplace = True)\n",
    "        nonempty_pages_df.reset_index( drop = True, inplace= True) \n",
    "    \n",
    "    nonempty_pages_df.drop( ['pageid'], axis = 1, inplace = True)\n",
    "    \n",
    "    \n",
    "    \n",
    "\n",
    "    return nonempty_pages_df"
   ]
  },
  {
   "cell_type": "code",
   "execution_count": 55,
   "metadata": {},
   "outputs": [],
   "source": [
    "## New Trial, using fit for initial pipe\n",
    "## Success\n",
    "\n",
    "class Recommend1():\n",
    "    def __init__(self, min_df=.05, max_df=.90, ngram_range=(1,3), n_components=100):\n",
    "        self.min_df = min_df\n",
    "        self.max_df = max_df\n",
    "        self.ngram_range = ngram_range\n",
    "        self.n_components = n_components\n",
    "        self.component_names = [\"component_\" + str(i+1) for i in range(self.n_components)]\n",
    "        self.pipe = None\n",
    "        self.lsa_df = None #pd.DataFrame()\n",
    "        \n",
    "    def fit(self, X, Y=None):\n",
    "        self.pipe = Pipeline([\n",
    "            ('encoder', TfidfVectorizer( min_df = self.min_df, max_df = self.max_df, \n",
    "                                        ngram_range = self.ngram_range, stop_words = 'english')),\n",
    "            ('truncator',TruncatedSVD( n_components=self.n_components) ),\n",
    "        ])\n",
    "        #component_names = [\"component_\" + str(i+1) for i in range(self.n_components)]\n",
    "        self.lsa_df = pd.DataFrame( self.pipe.fit_transform(X.article), index=X.index, columns=self.component_names)\n",
    "        self.lsa_df = X[['category','subcategory', 'title','article']].merge( \\\n",
    "                        self.lsa_df, how = 'outer', copy = True,\n",
    "                        left_index = True, right_index = True, suffixes = ('', ''))\n",
    "        return self\n",
    "\n",
    "    def transform(self, X, Y=None): \n",
    "        #component_names = [\"component_\" + str(i+1) for i in range(self.n_components)]\n",
    "        if Y is not None:\n",
    "            search_doc, pageid = rc.get_article(Y)  ## Y = 'Saffron Technology'\n",
    "\n",
    "        else:\n",
    "            pageid = X.index[1]\n",
    "            search_doc = X.article[pageid]\n",
    "            \n",
    "        article_lsa_df = pd.DataFrame( self.pipe.transform( [search_doc]), index=[int(pageid)],columns=self.component_names )\n",
    "        search_cosine_df = pd.DataFrame( cosine_similarity( self.lsa_df.drop(['category','subcategory','title','article'], axis = 1), article_lsa_df ), columns = ['cosine'], index = self.lsa_df.index)\n",
    "        search_cosine_df = X[['category', 'subcategory', 'title']] \\\n",
    "            .merge( search_cosine_df, how = 'outer', \n",
    "                   left_index = True, right_index = True, copy = True, suffixes = ('', '') )\n",
    "        search_cosine_df.index = search_cosine_df.title\n",
    "        search_cosine_df.drop( ['title'], axis = 1, inplace = True)\n",
    "        return search_cosine_df.sort_values(by = 'cosine', ascending=False)[0:5]\n",
    "            \n",
    "    def fit_transform(self, X, Y=None):\n",
    "        self.fit(X, Y)\n",
    "        return self.transform(X, Y)"
   ]
  },
  {
   "cell_type": "code",
   "execution_count": 54,
   "metadata": {},
   "outputs": [
    {
     "data": {
      "text/plain": [
       "(3791, 4)"
      ]
     },
     "execution_count": 54,
     "metadata": {},
     "output_type": "execute_result"
    }
   ],
   "source": [
    "nonempty_pages_df = get_data('machine learning', 'business software', unique = True) \n",
    "nonempty_pages_df.shape"
   ]
  },
  {
   "cell_type": "code",
   "execution_count": 56,
   "metadata": {
    "collapsed": true
   },
   "outputs": [],
   "source": [
    "rec1 = Recommend1(n_components = 700)"
   ]
  },
  {
   "cell_type": "code",
   "execution_count": 41,
   "metadata": {},
   "outputs": [
    {
     "name": "stdout",
     "output_type": "stream",
     "text": [
      "0.38\n"
     ]
    }
   ],
   "source": [
    "article = 'Saffron Technology'\n",
    "start = datetime.now()\n",
    "rec1.fit_transform(nonempty_pages_df, article)\n",
    "timeduration = round((datetime.now()-start).seconds/60,2) ## minutes\n",
    "print( timeduration)"
   ]
  },
  {
   "cell_type": "code",
   "execution_count": null,
   "metadata": {
    "collapsed": true
   },
   "outputs": [],
   "source": []
  },
  {
   "cell_type": "code",
   "execution_count": 57,
   "metadata": {},
   "outputs": [
    {
     "name": "stdout",
     "output_type": "stream",
     "text": [
      "0.35\n"
     ]
    }
   ],
   "source": [
    "start = datetime.now()\n",
    "rec1.fit(nonempty_pages_df)\n",
    "timeduration = round((datetime.now()-start).seconds/60,2) ## minutes\n",
    "print( timeduration)"
   ]
  },
  {
   "cell_type": "code",
   "execution_count": 58,
   "metadata": {},
   "outputs": [
    {
     "data": {
      "text/html": [
       "<div>\n",
       "<table border=\"1\" class=\"dataframe\">\n",
       "  <thead>\n",
       "    <tr style=\"text-align: right;\">\n",
       "      <th></th>\n",
       "      <th>category</th>\n",
       "      <th>subcategory</th>\n",
       "      <th>cosine</th>\n",
       "    </tr>\n",
       "    <tr>\n",
       "      <th>title</th>\n",
       "      <th></th>\n",
       "      <th></th>\n",
       "      <th></th>\n",
       "    </tr>\n",
       "  </thead>\n",
       "  <tbody>\n",
       "    <tr>\n",
       "      <th>autoassociative memory</th>\n",
       "      <td>machine learning</td>\n",
       "      <td>Artificial neural networks</td>\n",
       "      <td>0.509337</td>\n",
       "    </tr>\n",
       "    <tr>\n",
       "      <th>sisense</th>\n",
       "      <td>business software</td>\n",
       "      <td>business software</td>\n",
       "      <td>0.435828</td>\n",
       "    </tr>\n",
       "    <tr>\n",
       "      <th>semantic research</th>\n",
       "      <td>business software</td>\n",
       "      <td>Business software companies</td>\n",
       "      <td>0.404608</td>\n",
       "    </tr>\n",
       "    <tr>\n",
       "      <th>datawatch corporation</th>\n",
       "      <td>business software</td>\n",
       "      <td>business software</td>\n",
       "      <td>0.401898</td>\n",
       "    </tr>\n",
       "    <tr>\n",
       "      <th>genetic memory computer science</th>\n",
       "      <td>machine learning</td>\n",
       "      <td>Genetic algorithms</td>\n",
       "      <td>0.379453</td>\n",
       "    </tr>\n",
       "  </tbody>\n",
       "</table>\n",
       "</div>"
      ],
      "text/plain": [
       "                                          category  \\\n",
       "title                                                \n",
       "autoassociative memory            machine learning   \n",
       "sisense                          business software   \n",
       "semantic research                business software   \n",
       "datawatch corporation            business software   \n",
       "genetic memory computer science   machine learning   \n",
       "\n",
       "                                                 subcategory    cosine  \n",
       "title                                                                   \n",
       "autoassociative memory            Artificial neural networks  0.509337  \n",
       "sisense                                    business software  0.435828  \n",
       "semantic research                Business software companies  0.404608  \n",
       "datawatch corporation                      business software  0.401898  \n",
       "genetic memory computer science           Genetic algorithms  0.379453  "
      ]
     },
     "execution_count": 58,
     "metadata": {},
     "output_type": "execute_result"
    }
   ],
   "source": [
    "article = 'Saffron Technology'\n",
    "rec1.transform( nonempty_pages_df, article)"
   ]
  },
  {
   "cell_type": "code",
   "execution_count": 59,
   "metadata": {},
   "outputs": [
    {
     "data": {
      "text/html": [
       "<div>\n",
       "<table border=\"1\" class=\"dataframe\">\n",
       "  <thead>\n",
       "    <tr style=\"text-align: right;\">\n",
       "      <th></th>\n",
       "      <th>category</th>\n",
       "      <th>subcategory</th>\n",
       "      <th>cosine</th>\n",
       "    </tr>\n",
       "    <tr>\n",
       "      <th>title</th>\n",
       "      <th></th>\n",
       "      <th></th>\n",
       "      <th></th>\n",
       "    </tr>\n",
       "  </thead>\n",
       "  <tbody>\n",
       "    <tr>\n",
       "      <th>machine learning</th>\n",
       "      <td>machine learning</td>\n",
       "      <td>machine learning</td>\n",
       "      <td>0.999944</td>\n",
       "    </tr>\n",
       "    <tr>\n",
       "      <th>quantum machine learning</th>\n",
       "      <td>machine learning</td>\n",
       "      <td>machine learning</td>\n",
       "      <td>0.872749</td>\n",
       "    </tr>\n",
       "    <tr>\n",
       "      <th>outline of machine learning</th>\n",
       "      <td>machine learning</td>\n",
       "      <td>machine learning</td>\n",
       "      <td>0.865648</td>\n",
       "    </tr>\n",
       "    <tr>\n",
       "      <th>adversarial machine learning</th>\n",
       "      <td>machine learning</td>\n",
       "      <td>machine learning</td>\n",
       "      <td>0.809982</td>\n",
       "    </tr>\n",
       "    <tr>\n",
       "      <th>meta learning computer science</th>\n",
       "      <td>machine learning</td>\n",
       "      <td>machine learning</td>\n",
       "      <td>0.766387</td>\n",
       "    </tr>\n",
       "  </tbody>\n",
       "</table>\n",
       "</div>"
      ],
      "text/plain": [
       "                                        category       subcategory    cosine\n",
       "title                                                                       \n",
       "machine learning                machine learning  machine learning  0.999944\n",
       "quantum machine learning        machine learning  machine learning  0.872749\n",
       "outline of machine learning     machine learning  machine learning  0.865648\n",
       "adversarial machine learning    machine learning  machine learning  0.809982\n",
       "meta learning computer science  machine learning  machine learning  0.766387"
      ]
     },
     "execution_count": 59,
     "metadata": {},
     "output_type": "execute_result"
    }
   ],
   "source": [
    "article = 'Machine learning'\n",
    "rec1.transform( nonempty_pages_df, article)"
   ]
  },
  {
   "cell_type": "code",
   "execution_count": 60,
   "metadata": {},
   "outputs": [
    {
     "data": {
      "text/html": [
       "<div>\n",
       "<table border=\"1\" class=\"dataframe\">\n",
       "  <thead>\n",
       "    <tr style=\"text-align: right;\">\n",
       "      <th></th>\n",
       "      <th>category</th>\n",
       "      <th>subcategory</th>\n",
       "      <th>cosine</th>\n",
       "    </tr>\n",
       "    <tr>\n",
       "      <th>title</th>\n",
       "      <th></th>\n",
       "      <th></th>\n",
       "      <th></th>\n",
       "    </tr>\n",
       "  </thead>\n",
       "  <tbody>\n",
       "    <tr>\n",
       "      <th>neural backpropagation</th>\n",
       "      <td>machine learning</td>\n",
       "      <td>Artificial neural networks</td>\n",
       "      <td>0.515898</td>\n",
       "    </tr>\n",
       "    <tr>\n",
       "      <th>nervous system network models</th>\n",
       "      <td>machine learning</td>\n",
       "      <td>Artificial neural networks</td>\n",
       "      <td>0.414309</td>\n",
       "    </tr>\n",
       "    <tr>\n",
       "      <th>gene expression programming</th>\n",
       "      <td>machine learning</td>\n",
       "      <td>Gene expression programming</td>\n",
       "      <td>0.329710</td>\n",
       "    </tr>\n",
       "    <tr>\n",
       "      <th>artificial neuron</th>\n",
       "      <td>machine learning</td>\n",
       "      <td>Artificial neural networks</td>\n",
       "      <td>0.316880</td>\n",
       "    </tr>\n",
       "    <tr>\n",
       "      <th>julia programming language</th>\n",
       "      <td>machine learning</td>\n",
       "      <td>Data mining and machine learning software</td>\n",
       "      <td>0.303413</td>\n",
       "    </tr>\n",
       "  </tbody>\n",
       "</table>\n",
       "</div>"
      ],
      "text/plain": [
       "                                       category  \\\n",
       "title                                             \n",
       "neural backpropagation         machine learning   \n",
       "nervous system network models  machine learning   \n",
       "gene expression programming    machine learning   \n",
       "artificial neuron              machine learning   \n",
       "julia programming language     machine learning   \n",
       "\n",
       "                                                             subcategory  \\\n",
       "title                                                                      \n",
       "neural backpropagation                        Artificial neural networks   \n",
       "nervous system network models                 Artificial neural networks   \n",
       "gene expression programming                  Gene expression programming   \n",
       "artificial neuron                             Artificial neural networks   \n",
       "julia programming language     Data mining and machine learning software   \n",
       "\n",
       "                                 cosine  \n",
       "title                                    \n",
       "neural backpropagation         0.515898  \n",
       "nervous system network models  0.414309  \n",
       "gene expression programming    0.329710  \n",
       "artificial neuron              0.316880  \n",
       "julia programming language     0.303413  "
      ]
     },
     "execution_count": 60,
     "metadata": {},
     "output_type": "execute_result"
    }
   ],
   "source": [
    "article = 'Neuron'\n",
    "rec1.transform( nonempty_pages_df, article)"
   ]
  },
  {
   "cell_type": "code",
   "execution_count": 62,
   "metadata": {},
   "outputs": [
    {
     "data": {
      "text/html": [
       "<div>\n",
       "<table border=\"1\" class=\"dataframe\">\n",
       "  <thead>\n",
       "    <tr style=\"text-align: right;\">\n",
       "      <th></th>\n",
       "      <th>category</th>\n",
       "      <th>subcategory</th>\n",
       "      <th>cosine</th>\n",
       "    </tr>\n",
       "    <tr>\n",
       "      <th>title</th>\n",
       "      <th></th>\n",
       "      <th></th>\n",
       "      <th></th>\n",
       "    </tr>\n",
       "  </thead>\n",
       "  <tbody>\n",
       "    <tr>\n",
       "      <th>microsoft</th>\n",
       "      <td>business software</td>\n",
       "      <td>Business software companies</td>\n",
       "      <td>0.999983</td>\n",
       "    </tr>\n",
       "    <tr>\n",
       "      <th>microsoft dynamics crm</th>\n",
       "      <td>business software</td>\n",
       "      <td>Customer relationship management software</td>\n",
       "      <td>0.789586</td>\n",
       "    </tr>\n",
       "    <tr>\n",
       "      <th>microsoft dynamics erp</th>\n",
       "      <td>business software</td>\n",
       "      <td>business software</td>\n",
       "      <td>0.767598</td>\n",
       "    </tr>\n",
       "    <tr>\n",
       "      <th>microsoft dynamics</th>\n",
       "      <td>business software</td>\n",
       "      <td>business software</td>\n",
       "      <td>0.767431</td>\n",
       "    </tr>\n",
       "    <tr>\n",
       "      <th>microsoft small business financials</th>\n",
       "      <td>business software</td>\n",
       "      <td>Accounting software</td>\n",
       "      <td>0.681740</td>\n",
       "    </tr>\n",
       "  </tbody>\n",
       "</table>\n",
       "</div>"
      ],
      "text/plain": [
       "                                              category  \\\n",
       "title                                                    \n",
       "microsoft                            business software   \n",
       "microsoft dynamics crm               business software   \n",
       "microsoft dynamics erp               business software   \n",
       "microsoft dynamics                   business software   \n",
       "microsoft small business financials  business software   \n",
       "\n",
       "                                                                   subcategory  \\\n",
       "title                                                                            \n",
       "microsoft                                          Business software companies   \n",
       "microsoft dynamics crm               Customer relationship management software   \n",
       "microsoft dynamics erp                                       business software   \n",
       "microsoft dynamics                                           business software   \n",
       "microsoft small business financials                        Accounting software   \n",
       "\n",
       "                                       cosine  \n",
       "title                                          \n",
       "microsoft                            0.999983  \n",
       "microsoft dynamics crm               0.789586  \n",
       "microsoft dynamics erp               0.767598  \n",
       "microsoft dynamics                   0.767431  \n",
       "microsoft small business financials  0.681740  "
      ]
     },
     "execution_count": 62,
     "metadata": {},
     "output_type": "execute_result"
    }
   ],
   "source": [
    "article = 'Microsoft'\n",
    "rec1.transform( nonempty_pages_df, article)"
   ]
  },
  {
   "cell_type": "code",
   "execution_count": 63,
   "metadata": {},
   "outputs": [
    {
     "data": {
      "text/html": [
       "<div>\n",
       "<table border=\"1\" class=\"dataframe\">\n",
       "  <thead>\n",
       "    <tr style=\"text-align: right;\">\n",
       "      <th></th>\n",
       "      <th>category</th>\n",
       "      <th>subcategory</th>\n",
       "      <th>cosine</th>\n",
       "    </tr>\n",
       "    <tr>\n",
       "      <th>title</th>\n",
       "      <th></th>\n",
       "      <th></th>\n",
       "      <th></th>\n",
       "    </tr>\n",
       "  </thead>\n",
       "  <tbody>\n",
       "    <tr>\n",
       "      <th>hierarchical temporal memory</th>\n",
       "      <td>machine learning</td>\n",
       "      <td>Deep learning</td>\n",
       "      <td>0.427630</td>\n",
       "    </tr>\n",
       "    <tr>\n",
       "      <th>nervous system network models</th>\n",
       "      <td>machine learning</td>\n",
       "      <td>Artificial neural networks</td>\n",
       "      <td>0.411222</td>\n",
       "    </tr>\n",
       "    <tr>\n",
       "      <th>activity recognition</th>\n",
       "      <td>machine learning</td>\n",
       "      <td>Applied machine learning</td>\n",
       "      <td>0.372448</td>\n",
       "    </tr>\n",
       "    <tr>\n",
       "      <th>types of artificial neural networks</th>\n",
       "      <td>machine learning</td>\n",
       "      <td>Classification algorithms</td>\n",
       "      <td>0.365481</td>\n",
       "    </tr>\n",
       "    <tr>\n",
       "      <th>convolutional neural network</th>\n",
       "      <td>machine learning</td>\n",
       "      <td>Artificial neural networks</td>\n",
       "      <td>0.361711</td>\n",
       "    </tr>\n",
       "  </tbody>\n",
       "</table>\n",
       "</div>"
      ],
      "text/plain": [
       "                                             category  \\\n",
       "title                                                   \n",
       "hierarchical temporal memory         machine learning   \n",
       "nervous system network models        machine learning   \n",
       "activity recognition                 machine learning   \n",
       "types of artificial neural networks  machine learning   \n",
       "convolutional neural network         machine learning   \n",
       "\n",
       "                                                    subcategory    cosine  \n",
       "title                                                                      \n",
       "hierarchical temporal memory                      Deep learning  0.427630  \n",
       "nervous system network models        Artificial neural networks  0.411222  \n",
       "activity recognition                   Applied machine learning  0.372448  \n",
       "types of artificial neural networks   Classification algorithms  0.365481  \n",
       "convolutional neural network         Artificial neural networks  0.361711  "
      ]
     },
     "execution_count": 63,
     "metadata": {},
     "output_type": "execute_result"
    }
   ],
   "source": [
    "article = 'brain'\n",
    "rec1.transform( nonempty_pages_df, article)"
   ]
  },
  {
   "cell_type": "code",
   "execution_count": 26,
   "metadata": {},
   "outputs": [
    {
     "name": "stdout",
     "output_type": "stream",
     "text": [
      "0.0\n"
     ]
    },
    {
     "data": {
      "text/html": [
       "<div>\n",
       "<table border=\"1\" class=\"dataframe\">\n",
       "  <thead>\n",
       "    <tr style=\"text-align: right;\">\n",
       "      <th></th>\n",
       "      <th>category</th>\n",
       "      <th>subcategory</th>\n",
       "      <th>cosine</th>\n",
       "    </tr>\n",
       "    <tr>\n",
       "      <th>title</th>\n",
       "      <th></th>\n",
       "      <th></th>\n",
       "      <th></th>\n",
       "    </tr>\n",
       "  </thead>\n",
       "  <tbody>\n",
       "    <tr>\n",
       "      <th>hierarchical temporal memory</th>\n",
       "      <td>machine learning</td>\n",
       "      <td>Semisupervised learning</td>\n",
       "      <td>0.422231</td>\n",
       "    </tr>\n",
       "    <tr>\n",
       "      <th>hierarchical temporal memory</th>\n",
       "      <td>machine learning</td>\n",
       "      <td>Semisupervised learning</td>\n",
       "      <td>0.422231</td>\n",
       "    </tr>\n",
       "    <tr>\n",
       "      <th>hierarchical temporal memory</th>\n",
       "      <td>machine learning</td>\n",
       "      <td>Unsupervised learning</td>\n",
       "      <td>0.422231</td>\n",
       "    </tr>\n",
       "    <tr>\n",
       "      <th>hierarchical temporal memory</th>\n",
       "      <td>machine learning</td>\n",
       "      <td>Semisupervised learning</td>\n",
       "      <td>0.422231</td>\n",
       "    </tr>\n",
       "    <tr>\n",
       "      <th>hierarchical temporal memory</th>\n",
       "      <td>machine learning</td>\n",
       "      <td>Unsupervised learning</td>\n",
       "      <td>0.422231</td>\n",
       "    </tr>\n",
       "  </tbody>\n",
       "</table>\n",
       "</div>"
      ],
      "text/plain": [
       "                                      category              subcategory  \\\n",
       "title                                                                     \n",
       "hierarchical temporal memory  machine learning  Semisupervised learning   \n",
       "hierarchical temporal memory  machine learning  Semisupervised learning   \n",
       "hierarchical temporal memory  machine learning    Unsupervised learning   \n",
       "hierarchical temporal memory  machine learning  Semisupervised learning   \n",
       "hierarchical temporal memory  machine learning    Unsupervised learning   \n",
       "\n",
       "                                cosine  \n",
       "title                                   \n",
       "hierarchical temporal memory  0.422231  \n",
       "hierarchical temporal memory  0.422231  \n",
       "hierarchical temporal memory  0.422231  \n",
       "hierarchical temporal memory  0.422231  \n",
       "hierarchical temporal memory  0.422231  "
      ]
     },
     "execution_count": 26,
     "metadata": {},
     "output_type": "execute_result"
    }
   ],
   "source": [
    "article = 'brain'\n",
    "\n",
    "start = datetime.now()\n",
    "article_recs = rec.transform( nonempty_pages_df, article)\n",
    "\n",
    "timeduration = round((datetime.now()-start).seconds/60,2) ## minutes\n",
    "print( timeduration)\n",
    "\n",
    "article_recs"
   ]
  },
  {
   "cell_type": "code",
   "execution_count": null,
   "metadata": {
    "collapsed": true
   },
   "outputs": [],
   "source": [
    "start = datetime.now()\n",
    "rand_recs = rec.fit_transform(nonempty_pages_df)\n",
    "\n",
    "timeduration = round((datetime.now()-start).seconds/60,2) ## minutes\n",
    "print( timeduration)\n",
    "\n",
    "rand_recs#.head()"
   ]
  },
  {
   "cell_type": "code",
   "execution_count": null,
   "metadata": {
    "collapsed": true
   },
   "outputs": [],
   "source": [
    "article = 'Saffron Technology'\n",
    "\n",
    "start = datetime.now()\n",
    "article_recs = rec.transform( nonempty_pages_df, article)\n",
    "\n",
    "timeduration = round((datetime.now()-start).seconds/60,2) ## minutes\n",
    "print( timeduration)\n",
    "\n",
    "article_recs"
   ]
  },
  {
   "cell_type": "code",
   "execution_count": 3,
   "metadata": {},
   "outputs": [],
   "source": [
    "## My Attempt\n",
    "\n",
    "class Recommend():\n",
    "    \n",
    "    def __init__(self, min_df=.05, max_df=.90, ngram_range=(1,3), n_components=100):\n",
    "        self.min_df = min_df\n",
    "        self.max_df = max_df\n",
    "        self.ngram_range = ngram_range\n",
    "        self.n_components = n_components\n",
    "    \n",
    "    def fit(self, X, Y):\n",
    "        \n",
    "        \n",
    "        return self\n",
    "\n",
    "    def transform(self, X, Y=None):\n",
    "        pipe = Pipeline([\n",
    "            ('encoder', TfidfVectorizer( min_df = self.min_df, max_df = self.max_df, \n",
    "                                        ngram_range = self.ngram_range, stop_words = 'english')),\n",
    "            ('truncator',TruncatedSVD( n_components=self.n_components) ),\n",
    "        ])\n",
    "        \n",
    "        component_names = [\"component_\" + str(i+1) for i in range(self.n_components)]\n",
    "        \n",
    "        lsa_df = pd.DataFrame( pipe.fit_transform(X.article), index=X.index, columns=component_names)\n",
    "\n",
    "        LSA_df = X[['category','subcategory', 'title','article']].merge( \\\n",
    "                        lsa_df, how = 'outer', copy = True,\n",
    "                        left_index = True, right_index = True, suffixes = ('', ''))\n",
    "        \n",
    "        if Y is not None:\n",
    "            search_doc, pageid = rc.get_article(Y)  ## Y = 'Saffron Technology'\n",
    "\n",
    "        else:\n",
    "            pageid = X.index[1]\n",
    "            search_doc = X.article[pageid]\n",
    "            \n",
    "        article_lsa_df = pd.DataFrame( pipe.transform( [search_doc]), index=[int(pageid)],columns=component_names )\n",
    "        search_cosine_df = pd.DataFrame( cosine_similarity( LSA_df.drop(['category','subcategory','title','article'], axis = 1), article_lsa_df ), columns = ['cosine'], index = LSA_df.index)\n",
    "        search_cosine_df = X[['category', 'subcategory', 'title']] \\\n",
    "            .merge( search_cosine_df, how = 'outer', \n",
    "                   left_index = True, right_index = True, copy = True, suffixes = ('', '') )\n",
    "        search_cosine_df.index = search_cosine_df.title\n",
    "        search_cosine_df.drop( ['title'], axis = 1, inplace = True)\n",
    "        return search_cosine_df.sort_values(by = 'cosine', ascending=False)[0:5]\n",
    "            \n",
    "    def fit_transform(self, X, Y=None):\n",
    "        self.fit(X, Y)\n",
    "        return self.transform(X, Y)"
   ]
  },
  {
   "cell_type": "code",
   "execution_count": 4,
   "metadata": {},
   "outputs": [
    {
     "data": {
      "text/plain": [
       "(4582, 4)"
      ]
     },
     "execution_count": 4,
     "metadata": {},
     "output_type": "execute_result"
    }
   ],
   "source": [
    "nonempty_pages_df = get_data('machine learning', 'business software') \n",
    "nonempty_pages_df.shape"
   ]
  },
  {
   "cell_type": "code",
   "execution_count": 5,
   "metadata": {},
   "outputs": [
    {
     "data": {
      "text/plain": [
       "'constant contact'"
      ]
     },
     "execution_count": 5,
     "metadata": {},
     "output_type": "execute_result"
    }
   ],
   "source": [
    "#nonempty_pages_df.article[ nonempty_pages_df.index[1]]\n",
    "nonempty_pages_df.title[ nonempty_pages_df.index[1]]"
   ]
  },
  {
   "cell_type": "code",
   "execution_count": 6,
   "metadata": {},
   "outputs": [],
   "source": [
    "rec = Recommend(n_components = 700)"
   ]
  },
  {
   "cell_type": "markdown",
   "metadata": {},
   "source": [
    "## Fit_Transform"
   ]
  },
  {
   "cell_type": "code",
   "execution_count": 7,
   "metadata": {},
   "outputs": [
    {
     "name": "stdout",
     "output_type": "stream",
     "text": [
      "0.38\n"
     ]
    },
    {
     "data": {
      "text/html": [
       "<div>\n",
       "<table border=\"1\" class=\"dataframe\">\n",
       "  <thead>\n",
       "    <tr style=\"text-align: right;\">\n",
       "      <th></th>\n",
       "      <th>category</th>\n",
       "      <th>subcategory</th>\n",
       "      <th>cosine</th>\n",
       "    </tr>\n",
       "    <tr>\n",
       "      <th>title</th>\n",
       "      <th></th>\n",
       "      <th></th>\n",
       "      <th></th>\n",
       "    </tr>\n",
       "  </thead>\n",
       "  <tbody>\n",
       "    <tr>\n",
       "      <th>constant contact</th>\n",
       "      <td>business software</td>\n",
       "      <td>Customer relationship management software</td>\n",
       "      <td>0.999947</td>\n",
       "    </tr>\n",
       "    <tr>\n",
       "      <th>lithium technologies</th>\n",
       "      <td>business software</td>\n",
       "      <td>business software</td>\n",
       "      <td>0.552961</td>\n",
       "    </tr>\n",
       "    <tr>\n",
       "      <th>conversocial</th>\n",
       "      <td>business software</td>\n",
       "      <td>business software</td>\n",
       "      <td>0.529392</td>\n",
       "    </tr>\n",
       "    <tr>\n",
       "      <th>buckaroocom</th>\n",
       "      <td>business software</td>\n",
       "      <td>business software</td>\n",
       "      <td>0.482412</td>\n",
       "    </tr>\n",
       "    <tr>\n",
       "      <th>hubspot</th>\n",
       "      <td>business software</td>\n",
       "      <td>Marketing software</td>\n",
       "      <td>0.469031</td>\n",
       "    </tr>\n",
       "  </tbody>\n",
       "</table>\n",
       "</div>"
      ],
      "text/plain": [
       "                               category  \\\n",
       "title                                     \n",
       "constant contact      business software   \n",
       "lithium technologies  business software   \n",
       "conversocial          business software   \n",
       "buckaroocom           business software   \n",
       "hubspot               business software   \n",
       "\n",
       "                                                    subcategory    cosine  \n",
       "title                                                                      \n",
       "constant contact      Customer relationship management software  0.999947  \n",
       "lithium technologies                          business software  0.552961  \n",
       "conversocial                                  business software  0.529392  \n",
       "buckaroocom                                   business software  0.482412  \n",
       "hubspot                                      Marketing software  0.469031  "
      ]
     },
     "execution_count": 7,
     "metadata": {},
     "output_type": "execute_result"
    }
   ],
   "source": [
    "start = datetime.now()\n",
    "rand_recs = rec.fit_transform(nonempty_pages_df)\n",
    "\n",
    "timeduration = round((datetime.now()-start).seconds/60,2) ## minutes\n",
    "print( timeduration)\n",
    "\n",
    "rand_recs#.head()"
   ]
  },
  {
   "cell_type": "markdown",
   "metadata": {},
   "source": [
    "## Transform"
   ]
  },
  {
   "cell_type": "code",
   "execution_count": 8,
   "metadata": {},
   "outputs": [
    {
     "name": "stdout",
     "output_type": "stream",
     "text": [
      "0.38\n"
     ]
    },
    {
     "data": {
      "text/html": [
       "<div>\n",
       "<table border=\"1\" class=\"dataframe\">\n",
       "  <thead>\n",
       "    <tr style=\"text-align: right;\">\n",
       "      <th></th>\n",
       "      <th>category</th>\n",
       "      <th>subcategory</th>\n",
       "      <th>cosine</th>\n",
       "    </tr>\n",
       "    <tr>\n",
       "      <th>title</th>\n",
       "      <th></th>\n",
       "      <th></th>\n",
       "      <th></th>\n",
       "    </tr>\n",
       "  </thead>\n",
       "  <tbody>\n",
       "    <tr>\n",
       "      <th>autoassociative memory</th>\n",
       "      <td>machine learning</td>\n",
       "      <td>Artificial neural networks</td>\n",
       "      <td>0.508250</td>\n",
       "    </tr>\n",
       "    <tr>\n",
       "      <th>sisense</th>\n",
       "      <td>business software</td>\n",
       "      <td>business software</td>\n",
       "      <td>0.434608</td>\n",
       "    </tr>\n",
       "    <tr>\n",
       "      <th>semantic research</th>\n",
       "      <td>business software</td>\n",
       "      <td>Business software companies</td>\n",
       "      <td>0.407951</td>\n",
       "    </tr>\n",
       "    <tr>\n",
       "      <th>datawatch corporation</th>\n",
       "      <td>business software</td>\n",
       "      <td>business software</td>\n",
       "      <td>0.398055</td>\n",
       "    </tr>\n",
       "    <tr>\n",
       "      <th>genetic memory computer science</th>\n",
       "      <td>machine learning</td>\n",
       "      <td>Genetic algorithms</td>\n",
       "      <td>0.390902</td>\n",
       "    </tr>\n",
       "  </tbody>\n",
       "</table>\n",
       "</div>"
      ],
      "text/plain": [
       "                                          category  \\\n",
       "title                                                \n",
       "autoassociative memory            machine learning   \n",
       "sisense                          business software   \n",
       "semantic research                business software   \n",
       "datawatch corporation            business software   \n",
       "genetic memory computer science   machine learning   \n",
       "\n",
       "                                                 subcategory    cosine  \n",
       "title                                                                   \n",
       "autoassociative memory            Artificial neural networks  0.508250  \n",
       "sisense                                    business software  0.434608  \n",
       "semantic research                Business software companies  0.407951  \n",
       "datawatch corporation                      business software  0.398055  \n",
       "genetic memory computer science           Genetic algorithms  0.390902  "
      ]
     },
     "execution_count": 8,
     "metadata": {},
     "output_type": "execute_result"
    }
   ],
   "source": [
    "article = 'Saffron Technology'\n",
    "\n",
    "start = datetime.now()\n",
    "article_recs = rec.transform( nonempty_pages_df, article)\n",
    "\n",
    "timeduration = round((datetime.now()-start).seconds/60,2) ## minutes\n",
    "print( timeduration)\n",
    "\n",
    "article_recs"
   ]
  },
  {
   "cell_type": "code",
   "execution_count": null,
   "metadata": {},
   "outputs": [],
   "source": [
    "class TemplateClassifier(BaseEstimator, ClassifierMixin):\n",
    "\n",
    "    def __init__(self, *categories, min_df=.05, max_df=.90, ngram_range=(1,3), n_components=100):\n",
    "        #self.categories = categories\n",
    "        self.min_df = min_df\n",
    "        self.max_df = max_df\n",
    "        self.ngram_range = ngram_range\n",
    "        self.n_components = n_components\n",
    "\n",
    "    def fit(self, X, y):\n",
    "        \n",
    "        # Check that X and y have correct shape\n",
    "        \n",
    "        \n",
    "        \n",
    "        X, y = check_X_y(X, y)\n",
    "        \n",
    "        \n",
    "        # Store the classes seen during fit\n",
    "        self.classes_ = unique_labels(y)\n",
    "\n",
    "        self.X_ = X\n",
    "        self.y_ = y\n",
    "        # Return the classifier\n",
    "        return self\n",
    "\n",
    "    def predict(self, X):\n",
    "\n",
    "        # Check is fit had been called\n",
    "        check_is_fitted(self, ['X_', 'y_'])\n",
    "\n",
    "        # Input validation\n",
    "        X = check_array(X)\n",
    "\n",
    "        closest = np.argmin(euclidean_distances(X, self.X_), axis=1)\n",
    "        return self.y_[closest]"
   ]
  },
  {
   "cell_type": "code",
   "execution_count": null,
   "metadata": {
    "collapsed": true
   },
   "outputs": [],
   "source": [
    "## Original - https://stackoverflow.com/questions/43232506/using-pipeline-with-custom-classes-in-sklearn\n",
    "\n",
    "class MyFeatureSelector():\n",
    "    def __init__(self, features=5, method='pca'):\n",
    "        self.features = features\n",
    "        self.method = method\n",
    "        self.selector = None\n",
    "        self.init_selector()\n",
    "\n",
    "    def init_selector():\n",
    "        if self.method == 'pca':\n",
    "            self.selector = PCA(n_components=self.features)\n",
    "        elif self.method == 'rfe':\n",
    "        self.selector = RFE(estimator=LinearRegression(n_jobs=-1),\n",
    "                               n_features_to_select=self.features,\n",
    "                               step=1)\n",
    "    def fit(self, X, Y):\n",
    "        return self\n",
    "\n",
    "    def transform(self, X, Y=None):\n",
    "        try:\n",
    "            if self.features < X.shape[1]:\n",
    "                if Y is not None:\n",
    "                    self.selector.fit(X, Y)\n",
    "                return selector.transform(X)\n",
    "        except Exception as err:\n",
    "            print('MyFeatureSelector.transform(): {}'.format(err))\n",
    "        return X\n",
    "\n",
    "    def fit_transform(self, X, Y=None):\n",
    "        self.fit(X, Y)\n",
    "        return self.transform(X, Y)"
   ]
  },
  {
   "cell_type": "code",
   "execution_count": null,
   "metadata": {
    "collapsed": true
   },
   "outputs": [],
   "source": [
    "## Original http://scikit-learn.org/dev/developers/contributing.html#rolling-your-own-estimator\n",
    "\n",
    "class TemplateClassifier(BaseEstimator, ClassifierMixin):\n",
    "\n",
    "    def __init__(self, demo_param='demo'):\n",
    "        self.demo_param = demo_param\n",
    "\n",
    "    def fit(self, X, y):\n",
    "\n",
    "        # Check that X and y have correct shape\n",
    "        X, y = check_X_y(X, y)\n",
    "        # Store the classes seen during fit\n",
    "        self.classes_ = unique_labels(y)\n",
    "\n",
    "        self.X_ = X\n",
    "        self.y_ = y\n",
    "        # Return the classifier\n",
    "        return self\n",
    "\n",
    "    def predict(self, X):\n",
    "\n",
    "        # Check is fit had been called\n",
    "        check_is_fitted(self, ['X_', 'y_'])\n",
    "\n",
    "        # Input validation\n",
    "        X = check_array(X)\n",
    "\n",
    "        closest = np.argmin(euclidean_distances(X, self.X_), axis=1)\n",
    "        return self.y_[closest]"
   ]
  },
  {
   "cell_type": "code",
   "execution_count": null,
   "metadata": {
    "collapsed": true
   },
   "outputs": [],
   "source": []
  },
  {
   "cell_type": "code",
   "execution_count": null,
   "metadata": {
    "collapsed": true
   },
   "outputs": [],
   "source": []
  },
  {
   "cell_type": "code",
   "execution_count": null,
   "metadata": {
    "collapsed": true
   },
   "outputs": [],
   "source": []
  },
  {
   "cell_type": "code",
   "execution_count": null,
   "metadata": {
    "collapsed": true
   },
   "outputs": [],
   "source": []
  },
  {
   "cell_type": "code",
   "execution_count": null,
   "metadata": {
    "collapsed": true
   },
   "outputs": [],
   "source": []
  },
  {
   "cell_type": "code",
   "execution_count": null,
   "metadata": {
    "collapsed": true
   },
   "outputs": [],
   "source": []
  }
 ],
 "metadata": {
  "kernelspec": {
   "display_name": "Python 3",
   "language": "python",
   "name": "python3"
  },
  "language_info": {
   "codemirror_mode": {
    "name": "ipython",
    "version": 3
   },
   "file_extension": ".py",
   "mimetype": "text/x-python",
   "name": "python",
   "nbconvert_exporter": "python",
   "pygments_lexer": "ipython3",
   "version": "3.6.2"
  }
 },
 "nbformat": 4,
 "nbformat_minor": 2
}
