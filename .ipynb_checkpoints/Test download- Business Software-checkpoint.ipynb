{
 "cells": [
  {
   "cell_type": "code",
   "execution_count": null,
   "metadata": {
    "collapsed": true
   },
   "outputs": [],
   "source": [
    "## Pickle file:  \n",
    "\n",
    "##category_pages_df does not contain raw text"
   ]
  },
  {
   "cell_type": "code",
   "execution_count": null,
   "metadata": {
    "collapsed": true
   },
   "outputs": [],
   "source": []
  },
  {
   "cell_type": "code",
   "execution_count": 20,
   "metadata": {
    "collapsed": true
   },
   "outputs": [],
   "source": [
    "import database as db\n",
    "import request_category as rc\n",
    "from download import download\n",
    "from datetime import datetime\n",
    "import re\n",
    "import pandas as pd\n",
    "import numpy as np\n",
    "import pickle"
   ]
  },
  {
   "cell_type": "code",
   "execution_count": null,
   "metadata": {},
   "outputs": [
    {
     "name": "stdout",
     "output_type": "stream",
     "text": [
      "Gathering page information from Category: business software, pages from nested sub-categories (+3 levels) will be included as a union for each category. \n",
      "\tTotal categories after recursive search: 314\n",
      "\tRequesting 5938 unique articles - ETA: 65.44 minutes\n"
     ]
    }
   ],
   "source": [
    "df_tup = rc.fill_unique_pages('business software', grab = True)"
   ]
  },
  {
   "cell_type": "code",
   "execution_count": 25,
   "metadata": {},
   "outputs": [],
   "source": [
    "category_pages_df, unique_pages_df = df_tup"
   ]
  },
  {
   "cell_type": "code",
   "execution_count": 26,
   "metadata": {},
   "outputs": [
    {
     "data": {
      "text/plain": [
       "((31096, 4), (5938, 5))"
      ]
     },
     "execution_count": 26,
     "metadata": {},
     "output_type": "execute_result"
    }
   ],
   "source": [
    "category_pages_df.shape, unique_pages_df.shape"
   ]
  },
  {
   "cell_type": "code",
   "execution_count": 34,
   "metadata": {},
   "outputs": [
    {
     "data": {
      "text/html": [
       "<div>\n",
       "<table border=\"1\" class=\"dataframe\">\n",
       "  <thead>\n",
       "    <tr style=\"text-align: right;\">\n",
       "      <th></th>\n",
       "      <th>category</th>\n",
       "      <th>pageid</th>\n",
       "      <th>subcategory</th>\n",
       "      <th>title</th>\n",
       "      <th>article</th>\n",
       "    </tr>\n",
       "  </thead>\n",
       "  <tbody>\n",
       "    <tr>\n",
       "      <th>0</th>\n",
       "      <td>business software</td>\n",
       "      <td>1037763</td>\n",
       "      <td>business software</td>\n",
       "      <td>Business software</td>\n",
       "      <td>business software business application softwar...</td>\n",
       "    </tr>\n",
       "    <tr>\n",
       "      <th>1</th>\n",
       "      <td>business software</td>\n",
       "      <td>41270069</td>\n",
       "      <td>business software</td>\n",
       "      <td>AccuSystems</td>\n",
       "      <td>accusystems llc american company headquartered...</td>\n",
       "    </tr>\n",
       "    <tr>\n",
       "      <th>2</th>\n",
       "      <td>business software</td>\n",
       "      <td>5211212</td>\n",
       "      <td>business software</td>\n",
       "      <td>Active policy management</td>\n",
       "      <td>active policy management business oriented ent...</td>\n",
       "    </tr>\n",
       "    <tr>\n",
       "      <th>3</th>\n",
       "      <td>business software</td>\n",
       "      <td>28502793</td>\n",
       "      <td>business software</td>\n",
       "      <td>Alexandria (library software)</td>\n",
       "      <td>alexandria browser based cross platform librar...</td>\n",
       "    </tr>\n",
       "    <tr>\n",
       "      <th>4</th>\n",
       "      <td>business software</td>\n",
       "      <td>44133735</td>\n",
       "      <td>business software</td>\n",
       "      <td>Alteryx</td>\n",
       "      <td>alteryx american computer software company bas...</td>\n",
       "    </tr>\n",
       "  </tbody>\n",
       "</table>\n",
       "</div>"
      ],
      "text/plain": [
       "            category    pageid        subcategory  \\\n",
       "0  business software   1037763  business software   \n",
       "1  business software  41270069  business software   \n",
       "2  business software   5211212  business software   \n",
       "3  business software  28502793  business software   \n",
       "4  business software  44133735  business software   \n",
       "\n",
       "                           title  \\\n",
       "0              Business software   \n",
       "1                    AccuSystems   \n",
       "2       Active policy management   \n",
       "3  Alexandria (library software)   \n",
       "4                        Alteryx   \n",
       "\n",
       "                                             article  \n",
       "0  business software business application softwar...  \n",
       "1  accusystems llc american company headquartered...  \n",
       "2  active policy management business oriented ent...  \n",
       "3  alexandria browser based cross platform librar...  \n",
       "4  alteryx american computer software company bas...  "
      ]
     },
     "execution_count": 34,
     "metadata": {},
     "output_type": "execute_result"
    }
   ],
   "source": [
    "unique_pages_df.head()"
   ]
  },
  {
   "cell_type": "code",
   "execution_count": 28,
   "metadata": {},
   "outputs": [
    {
     "data": {
      "text/plain": [
       "(5938, 4)"
      ]
     },
     "execution_count": 28,
     "metadata": {},
     "output_type": "execute_result"
    }
   ],
   "source": [
    "## Confirm unique_pages_df\n",
    "\n",
    "category_pages_df.drop_duplicates(subset = ['pageid', 'title']).reset_index( drop = True).shape"
   ]
  },
  {
   "cell_type": "code",
   "execution_count": 29,
   "metadata": {},
   "outputs": [
    {
     "data": {
      "text/plain": [
       "(311, 4)"
      ]
     },
     "execution_count": 29,
     "metadata": {},
     "output_type": "execute_result"
    }
   ],
   "source": [
    "categories_df = category_pages_df.drop_duplicates( subset = ['category']).reset_index( drop=True).copy()\n",
    "categories_df.shape"
   ]
  },
  {
   "cell_type": "code",
   "execution_count": 31,
   "metadata": {},
   "outputs": [
    {
     "data": {
      "text/plain": [
       "(1312, 4)"
      ]
     },
     "execution_count": 31,
     "metadata": {},
     "output_type": "execute_result"
    }
   ],
   "source": [
    "subcategories_df = category_pages_df.drop_duplicates( subset = ['category', 'subcategory']).reset_index(drop=True).copy()\n",
    "subcategories_df.shape"
   ]
  },
  {
   "cell_type": "code",
   "execution_count": 32,
   "metadata": {},
   "outputs": [
    {
     "data": {
      "text/plain": [
       "(8199, 4)"
      ]
     },
     "execution_count": 32,
     "metadata": {},
     "output_type": "execute_result"
    }
   ],
   "source": [
    "subcat_page_df = category_pages_df.drop_duplicates( subset = ['subcategory', 'pageid']).reset_index( drop=True).copy()\n",
    "subcat_page_df.shape"
   ]
  },
  {
   "cell_type": "code",
   "execution_count": 33,
   "metadata": {},
   "outputs": [
    {
     "data": {
      "text/plain": [
       "5938"
      ]
     },
     "execution_count": 33,
     "metadata": {},
     "output_type": "execute_result"
    }
   ],
   "source": [
    "n_grabs = unique_pages_df.shape[0]\n",
    "n_grabs"
   ]
  },
  {
   "cell_type": "code",
   "execution_count": 35,
   "metadata": {
    "collapsed": true
   },
   "outputs": [],
   "source": [
    "df_tup = (category_pages_df, unique_pages_df, categories_df, subcategories_df, subcat_page_df)\n",
    "\n",
    "category = 'business software'"
   ]
  },
  {
   "cell_type": "code",
   "execution_count": 36,
   "metadata": {},
   "outputs": [
    {
     "data": {
      "text/plain": [
       "('business_software_dfs.p', './docker/postgres/data/business_software_dfs.p')"
      ]
     },
     "execution_count": 36,
     "metadata": {},
     "output_type": "execute_result"
    }
   ],
   "source": [
    "pickle_file = re.sub( ' ', '_', category) + '_dfs.p'\n",
    "pickle_path = './docker/postgres/data/' + pickle_file\n",
    "pickle_file, pickle_path"
   ]
  },
  {
   "cell_type": "code",
   "execution_count": null,
   "metadata": {
    "collapsed": true
   },
   "outputs": [],
   "source": []
  },
  {
   "cell_type": "code",
   "execution_count": 37,
   "metadata": {
    "collapsed": true
   },
   "outputs": [],
   "source": [
    "## write pickle (binary)\n",
    "with open( pickle_path, 'wb') as f:\n",
    "    pickle.dump( df_tup, f)\n"
   ]
  },
  {
   "cell_type": "code",
   "execution_count": null,
   "metadata": {
    "collapsed": true
   },
   "outputs": [],
   "source": []
  },
  {
   "cell_type": "code",
   "execution_count": null,
   "metadata": {
    "collapsed": true
   },
   "outputs": [],
   "source": [
    "\n",
    "#print( unique_pages_df.shape, n_grabs)\n",
    "\n",
    "estT = round(time_of_one_grab*n_grabs/60, 2)  ## minutes\n",
    "print('\\tRequesting {} unique articles - ETA: {} minutes'.format( n_grabs, estT))\n",
    "if grab:  ## Grab the text articles and pickle the df_tup for later use\n",
    "    unique_pages_df.loc[:,'article'] = unique_pages_df.pageid.apply( grab_content, clean = False )  ## Don't clean it yet\n",
    "    ### NEW FEATURE,  save RAW article to category_pages_df for later use\n",
    "    get_article = lambda x: unique_pages_df[ unique_pages_df.pageid == x].article.tolist()[0]\n",
    "    category_pages_df.loc[:, 'article'] = category_pages_df.pageid.apply( get_article)\n",
    "\n",
    "    unique_pages_df.loc[:,'article'] = unique_pages_df.article.apply( cleaner )  ## Now Clean\n",
    "    df_tup = (category_pages_df, unique_pages_df, categories_df, subcategories_df, subcat_page_df)\n",
    "\n",
    "    pickle_file = re.sub( ' ', '_', category) + '_dfs.p'\n",
    "    pickle_path = './docker/postgres/data/' + pickle_file\n",
    "    ## write pickle (binary)\n",
    "    with open( pickle_path, 'wb') as f:\n",
    "        pickle.dump( df_tup, f)\n",
    "\n",
    "    print( 'Category DataFrames are pickled at the following location: {}. Raw text is available in\\n category_pages_df in the pickle file'.format( pickle_path) )  \n",
    "    tag = ''\n"
   ]
  },
  {
   "cell_type": "code",
   "execution_count": null,
   "metadata": {
    "collapsed": true
   },
   "outputs": [],
   "source": []
  },
  {
   "cell_type": "code",
   "execution_count": null,
   "metadata": {
    "collapsed": true
   },
   "outputs": [],
   "source": []
  },
  {
   "cell_type": "code",
   "execution_count": null,
   "metadata": {
    "collapsed": true
   },
   "outputs": [],
   "source": []
  },
  {
   "cell_type": "code",
   "execution_count": null,
   "metadata": {
    "collapsed": true
   },
   "outputs": [],
   "source": []
  },
  {
   "cell_type": "code",
   "execution_count": null,
   "metadata": {
    "collapsed": true
   },
   "outputs": [],
   "source": []
  },
  {
   "cell_type": "markdown",
   "metadata": {},
   "source": [
    "## `Pages` Table"
   ]
  },
  {
   "cell_type": "code",
   "execution_count": 17,
   "metadata": {},
   "outputs": [
    {
     "data": {
      "text/html": [
       "<div>\n",
       "<table border=\"1\" class=\"dataframe\">\n",
       "  <thead>\n",
       "    <tr style=\"text-align: right;\">\n",
       "      <th></th>\n",
       "      <th>count</th>\n",
       "    </tr>\n",
       "  </thead>\n",
       "  <tbody>\n",
       "    <tr>\n",
       "      <th>0</th>\n",
       "      <td>2429</td>\n",
       "    </tr>\n",
       "  </tbody>\n",
       "</table>\n",
       "</div>"
      ],
      "text/plain": [
       "   count\n",
       "0   2429"
      ]
     },
     "execution_count": 17,
     "metadata": {},
     "output_type": "execute_result"
    }
   ],
   "source": [
    "db.query_to_dataframe( 'SELECT COUNT(*) FROM pages;')"
   ]
  },
  {
   "cell_type": "code",
   "execution_count": null,
   "metadata": {
    "collapsed": true
   },
   "outputs": [],
   "source": []
  },
  {
   "cell_type": "code",
   "execution_count": 18,
   "metadata": {},
   "outputs": [
    {
     "data": {
      "text/html": [
       "<div>\n",
       "<table border=\"1\" class=\"dataframe\">\n",
       "  <thead>\n",
       "    <tr style=\"text-align: right;\">\n",
       "      <th></th>\n",
       "      <th>count</th>\n",
       "    </tr>\n",
       "  </thead>\n",
       "  <tbody>\n",
       "    <tr>\n",
       "      <th>0</th>\n",
       "      <td>63</td>\n",
       "    </tr>\n",
       "  </tbody>\n",
       "</table>\n",
       "</div>"
      ],
      "text/plain": [
       "   count\n",
       "0     63"
      ]
     },
     "execution_count": 18,
     "metadata": {},
     "output_type": "execute_result"
    }
   ],
   "source": [
    "db.query_to_dataframe( 'SELECT COUNT(*) FROM categories;')"
   ]
  },
  {
   "cell_type": "code",
   "execution_count": 19,
   "metadata": {},
   "outputs": [
    {
     "data": {
      "text/html": [
       "<div>\n",
       "<table border=\"1\" class=\"dataframe\">\n",
       "  <thead>\n",
       "    <tr style=\"text-align: right;\">\n",
       "      <th></th>\n",
       "      <th>count</th>\n",
       "    </tr>\n",
       "  </thead>\n",
       "  <tbody>\n",
       "    <tr>\n",
       "      <th>0</th>\n",
       "      <td>124</td>\n",
       "    </tr>\n",
       "  </tbody>\n",
       "</table>\n",
       "</div>"
      ],
      "text/plain": [
       "   count\n",
       "0    124"
      ]
     },
     "execution_count": 19,
     "metadata": {},
     "output_type": "execute_result"
    }
   ],
   "source": [
    "db.query_to_dataframe( 'SELECT COUNT(*) FROM subcategories;')"
   ]
  },
  {
   "cell_type": "code",
   "execution_count": 8,
   "metadata": {},
   "outputs": [
    {
     "data": {
      "text/html": [
       "<div>\n",
       "<table border=\"1\" class=\"dataframe\">\n",
       "  <thead>\n",
       "    <tr style=\"text-align: right;\">\n",
       "      <th></th>\n",
       "      <th>count</th>\n",
       "    </tr>\n",
       "  </thead>\n",
       "  <tbody>\n",
       "    <tr>\n",
       "      <th>0</th>\n",
       "      <td>889</td>\n",
       "    </tr>\n",
       "  </tbody>\n",
       "</table>\n",
       "</div>"
      ],
      "text/plain": [
       "   count\n",
       "0    889"
      ]
     },
     "execution_count": 8,
     "metadata": {},
     "output_type": "execute_result"
    }
   ],
   "source": [
    "db.query_to_dataframe( 'SELECT COUNT(*) FROM page_category;')"
   ]
  },
  {
   "cell_type": "code",
   "execution_count": null,
   "metadata": {
    "collapsed": true
   },
   "outputs": [],
   "source": [
    "db.clear_table( 'pages' )\n",
    "db.clear_table( 'categories' )\n",
    "db.clear_table( 'subcategories' )\n",
    "db.clear_table( 'page_category' )"
   ]
  },
  {
   "cell_type": "code",
   "execution_count": null,
   "metadata": {},
   "outputs": [],
   "source": [
    "download( ['machine learning'], depth = 0) "
   ]
  },
  {
   "cell_type": "code",
   "execution_count": 12,
   "metadata": {},
   "outputs": [
    {
     "name": "stdout",
     "output_type": "stream",
     "text": [
      "Gathering page information from Category: business software, pages from nested sub-categories (+0 levels) will be included as a union for each category. \n",
      "\tTotal categories after recursive search: 33\n",
      "\tRequesting 1540 unique articles - ETA: 16.97 minutes\n",
      "\t\tPage collection  took a total of 15.97 minutes\n",
      "\t\t\tUpdating pages table:\n",
      "\t\t\t\tCollecting text for 1540 articles\n",
      "\t\t\tUpdating categories table\n",
      "\t\t\tUpdating subcategories table\n",
      "\t\t\tUpdating page-category (link) table\n",
      "\t\t\tArticle colletion took a total of business software minutes.\n",
      "___________________________________________________________________________\n"
     ]
    }
   ],
   "source": [
    "\n",
    "start = datetime.now()\n",
    "download( ['business software'], depth = 0) "
   ]
  },
  {
   "cell_type": "code",
   "execution_count": 14,
   "metadata": {
    "collapsed": true
   },
   "outputs": [],
   "source": [
    "timeduration = round((datetime.now()-start).seconds/60,2) ## minutes"
   ]
  },
  {
   "cell_type": "code",
   "execution_count": 15,
   "metadata": {},
   "outputs": [
    {
     "data": {
      "text/plain": [
       "36.65"
      ]
     },
     "execution_count": 15,
     "metadata": {},
     "output_type": "execute_result"
    }
   ],
   "source": [
    "timeduration"
   ]
  },
  {
   "cell_type": "code",
   "execution_count": null,
   "metadata": {
    "collapsed": true
   },
   "outputs": [],
   "source": []
  }
 ],
 "metadata": {
  "kernelspec": {
   "display_name": "Python 3",
   "language": "python",
   "name": "python3"
  },
  "language_info": {
   "codemirror_mode": {
    "name": "ipython",
    "version": 3
   },
   "file_extension": ".py",
   "mimetype": "text/x-python",
   "name": "python",
   "nbconvert_exporter": "python",
   "pygments_lexer": "ipython3",
   "version": "3.6.2"
  }
 },
 "nbformat": 4,
 "nbformat_minor": 2
}
