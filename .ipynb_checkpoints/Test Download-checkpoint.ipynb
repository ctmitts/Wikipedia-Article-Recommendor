{
 "cells": [
  {
   "cell_type": "code",
   "execution_count": null,
   "metadata": {
    "collapsed": true
   },
   "outputs": [],
   "source": [
    "!ls"
   ]
  },
  {
   "cell_type": "code",
   "execution_count": 1,
   "metadata": {
    "collapsed": true
   },
   "outputs": [],
   "source": [
    "from datetime import datetime"
   ]
  },
  {
   "cell_type": "code",
   "execution_count": 2,
   "metadata": {
    "collapsed": true
   },
   "outputs": [],
   "source": [
    "\n",
    "start=datetime.now()\n",
    "\n",
    "#Statements\n",
    "\n",
    "#print datetime.now()-start"
   ]
  },
  {
   "cell_type": "code",
   "execution_count": 3,
   "metadata": {
    "collapsed": true
   },
   "outputs": [],
   "source": [
    "\n",
    "\n",
    "cat = 'machine learning'"
   ]
  },
  {
   "cell_type": "code",
   "execution_count": 7,
   "metadata": {},
   "outputs": [
    {
     "name": "stdout",
     "output_type": "stream",
     "text": [
      "Article colletion for Category: machine learning took a total of 0:02:44.964646 minutes.\n"
     ]
    }
   ],
   "source": [
    "timeduration = datetime.now()-start\n",
    "print('Article colletion for Category: {} took a total of {} minutes.'.format( cat, timeduration ) )"
   ]
  },
  {
   "cell_type": "code",
   "execution_count": 8,
   "metadata": {
    "collapsed": true
   },
   "outputs": [],
   "source": [
    "!pip install --quiet psycopg2"
   ]
  },
  {
   "cell_type": "code",
   "execution_count": 9,
   "metadata": {
    "collapsed": true
   },
   "outputs": [],
   "source": [
    "!pip install --quiet wikipedia"
   ]
  },
  {
   "cell_type": "code",
   "execution_count": 10,
   "metadata": {
    "collapsed": true
   },
   "outputs": [],
   "source": [
    "import download as d\n",
    "import database as db\n",
    "import re"
   ]
  },
  {
   "cell_type": "markdown",
   "metadata": {},
   "source": [
    "## Request Category and Collect articles, then Build database"
   ]
  },
  {
   "cell_type": "code",
   "execution_count": 12,
   "metadata": {},
   "outputs": [
    {
     "name": "stdout",
     "output_type": "stream",
     "text": [
      "Collecting Wikipedia pages for Category: (['machine learning', 'business software'],)\n",
      "\tCollecting nested categories (depth = 1)\n",
      "\tGathering associated pageids\n",
      "Updating pages table: Collecting text for 1304 articles\n",
      "Updating categories table\n",
      "Updating subcategories table\n",
      "Updating page-category (link) table\n",
      "Article colletion for Category: machine learning took a total of 0:14:51.158860 minutes.\n",
      "Collecting Wikipedia pages for Category: (['machine learning', 'business software'],)\n",
      "\tCollecting nested categories (depth = 1)\n",
      "\tGathering associated pageids\n",
      "Updating pages table: Collecting text for 4218 articles\n",
      "Updating categories table\n",
      "Updating subcategories table\n",
      "Updating page-category (link) table\n",
      "Article colletion for Category: business software took a total of 0:47:25.625577 minutes.\n"
     ]
    }
   ],
   "source": [
    "d.download( ['machine learning', 'business software'], depth = 1)"
   ]
  },
  {
   "cell_type": "code",
   "execution_count": null,
   "metadata": {
    "collapsed": true
   },
   "outputs": [],
   "source": []
  },
  {
   "cell_type": "code",
   "execution_count": null,
   "metadata": {
    "collapsed": true
   },
   "outputs": [],
   "source": []
  },
  {
   "cell_type": "markdown",
   "metadata": {},
   "source": [
    "### Instead of saving articles to dataframe then putting into database, only grab subcategories, page ids, and then directly put article in database"
   ]
  },
  {
   "cell_type": "code",
   "execution_count": null,
   "metadata": {
    "collapsed": true
   },
   "outputs": [],
   "source": [
    "## Done \n",
    "d.download( 'machine learning', 1)"
   ]
  },
  {
   "cell_type": "code",
   "execution_count": null,
   "metadata": {},
   "outputs": [
    {
     "name": "stdout",
     "output_type": "stream",
     "text": [
      "Collecting Wikipedia pages for Category: business software\n",
      "\tCollecting nested categories (depth = 1)\n",
      "\tGathering associated pageids\n",
      "\tGrabbing text for each pageid, applying cleaner to article and title\n"
     ]
    }
   ],
   "source": [
    "d.download( 'business software', 1)"
   ]
  },
  {
   "cell_type": "code",
   "execution_count": 2,
   "metadata": {},
   "outputs": [
    {
     "name": "stdout",
     "output_type": "stream",
     "text": [
      "\tHelp is on the way\n"
     ]
    }
   ],
   "source": [
    "print(\"\\tHelp is on the way\")"
   ]
  },
  {
   "cell_type": "markdown",
   "metadata": {},
   "source": [
    "## Build database from pickle files"
   ]
  },
  {
   "cell_type": "code",
   "execution_count": null,
   "metadata": {
    "collapsed": true
   },
   "outputs": [],
   "source": [
    "d.download( 'machine learning', 1, pickle = 'ml_cleaned.p')"
   ]
  },
  {
   "cell_type": "code",
   "execution_count": null,
   "metadata": {
    "collapsed": true
   },
   "outputs": [],
   "source": [
    "d.download( 'business software', 1, pickle = 'bs_cleaned.p')"
   ]
  },
  {
   "cell_type": "markdown",
   "metadata": {},
   "source": [
    "## Query Database"
   ]
  },
  {
   "cell_type": "code",
   "execution_count": 13,
   "metadata": {},
   "outputs": [
    {
     "data": {
      "text/plain": [
       "\"SELECT stuff.category, stuff.subcategory, pc.pageid FROM (SELECT category, subcategory, subcategory_id FROM subcategories sc JOIN categories c ON sc.category_id = c.category_id WHERE category IN ('machine learning', 'business software') ) as stuff JOIN page_category pc ON stuff.subcategory_id = pc.subcategory_id\""
      ]
     },
     "execution_count": 13,
     "metadata": {},
     "output_type": "execute_result"
    }
   ],
   "source": [
    "inner = db.category_query( ('machine learning', 'business software') )\n",
    "inner"
   ]
  },
  {
   "cell_type": "code",
   "execution_count": 26,
   "metadata": {},
   "outputs": [
    {
     "data": {
      "text/plain": [
       "\"SELECT category, COUNT( DISTINCT subcategory) AS n_categories, COUNT( DISTINCT p.title) AS n_articles FROM (SELECT stuff.category, stuff.subcategory, pc.pageid FROM (SELECT category, subcategory, subcategory_id FROM subcategories sc JOIN categories c ON sc.category_id = c.category_id WHERE category IN ('machine learning', 'business software') ) as stuff JOIN page_category pc ON stuff.subcategory_id = pc.subcategory_id) as crap JOIN pages p ON crap.pageid = p.pageid GROUP BY category;\""
      ]
     },
     "execution_count": 26,
     "metadata": {},
     "output_type": "execute_result"
    }
   ],
   "source": [
    "query = \"\"\"SELECT category, COUNT( DISTINCT subcategory) AS n_categories, COUNT( DISTINCT p.title) AS n_articles\n",
    "           FROM ({}) as crap \n",
    "           JOIN pages p \n",
    "           ON crap.pageid = p.pageid\n",
    "           GROUP BY category;\"\"\".format(inner)\n",
    "query = re.sub(\"\\s+\", \" \", query)\n",
    "query"
   ]
  },
  {
   "cell_type": "code",
   "execution_count": 27,
   "metadata": {},
   "outputs": [
    {
     "data": {
      "text/html": [
       "<div>\n",
       "<table border=\"1\" class=\"dataframe\">\n",
       "  <thead>\n",
       "    <tr style=\"text-align: right;\">\n",
       "      <th></th>\n",
       "      <th>category</th>\n",
       "      <th>n_articles</th>\n",
       "      <th>n_categories</th>\n",
       "    </tr>\n",
       "  </thead>\n",
       "  <tbody>\n",
       "    <tr>\n",
       "      <th>0</th>\n",
       "      <td>business software</td>\n",
       "      <td>3274</td>\n",
       "      <td>129</td>\n",
       "    </tr>\n",
       "    <tr>\n",
       "      <th>1</th>\n",
       "      <td>machine learning</td>\n",
       "      <td>1091</td>\n",
       "      <td>48</td>\n",
       "    </tr>\n",
       "  </tbody>\n",
       "</table>\n",
       "</div>"
      ],
      "text/plain": [
       "            category  n_articles  n_categories\n",
       "0  business software        3274           129\n",
       "1   machine learning        1091            48"
      ]
     },
     "execution_count": 27,
     "metadata": {},
     "output_type": "execute_result"
    }
   ],
   "source": [
    "db.query_to_dataframe(query)"
   ]
  },
  {
   "cell_type": "code",
   "execution_count": null,
   "metadata": {
    "collapsed": true
   },
   "outputs": [],
   "source": [
    "db.query_to_dataframe(query)"
   ]
  },
  {
   "cell_type": "code",
   "execution_count": null,
   "metadata": {
    "collapsed": true
   },
   "outputs": [],
   "source": [
    "# 'business software' 4758\n",
    "# 'machine learning' 1091"
   ]
  },
  {
   "cell_type": "code",
   "execution_count": 20,
   "metadata": {},
   "outputs": [
    {
     "data": {
      "text/plain": [
       "\"SELECT category, COUNT( DISTINCT subcategory) FROM (SELECT stuff.category, stuff.subcategory, pc.pageid FROM (SELECT category, subcategory, subcategory_id FROM subcategories sc JOIN categories c ON sc.category_id = c.category_id WHERE category IN ('machine learning', 'business software') ) as stuff JOIN page_category pc ON stuff.subcategory_id = pc.subcategory_id) as crap JOIN pages p ON crap.pageid = p.pageid GROUP BY category;\""
      ]
     },
     "execution_count": 20,
     "metadata": {},
     "output_type": "execute_result"
    }
   ],
   "source": [
    "query = \"\"\"SELECT category, COUNT( DISTINCT subcategory)\n",
    "           FROM ({}) as crap \n",
    "           JOIN pages p \n",
    "           ON crap.pageid = p.pageid\n",
    "           GROUP BY category;\"\"\".format(inner)\n",
    "query = re.sub(\"\\s+\", \" \", query)\n",
    "query\n",
    "\n",
    "#, COUNT( DISTINCT p.title) "
   ]
  },
  {
   "cell_type": "code",
   "execution_count": 21,
   "metadata": {},
   "outputs": [
    {
     "data": {
      "text/html": [
       "<div>\n",
       "<table border=\"1\" class=\"dataframe\">\n",
       "  <thead>\n",
       "    <tr style=\"text-align: right;\">\n",
       "      <th></th>\n",
       "      <th>category</th>\n",
       "      <th>count</th>\n",
       "    </tr>\n",
       "  </thead>\n",
       "  <tbody>\n",
       "    <tr>\n",
       "      <th>0</th>\n",
       "      <td>business software</td>\n",
       "      <td>129</td>\n",
       "    </tr>\n",
       "    <tr>\n",
       "      <th>1</th>\n",
       "      <td>machine learning</td>\n",
       "      <td>48</td>\n",
       "    </tr>\n",
       "  </tbody>\n",
       "</table>\n",
       "</div>"
      ],
      "text/plain": [
       "            category  count\n",
       "0  business software    129\n",
       "1   machine learning     48"
      ]
     },
     "execution_count": 21,
     "metadata": {},
     "output_type": "execute_result"
    }
   ],
   "source": [
    "db.query_to_dataframe( query)"
   ]
  },
  {
   "cell_type": "code",
   "execution_count": null,
   "metadata": {
    "collapsed": true
   },
   "outputs": [],
   "source": [
    "db.query_to_dataframe( \"SELECT title, article FROM pages LIMIT 5;\")"
   ]
  },
  {
   "cell_type": "code",
   "execution_count": 28,
   "metadata": {},
   "outputs": [],
   "source": [
    "def print_cats( *categories, pickle = False):\n",
    "    for cat in list(*categories):\n",
    "        print( cat)"
   ]
  },
  {
   "cell_type": "code",
   "execution_count": 29,
   "metadata": {},
   "outputs": [
    {
     "name": "stdout",
     "output_type": "stream",
     "text": [
      "machine learning\n",
      "business software\n"
     ]
    }
   ],
   "source": [
    "print_cats( ['machine learning', 'business software'])"
   ]
  },
  {
   "cell_type": "code",
   "execution_count": null,
   "metadata": {
    "collapsed": true
   },
   "outputs": [],
   "source": []
  }
 ],
 "metadata": {
  "kernelspec": {
   "display_name": "Python 3",
   "language": "python",
   "name": "python3"
  },
  "language_info": {
   "codemirror_mode": {
    "name": "ipython",
    "version": 3
   },
   "file_extension": ".py",
   "mimetype": "text/x-python",
   "name": "python",
   "nbconvert_exporter": "python",
   "pygments_lexer": "ipython3",
   "version": "3.6.2"
  }
 },
 "nbformat": 4,
 "nbformat_minor": 2
}
