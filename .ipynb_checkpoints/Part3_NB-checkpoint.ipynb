{
 "cells": [
  {
   "cell_type": "code",
   "execution_count": 1,
   "metadata": {
    "collapsed": true
   },
   "outputs": [],
   "source": [
    "import request_category as rc\n",
    "import database as db\n",
    "from download import download\n",
    "\n",
    "import pickle\n",
    "from pathlib import Path\n",
    "import re\n",
    "\n",
    "import pandas as pd\n",
    "import numpy as np\n",
    "from datetime import datetime\n",
    "import matplotlib.pyplot as plt\n",
    "\n",
    "import sklearn.externals.joblib\n",
    "%matplotlib inline"
   ]
  },
  {
   "cell_type": "code",
   "execution_count": null,
   "metadata": {
    "collapsed": true
   },
   "outputs": [],
   "source": []
  },
  {
   "cell_type": "code",
   "execution_count": null,
   "metadata": {},
   "outputs": [],
   "source": [
    "ml_query = db.query_pages_by_category( 'machine learning')\n",
    "bs_query = db.query_pages_by_category( 'business software')"
   ]
  },
  {
   "cell_type": "code",
   "execution_count": null,
   "metadata": {},
   "outputs": [],
   "source": [
    "pages_query = \"\"\"SELECT b.category, b.subcategory, b.title, b.pageid, b.article\n",
    "                 FROM (({}) UNION ({}) ) as b;\"\"\".format( ml_query, bs_query)\n",
    "\n",
    "pages_df = db.query_to_dataframe( pages_query)\n",
    "pages_df.shape  # shape = (2425, 3) Before adding category and subcategory\n",
    "                ## shape = (2768, 3) after adding Distinct category and subcategory in outer query\n"
   ]
  },
  {
   "cell_type": "code",
   "execution_count": 3,
   "metadata": {},
   "outputs": [
    {
     "data": {
      "text/plain": [
       "\"SELECT crap_ml.category, crap_ml.subcategory, p.pageid, p.title, p.article FROM (SELECT stuff.category, stuff.subcategory, pc.pageid FROM ( SELECT category, subcategory, subcategory_id FROM subcategories sc JOIN categories c ON sc.category_id = c.category_id WHERE category ='machine learning' ) as stuff JOIN page_category pc ON stuff.subcategory_id = pc.subcategory_id ) as crap_ml JOIN pages p ON crap_ml.pageid = p.pageid \""
      ]
     },
     "execution_count": 3,
     "metadata": {},
     "output_type": "execute_result"
    }
   ],
   "source": [
    "## Machine learning - Grab all the unique articles with title and pageid\n",
    "\n",
    "inner_ml = \"\"\"SELECT stuff.category, stuff.subcategory, pc.pageid \n",
    "              FROM ( SELECT category, subcategory, subcategory_id \n",
    "                     FROM subcategories sc \n",
    "                         JOIN categories c \n",
    "                         ON sc.category_id = c.category_id \n",
    "                     WHERE category ='machine learning' ) as stuff \n",
    "              JOIN page_category pc \n",
    "              ON stuff.subcategory_id = pc.subcategory_id             \n",
    "              \"\"\"  #               HAVING COUNT(pc.pageid) = 1 ,        \n",
    "\n",
    "ml_pages_query = \"\"\"SELECT crap_ml.category, crap_ml.subcategory, p.pageid, p.title, p.article\n",
    "                    FROM ({}) as crap_ml\n",
    "                    JOIN pages p\n",
    "                    ON crap_ml.pageid = p.pageid\n",
    "                    \n",
    "                \"\"\".format( inner_ml) # LIMIT 1000  ## GROUP BY crap_ml.category, crap_ml.subcategory, p.pageid\n",
    "                    #HAVING COUNT( crap_ml.pageid) = 1, DISTINCT,  crap_ml.subcategory,\n",
    "ml_pages_query = re.sub( \"\\s+\",\" \", ml_pages_query)\n",
    "ml_pages_query\n"
   ]
  },
  {
   "cell_type": "code",
   "execution_count": 4,
   "metadata": {},
   "outputs": [
    {
     "data": {
      "text/plain": [
       "\"SELECT crap_bs.category, crap_bs.subcategory, p.pageid, p.title, p.article FROM (SELECT stuff.category, stuff.subcategory, pc.pageid FROM ( SELECT category, subcategory, subcategory_id FROM subcategories sc JOIN categories c ON sc.category_id = c.category_id WHERE category ='business software' ) as stuff JOIN page_category pc ON stuff.subcategory_id = pc.subcategory_id ) as crap_bs JOIN pages p ON crap_bs.pageid = p.pageid \""
      ]
     },
     "execution_count": 4,
     "metadata": {},
     "output_type": "execute_result"
    }
   ],
   "source": [
    "## Business Software - Grab all the unique articles with title and pageid\n",
    "#inner_bs = db.category_query( ('\\'business software\\''))\n",
    "inner_bs = \"\"\"SELECT stuff.category, stuff.subcategory, pc.pageid \n",
    "                        FROM ( SELECT category, subcategory, subcategory_id \n",
    "                               FROM subcategories sc \n",
    "                                   JOIN categories c \n",
    "                                   ON sc.category_id = c.category_id \n",
    "                               WHERE category ='business software' ) as stuff \n",
    "                        JOIN page_category pc \n",
    "                        ON stuff.subcategory_id = pc.subcategory_id\n",
    "                        \"\"\"   #  GROUP BY stuff.category, stuff.subcategory, pc.pageid\n",
    "\n",
    "bs_pages_query = \"\"\"SELECT crap_bs.category, crap_bs.subcategory, p.pageid, p.title, p.article\n",
    "                    FROM ({}) as crap_bs\n",
    "                    JOIN pages p\n",
    "                    ON crap_bs.pageid = p.pageid\n",
    "                    \n",
    "                 \"\"\".format(inner_bs)  ## DISTINCT, LIMIT 1000, HAVING COUNT(crap_bs.pageid) = 1, crap_bs.category, crap_bs.subcategory,\n",
    "bs_pages_query = re.sub( \"\\s+\",\" \", bs_pages_query)\n",
    "bs_pages_query"
   ]
  },
  {
   "cell_type": "code",
   "execution_count": 5,
   "metadata": {},
   "outputs": [
    {
     "data": {
      "text/plain": [
       "(2768, 5)"
      ]
     },
     "execution_count": 5,
     "metadata": {},
     "output_type": "execute_result"
    }
   ],
   "source": [
    "pages_query = \"\"\"SELECT b.category, b.subcategory, b.title, b.pageid, b.article\n",
    "                 FROM (({}) UNION ({}) ) as b;\"\"\".format( ml_pages_query, bs_pages_query)\n",
    "\n",
    "pages_df = db.query_to_dataframe( pages_query)\n",
    "pages_df.shape  # shape = (2425, 3) Before adding category and subcategory\n",
    "                ## shape = (2768, 3) after adding Distinct category and subcategory in outer query\n"
   ]
  },
  {
   "cell_type": "code",
   "execution_count": null,
   "metadata": {
    "collapsed": true
   },
   "outputs": [],
   "source": []
  },
  {
   "cell_type": "code",
   "execution_count": 6,
   "metadata": {
    "collapsed": true
   },
   "outputs": [],
   "source": [
    "from sklearn.model_selection import train_test_split\n",
    "\n",
    "from sklearn.preprocessing import LabelBinarizer, LabelEncoder\n",
    "\n",
    "from sklearn.feature_extraction.text import CountVectorizer, TfidfVectorizer\n",
    "from sklearn.naive_bayes import MultinomialNB\n",
    "\n",
    "from sklearn.decomposition import TruncatedSVD, NMF\n",
    "\n",
    "from sklearn.pipeline import Pipeline\n",
    "from sklearn.model_selection import GridSearchCV, StratifiedShuffleSplit\n",
    "from sklearn.linear_model import LogisticRegression"
   ]
  },
  {
   "cell_type": "code",
   "execution_count": 7,
   "metadata": {},
   "outputs": [],
   "source": [
    "X = pages_df['article'].copy()\n",
    "\n",
    "encoder = LabelEncoder()\n",
    "y = encoder.fit_transform( pages_df['category'] )\n",
    "X_train, X_test, y_train, y_test = train_test_split( X, y, random_state = 42)"
   ]
  },
  {
   "cell_type": "markdown",
   "metadata": {},
   "source": [
    "## Logistic Regression"
   ]
  },
  {
   "cell_type": "code",
   "execution_count": null,
   "metadata": {
    "collapsed": true
   },
   "outputs": [],
   "source": [
    "gs_lr_pipe = sklearn.externals.joblib.load( './LogitModel1.p')"
   ]
  },
  {
   "cell_type": "code",
   "execution_count": null,
   "metadata": {},
   "outputs": [],
   "source": [
    "gs_lr_pipe.score( X_train, y_train)"
   ]
  },
  {
   "cell_type": "code",
   "execution_count": null,
   "metadata": {},
   "outputs": [],
   "source": [
    "gs_lr_pipe.score( X_test, y_test)"
   ]
  },
  {
   "cell_type": "code",
   "execution_count": null,
   "metadata": {
    "collapsed": true
   },
   "outputs": [],
   "source": []
  },
  {
   "cell_type": "code",
   "execution_count": null,
   "metadata": {},
   "outputs": [],
   "source": [
    "search_doc, pageid = rc.get_article('Brain')\n",
    "search_doc = rc.cleaner( search_doc)\n",
    "##print( pageid )\n",
    "search_doc[0:200]"
   ]
  },
  {
   "cell_type": "code",
   "execution_count": null,
   "metadata": {},
   "outputs": [],
   "source": [
    "gs_lr_pipe.predict_proba([search_doc])  ## 'Brain'"
   ]
  },
  {
   "cell_type": "code",
   "execution_count": null,
   "metadata": {},
   "outputs": [],
   "source": [
    "gs_lr_pipe.predict_proba([search_doc])  ## 'Saffton Technology'"
   ]
  },
  {
   "cell_type": "code",
   "execution_count": null,
   "metadata": {
    "collapsed": true
   },
   "outputs": [],
   "source": []
  },
  {
   "cell_type": "code",
   "execution_count": null,
   "metadata": {
    "collapsed": true
   },
   "outputs": [],
   "source": []
  },
  {
   "cell_type": "code",
   "execution_count": null,
   "metadata": {
    "collapsed": true
   },
   "outputs": [],
   "source": []
  },
  {
   "cell_type": "code",
   "execution_count": null,
   "metadata": {},
   "outputs": [],
   "source": [
    "pages_df.head()"
   ]
  },
  {
   "cell_type": "code",
   "execution_count": null,
   "metadata": {
    "collapsed": true
   },
   "outputs": [],
   "source": []
  },
  {
   "cell_type": "code",
   "execution_count": null,
   "metadata": {
    "collapsed": true
   },
   "outputs": [],
   "source": []
  },
  {
   "cell_type": "code",
   "execution_count": null,
   "metadata": {},
   "outputs": [],
   "source": []
  },
  {
   "cell_type": "code",
   "execution_count": null,
   "metadata": {},
   "outputs": [],
   "source": [
    "nb_pipe = Pipeline([\n",
    "    #('encoder', CountVectorizer()),\n",
    "    \n",
    "    ('encoder', TfidfVectorizer(ngram_range = (1,2),\n",
    "                             min_df = 3, max_df = .9, \n",
    "                             stop_words = 'english')),\n",
    "    #('truncator',TruncatedSVD(n_components=700) ),\n",
    "    ('truncator',NMF(n_components=300, random_state=42) ),\n",
    "    ('model', MultinomialNB())\n",
    "])\n",
    "\n",
    "nb_params = {\n",
    "    'model__alpha':np.linspace(.1,1,2)\n",
    "}\n",
    "\n",
    "gs_nb_pipe = GridSearchCV(nb_pipe, param_grid=nb_params, cv=5) ## StratifiedShuffleSplit(n_splits=5)\n",
    "\n",
    "gs_nb_pipe.fit(X_train,y_train)\n",
    "\n",
    "gs_nb_pipe.best_score_"
   ]
  },
  {
   "cell_type": "code",
   "execution_count": null,
   "metadata": {
    "collapsed": true
   },
   "outputs": [],
   "source": [
    "gs_nb_pipe.score( X_train, y_train)"
   ]
  },
  {
   "cell_type": "code",
   "execution_count": null,
   "metadata": {
    "collapsed": true
   },
   "outputs": [],
   "source": [
    "gs_nb_pipe.score( X_test, y_test)"
   ]
  },
  {
   "cell_type": "code",
   "execution_count": null,
   "metadata": {
    "collapsed": true
   },
   "outputs": [],
   "source": []
  },
  {
   "cell_type": "code",
   "execution_count": null,
   "metadata": {
    "collapsed": true
   },
   "outputs": [],
   "source": [
    "article_text, pageid = rc.get_article( 'Saffron Technology')\n",
    "article_te"
   ]
  }
 ],
 "metadata": {
  "kernelspec": {
   "display_name": "Python 3",
   "language": "python",
   "name": "python3"
  },
  "language_info": {
   "codemirror_mode": {
    "name": "ipython",
    "version": 3
   },
   "file_extension": ".py",
   "mimetype": "text/x-python",
   "name": "python",
   "nbconvert_exporter": "python",
   "pygments_lexer": "ipython3",
   "version": "3.6.2"
  }
 },
 "nbformat": 4,
 "nbformat_minor": 2
}
