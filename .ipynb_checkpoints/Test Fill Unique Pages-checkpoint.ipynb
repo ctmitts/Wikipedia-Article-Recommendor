{
 "cells": [
  {
   "cell_type": "code",
   "execution_count": null,
   "metadata": {},
   "outputs": [],
   "source": [
    "import request_category as rc\n",
    "import database as db\n",
    "import pandas as pd\n",
    "import numpy as np\n",
    "from datetime import datetime\n",
    "import pickle\n",
    "import re\n",
    "from pathlib import Path\n",
    "\n",
    "#from sklearn.metrics.pairwise import pairwise_distances\n"
   ]
  },
  {
   "cell_type": "code",
   "execution_count": null,
   "metadata": {
    "collapsed": true
   },
   "outputs": [],
   "source": [
    "##df_tup = (category_pages_df, unique_pages_df, categories_df, subcategories_df, subcat_page_df)"
   ]
  },
  {
   "cell_type": "code",
   "execution_count": null,
   "metadata": {},
   "outputs": [],
   "source": [
    "ml_df_tup = rc.fill_unique_pages( 'machine learning', depth = 1, grab = True)\n",
    "\n",
    "##df_tup = (category_pages_df, unique_pages_df, categories_df, subcategories_df, subcat_page_df)"
   ]
  },
  {
   "cell_type": "code",
   "execution_count": null,
   "metadata": {
    "collapsed": true
   },
   "outputs": [],
   "source": [
    "ml_df_tup"
   ]
  },
  {
   "cell_type": "code",
   "execution_count": null,
   "metadata": {
    "collapsed": true
   },
   "outputs": [],
   "source": []
  },
  {
   "cell_type": "code",
   "execution_count": null,
   "metadata": {
    "collapsed": true
   },
   "outputs": [],
   "source": [
    "df_tup = (category_pages_df, unique_pages_df, categories_df, subcategories_df, subcat_page_df)\n",
    "\n",
    "category_pages_df1, unique_pages_df1, categories_df1, subcategories_df1, subcat_page_df1 = df_tup"
   ]
  },
  {
   "cell_type": "code",
   "execution_count": 12,
   "metadata": {},
   "outputs": [
    {
     "data": {
      "text/plain": [
       "array([[ 0.61691182,  0.46660144],\n",
       "       [ 0.26872895,  0.11346357],\n",
       "       [ 0.89595414,  0.33947004]])"
      ]
     },
     "execution_count": 12,
     "metadata": {},
     "output_type": "execute_result"
    }
   ],
   "source": [
    "arrayz = np.random.random(6)\n",
    "arrayz = arrayz.reshape(3,2)\n",
    "\n",
    "zdf = pd.DataFrame( arrayz, columns = ['r1', 'r2'])\n",
    "\n",
    "df_tup = (zdf, zdf, zdf, zdf)"
   ]
  },
  {
   "cell_type": "code",
   "execution_count": 9,
   "metadata": {
    "collapsed": true
   },
   "outputs": [],
   "source": [
    "## Load pickle\n",
    "with open( pickle_path, 'rb') as f:\n",
    "    df_tup = pickle.load( f)"
   ]
  },
  {
   "cell_type": "code",
   "execution_count": null,
   "metadata": {},
   "outputs": [],
   "source": [
    "## create pickle\n",
    "with open( pickle_path, 'wb') as f:\n",
    "    pickle.dump( df_tup, f)\n",
    "\n",
    "\n",
    "## Load pickle\n",
    "with open( pickle_path, 'rb') as f:\n",
    "    df_tup = pickle.load( f)"
   ]
  },
  {
   "cell_type": "code",
   "execution_count": null,
   "metadata": {},
   "outputs": [],
   "source": [
    "from pathlib import Path\n",
    "\n",
    "pickle_path = './docker/postgres/data/' + re.sub( ' ', '_', category) + '_dfs.p'\n",
    "\n",
    "pickle_file = pickle_path.split('data/')[1]\n",
    "\n",
    "my_file = Path(pickle_path)\n",
    "if my_file.is_file():\n",
    "    #directory = pickle_path.split('data/')\n",
    "    ## Load pickle\n",
    "    with open( pickle_path, 'rb') as f:\n",
    "        df_tup = pickle.load( f)\n",
    "    print( 'Pickled file exists: {}'.format( pickle_file))"
   ]
  },
  {
   "cell_type": "code",
   "execution_count": 35,
   "metadata": {},
   "outputs": [],
   "source": [
    "from pathlib import Path\n",
    "import re\n",
    "\n",
    "def test_fcn( cat, pckle = False):\n",
    "    pickle_path = './docker/postgres/data/' + re.sub( ' ', '_', cat) + '_dfs.p'\n",
    "    pickle_file = Path( pickle_path)\n",
    "    if pckle and pickle_file.is_file():\n",
    "        print( 'here')\n",
    "        ## Load pickle\n",
    "        with open( pickle_path, 'rb') as f:\n",
    "            df_tup = pickle.load( f)\n",
    "        \n",
    "        pickle_file_name = pickle_path.split('data/')[1]\n",
    "\n",
    "        print( \"Pickle file exists, ({}) and it's loaded!\".format( pickle_file_name))\n",
    "        return df_tup\n",
    "   \n",
    "    elif pckle:\n",
    "        print( 'No Pickle file in directory.')\n",
    "        return (None, None, None, None)\n",
    "    else:\n",
    "        print( 'Collecting Stuff!')\n",
    "        return 1,2,3,4"
   ]
  },
  {
   "cell_type": "code",
   "execution_count": 43,
   "metadata": {},
   "outputs": [
    {
     "name": "stdout",
     "output_type": "stream",
     "text": [
      "No Pickle file in directory.\n"
     ]
    }
   ],
   "source": [
    "df_tup = test_fcn( 'crap', pckle = True ) #  machine learning\n",
    "\n",
    "a, b, c, d = df_tup"
   ]
  },
  {
   "cell_type": "code",
   "execution_count": 41,
   "metadata": {},
   "outputs": [
    {
     "data": {
      "text/plain": [
       "(1, 2, 3, 4)"
      ]
     },
     "execution_count": 41,
     "metadata": {},
     "output_type": "execute_result"
    }
   ],
   "source": [
    "a,b,c,d# = df_tup\n",
    "#a"
   ]
  },
  {
   "cell_type": "code",
   "execution_count": null,
   "metadata": {
    "collapsed": true
   },
   "outputs": [],
   "source": []
  },
  {
   "cell_type": "code",
   "execution_count": null,
   "metadata": {
    "collapsed": true
   },
   "outputs": [],
   "source": []
  },
  {
   "cell_type": "code",
   "execution_count": null,
   "metadata": {
    "collapsed": true
   },
   "outputs": [],
   "source": [
    "category_pages_df, unique_pages_df, categories_df, subcategories_df, subcat_page_df = df_tup\n",
    "\n",
    "df_tup = ( category_pages_df, unique_pages_df, categories_df, subcategories_df, subcat_page_df )"
   ]
  },
  {
   "cell_type": "code",
   "execution_count": null,
   "metadata": {},
   "outputs": [],
   "source": [
    "category_pages_df.shape"
   ]
  },
  {
   "cell_type": "code",
   "execution_count": null,
   "metadata": {},
   "outputs": [],
   "source": [
    "## update all\n",
    "\n",
    "print(\"\\t\\t\\tUpdating page-category (link) table\")\n",
    "subcat_page_df = category_pages_df.drop_duplicates( subset = ['subcategory', 'pageid']).copy()\n",
    "print( subcat_page_df.shape)\n",
    "results = subcat_page_df.apply( lambda x: db.update_page_category_table( x.pageid, x.subcategory, x.category, display = False), axis = 1)"
   ]
  },
  {
   "cell_type": "code",
   "execution_count": null,
   "metadata": {},
   "outputs": [],
   "source": [
    "## update one at a time\n",
    "## db.update_page_category_table( 49082762, 'machine learning', 'machine learning', display = False)"
   ]
  },
  {
   "cell_type": "code",
   "execution_count": null,
   "metadata": {},
   "outputs": [],
   "source": [
    "db.query_to_dataframe('SELECT COUNT(*) FROM page_category;')"
   ]
  },
  {
   "cell_type": "code",
   "execution_count": null,
   "metadata": {
    "collapsed": true
   },
   "outputs": [],
   "source": [
    "#db.clear_table( 'page_category' )"
   ]
  },
  {
   "cell_type": "code",
   "execution_count": null,
   "metadata": {},
   "outputs": [],
   "source": [
    "unique_pages_df.tail(5)"
   ]
  },
  {
   "cell_type": "code",
   "execution_count": null,
   "metadata": {
    "collapsed": true
   },
   "outputs": [],
   "source": [
    "results = unique_pages_df.apply( lambda x: db.update_page_table( x.pageid, x.title), axis = 1)"
   ]
  },
  {
   "cell_type": "code",
   "execution_count": null,
   "metadata": {
    "collapsed": true
   },
   "outputs": [],
   "source": [
    "from download import download"
   ]
  },
  {
   "cell_type": "code",
   "execution_count": null,
   "metadata": {},
   "outputs": [],
   "source": [
    "download( ['business software'], depth = 3)"
   ]
  },
  {
   "cell_type": "code",
   "execution_count": null,
   "metadata": {
    "collapsed": true
   },
   "outputs": [],
   "source": []
  },
  {
   "cell_type": "code",
   "execution_count": null,
   "metadata": {
    "collapsed": true
   },
   "outputs": [],
   "source": []
  },
  {
   "cell_type": "code",
   "execution_count": null,
   "metadata": {
    "collapsed": true
   },
   "outputs": [],
   "source": [
    "db.query_to_dataframe('SELECT * FROM pages;')  #COUNT(*)"
   ]
  },
  {
   "cell_type": "code",
   "execution_count": null,
   "metadata": {},
   "outputs": [],
   "source": [
    "db.query_to_dataframe('SELECT COUNT(*) FROM categories;')"
   ]
  },
  {
   "cell_type": "code",
   "execution_count": null,
   "metadata": {},
   "outputs": [],
   "source": [
    "db.query_to_dataframe('SELECT COUNT(*) FROM subcategories;')"
   ]
  },
  {
   "cell_type": "code",
   "execution_count": null,
   "metadata": {},
   "outputs": [],
   "source": [
    "db.query_to_dataframe(\"SELECT subcategory_id FROM subcategories WHERE subcategory = 'machine learning' AND category_id = (SELECT category_id FROM categories WHERE category = 'machine learning');\")"
   ]
  },
  {
   "cell_type": "code",
   "execution_count": null,
   "metadata": {
    "collapsed": true
   },
   "outputs": [],
   "source": []
  },
  {
   "cell_type": "code",
   "execution_count": null,
   "metadata": {
    "collapsed": true
   },
   "outputs": [],
   "source": []
  },
  {
   "cell_type": "code",
   "execution_count": null,
   "metadata": {
    "collapsed": true
   },
   "outputs": [],
   "source": []
  },
  {
   "cell_type": "code",
   "execution_count": null,
   "metadata": {
    "collapsed": true
   },
   "outputs": [],
   "source": []
  },
  {
   "cell_type": "code",
   "execution_count": null,
   "metadata": {
    "collapsed": true
   },
   "outputs": [],
   "source": []
  },
  {
   "cell_type": "code",
   "execution_count": null,
   "metadata": {},
   "outputs": [],
   "source": [
    "unique_pages_df"
   ]
  },
  {
   "cell_type": "code",
   "execution_count": null,
   "metadata": {},
   "outputs": [],
   "source": [
    "unique_pages_df.subcategory.value_counts()  ## compare keeping 'first' to 'last'"
   ]
  },
  {
   "cell_type": "code",
   "execution_count": null,
   "metadata": {},
   "outputs": [],
   "source": [
    "ml_mask = category_pages_df['category'] == 'Artificial neural networks'  # machine learning"
   ]
  },
  {
   "cell_type": "code",
   "execution_count": null,
   "metadata": {},
   "outputs": [],
   "source": [
    "category_pages_df[ ml_mask].subcategory.value_counts()"
   ]
  },
  {
   "cell_type": "code",
   "execution_count": null,
   "metadata": {},
   "outputs": [],
   "source": [
    "category_pages_df.subcategory.drop()"
   ]
  },
  {
   "cell_type": "code",
   "execution_count": null,
   "metadata": {
    "collapsed": true
   },
   "outputs": [],
   "source": []
  }
 ],
 "metadata": {
  "kernelspec": {
   "display_name": "Python 3",
   "language": "python",
   "name": "python3"
  },
  "language_info": {
   "codemirror_mode": {
    "name": "ipython",
    "version": 3
   },
   "file_extension": ".py",
   "mimetype": "text/x-python",
   "name": "python",
   "nbconvert_exporter": "python",
   "pygments_lexer": "ipython3",
   "version": "3.6.2"
  }
 },
 "nbformat": 4,
 "nbformat_minor": 2
}
