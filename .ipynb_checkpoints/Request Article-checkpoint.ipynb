{
 "cells": [
  {
   "cell_type": "code",
   "execution_count": null,
   "metadata": {
    "collapsed": true
   },
   "outputs": [],
   "source": [
    "http://en.wikipedia.org/w/api.php?action=query&pageids=<your_pageid_here>&format=json"
   ]
  },
  {
   "cell_type": "code",
   "execution_count": null,
   "metadata": {
    "collapsed": true
   },
   "outputs": [],
   "source": [
    "import re\n",
    "import requests\n",
    "from datetime import datetime\n",
    "\n",
    "import request_category as rc"
   ]
  },
  {
   "cell_type": "markdown",
   "metadata": {},
   "source": [
    "`https://stackoverflow.com/questions/31462854/how-to-get-a-page-actual-content-using-page-id-in-wikipedia-api`\n",
    "<br>\n",
    "<br>\n",
    "Getting URL and then parsing get the URL of the wikipage by making an API call like http://en.wikipedia.org/w/api.php?action=query&prop=info&pageids=<your_pageid_here>&inprop=url\n",
    "\n",
    "then go to the URL and parse the text\n",
    "\n",
    "Get pagename and then the content\n",
    "\n",
    "Wikipedia API allows extraction of text if the pagename is known. But asyou know only the pageid for now, you will need to convert the pageid into pagename by using an API call like\n",
    "\n",
    "http://en.wikipedia.org/w/api.php?action=query&pageids=<your_pageid_here>&format=json\n",
    "\n",
    "This will give you the pagename, then you can make another API call to get the contents\n",
    "\n",
    "http://en.wikipedia.org/w/api.php?action=parse&prop=text&page=<your_pagename_here>&format=json"
   ]
  },
  {
   "cell_type": "code",
   "execution_count": null,
   "metadata": {
    "collapsed": true
   },
   "outputs": [],
   "source": [
    "api.php?action=query&prop=extracts&exchars=175&titles=Therion"
   ]
  },
  {
   "cell_type": "code",
   "execution_count": null,
   "metadata": {
    "collapsed": true
   },
   "outputs": [],
   "source": [
    "def get_article( pageid):# title\n",
    "    base_url = 'https://en.wikipedia.org/w/api.php'\n",
    "    action_tag = \"?action=parse&pageid={}&prop=text&format=json\".format( pageid) # &redirects=True\n",
    "    #&list=categorymembers&cmlimit=max\" ## fetch all category members (pages, subcategories)\n",
    "    #category_tag = '&cmtitle=Category:{}&cmtype={}&cmnamespace={}&format=json'.format( categoryF, ptype, nstype) ## append category to cat_tag\n",
    "    query = base_url + action_tag #+ category_tag# + parameters_tag ## concatenate base_url with request tags\n",
    "    return query\n",
    "    "
   ]
  },
  {
   "cell_type": "code",
   "execution_count": null,
   "metadata": {
    "collapsed": true
   },
   "outputs": [],
   "source": [
    "query = get_article( 15795950)\n",
    "r = requests.get( query)  ## request HTTP results\n",
    "response = r.json()\n",
    "response"
   ]
  },
  {
   "cell_type": "code",
   "execution_count": null,
   "metadata": {
    "collapsed": true
   },
   "outputs": [],
   "source": [
    "def find_article( page):# title or page id\n",
    "    \n",
    "    \n",
    "    \n",
    "    base_url = 'https://en.wikipedia.org/w/api.php'\n",
    "    action_tag = \"?action=query&prop=extracts&explaintext&pageids={}&format=json\".format( pageid) # &redirects=True\n",
    "    query = base_url + action_tag\n",
    "    \n",
    "    r = requests.get( query)  ## request HTTP results\n",
    "    response = r.json()\n",
    "    \n",
    "    try:\n",
    "        text = response['query']['pages'][str(pageid)]['extract']      \n",
    "    except:\n",
    "        return pd.DataFrame()  ## Empty\n",
    "    \n",
    "    return query\n",
    "    "
   ]
  },
  {
   "cell_type": "code",
   "execution_count": null,
   "metadata": {
    "collapsed": true
   },
   "outputs": [],
   "source": [
    "isinstance( 'Statistics', str)"
   ]
  },
  {
   "cell_type": "code",
   "execution_count": null,
   "metadata": {
    "collapsed": true
   },
   "outputs": [],
   "source": [
    "isinstance( 29509615, int)"
   ]
  },
  {
   "cell_type": "code",
   "execution_count": null,
   "metadata": {},
   "outputs": [],
   "source": [
    "search_term = 'statistics'\n",
    "rc.format_search(search_term)"
   ]
  },
  {
   "cell_type": "code",
   "execution_count": null,
   "metadata": {},
   "outputs": [],
   "source": [
    "\n",
    "\n",
    "\n",
    "\n",
    "base_url = 'https://en.wikipedia.org/w/api.php'\n",
    "tag = 'titles={}'.format( search_term)\n",
    "\n",
    "action_tag = \"?action=query&prop=extracts&explaintext&{}&format=json\".format( tag) # &redirects=True\n",
    "query = base_url + action_tag\n",
    "print(query)\n",
    "r = requests.get( query)  ## request HTTP results\n",
    "response = r.json()\n",
    "    "
   ]
  },
  {
   "cell_type": "code",
   "execution_count": null,
   "metadata": {},
   "outputs": [],
   "source": [
    "response['query'].keys()"
   ]
  },
  {
   "cell_type": "code",
   "execution_count": null,
   "metadata": {},
   "outputs": [],
   "source": [
    "pageinfo = response['query']['pages']\n",
    "pageid = [ key in pageinfo:\n",
    "    print( key)"
   ]
  },
  {
   "cell_type": "code",
   "execution_count": null,
   "metadata": {},
   "outputs": [],
   "source": [
    "pageinfo = response['query']['pages']\n",
    "keys = list(pageinfo.keys())[0]\n",
    "keys"
   ]
  },
  {
   "cell_type": "code",
   "execution_count": null,
   "metadata": {},
   "outputs": [],
   "source": [
    "for key in pageinfo.keys():\n",
    "    print(key)"
   ]
  },
  {
   "cell_type": "code",
   "execution_count": null,
   "metadata": {
    "collapsed": true
   },
   "outputs": [],
   "source": [
    "pageinfo = response['query']['pages']\n",
    "pageinfo.values()"
   ]
  },
  {
   "cell_type": "code",
   "execution_count": null,
   "metadata": {
    "collapsed": true
   },
   "outputs": [],
   "source": [
    "for key, value in response['query']['pages'].items():\n",
    "    print( key, value)"
   ]
  },
  {
   "cell_type": "code",
   "execution_count": null,
   "metadata": {
    "collapsed": true
   },
   "outputs": [],
   "source": [
    "def get_json( search_term, query):\n",
    "    r = requests.get( query)  ## request HTTP results\n",
    "    response = r.json()\n",
    "    \n",
    "    if isinstance( search_term, str):\n",
    "        pageinfo = response['query']['pages']\n",
    "        pageid = list(pageinfo.keys())[0]\n",
    "        text = pageinfo[pageid]['extract']\n",
    "    elif isinstance( search_term, int):\n",
    "        text = response['query']['pages'][str(search_term)]['extract']         \n",
    "    return text\n",
    "    \n",
    "    "
   ]
  },
  {
   "cell_type": "code",
   "execution_count": null,
   "metadata": {
    "collapsed": true
   },
   "outputs": [],
   "source": [
    "import pandas as pd"
   ]
  },
  {
   "cell_type": "code",
   "execution_count": null,
   "metadata": {
    "collapsed": true
   },
   "outputs": [],
   "source": [
    "\n",
    "def get_article( search_term ):# title or page id, Capitalization ignored\n",
    "    base_url = 'https://en.wikipedia.org/w/api.php'\n",
    "    if isinstance( search_term, str):\n",
    "        search_term = rc.format_search( search_term)\n",
    "        tag = 'titles={}'.format( search_term)\n",
    "    elif isinstance( search_term, int):\n",
    "        tag = 'pageids={}'.format( search_term)\n",
    "    else:\n",
    "        print( 'Invalid search term...')\n",
    "        return ''\n",
    "\n",
    "    action_tag = \"?action=query&prop=extracts&explaintext&{}&format=json\".format( tag) # &redirects=True\n",
    "    query = base_url + action_tag\n",
    "    \n",
    "    article_text = get_json( search_term, query)\n",
    "    \n",
    "    return article_text\n",
    "    "
   ]
  },
  {
   "cell_type": "code",
   "execution_count": null,
   "metadata": {
    "collapsed": true
   },
   "outputs": [],
   "source": [
    "pageid = 26685"
   ]
  },
  {
   "cell_type": "code",
   "execution_count": null,
   "metadata": {
    "collapsed": true
   },
   "outputs": [],
   "source": []
  },
  {
   "cell_type": "code",
   "execution_count": null,
   "metadata": {},
   "outputs": [],
   "source": [
    "query = get_article('garbage')\n",
    "query"
   ]
  },
  {
   "cell_type": "code",
   "execution_count": null,
   "metadata": {},
   "outputs": [],
   "source": [
    "query = get_article( 'statistical model')\n",
    "query"
   ]
  },
  {
   "cell_type": "code",
   "execution_count": null,
   "metadata": {},
   "outputs": [],
   "source": [
    "query = get_article( 'Statistics')\n",
    "query"
   ]
  },
  {
   "cell_type": "code",
   "execution_count": null,
   "metadata": {
    "collapsed": true
   },
   "outputs": [],
   "source": [
    "https://en.wikipedia.org/w/api.php?action=query&prop=extracts&explaintext&titles=statistics&format=json"
   ]
  },
  {
   "cell_type": "code",
   "execution_count": null,
   "metadata": {},
   "outputs": [],
   "source": [
    "r = requests.get( query)  ## request HTTP results\n",
    "response = r.json()\n",
    "response.keys()\n"
   ]
  },
  {
   "cell_type": "code",
   "execution_count": null,
   "metadata": {
    "collapsed": true
   },
   "outputs": [],
   "source": [
    "if isinstance( search_term, str):\n",
    "    pageinfo = response['query']['pages']\n",
    "    pageid = list(pageinfo.keys())[0]\n",
    "    text = pageinfo[pageid]['extract']\n",
    "elif isinstance( search_term, int):\n",
    "    text = response['query']['pages'][str(pageid)]['extract']      \n",
    "\n",
    "return text\n",
    "\n"
   ]
  },
  {
   "cell_type": "code",
   "execution_count": null,
   "metadata": {
    "collapsed": true
   },
   "outputs": [],
   "source": [
    "def request_article( pageid, clean = True):\n",
    "    query = find_article( pageid)\n",
    "    \n",
    "    r = requests.get( query)  ## request HTTP results\n",
    "    response = r.json()\n",
    "    try:\n",
    "        text = response['query']['pages'][str(pageid)]['extract']  \n",
    "    except:\n",
    "        text = ''  ## Empty\n",
    "    if clean:\n",
    "        return cleaner( text)\n",
    "    else:\n",
    "        return text"
   ]
  },
  {
   "cell_type": "code",
   "execution_count": null,
   "metadata": {
    "collapsed": true
   },
   "outputs": [],
   "source": [
    "def grab_content( page_id, clean = True):\n",
    "    try:\n",
    "        page_content = wikipedia.WikipediaPage(pageid = page_id).content\n",
    "    except: \n",
    "        page_content = ''\n",
    "    if clean:\n",
    "        return cleaner(page_content)\n",
    "    else:\n",
    "        return page_content\n",
    "        "
   ]
  },
  {
   "cell_type": "code",
   "execution_count": null,
   "metadata": {
    "collapsed": true
   },
   "outputs": [],
   "source": [
    "\n",
    "pageid = 15795950\n",
    "query = get_article( pageid)\n",
    "r = requests.get( query)  ## request HTTP results\n",
    "response = r.json()\n",
    "text = response['query']['pages'][str(pageid)]['extract']  \n",
    "text"
   ]
  },
  {
   "cell_type": "code",
   "execution_count": null,
   "metadata": {
    "collapsed": true
   },
   "outputs": [],
   "source": [
    "pageid = 15795950\n",
    "query = get_article( pageid )\n",
    "r = requests.get( query)  ## request HTTP results\n",
    "response = r.json()\n",
    "text = response['query']['pages'][str(pageid)]['extract']  \n",
    "text"
   ]
  },
  {
   "cell_type": "code",
   "execution_count": null,
   "metadata": {
    "collapsed": true
   },
   "outputs": [],
   "source": [
    "def format_query(category, *ptype ):\n",
    "    '''Category should be provided as a string,  ptype may be page, subcat, or file'''\n",
    "    categoryF = category_format(category)\n",
    "    \n",
    "    ptype_dict = {'page':'0', 'subcat':'14','file':'6'}\n",
    "    if len( ptype) < 2:\n",
    "        nstype = ptype_dict[ ptype]\n",
    "        #print( 'single' + nstype)\n",
    "    else:\n",
    "        p1, p2 = ptype\n",
    "        ptype = p1 + \"|\" + p2\n",
    "        nstype = ptype_dict[ p1 ] + \"|\" + ptype_dict[ p2 ]\n",
    "    base_url = 'https://en.wikipedia.org/w/api.php'\n",
    "    action_tag = \"?action=query&list=categorymembers&cmlimit=max\" ## fetch all category members (pages, subcategories)\n",
    "    category_tag = '&cmtitle=Category:{}&cmtype={}&cmnamespace={}&format=json'.format( categoryF, ptype, nstype) ## append category to cat_tag\n",
    "    query = base_url + action_tag + category_tag# + parameters_tag ## concatenate base_url with request tags\n",
    "    return query"
   ]
  },
  {
   "cell_type": "code",
   "execution_count": null,
   "metadata": {
    "collapsed": true
   },
   "outputs": [],
   "source": []
  },
  {
   "cell_type": "code",
   "execution_count": null,
   "metadata": {
    "collapsed": true
   },
   "outputs": [],
   "source": []
  }
 ],
 "metadata": {
  "kernelspec": {
   "display_name": "Python 3",
   "language": "python",
   "name": "python3"
  },
  "language_info": {
   "codemirror_mode": {
    "name": "ipython",
    "version": 3
   },
   "file_extension": ".py",
   "mimetype": "text/x-python",
   "name": "python",
   "nbconvert_exporter": "python",
   "pygments_lexer": "ipython3",
   "version": "3.6.2"
  }
 },
 "nbformat": 4,
 "nbformat_minor": 2
}
