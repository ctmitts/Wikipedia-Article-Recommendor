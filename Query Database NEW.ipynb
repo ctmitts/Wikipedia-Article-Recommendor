{
 "cells": [
  {
   "cell_type": "code",
   "execution_count": null,
   "metadata": {
    "collapsed": true
   },
   "outputs": [],
   "source": [
    "import request_cat as rc\n",
    "import database as db\n",
    "import pandas as pd\n",
    "from datetime import datetime\n",
    "import re\n",
    "import pickle"
   ]
  },
  {
   "cell_type": "code",
   "execution_count": null,
   "metadata": {
    "collapsed": true
   },
   "outputs": [],
   "source": []
  },
  {
   "cell_type": "code",
   "execution_count": null,
   "metadata": {
    "collapsed": true
   },
   "outputs": [],
   "source": []
  },
  {
   "cell_type": "code",
   "execution_count": null,
   "metadata": {
    "collapsed": true
   },
   "outputs": [],
   "source": []
  },
  {
   "cell_type": "code",
   "execution_count": null,
   "metadata": {
    "collapsed": true
   },
   "outputs": [],
   "source": [
    "db.query_to_dataframe('SELECT * FROM pages LIMIT 5;')"
   ]
  },
  {
   "cell_type": "code",
   "execution_count": 3,
   "metadata": {},
   "outputs": [
    {
     "data": {
      "text/html": [
       "<div>\n",
       "<table border=\"1\" class=\"dataframe\">\n",
       "  <thead>\n",
       "    <tr style=\"text-align: right;\">\n",
       "      <th></th>\n",
       "      <th>count</th>\n",
       "    </tr>\n",
       "  </thead>\n",
       "  <tbody>\n",
       "    <tr>\n",
       "      <th>0</th>\n",
       "      <td>2429</td>\n",
       "    </tr>\n",
       "  </tbody>\n",
       "</table>\n",
       "</div>"
      ],
      "text/plain": [
       "   count\n",
       "0   2429"
      ]
     },
     "execution_count": 3,
     "metadata": {},
     "output_type": "execute_result"
    }
   ],
   "source": [
    "db.query_to_dataframe(\"SELECT COUNT(*) FROM pages;\")\n",
    "\n",
    "db.query_to_dataframe(\"SELECT COUNT(*) FROM categories;\")\n",
    "\n",
    "db.query_to_dataframe(\"SELECT COUNT(*) FROM subcategories;\")\n",
    "\n",
    "db.query_to_dataframe(\"SELECT COUNT(*) FROM page_category;\")"
   ]
  },
  {
   "cell_type": "code",
   "execution_count": null,
   "metadata": {
    "collapsed": true
   },
   "outputs": [],
   "source": [
    "#db.query_to_dataframe( \"SELECT 'Total Number of Articles' AS pageid, ' ' AS title, 'NA' AS article FROM pages;\")\n",
    "db.query_to_dataframe(\"SELECT 'Total Number of Articles' AS pid, (SELECT COUNT(pageid) FROM pages) AS tit, ' ' AS art FROM pages LIMIT 1;\")"
   ]
  },
  {
   "cell_type": "code",
   "execution_count": null,
   "metadata": {
    "collapsed": true
   },
   "outputs": [],
   "source": [
    "#print( db.query_to_dataframe('SELECT  FROM pages;') #COUNT(*)\n",
    "db.query_to_dataframe(\"(SELECT pageid AS pid, title AS tit, article AS art FROM pages) UNION (SELECT 'Total Number of Articles' AS pid, (SELECT COUNT(pageid) FROM pages) AS tit, ' ' AS art FROM pages LIMIT 1);\") #COUNT(*)\n",
    "\n"
   ]
  },
  {
   "cell_type": "code",
   "execution_count": null,
   "metadata": {
    "collapsed": true
   },
   "outputs": [],
   "source": [
    "db.query_to_dataframe('SELECT * FROM pages LIMIT 1;') #COUNT(*)"
   ]
  },
  {
   "cell_type": "code",
   "execution_count": null,
   "metadata": {
    "collapsed": true
   },
   "outputs": [],
   "source": [
    "db.query_to_dataframe('SELECT * FROM subcategories;') # COUNT(*)"
   ]
  },
  {
   "cell_type": "code",
   "execution_count": null,
   "metadata": {
    "collapsed": true
   },
   "outputs": [],
   "source": [
    "db.query_to_dataframe('SELECT subcategory, COUNT( subcategory) FROM subcategories GROUP BY subcategory;') # COUNT(*)"
   ]
  },
  {
   "cell_type": "code",
   "execution_count": null,
   "metadata": {
    "collapsed": true
   },
   "outputs": [],
   "source": [
    "db.query_to_dataframe('SELECT COUNT(*) FROM page_category;')"
   ]
  },
  {
   "cell_type": "code",
   "execution_count": null,
   "metadata": {
    "collapsed": true
   },
   "outputs": [],
   "source": [
    "db.query_to_dataframe('SELECT * FROM page_category;')"
   ]
  },
  {
   "cell_type": "code",
   "execution_count": null,
   "metadata": {
    "collapsed": true
   },
   "outputs": [],
   "source": [
    "'''SELECT stuff.category, stuff.subcategory, pc.pageid \n",
    "    FROM (SELECT category, subcategory, subcategory_id \n",
    "           FROM subcategories sc \n",
    "           JOIN categories c \n",
    "           ON sc.category_id = c.category_id ) as stuff \n",
    "    JOIN page_category pc \n",
    "    ON stuff.subcategory_id = pc.subcategory_id'''\n",
    "\n",
    "## WHERE category IN ('machine learning', 'business software')"
   ]
  },
  {
   "cell_type": "code",
   "execution_count": null,
   "metadata": {
    "collapsed": true
   },
   "outputs": [],
   "source": [
    "import re"
   ]
  },
  {
   "cell_type": "code",
   "execution_count": null,
   "metadata": {
    "collapsed": true
   },
   "outputs": [],
   "source": [
    "\n",
    "\n",
    "inner_query = re.sub( '\\s+',' ', inner_query)"
   ]
  },
  {
   "cell_type": "code",
   "execution_count": null,
   "metadata": {
    "collapsed": true
   },
   "outputs": [],
   "source": [
    "## Query on all\n",
    "\n",
    "\n",
    "inner_query = '''SELECT stuff.category, stuff.subcategory, pc.pageid \n",
    "    FROM (SELECT category, subcategory, subcategory_id \n",
    "           FROM subcategories sc \n",
    "           JOIN categories c \n",
    "           ON sc.category_id = c.category_id ) as stuff \n",
    "    JOIN page_category pc \n",
    "    ON stuff.subcategory_id = pc.subcategory_id'''\n",
    "\n",
    "query = '''SELECT crap.category, crap.subcategory, crap.pageid, p.title, p.article  \n",
    "           FROM ({}) as crap\n",
    "           JOIN pages p\n",
    "           ON crap.pageid = p.pageid;'''.format( inner_query)\n",
    "query = re.sub( '\\s+',' ', query)\n",
    "query"
   ]
  },
  {
   "cell_type": "code",
   "execution_count": null,
   "metadata": {
    "collapsed": true
   },
   "outputs": [],
   "source": [
    "all_df = db.query_to_dataframe( query)\n",
    "all_df.head()\n"
   ]
  },
  {
   "cell_type": "markdown",
   "metadata": {},
   "source": [
    "## Create Dataframe for "
   ]
  },
  {
   "cell_type": "code",
   "execution_count": null,
   "metadata": {
    "collapsed": true
   },
   "outputs": [],
   "source": [
    "db.query_to_dataframe(\"\"\"SELECT DISTINCT category FROM categories;\"\"\")"
   ]
  },
  {
   "cell_type": "code",
   "execution_count": null,
   "metadata": {
    "collapsed": true
   },
   "outputs": [],
   "source": [
    "category = 'Artificial neural networks'\n",
    "\n",
    "query = \"\"\"SELECT crap.category, crap.subcategory, COUNT( DISTINCT p.title)\n",
    "           FROM ({}) as crap\n",
    "           JOIN pages p\n",
    "           ON crap.pageid = p.pageid\n",
    "           WHERE crap.category = '{}'\n",
    "           GROUP BY crap.category, crap.subcategory;\"\"\".format( inner_query, category)  # , crap.pageid  \n",
    "query = re.sub( '\\s+',' ', query)\n",
    "ml_df = db.query_to_dataframe( query)\n",
    "ml_df#[['category', 'subcategory', 'count']]"
   ]
  },
  {
   "cell_type": "code",
   "execution_count": null,
   "metadata": {
    "collapsed": true
   },
   "outputs": [],
   "source": []
  }
 ],
 "metadata": {
  "kernelspec": {
   "display_name": "Python 3",
   "language": "python",
   "name": "python3"
  },
  "language_info": {
   "codemirror_mode": {
    "name": "ipython",
    "version": 3
   },
   "file_extension": ".py",
   "mimetype": "text/x-python",
   "name": "python",
   "nbconvert_exporter": "python",
   "pygments_lexer": "ipython3",
   "version": "3.6.2"
  }
 },
 "nbformat": 4,
 "nbformat_minor": 2
}
