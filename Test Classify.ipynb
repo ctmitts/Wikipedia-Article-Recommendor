{
 "cells": [
  {
   "cell_type": "code",
   "execution_count": null,
   "metadata": {
    "collapsed": true
   },
   "outputs": [],
   "source": [
    "import pandas as pd\n",
    "import numpy as np\n",
    "\n",
    "from datetime import datetime\n",
    "import matplotlib.pyplot as plt\n",
    "\n",
    "from sklearn.base import BaseEstimator, ClassifierMixin\n",
    "from sklearn.metrics.pairwise import cosine_similarity\n",
    "from sklearn.feature_extraction.text import TfidfVectorizer\n",
    "from sklearn.decomposition import TruncatedSVD, NMF\n",
    "\n",
    "from sklearn.pipeline import Pipeline\n",
    "from sklearn.model_selection import GridSearchCV\n",
    "from sklearn.linear_model import LogisticRegression\n",
    "\n",
    "from sklearn.model_selection import train_test_split\n",
    "from sklearn.preprocessing import LabelBinarizer, LabelEncoder\n",
    "\n",
    "import database as db\n",
    "import request_category as rc\n",
    "\n"
   ]
  },
  {
   "cell_type": "code",
   "execution_count": null,
   "metadata": {
    "collapsed": true
   },
   "outputs": [],
   "source": [
    "def get_data(*categories, all = False):\n",
    "    queries = []\n",
    "    for category in categories:\n",
    "        cat_query = db.query_pages_by_category( category)\n",
    "        \n",
    "        queries.append( cat_query)\n",
    "    if len( categories) > 1:\n",
    "        pages_query = \"\"\"SELECT b.category, b.subcategory, b.title, b.pageid, b.article\n",
    "                 FROM (({}) UNION ({}) ) as b;\"\"\".format( queries[0], queries[1])\n",
    "    else: \n",
    "        pages_query = cat_query + \";\"\n",
    "        \n",
    "    #ml_query = db.query_pages_by_category( categories[0])  # 'machine learning'\n",
    "    #bs_query = db.query_pages_by_category( categories[1])   # 'business software'\n",
    "    #pages_query = \"\"\"SELECT b.category, b.subcategory, b.title, b.pageid, b.article\n",
    "    #             FROM (({}) UNION ({}) ) as b;\"\"\".format( ml_query, bs_query)\n",
    "\n",
    "    pages_df = db.query_to_dataframe( pages_query)\n",
    "    \n",
    "    empty_mask =  pages_df.article == ''\n",
    "    nonempty_pages_df = pages_df[~empty_mask].reset_index(drop = True).copy()\n",
    "    nonempty_pages_df.index = nonempty_pages_df.pageid\n",
    "    nonempty_pages_df.drop( ['pageid'], axis = 1, inplace = True)\n",
    "    \n",
    "\n",
    "    return nonempty_pages_df"
   ]
  },
  {
   "cell_type": "code",
   "execution_count": null,
   "metadata": {},
   "outputs": [],
   "source": [
    "pages_df = get_data( 'machine learning', 'business software')\n",
    "pages_df.shape"
   ]
  },
  {
   "cell_type": "code",
   "execution_count": null,
   "metadata": {
    "collapsed": true
   },
   "outputs": [],
   "source": [
    "X = pages_df['article'].copy()\n",
    "\n",
    "encoder = LabelEncoder()\n",
    "y = encoder.fit_transform( pages_df['subcategory'] )\n",
    "\n",
    "X_train, X_test, y_train, y_test = train_test_split( X, y, random_state = 42)"
   ]
  },
  {
   "cell_type": "code",
   "execution_count": null,
   "metadata": {},
   "outputs": [],
   "source": [
    "lr_pipe = Pipeline([\n",
    "        ('encoder', TfidfVectorizer(ngram_range = (1,2),\n",
    "                                 min_df = 3, max_df = .9, \n",
    "                                 stop_words = 'english')),\n",
    "        ('truncator',TruncatedSVD(n_components=700, random_state=42) ),\n",
    "        ('model', LogisticRegression( random_state= 42, n_jobs=-1, solver = 'sag', multi_class = 'ovr' )) #  'multinomial'\n",
    "    ])\n",
    "\n",
    "lr_params = {\n",
    "    'model__C':np.logspace(-3,3,7)\n",
    "}\n",
    "\n",
    "gs_lr_pipe = GridSearchCV(lr_pipe, param_grid=lr_params, cv=5, n_jobs=-1) # StratifiedShuffleSplit(n_splits=5)\n",
    "\n",
    "gs_lr_pipe.fit(X_train,y_train)"
   ]
  },
  {
   "cell_type": "code",
   "execution_count": null,
   "metadata": {},
   "outputs": [],
   "source": [
    "article = 'Statistics'  # Palantir Technologies Saffron Technology\n",
    "search_doc, pageid = rc.get_article(article)  \n",
    "#search_doc"
   ]
  },
  {
   "cell_type": "code",
   "execution_count": null,
   "metadata": {},
   "outputs": [],
   "source": [
    "article = 'Statistics'  # Palantir Technologies Saffron Technology\n",
    "search_doc, pageid = rc.get_article(article)  \n",
    "\n",
    "predicted_probs = gs_lr_pipe.predict_proba( [search_doc])\n",
    "predicted_probs = predicted_probs.reshape(-1,1)\n",
    "\n",
    "\n",
    "probs_df = pd.DataFrame( predicted_probs, columns= ['P'])\n",
    "probs_df.loc[:,'Category'] = probs_df.apply( lambda x: x.index )  #encoder.inverse_transform( int(\n",
    "\n",
    "probs_df.loc[:,'Category'] = probs_df['Category'].apply( lambda x: encoder.inverse_transform( x) )\n",
    "encoder.inverse_transform( gs_lr_pipe.predict( [search_doc] ) )[0]"
   ]
  },
  {
   "cell_type": "code",
   "execution_count": null,
   "metadata": {},
   "outputs": [],
   "source": [
    "article = 'Kernel'  # Palantir Technologies Saffron Technology\n",
    "search_doc, pageid = rc.get_article(article)  \n",
    "\n",
    "predicted_probs = gs_lr_pipe.predict_proba( [search_doc])\n",
    "predicted_probs = predicted_probs.reshape(-1,1)\n",
    "\n",
    "\n",
    "probs_df = pd.DataFrame( predicted_probs, columns= ['P'])\n",
    "probs_df.loc[:,'Category'] = probs_df.apply( lambda x: x.index )  #encoder.inverse_transform( int(\n",
    "\n",
    "probs_df.loc[:,'Category'] = probs_df['Category'].apply( lambda x: encoder.inverse_transform( x) )\n",
    "encoder.inverse_transform( gs_lr_pipe.predict( [search_doc] ) )[0]"
   ]
  },
  {
   "cell_type": "code",
   "execution_count": null,
   "metadata": {},
   "outputs": [],
   "source": [
    "article = 'Palantir Technologies'  #  Saffron Technology\n",
    "search_doc, pageid = rc.get_article(article)  \n",
    "\n",
    "predicted_probs = gs_lr_pipe.predict_proba( [search_doc])\n",
    "predicted_probs = predicted_probs.reshape(-1,1)\n",
    "\n",
    "\n",
    "probs_df = pd.DataFrame( predicted_probs, columns= ['P'])\n",
    "probs_df.loc[:,'Category'] = probs_df.apply( lambda x: x.index )  #encoder.inverse_transform( int(\n",
    "\n",
    "probs_df.loc[:,'Category'] = probs_df['Category'].apply( lambda x: encoder.inverse_transform( x) )\n",
    "encoder.inverse_transform( gs_lr_pipe.predict( [search_doc] ) )[0]"
   ]
  },
  {
   "cell_type": "code",
   "execution_count": null,
   "metadata": {},
   "outputs": [],
   "source": [
    "article = 'Saffron Technology'  #  \n",
    "search_doc, pageid = rc.get_article(article)  \n",
    "\n",
    "predicted_probs = gs_lr_pipe.predict_proba( [search_doc])\n",
    "predicted_probs = predicted_probs.reshape(-1,1)\n",
    "\n",
    "\n",
    "probs_df = pd.DataFrame( predicted_probs, columns= ['P'])\n",
    "probs_df.loc[:,'Category'] = probs_df.apply( lambda x: x.index )  #encoder.inverse_transform( int(\n",
    "\n",
    "probs_df.loc[:,'Category'] = probs_df['Category'].apply( lambda x: encoder.inverse_transform( x) )\n",
    "encoder.inverse_transform( gs_lr_pipe.predict( [search_doc] ) )[0]"
   ]
  },
  {
   "cell_type": "code",
   "execution_count": null,
   "metadata": {},
   "outputs": [],
   "source": [
    "encoder.inverse_transform( gs_lr_pipe.predict( [search_doc] ) )[0]"
   ]
  },
  {
   "cell_type": "code",
   "execution_count": null,
   "metadata": {},
   "outputs": [],
   "source": [
    "probs_df.sort_values(by= 'P', ascending=False)"
   ]
  },
  {
   "cell_type": "code",
   "execution_count": null,
   "metadata": {
    "collapsed": true
   },
   "outputs": [],
   "source": []
  },
  {
   "cell_type": "code",
   "execution_count": null,
   "metadata": {
    "collapsed": true
   },
   "outputs": [],
   "source": []
  },
  {
   "cell_type": "code",
   "execution_count": null,
   "metadata": {
    "collapsed": true
   },
   "outputs": [],
   "source": []
  },
  {
   "cell_type": "code",
   "execution_count": null,
   "metadata": {
    "collapsed": true
   },
   "outputs": [],
   "source": []
  },
  {
   "cell_type": "code",
   "execution_count": null,
   "metadata": {},
   "outputs": [],
   "source": [
    "test_df = pd.DataFrame( y, columns=['y'])"
   ]
  },
  {
   "cell_type": "code",
   "execution_count": null,
   "metadata": {},
   "outputs": [],
   "source": [
    "test_df['y'].value_counts"
   ]
  },
  {
   "cell_type": "code",
   "execution_count": null,
   "metadata": {},
   "outputs": [],
   "source": [
    "len(pages_df['subcategory'].value_counts())"
   ]
  },
  {
   "cell_type": "code",
   "execution_count": null,
   "metadata": {},
   "outputs": [],
   "source": [
    "pages_df['subcategory'].value_counts()"
   ]
  },
  {
   "cell_type": "code",
   "execution_count": null,
   "metadata": {},
   "outputs": [],
   "source": [
    "subcats = pages_df['subcategory'].unique().tolist()\n",
    "'business software' in subcats"
   ]
  },
  {
   "cell_type": "code",
   "execution_count": null,
   "metadata": {},
   "outputs": [],
   "source": [
    "len(subcats)"
   ]
  },
  {
   "cell_type": "code",
   "execution_count": null,
   "metadata": {},
   "outputs": [],
   "source": [
    "len(encoder.fit_transform( subcats))"
   ]
  },
  {
   "cell_type": "code",
   "execution_count": null,
   "metadata": {
    "collapsed": true
   },
   "outputs": [],
   "source": []
  },
  {
   "cell_type": "code",
   "execution_count": null,
   "metadata": {
    "collapsed": true
   },
   "outputs": [],
   "source": []
  },
  {
   "cell_type": "code",
   "execution_count": null,
   "metadata": {
    "collapsed": true
   },
   "outputs": [],
   "source": []
  },
  {
   "cell_type": "code",
   "execution_count": null,
   "metadata": {
    "collapsed": true
   },
   "outputs": [],
   "source": []
  },
  {
   "cell_type": "code",
   "execution_count": null,
   "metadata": {},
   "outputs": [],
   "source": [
    "encoder.inverse_transform(22)"
   ]
  },
  {
   "cell_type": "code",
   "execution_count": null,
   "metadata": {},
   "outputs": [],
   "source": [
    "n_closest"
   ]
  },
  {
   "cell_type": "code",
   "execution_count": null,
   "metadata": {},
   "outputs": [],
   "source": [
    "gs_lr_pipe.predict( [search_doc] )"
   ]
  },
  {
   "cell_type": "code",
   "execution_count": null,
   "metadata": {},
   "outputs": [],
   "source": [
    "encoder.inverse_transform( gs_lr_pipe.predict( [search_doc] ) )[0]"
   ]
  },
  {
   "cell_type": "code",
   "execution_count": null,
   "metadata": {},
   "outputs": [],
   "source": [
    "n = 5\n",
    "n_closest = probs_df.sort_values(by = ['P'],ascending=False)[0:n]\n",
    "predicted = encoder.inverse_transform( gs_lr_pipe.predict( [search_doc] ) )[0]\n",
    "\n",
    "predicted, n_closest"
   ]
  },
  {
   "cell_type": "code",
   "execution_count": null,
   "metadata": {
    "collapsed": true
   },
   "outputs": [],
   "source": []
  },
  {
   "cell_type": "code",
   "execution_count": null,
   "metadata": {},
   "outputs": [],
   "source": [
    "predicted_probs = gs_lr_pipe.predict_proba( [search_doc])  ## 'Brain'\n",
    "predicted_probs = predicted_probs.reshape(-1,1)\n",
    "\n",
    "cats = encoder.inverse_transform(  range(63))\n",
    "\n",
    "probs_df = pd.DataFrame( predicted_probs , columns= ['P']) #, index = cats)\n",
    "\n",
    "\n",
    "n_closest = probs_df.sort_values(by = ['P'],ascending=False)[0:n]\n",
    "predicted = encoder.inverse_transform( gs_lr_pipe.predict( [search_doc] ) )[0]\n",
    "\n",
    "predicted, n_closest"
   ]
  },
  {
   "cell_type": "code",
   "execution_count": null,
   "metadata": {
    "collapsed": true
   },
   "outputs": [],
   "source": [
    "def train():\n",
    "\n",
    "    pages_df = search.get_data( 'machine learning', 'business software')\n",
    "    \n",
    "    X = pages_df['article'].copy()\n",
    "\n",
    "    encoder = LabelEncoder()\n",
    "    y = encoder.fit_transform( pages_df['subcategory'] )\n",
    "    \n",
    "    \n",
    "    X_train, X_test, y_train, y_test = train_test_split( X, y, random_state = 42)\n",
    "    \n",
    "    lr_pipe = Pipeline([\n",
    "        ('encoder', TfidfVectorizer(ngram_range = (1,2),\n",
    "                                 min_df = 3, max_df = .9, \n",
    "                                 stop_words = 'english')),\n",
    "        ('truncator',TruncatedSVD(n_components=700) ),\n",
    "        ('model', LogisticRegression())\n",
    "    ])\n",
    "\n",
    "    lr_params = {\n",
    "        'model__C':np.logspace(-3,3,7)\n",
    "    }\n",
    "\n",
    "    gs_lr_pipe = GridSearchCV(lr_pipe, param_grid=lr_params, cv=5) # StratifiedShuffleSplit(n_splits=5)\n",
    "\n",
    "    gs_lr_pipe.fit(X_train,y_train)\n",
    "  \n",
    "    #gs_lr_pipe.best_score_\n",
    "    \n",
    "    sklearn.externals.joblib.dump(gs_lr_pipe, './pickles/LogitModel1.p')\n",
    "    \n",
    "    return gs_lr_pipe"
   ]
  },
  {
   "cell_type": "code",
   "execution_count": null,
   "metadata": {
    "collapsed": true
   },
   "outputs": [],
   "source": [
    "def predict(article, pckle = False, n = 5 ):\n",
    "    \n",
    "    '''Pass article name as title, pageid, or url, Return top 5 predicted categories by default\n",
    "        TRY: Slack (software),Saffron Technology, Brain, Statistics, TensorFlow, Tableau Software'''\n",
    "\n",
    "    pages_df = search.get_data( 'machine learning', 'business software')\n",
    "    \n",
    "    X = pages_df['article'].copy()\n",
    "\n",
    "    encoder = LabelEncoder()\n",
    "    y = encoder.fit_transform( pages_df['subcategory'] )\n",
    "    cats = encoder.inverse_transform(  range(0,(max(y) + 1) ) ) \n",
    "    \n",
    "\n",
    "    if pckle:\n",
    "        gs_lr_pipe = sklearn.externals.joblib.load('./pickles/LogitModel1.p')\n",
    "        \n",
    "    else:\n",
    "        print( 'Training Model, please wait...')\n",
    "        gs_lr_pipe = train()\n",
    "    # Slack (software),Saffron Technology, Brain, Statistics, TensorFlow, Tableau Software\n",
    "    \n",
    "    \n",
    "    if 'wiki/' in article:\n",
    "        article = article.split('wiki/')[1]\n",
    "    \n",
    "    #else:\n",
    "        \n",
    "    search_doc, pageid = rc.get_article(article)  \n",
    "    search_doc = rc.cleaner( search_doc)\n",
    "        \n",
    "        \n",
    "    predicted_probs = gs_lr_pipe.predict_proba([search_doc])  ## 'Brain'\n",
    "    predicted_probs = predicted_probs.reshape(-1,1)\n",
    "\n",
    "    cats = encoder.inverse_transform(  range(63))\n",
    "\n",
    "    probs_df = pd.DataFrame( predicted_probs , columns= ['P'], index = cats)\n",
    "    \n",
    "    \n",
    "    n_closest = probs_df.sort_values(by = ['P'],ascending=False)[0:n]\n",
    "    predicted = encoder.inverse_transform( gs_lr_pipe.predict( [search_doc] ) )[0]\n",
    "    \n",
    "    return predicted, n_closest\n",
    "    \n",
    "        \n",
    "        \n",
    "        \n",
    "        \n",
    "        \n",
    "        \n",
    "        \n",
    "        "
   ]
  },
  {
   "cell_type": "code",
   "execution_count": null,
   "metadata": {
    "collapsed": true
   },
   "outputs": [],
   "source": []
  },
  {
   "cell_type": "code",
   "execution_count": null,
   "metadata": {
    "collapsed": true
   },
   "outputs": [],
   "source": []
  },
  {
   "cell_type": "code",
   "execution_count": null,
   "metadata": {
    "collapsed": true
   },
   "outputs": [],
   "source": []
  },
  {
   "cell_type": "code",
   "execution_count": null,
   "metadata": {
    "collapsed": true
   },
   "outputs": [],
   "source": []
  },
  {
   "cell_type": "code",
   "execution_count": null,
   "metadata": {
    "collapsed": true
   },
   "outputs": [],
   "source": []
  },
  {
   "cell_type": "code",
   "execution_count": null,
   "metadata": {
    "collapsed": true
   },
   "outputs": [],
   "source": []
  },
  {
   "cell_type": "code",
   "execution_count": null,
   "metadata": {
    "collapsed": true
   },
   "outputs": [],
   "source": []
  },
  {
   "cell_type": "code",
   "execution_count": null,
   "metadata": {
    "collapsed": true
   },
   "outputs": [],
   "source": []
  },
  {
   "cell_type": "code",
   "execution_count": null,
   "metadata": {
    "collapsed": true
   },
   "outputs": [],
   "source": []
  },
  {
   "cell_type": "code",
   "execution_count": null,
   "metadata": {
    "collapsed": true
   },
   "outputs": [],
   "source": [
    "class TemplateClassifier(BaseEstimator, ClassifierMixin):\n",
    "\n",
    "    def __init__(self, *categories, min_df=.05, max_df=.90, ngram_range=(1,3), n_components=100):\n",
    "        #self.categories = categories\n",
    "        self.min_df = min_df\n",
    "        self.max_df = max_df\n",
    "        self.ngram_range = ngram_range\n",
    "        self.n_components = n_components\n",
    "\n",
    "    def fit(self, X, y):\n",
    "        \n",
    "        # Check that X and y have correct shape\n",
    "        \n",
    "        \n",
    "        \n",
    "        X, y = check_X_y(X, y)\n",
    "        \n",
    "        \n",
    "        # Store the classes seen during fit\n",
    "        self.classes_ = unique_labels(y)\n",
    "\n",
    "        self.X_ = X\n",
    "        self.y_ = y\n",
    "        # Return the classifier\n",
    "        return self\n",
    "\n",
    "    def predict(self, X):\n",
    "\n",
    "        # Check is fit had been called\n",
    "        check_is_fitted(self, ['X_', 'y_'])\n",
    "\n",
    "        # Input validation\n",
    "        X = check_array(X)\n",
    "\n",
    "        closest = np.argmin(euclidean_distances(X, self.X_), axis=1)\n",
    "        return self.y_[closest]"
   ]
  },
  {
   "cell_type": "code",
   "execution_count": null,
   "metadata": {
    "collapsed": true
   },
   "outputs": [],
   "source": []
  },
  {
   "cell_type": "code",
   "execution_count": null,
   "metadata": {
    "collapsed": true
   },
   "outputs": [],
   "source": []
  },
  {
   "cell_type": "code",
   "execution_count": null,
   "metadata": {
    "collapsed": true
   },
   "outputs": [],
   "source": []
  }
 ],
 "metadata": {
  "kernelspec": {
   "display_name": "Python 3",
   "language": "python",
   "name": "python3"
  },
  "language_info": {
   "codemirror_mode": {
    "name": "ipython",
    "version": 3
   },
   "file_extension": ".py",
   "mimetype": "text/x-python",
   "name": "python",
   "nbconvert_exporter": "python",
   "pygments_lexer": "ipython3",
   "version": "3.6.2"
  }
 },
 "nbformat": 4,
 "nbformat_minor": 2
}
